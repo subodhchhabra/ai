{
  "nbformat": 4,
  "nbformat_minor": 0,
  "metadata": {
    "colab": {
      "name": "embeddings.ipynb",
      "version": "0.3.2",
      "provenance": [],
      "collapsed_sections": [],
      "include_colab_link": true
    },
    "kernelspec": {
      "name": "python3",
      "display_name": "Python 3"
    },
    "accelerator": "GPU"
  },
  "cells": [
    {
      "cell_type": "markdown",
      "metadata": {
        "id": "view-in-github",
        "colab_type": "text"
      },
      "source": [
        "<a href=\"https://colab.research.google.com/github/DJCordhose/ai/blob/master/notebooks/tf2/embeddings.ipynb\" target=\"_parent\"><img src=\"https://colab.research.google.com/assets/colab-badge.svg\" alt=\"Open In Colab\"/></a>"
      ]
    },
    {
      "cell_type": "markdown",
      "metadata": {
        "id": "t0SNZ3gZDa36",
        "colab_type": "text"
      },
      "source": [
        "# Airline Embeddings\n",
        "\n",
        "_Basic assumption: airlines fliying similar routes are similar_\n",
        "\n",
        "## Data Sets\n",
        "* Single Flights: http://stat-computing.org/dataexpo/2009/the-data.html\n",
        "* Routes between airports: https://openflights.org/data.html#route\n",
        "\n",
        "## Advanced examples\n",
        "* autoencoders on tabular data: https://colab.research.google.com/github/DJCordhose/ai/blob/master/notebooks/2019_tf/autoencoders_tabular.ipynb\n",
        "* robust training on additional data: https://colab.research.google.com/github/DJCordhose/ai/blob/master/notebooks/2019_tf/autoencoders_stabilize.ipynb"
      ]
    },
    {
      "cell_type": "code",
      "metadata": {
        "id": "lv2d1kl3HOBh",
        "colab_type": "code",
        "colab": {}
      },
      "source": [
        "!pip install -q tf-nightly-gpu-2.0-preview"
      ],
      "execution_count": 0,
      "outputs": []
    },
    {
      "cell_type": "code",
      "metadata": {
        "id": "ur7tExIkHOlQ",
        "colab_type": "code",
        "colab": {
          "base_uri": "https://localhost:8080/",
          "height": 34
        },
        "outputId": "41dc64e2-6b33-494b-a281-0fe7005525ae"
      },
      "source": [
        "import tensorflow as tf\n",
        "print(tf.__version__)"
      ],
      "execution_count": 2,
      "outputs": [
        {
          "output_type": "stream",
          "text": [
            "2.0.0-dev20190509\n"
          ],
          "name": "stdout"
        }
      ]
    },
    {
      "cell_type": "code",
      "metadata": {
        "id": "74_7Xj83pNyk",
        "colab_type": "code",
        "outputId": "deca3c2e-8579-41e8-b153-522af756d909",
        "colab": {
          "base_uri": "https://localhost:8080/",
          "height": 68
        }
      },
      "source": [
        "!curl -O https://raw.githubusercontent.com/jpatokal/openflights/master/data/routes.dat"
      ],
      "execution_count": 3,
      "outputs": [
        {
          "output_type": "stream",
          "text": [
            "  % Total    % Received % Xferd  Average Speed   Time    Time     Time  Current\n",
            "                                 Dload  Upload   Total   Spent    Left  Speed\n",
            "\r  0     0    0     0    0     0      0      0 --:--:-- --:--:-- --:--:--     0\r  0 2321k    0  1915    0     0   4495      0  0:08:48 --:--:--  0:08:48  4484\r100 2321k  100 2321k    0     0  5113k      0 --:--:-- --:--:-- --:--:-- 5102k\n"
          ],
          "name": "stdout"
        }
      ]
    },
    {
      "cell_type": "code",
      "metadata": {
        "id": "9CUgJvsutUuV",
        "colab_type": "code",
        "colab": {}
      },
      "source": [
        "# pd.read_csv?"
      ],
      "execution_count": 0,
      "outputs": []
    },
    {
      "cell_type": "code",
      "metadata": {
        "id": "7Q64fxjyqmyU",
        "colab_type": "code",
        "outputId": "de499359-0756-449f-f602-0989b18be93d",
        "colab": {
          "base_uri": "https://localhost:8080/",
          "height": 34
        }
      },
      "source": [
        "import pandas as pd\n",
        "\n",
        "df = pd.read_csv('routes.dat', quotechar=\"'\", sep=',', encoding='utf-8', header=None, na_values='\\\\N',\n",
        "                names=['Airline', 'Airline ID', 'Source airport', 'Source airport ID', 'Destination airport', 'Destination airport ID', 'Codeshare', 'Stops', 'Equipment'])\n",
        "\n",
        "# https://openflights.org/data.html#route\n",
        "  \n",
        "# Airline\t2-letter (IATA) or 3-letter (ICAO) code of the airline.\n",
        "# Airline ID\tUnique OpenFlights identifier for airline (see Airline).\n",
        "# Source airport\t3-letter (IATA) or 4-letter (ICAO) code of the source airport.\n",
        "# Source airport ID\tUnique OpenFlights identifier for source airport (see Airport)\n",
        "# Destination airport\t3-letter (IATA) or 4-letter (ICAO) code of the destination airport.\n",
        "# Destination airport ID\tUnique OpenFlights identifier for destination airport (see Airport)\n",
        "# Codeshare\t\"Y\" if this flight is a codeshare (that is, not operated by Airline, but another carrier), empty otherwise.\n",
        "# Stops\tNumber of stops on this flight (\"0\" for direct)\n",
        "# Equipment\t3-letter codes for plane type(s) generally used on this flight, separated by spaces\n",
        "\n",
        "# df[df['Stops'] == 1] gives only a dozen or so routes, so also drop it\n",
        "df.drop(['Airline ID',\t'Source airport ID', 'Destination airport ID', 'Codeshare', 'Equipment', 'Stops'], axis='columns', inplace=True)\n",
        "len(df)"
      ],
      "execution_count": 5,
      "outputs": [
        {
          "output_type": "execute_result",
          "data": {
            "text/plain": [
              "67663"
            ]
          },
          "metadata": {
            "tags": []
          },
          "execution_count": 5
        }
      ]
    },
    {
      "cell_type": "code",
      "metadata": {
        "id": "RpZAQeL8rJUH",
        "colab_type": "code",
        "outputId": "cdbe1ceb-4310-432b-dca3-5ca4d5b4114c",
        "colab": {
          "base_uri": "https://localhost:8080/",
          "height": 204
        }
      },
      "source": [
        "df.head()"
      ],
      "execution_count": 6,
      "outputs": [
        {
          "output_type": "execute_result",
          "data": {
            "text/html": [
              "<div>\n",
              "<style scoped>\n",
              "    .dataframe tbody tr th:only-of-type {\n",
              "        vertical-align: middle;\n",
              "    }\n",
              "\n",
              "    .dataframe tbody tr th {\n",
              "        vertical-align: top;\n",
              "    }\n",
              "\n",
              "    .dataframe thead th {\n",
              "        text-align: right;\n",
              "    }\n",
              "</style>\n",
              "<table border=\"1\" class=\"dataframe\">\n",
              "  <thead>\n",
              "    <tr style=\"text-align: right;\">\n",
              "      <th></th>\n",
              "      <th>Airline</th>\n",
              "      <th>Source airport</th>\n",
              "      <th>Destination airport</th>\n",
              "    </tr>\n",
              "  </thead>\n",
              "  <tbody>\n",
              "    <tr>\n",
              "      <th>0</th>\n",
              "      <td>2B</td>\n",
              "      <td>AER</td>\n",
              "      <td>KZN</td>\n",
              "    </tr>\n",
              "    <tr>\n",
              "      <th>1</th>\n",
              "      <td>2B</td>\n",
              "      <td>ASF</td>\n",
              "      <td>KZN</td>\n",
              "    </tr>\n",
              "    <tr>\n",
              "      <th>2</th>\n",
              "      <td>2B</td>\n",
              "      <td>ASF</td>\n",
              "      <td>MRV</td>\n",
              "    </tr>\n",
              "    <tr>\n",
              "      <th>3</th>\n",
              "      <td>2B</td>\n",
              "      <td>CEK</td>\n",
              "      <td>KZN</td>\n",
              "    </tr>\n",
              "    <tr>\n",
              "      <th>4</th>\n",
              "      <td>2B</td>\n",
              "      <td>CEK</td>\n",
              "      <td>OVB</td>\n",
              "    </tr>\n",
              "  </tbody>\n",
              "</table>\n",
              "</div>"
            ],
            "text/plain": [
              "  Airline Source airport Destination airport\n",
              "0      2B            AER                 KZN\n",
              "1      2B            ASF                 KZN\n",
              "2      2B            ASF                 MRV\n",
              "3      2B            CEK                 KZN\n",
              "4      2B            CEK                 OVB"
            ]
          },
          "metadata": {
            "tags": []
          },
          "execution_count": 6
        }
      ]
    },
    {
      "cell_type": "code",
      "metadata": {
        "id": "EehcSpqtvYwu",
        "colab_type": "code",
        "outputId": "129c3d99-50a3-43a9-be3e-a34be1f24891",
        "colab": {
          "base_uri": "https://localhost:8080/",
          "height": 34
        }
      },
      "source": [
        "sources = df['Source airport'].unique()\n",
        "len(sources)"
      ],
      "execution_count": 7,
      "outputs": [
        {
          "output_type": "execute_result",
          "data": {
            "text/plain": [
              "3409"
            ]
          },
          "metadata": {
            "tags": []
          },
          "execution_count": 7
        }
      ]
    },
    {
      "cell_type": "code",
      "metadata": {
        "id": "Ub5pJVxhvmJ7",
        "colab_type": "code",
        "outputId": "a538f3fe-1b77-4dbb-9ce8-63be2d522a96",
        "colab": {
          "base_uri": "https://localhost:8080/",
          "height": 34
        }
      },
      "source": [
        "destinations = df['Destination airport'].unique()\n",
        "len(destinations)"
      ],
      "execution_count": 8,
      "outputs": [
        {
          "output_type": "execute_result",
          "data": {
            "text/plain": [
              "3418"
            ]
          },
          "metadata": {
            "tags": []
          },
          "execution_count": 8
        }
      ]
    },
    {
      "cell_type": "code",
      "metadata": {
        "id": "v1dOL_9-v0oT",
        "colab_type": "code",
        "outputId": "60d0c34b-1828-4b35-c8ed-2a2abf7f41ec",
        "colab": {
          "base_uri": "https://localhost:8080/",
          "height": 34
        }
      },
      "source": [
        "airlines = df['Airline'].unique()\n",
        "len(airlines)"
      ],
      "execution_count": 9,
      "outputs": [
        {
          "output_type": "execute_result",
          "data": {
            "text/plain": [
              "568"
            ]
          },
          "metadata": {
            "tags": []
          },
          "execution_count": 9
        }
      ]
    },
    {
      "cell_type": "code",
      "metadata": {
        "id": "N4YhKffPzMAc",
        "colab_type": "code",
        "outputId": "98cd3319-101f-4c41-b59c-84db4c3b764a",
        "colab": {
          "base_uri": "https://localhost:8080/",
          "height": 34
        }
      },
      "source": [
        "from tensorflow.keras.preprocessing.text import Tokenizer\n",
        "\n",
        "airline_tokenizer = Tokenizer()\n",
        "airline_tokenizer.fit_on_texts(df['Airline'])\n",
        "\n",
        "import numpy as np\n",
        "\n",
        "encoded_airlines = np.array(airline_tokenizer.texts_to_sequences(df['Airline'])).reshape(-1)\n",
        "encoded_airlines"
      ],
      "execution_count": 10,
      "outputs": [
        {
          "output_type": "execute_result",
          "data": {
            "text/plain": [
              "array([241, 241, 241, ..., 543, 543, 543])"
            ]
          },
          "metadata": {
            "tags": []
          },
          "execution_count": 10
        }
      ]
    },
    {
      "cell_type": "code",
      "metadata": {
        "id": "6IBnf4t5zW-q",
        "colab_type": "code",
        "outputId": "93e0b5a9-e4e0-42f7-9f49-55897f98575d",
        "colab": {
          "base_uri": "https://localhost:8080/",
          "height": 34
        }
      },
      "source": [
        "len(encoded_airlines) "
      ],
      "execution_count": 11,
      "outputs": [
        {
          "output_type": "execute_result",
          "data": {
            "text/plain": [
              "67663"
            ]
          },
          "metadata": {
            "tags": []
          },
          "execution_count": 11
        }
      ]
    },
    {
      "cell_type": "code",
      "metadata": {
        "id": "U7n-Vq0m2Hu4",
        "colab_type": "code",
        "outputId": "117dff32-3eae-4c1f-d13d-ca2270674999",
        "colab": {
          "base_uri": "https://localhost:8080/",
          "height": 119
        }
      },
      "source": [
        "routes = df[['Source airport', 'Destination airport']].apply(lambda x: ' '.join(x), axis=1)\n",
        "routes.head()"
      ],
      "execution_count": 12,
      "outputs": [
        {
          "output_type": "execute_result",
          "data": {
            "text/plain": [
              "0    AER KZN\n",
              "1    ASF KZN\n",
              "2    ASF MRV\n",
              "3    CEK KZN\n",
              "4    CEK OVB\n",
              "dtype: object"
            ]
          },
          "metadata": {
            "tags": []
          },
          "execution_count": 12
        }
      ]
    },
    {
      "cell_type": "code",
      "metadata": {
        "id": "nYV0rPJC0c4G",
        "colab_type": "code",
        "colab": {}
      },
      "source": [
        "routes_tokenizer = Tokenizer()\n",
        "routes_tokenizer.fit_on_texts(routes)\n",
        "encoded_routes = np.array(routes_tokenizer.texts_to_sequences(routes))"
      ],
      "execution_count": 0,
      "outputs": []
    },
    {
      "cell_type": "code",
      "metadata": {
        "id": "hDFKV1Cz8WvF",
        "colab_type": "code",
        "outputId": "761836a3-5014-4c76-8dec-af7cfb2f1bfe",
        "colab": {
          "base_uri": "https://localhost:8080/",
          "height": 34
        }
      },
      "source": [
        "# should be a bit more 3400 as source and destination are from the same set\n",
        "output_dim = len(routes_tokenizer.word_index) + 1\n",
        "output_dim"
      ],
      "execution_count": 14,
      "outputs": [
        {
          "output_type": "execute_result",
          "data": {
            "text/plain": [
              "3426"
            ]
          },
          "metadata": {
            "tags": []
          },
          "execution_count": 14
        }
      ]
    },
    {
      "cell_type": "code",
      "metadata": {
        "id": "K5jz1ykV8Oen",
        "colab_type": "code",
        "outputId": "c61e3f23-07f0-464f-d1d1-cd9f83845342",
        "colab": {
          "base_uri": "https://localhost:8080/",
          "height": 34
        }
      },
      "source": [
        "encoded_routes[0]"
      ],
      "execution_count": 15,
      "outputs": [
        {
          "output_type": "execute_result",
          "data": {
            "text/plain": [
              "array([511, 491])"
            ]
          },
          "metadata": {
            "tags": []
          },
          "execution_count": 15
        }
      ]
    },
    {
      "cell_type": "code",
      "metadata": {
        "id": "yKB85wjg7y3Z",
        "colab_type": "code",
        "outputId": "0d5eec9f-f304-43e0-a31c-6853a4152752",
        "colab": {
          "base_uri": "https://localhost:8080/",
          "height": 34
        }
      },
      "source": [
        "len(encoded_routes)"
      ],
      "execution_count": 16,
      "outputs": [
        {
          "output_type": "execute_result",
          "data": {
            "text/plain": [
              "67663"
            ]
          },
          "metadata": {
            "tags": []
          },
          "execution_count": 16
        }
      ]
    },
    {
      "cell_type": "code",
      "metadata": {
        "id": "hSm686Cv77Vj",
        "colab_type": "code",
        "colab": {}
      },
      "source": [
        "from tensorflow.keras.utils import to_categorical\n",
        "\n",
        "# sequence of airlines encoded as a unique number\n",
        "x = encoded_airlines\n",
        "# sequence of pair, src, dest encoded as a unique numbers\n",
        "Y = to_categorical(encoded_routes)\n",
        "# for now just the source\n",
        "# Y = to_categorical(encoded_routes[:, 0])"
      ],
      "execution_count": 0,
      "outputs": []
    },
    {
      "cell_type": "code",
      "metadata": {
        "id": "cSi258PHZAf9",
        "colab_type": "code",
        "outputId": "a9a8181e-9126-41ad-9539-85fdb2cce165",
        "colab": {
          "base_uri": "https://localhost:8080/",
          "height": 51
        }
      },
      "source": [
        "Y[0]"
      ],
      "execution_count": 18,
      "outputs": [
        {
          "output_type": "execute_result",
          "data": {
            "text/plain": [
              "array([[0., 0., 0., ..., 0., 0., 0.],\n",
              "       [0., 0., 0., ..., 0., 0., 0.]], dtype=float32)"
            ]
          },
          "metadata": {
            "tags": []
          },
          "execution_count": 18
        }
      ]
    },
    {
      "cell_type": "markdown",
      "metadata": {
        "id": "BzKAyEvmraN-",
        "colab_type": "text"
      },
      "source": [
        "## 2d embeddings"
      ]
    },
    {
      "cell_type": "code",
      "metadata": {
        "id": "brvMGP0koGBu",
        "colab_type": "code",
        "outputId": "8593940a-7f44-46ef-8e7f-fc013131231f",
        "colab": {
          "base_uri": "https://localhost:8080/",
          "height": 391
        }
      },
      "source": [
        "%%time\n",
        "\n",
        "import matplotlib.pyplot as plt\n",
        "\n",
        "\n",
        "import tensorflow as tf\n",
        "from tensorflow import keras\n",
        "from tensorflow.keras.layers import Flatten, GlobalAveragePooling1D, Dense, LSTM, GRU, SimpleRNN, Bidirectional, Embedding, RepeatVector\n",
        "from tensorflow.keras.models import Sequential, Model\n",
        "\n",
        "from tensorflow.keras.initializers import glorot_normal\n",
        "seed = 3\n",
        "\n",
        "input_dim = len(airlines) + 1\n",
        "embedding_dim = 2\n",
        "\n",
        "model = Sequential()\n",
        "\n",
        "model.add(Embedding(name='embedding',\n",
        "                    input_dim=input_dim, \n",
        "                    output_dim=embedding_dim, \n",
        "                    input_length=1,\n",
        "                    embeddings_initializer=glorot_normal(seed=seed)))\n",
        "\n",
        "# https://stackoverflow.com/questions/49295311/what-is-the-difference-between-flatten-and-globalaveragepooling2d-in-keras\n",
        "# averages over all (global) embedding values \n",
        "# model.add(GlobalAveragePooling1D())\n",
        "model.add(Flatten())\n",
        "\n",
        "model.add(Dense(units=50, activation='relu', bias_initializer='zeros', kernel_initializer=glorot_normal(seed=seed)))\n",
        "\n",
        "model.add(RepeatVector(2))\n",
        "\n",
        "model.add(SimpleRNN(units=50, return_sequences=True, bias_initializer='zeros', kernel_initializer=glorot_normal(seed=seed)))\n",
        "\n",
        "model.add(Dense(units=output_dim, name='output', activation='softmax', bias_initializer='zeros', kernel_initializer=glorot_normal(seed=seed)))\n",
        "model.compile(optimizer='adam', loss='categorical_crossentropy', metrics=['accuracy'])\n",
        "\n",
        "model.summary()"
      ],
      "execution_count": 19,
      "outputs": [
        {
          "output_type": "stream",
          "text": [
            "Model: \"sequential\"\n",
            "_________________________________________________________________\n",
            "Layer (type)                 Output Shape              Param #   \n",
            "=================================================================\n",
            "embedding (Embedding)        (None, 1, 2)              1138      \n",
            "_________________________________________________________________\n",
            "flatten (Flatten)            (None, 2)                 0         \n",
            "_________________________________________________________________\n",
            "dense (Dense)                (None, 50)                150       \n",
            "_________________________________________________________________\n",
            "repeat_vector (RepeatVector) (None, 2, 50)             0         \n",
            "_________________________________________________________________\n",
            "simple_rnn (SimpleRNN)       (None, 2, 50)             5050      \n",
            "_________________________________________________________________\n",
            "output (Dense)               (None, 2, 3426)           174726    \n",
            "=================================================================\n",
            "Total params: 181,064\n",
            "Trainable params: 181,064\n",
            "Non-trainable params: 0\n",
            "_________________________________________________________________\n",
            "CPU times: user 641 ms, sys: 397 ms, total: 1.04 s\n",
            "Wall time: 1.05 s\n"
          ],
          "name": "stdout"
        }
      ]
    },
    {
      "cell_type": "code",
      "metadata": {
        "id": "twAODgEoDjpN",
        "colab_type": "code",
        "outputId": "f91d58da-5e47-43b2-ec8b-edc827bfb344",
        "colab": {
          "base_uri": "https://localhost:8080/",
          "height": 34
        }
      },
      "source": [
        "model.predict(np.array([x[0]])).shape"
      ],
      "execution_count": 20,
      "outputs": [
        {
          "output_type": "execute_result",
          "data": {
            "text/plain": [
              "(1, 2, 3426)"
            ]
          },
          "metadata": {
            "tags": []
          },
          "execution_count": 20
        }
      ]
    },
    {
      "cell_type": "code",
      "metadata": {
        "id": "Ti2efJAYXkqs",
        "colab_type": "code",
        "outputId": "ad544f46-6851-4844-e429-5fdbbd7877ca",
        "colab": {
          "base_uri": "https://localhost:8080/",
          "height": 51
        }
      },
      "source": [
        "Y[0]"
      ],
      "execution_count": 21,
      "outputs": [
        {
          "output_type": "execute_result",
          "data": {
            "text/plain": [
              "array([[0., 0., 0., ..., 0., 0., 0.],\n",
              "       [0., 0., 0., ..., 0., 0., 0.]], dtype=float32)"
            ]
          },
          "metadata": {
            "tags": []
          },
          "execution_count": 21
        }
      ]
    },
    {
      "cell_type": "code",
      "metadata": {
        "id": "-VE_4hb9DYrR",
        "colab_type": "code",
        "outputId": "91d8eee5-ce2c-4e12-8d31-b5b82143c1e5",
        "colab": {
          "base_uri": "https://localhost:8080/",
          "height": 901
        }
      },
      "source": [
        "%%time\n",
        "\n",
        "EPOCHS=25\n",
        "BATCH_SIZE=10\n",
        "\n",
        "history = model.fit(x, Y, epochs=EPOCHS, batch_size=BATCH_SIZE, verbose=1)"
      ],
      "execution_count": 22,
      "outputs": [
        {
          "output_type": "stream",
          "text": [
            "Epoch 1/25\n",
            "67663/67663 [==============================] - 51s 755us/sample - loss: 6.1675 - accuracy: 0.0340\n",
            "Epoch 2/25\n",
            "67663/67663 [==============================] - 49s 718us/sample - loss: 5.2518 - accuracy: 0.0837\n",
            "Epoch 3/25\n",
            "67663/67663 [==============================] - 49s 726us/sample - loss: 4.9279 - accuracy: 0.1122\n",
            "Epoch 4/25\n",
            "67663/67663 [==============================] - 48s 708us/sample - loss: 4.7508 - accuracy: 0.1263\n",
            "Epoch 5/25\n",
            "67663/67663 [==============================] - 49s 728us/sample - loss: 4.6392 - accuracy: 0.1352\n",
            "Epoch 6/25\n",
            "67663/67663 [==============================] - 49s 729us/sample - loss: 4.5627 - accuracy: 0.1408\n",
            "Epoch 7/25\n",
            "67663/67663 [==============================] - 50s 745us/sample - loss: 4.5053 - accuracy: 0.1442\n",
            "Epoch 8/25\n",
            "67663/67663 [==============================] - 49s 726us/sample - loss: 4.4619 - accuracy: 0.1463\n",
            "Epoch 9/25\n",
            "67663/67663 [==============================] - 48s 704us/sample - loss: 4.4272 - accuracy: 0.1489\n",
            "Epoch 10/25\n",
            "67663/67663 [==============================] - 49s 718us/sample - loss: 4.3979 - accuracy: 0.1500\n",
            "Epoch 11/25\n",
            "67663/67663 [==============================] - 48s 714us/sample - loss: 4.3768 - accuracy: 0.1511\n",
            "Epoch 12/25\n",
            "67663/67663 [==============================] - 47s 689us/sample - loss: 4.3556 - accuracy: 0.1533\n",
            "Epoch 13/25\n",
            "67663/67663 [==============================] - 49s 727us/sample - loss: 4.3383 - accuracy: 0.1536\n",
            "Epoch 14/25\n",
            "67663/67663 [==============================] - 47s 701us/sample - loss: 4.3242 - accuracy: 0.1549\n",
            "Epoch 15/25\n",
            "67663/67663 [==============================] - 51s 757us/sample - loss: 4.3092 - accuracy: 0.1551\n",
            "Epoch 16/25\n",
            "67663/67663 [==============================] - 50s 737us/sample - loss: 4.2966 - accuracy: 0.1557\n",
            "Epoch 17/25\n",
            "67663/67663 [==============================] - 49s 719us/sample - loss: 4.2861 - accuracy: 0.1559\n",
            "Epoch 18/25\n",
            "67663/67663 [==============================] - 50s 736us/sample - loss: 4.2776 - accuracy: 0.1565\n",
            "Epoch 19/25\n",
            "67663/67663 [==============================] - 51s 750us/sample - loss: 4.2681 - accuracy: 0.1565\n",
            "Epoch 20/25\n",
            "67663/67663 [==============================] - 50s 743us/sample - loss: 4.2598 - accuracy: 0.1574\n",
            "Epoch 21/25\n",
            "67663/67663 [==============================] - 50s 739us/sample - loss: 4.2518 - accuracy: 0.1575\n",
            "Epoch 22/25\n",
            "67663/67663 [==============================] - 49s 720us/sample - loss: 4.2465 - accuracy: 0.1583\n",
            "Epoch 23/25\n",
            "67663/67663 [==============================] - 50s 740us/sample - loss: 4.2411 - accuracy: 0.1586\n",
            "Epoch 24/25\n",
            "67663/67663 [==============================] - 50s 741us/sample - loss: 4.2372 - accuracy: 0.1577\n",
            "Epoch 25/25\n",
            "67663/67663 [==============================] - 49s 724us/sample - loss: 4.2274 - accuracy: 0.1597\n",
            "CPU times: user 27min 35s, sys: 2min 33s, total: 30min 9s\n",
            "Wall time: 20min 32s\n"
          ],
          "name": "stdout"
        }
      ]
    },
    {
      "cell_type": "code",
      "metadata": {
        "id": "V9ItdCvWISKr",
        "colab_type": "code",
        "outputId": "d839fd7a-18e0-496f-d093-fb0f0dabe96c",
        "colab": {
          "base_uri": "https://localhost:8080/",
          "height": 51
        }
      },
      "source": [
        "loss, accuracy = model.evaluate(x, Y, batch_size=BATCH_SIZE)\n",
        "loss, accuracy"
      ],
      "execution_count": 23,
      "outputs": [
        {
          "output_type": "stream",
          "text": [
            "67663/67663 [==============================] - 29s 431us/sample - loss: 4.1729 - accuracy: 0.1626\n"
          ],
          "name": "stdout"
        },
        {
          "output_type": "execute_result",
          "data": {
            "text/plain": [
              "(4.1728721408584795, 0.16260733)"
            ]
          },
          "metadata": {
            "tags": []
          },
          "execution_count": 23
        }
      ]
    },
    {
      "cell_type": "code",
      "metadata": {
        "id": "61TP5fb03Oeh",
        "colab_type": "code",
        "outputId": "f7b6b9ad-7574-431c-c7c4-b8c6dcd7f5bb",
        "colab": {
          "base_uri": "https://localhost:8080/",
          "height": 286
        }
      },
      "source": [
        "# plt.yscale('log')\n",
        "plt.plot(history.history['loss'])"
      ],
      "execution_count": 24,
      "outputs": [
        {
          "output_type": "execute_result",
          "data": {
            "text/plain": [
              "[<matplotlib.lines.Line2D at 0x7fc0f6a76cc0>]"
            ]
          },
          "metadata": {
            "tags": []
          },
          "execution_count": 24
        },
        {
          "output_type": "display_data",
          "data": {
            "image/png": "[encoded data removed]",
            "text/plain": [
              "<Figure size 432x288 with 1 Axes>"
            ]
          },
          "metadata": {
            "tags": []
          }
        }
      ]
    },
    {
      "cell_type": "code",
      "metadata": {
        "id": "AFV8mg583Rtz",
        "colab_type": "code",
        "outputId": "cd989e80-b0f3-4eb0-e20e-a8b36b9ed901",
        "colab": {
          "base_uri": "https://localhost:8080/",
          "height": 286
        }
      },
      "source": [
        "# plt.yscale('log')\n",
        "plt.plot(history.history['accuracy'])"
      ],
      "execution_count": 27,
      "outputs": [
        {
          "output_type": "execute_result",
          "data": {
            "text/plain": [
              "[<matplotlib.lines.Line2D at 0x7fc0e99a2b00>]"
            ]
          },
          "metadata": {
            "tags": []
          },
          "execution_count": 27
        },
        {
          "output_type": "display_data",
          "data": {
            "image/png": "[encoded data removed]",
            "text/plain": [
              "<Figure size 432x288 with 1 Axes>"
            ]
          },
          "metadata": {
            "tags": []
          }
        }
      ]
    },
    {
      "cell_type": "code",
      "metadata": {
        "id": "6DyEK_CODsZy",
        "colab_type": "code",
        "colab": {}
      },
      "source": [
        "samples = pd.DataFrame(encoded_airlines).sample(n=200).values.reshape(-1)"
      ],
      "execution_count": 0,
      "outputs": []
    },
    {
      "cell_type": "code",
      "metadata": {
        "id": "zvNZOg1itp_s",
        "colab_type": "code",
        "colab": {}
      },
      "source": [
        "# https://en.wikipedia.org/wiki/List_of_airline_codes\n",
        "# https://en.wikipedia.org/wiki/List_of_largest_airlines_in_North_America\n",
        "# https://en.wikipedia.org/wiki/List_of_largest_airlines_in_Europe\n",
        "\n",
        "europe_airlines = ['LH', 'BA', 'SK', 'KL', 'AF', 'FR', 'SU', 'EW', 'TP', 'BT', 'U2']\n",
        "us_airlines = ['AA', 'US', 'UA', 'WN', 'DL', 'AS', 'HA']"
      ],
      "execution_count": 0,
      "outputs": []
    },
    {
      "cell_type": "code",
      "metadata": {
        "id": "oXnMYvAg5m3y",
        "colab_type": "code",
        "colab": {}
      },
      "source": [
        "samples = [airline_tokenizer.word_index[airline_code.lower()] for airline_code in europe_airlines + us_airlines]"
      ],
      "execution_count": 0,
      "outputs": []
    },
    {
      "cell_type": "code",
      "metadata": {
        "id": "yBuKaNNxExs2",
        "colab_type": "code",
        "colab": {}
      },
      "source": [
        "embedding_layer = model.get_layer('embedding')\n",
        "embedding_model = Model(inputs=model.input, outputs=embedding_layer.output)\n",
        "embeddings_2d = embedding_model.predict(samples).reshape(-1, 2)"
      ],
      "execution_count": 0,
      "outputs": []
    },
    {
      "cell_type": "code",
      "metadata": {
        "id": "-gC6uRgMDXTl",
        "colab_type": "code",
        "outputId": "aceaa5dd-c669-4bfa-d963-2b768b4280b1",
        "colab": {
          "base_uri": "https://localhost:8080/",
          "height": 265
        }
      },
      "source": [
        "# for printing only\n",
        "# plt.figure(figsize=(20,5))\n",
        "# plt.figure(dpi=600)\n",
        "\n",
        "plt.axis('off')\n",
        "\n",
        "plt.scatter(embeddings_2d[:, 0], embeddings_2d[:, 1])\n",
        "for index, x_pos, y_pos in zip(samples, embeddings_2d[:, 0], embeddings_2d[:, 1]):\n",
        "  name = airline_tokenizer.index_word[index].upper()\n",
        "#   print(name, (x_pos, y_pos))\n",
        "  plt.annotate(name, (x_pos, y_pos))"
      ],
      "execution_count": 32,
      "outputs": [
        {
          "output_type": "display_data",
          "data": {
            "image/png": "[encoded data removed]",
            "text/plain": [
              "<Figure size 432x288 with 1 Axes>"
            ]
          },
          "metadata": {
            "tags": []
          }
        }
      ]
    },
    {
      "cell_type": "markdown",
      "metadata": {
        "id": "YTOc5V0UDDca",
        "colab_type": "text"
      },
      "source": [
        "## 1d embeddings"
      ]
    },
    {
      "cell_type": "code",
      "metadata": {
        "id": "yZdK4FMtEsAS",
        "colab_type": "code",
        "outputId": "04adabd0-f06c-419b-edcd-abb535bcd8b3",
        "colab": {
          "base_uri": "https://localhost:8080/",
          "height": 391
        }
      },
      "source": [
        "%%time\n",
        "\n",
        "import matplotlib.pyplot as plt\n",
        "\n",
        "\n",
        "import tensorflow as tf\n",
        "from tensorflow import keras\n",
        "from tensorflow.keras.layers import Flatten, GlobalAveragePooling1D, Dense, LSTM, GRU, SimpleRNN, Bidirectional, Embedding, RepeatVector\n",
        "from tensorflow.keras.models import Sequential, Model\n",
        "\n",
        "from tensorflow.keras.initializers import glorot_normal\n",
        "seed = 7\n",
        "\n",
        "input_dim = len(airlines) + 1\n",
        "embedding_dim = 1\n",
        "\n",
        "model = Sequential()\n",
        "\n",
        "model.add(Embedding(name='embedding',\n",
        "                    input_dim=input_dim, \n",
        "                    output_dim=embedding_dim, \n",
        "                    input_length=1,\n",
        "                   embeddings_initializer=glorot_normal(seed=seed)))\n",
        "\n",
        "# model.add(GlobalAveragePooling1D())\n",
        "model.add(Flatten())\n",
        "\n",
        "model.add(Dense(units=50, activation='relu', bias_initializer='zeros', kernel_initializer=glorot_normal(seed=seed)))\n",
        "\n",
        "model.add(RepeatVector(2))\n",
        "\n",
        "model.add(SimpleRNN(units=50, return_sequences=True, bias_initializer='zeros', kernel_initializer=glorot_normal(seed=seed)))\n",
        "\n",
        "model.add(Dense(units=output_dim, name='output', activation='softmax', bias_initializer='zeros', kernel_initializer=glorot_normal(seed=seed)))\n",
        "model.compile(optimizer='adam', loss='categorical_crossentropy', metrics=['accuracy'])\n",
        "\n",
        "model.summary()"
      ],
      "execution_count": 33,
      "outputs": [
        {
          "output_type": "stream",
          "text": [
            "Model: \"sequential_1\"\n",
            "_________________________________________________________________\n",
            "Layer (type)                 Output Shape              Param #   \n",
            "=================================================================\n",
            "embedding (Embedding)        (None, 1, 1)              569       \n",
            "_________________________________________________________________\n",
            "flatten_1 (Flatten)          (None, 1)                 0         \n",
            "_________________________________________________________________\n",
            "dense_1 (Dense)              (None, 50)                100       \n",
            "_________________________________________________________________\n",
            "repeat_vector_1 (RepeatVecto (None, 2, 50)             0         \n",
            "_________________________________________________________________\n",
            "simple_rnn_1 (SimpleRNN)     (None, 2, 50)             5050      \n",
            "_________________________________________________________________\n",
            "output (Dense)               (None, 2, 3426)           174726    \n",
            "=================================================================\n",
            "Total params: 180,445\n",
            "Trainable params: 180,445\n",
            "Non-trainable params: 0\n",
            "_________________________________________________________________\n",
            "CPU times: user 198 ms, sys: 27.3 ms, total: 225 ms\n",
            "Wall time: 193 ms\n"
          ],
          "name": "stdout"
        }
      ]
    },
    {
      "cell_type": "code",
      "metadata": {
        "id": "_y0ScvHBEbzQ",
        "colab_type": "code",
        "outputId": "1e30bdde-8b0d-4159-8868-b52bb8702dd8",
        "colab": {
          "base_uri": "https://localhost:8080/",
          "height": 731
        }
      },
      "source": [
        "%%time\n",
        "\n",
        "EPOCHS=20\n",
        "BATCH_SIZE=10\n",
        "\n",
        "history = model.fit(x, Y, epochs=EPOCHS, batch_size=BATCH_SIZE, verbose=1)"
      ],
      "execution_count": 34,
      "outputs": [
        {
          "output_type": "stream",
          "text": [
            "Epoch 1/20\n",
            "67663/67663 [==============================] - 49s 726us/sample - loss: 6.4188 - accuracy: 0.0215\n",
            "Epoch 2/20\n",
            "67663/67663 [==============================] - 49s 717us/sample - loss: 5.7430 - accuracy: 0.0399\n",
            "Epoch 3/20\n",
            "67663/67663 [==============================] - 48s 702us/sample - loss: 5.4809 - accuracy: 0.0531\n",
            "Epoch 4/20\n",
            "67663/67663 [==============================] - 49s 721us/sample - loss: 5.3320 - accuracy: 0.0608\n",
            "Epoch 5/20\n",
            "67663/67663 [==============================] - 50s 738us/sample - loss: 5.2325 - accuracy: 0.0652\n",
            "Epoch 6/20\n",
            "67663/67663 [==============================] - 49s 720us/sample - loss: 5.1585 - accuracy: 0.0705\n",
            "Epoch 7/20\n",
            "67663/67663 [==============================] - 49s 718us/sample - loss: 5.0986 - accuracy: 0.0743\n",
            "Epoch 8/20\n",
            "67663/67663 [==============================] - 48s 704us/sample - loss: 5.0480 - accuracy: 0.0777\n",
            "Epoch 9/20\n",
            "67663/67663 [==============================] - 49s 722us/sample - loss: 5.0089 - accuracy: 0.0798\n",
            "Epoch 10/20\n",
            "67663/67663 [==============================] - 48s 707us/sample - loss: 4.9759 - accuracy: 0.0812\n",
            "Epoch 11/20\n",
            "67663/67663 [==============================] - 49s 727us/sample - loss: 4.9494 - accuracy: 0.0828\n",
            "Epoch 12/20\n",
            "67663/67663 [==============================] - 50s 743us/sample - loss: 4.9234 - accuracy: 0.0845\n",
            "Epoch 13/20\n",
            "67663/67663 [==============================] - 47s 701us/sample - loss: 4.8996 - accuracy: 0.0842\n",
            "Epoch 14/20\n",
            "67663/67663 [==============================] - 49s 720us/sample - loss: 4.8814 - accuracy: 0.0848\n",
            "Epoch 15/20\n",
            "67663/67663 [==============================] - 48s 704us/sample - loss: 4.8670 - accuracy: 0.0862\n",
            "Epoch 16/20\n",
            "67663/67663 [==============================] - 49s 722us/sample - loss: 4.8605 - accuracy: 0.0863\n",
            "Epoch 17/20\n",
            "67663/67663 [==============================] - 49s 720us/sample - loss: 4.8465 - accuracy: 0.0865\n",
            "Epoch 18/20\n",
            "67663/67663 [==============================] - 49s 728us/sample - loss: 4.8340 - accuracy: 0.0874\n",
            "Epoch 19/20\n",
            "67663/67663 [==============================] - 49s 720us/sample - loss: 4.8277 - accuracy: 0.0884\n",
            "Epoch 20/20\n",
            "67663/67663 [==============================] - 48s 706us/sample - loss: 4.8307 - accuracy: 0.0883\n",
            "CPU times: user 21min 58s, sys: 2min 1s, total: 24min\n",
            "Wall time: 16min 13s\n"
          ],
          "name": "stdout"
        }
      ]
    },
    {
      "cell_type": "code",
      "metadata": {
        "id": "9Fv_XbOyFGxH",
        "colab_type": "code",
        "outputId": "3b6742d0-acec-4ce8-db1d-b16aa6c81bfe",
        "colab": {
          "base_uri": "https://localhost:8080/",
          "height": 51
        }
      },
      "source": [
        "# we expect this to be substantially worse than the 2d version as the bottle neck now is much more narrow\n",
        "loss, accuracy = model.evaluate(x, Y, batch_size=BATCH_SIZE)\n",
        "loss, accuracy"
      ],
      "execution_count": 35,
      "outputs": [
        {
          "output_type": "stream",
          "text": [
            "67663/67663 [==============================] - 27s 398us/sample - loss: 4.7932 - accuracy: 0.0891\n"
          ],
          "name": "stdout"
        },
        {
          "output_type": "execute_result",
          "data": {
            "text/plain": [
              "(4.7932395883261405, 0.08912552)"
            ]
          },
          "metadata": {
            "tags": []
          },
          "execution_count": 35
        }
      ]
    },
    {
      "cell_type": "code",
      "metadata": {
        "id": "-0go51sW9nSS",
        "colab_type": "code",
        "outputId": "8dcf5c42-68f4-4fcc-ab90-1ad415ec5ac0",
        "colab": {
          "base_uri": "https://localhost:8080/",
          "height": 286
        }
      },
      "source": [
        "# plt.yscale('log')\n",
        "plt.plot(history.history['loss'])"
      ],
      "execution_count": 36,
      "outputs": [
        {
          "output_type": "execute_result",
          "data": {
            "text/plain": [
              "[<matplotlib.lines.Line2D at 0x7fc0e8a6d0b8>]"
            ]
          },
          "metadata": {
            "tags": []
          },
          "execution_count": 36
        },
        {
          "output_type": "display_data",
          "data": {
            "image/png": "[encoded data removed]",
            "text/plain": [
              "<Figure size 432x288 with 1 Axes>"
            ]
          },
          "metadata": {
            "tags": []
          }
        }
      ]
    },
    {
      "cell_type": "code",
      "metadata": {
        "id": "J8a3Blxc9oAl",
        "colab_type": "code",
        "outputId": "5ef67a25-9b17-4a85-a4e3-6a5591652b64",
        "colab": {
          "base_uri": "https://localhost:8080/",
          "height": 286
        }
      },
      "source": [
        "# plt.yscale('log')\n",
        "plt.plot(history.history['accuracy'])"
      ],
      "execution_count": 38,
      "outputs": [
        {
          "output_type": "execute_result",
          "data": {
            "text/plain": [
              "[<matplotlib.lines.Line2D at 0x7fc0e8a43f28>]"
            ]
          },
          "metadata": {
            "tags": []
          },
          "execution_count": 38
        },
        {
          "output_type": "display_data",
          "data": {
            "image/png": "[encoded data removed]",
            "text/plain": [
              "<Figure size 432x288 with 1 Axes>"
            ]
          },
          "metadata": {
            "tags": []
          }
        }
      ]
    },
    {
      "cell_type": "code",
      "metadata": {
        "id": "2oaM-ovJLisy",
        "colab_type": "code",
        "outputId": "0ec4117c-3faf-4031-ff54-642fc4144444",
        "colab": {
          "base_uri": "https://localhost:8080/",
          "height": 268
        }
      },
      "source": [
        "import numpy as np\n",
        "\n",
        "embedding_layer = model.get_layer('embedding')\n",
        "embedding_model = Model(inputs=model.input, outputs=embedding_layer.output)\n",
        "embeddings_1d = embedding_model.predict(samples).reshape(-1)\n",
        "\n",
        "# for printing only\n",
        "# plt.figure(figsize=(20,5))\n",
        "# plt.figure(dpi=600)\n",
        "\n",
        "plt.axis('off')\n",
        "\n",
        "plt.scatter(embeddings_1d, np.zeros(len(embeddings_1d)))\n",
        "for index, x_pos in zip(samples, embeddings_1d):\n",
        "  name = airline_tokenizer.index_word[index].upper()\n",
        "#   print(name, (x_pos, y_pos))\n",
        "  plt.annotate(name, (x_pos, 0), rotation=80)"
      ],
      "execution_count": 40,
      "outputs": [
        {
          "output_type": "display_data",
          "data": {
            "image/png": "[encoded data removed]",
            "text/plain": [
              "<Figure size 432x288 with 1 Axes>"
            ]
          },
          "metadata": {
            "tags": []
          }
        }
      ]
    },
    {
      "cell_type": "markdown",
      "metadata": {
        "id": "7OigqkWUN6t3",
        "colab_type": "text"
      },
      "source": [
        "## Clustering in 2d\n",
        "\n",
        "1d embedding vs size of airline\n",
        "* find what is similar\n",
        "* what is an outlier"
      ]
    },
    {
      "cell_type": "code",
      "metadata": {
        "id": "WyyRsXWdN6YI",
        "colab_type": "code",
        "colab": {}
      },
      "source": [
        "# https://en.wikipedia.org/wiki/List_of_airline_codes\n",
        "# https://en.wikipedia.org/wiki/List_of_largest_airlines_in_North_America\n",
        "# https://www.tvlon.com/resources/airlinecodes.htm\n",
        "# https://en.wikipedia.org/wiki/List_of_largest_airlines_in_Europe\n",
        "\n",
        "airline_size = {\n",
        "    'LH': 130, 'BA': 105, 'SK': 30, 'KL': 101, 'AF': 101, 'FR': 129, 'SU': 56, 'EW': 24, 'TP': 16, 'BT': 4, 'U2': 88, 'AA': 204, 'US': 204, 'UA': 158, 'WN': 164, 'DL': 192, 'AS': 46, 'HA': 12\n",
        "}\n",
        "sample_names = [airline_tokenizer.index_word[sample].upper() for sample in samples]\n",
        "sample_sizes = [airline_size[name] * 1e6 for name in sample_names]"
      ],
      "execution_count": 0,
      "outputs": []
    },
    {
      "cell_type": "code",
      "metadata": {
        "id": "CksSH1wHLzSu",
        "colab_type": "code",
        "outputId": "e0c0b8e0-a2f3-4752-f890-78276ce32347",
        "colab": {
          "base_uri": "https://localhost:8080/",
          "height": 276
        }
      },
      "source": [
        "# for printing only\n",
        "# plt.figure(figsize=(20,5))\n",
        "# plt.figure(dpi=600)\n",
        "# plt.axis('off')\n",
        "\n",
        "plt.scatter(embeddings_1d, sample_sizes)\n",
        "for name, x_pos, y_pos in zip(sample_names, embeddings_1d, sample_sizes):\n",
        "  plt.annotate(name, (x_pos,  y_pos))"
      ],
      "execution_count": 42,
      "outputs": [
        {
          "output_type": "display_data",
          "data": {
            "image/png": "[encoded data removed]",
            "text/plain": [
              "<Figure size 432x288 with 1 Axes>"
            ]
          },
          "metadata": {
            "tags": []
          }
        }
      ]
    },
    {
      "cell_type": "code",
      "metadata": {
        "id": "2ZMqtkZze5fS",
        "colab_type": "code",
        "outputId": "35b29270-1724-4d91-c244-9660201550e7",
        "colab": {
          "base_uri": "https://localhost:8080/",
          "height": 323
        }
      },
      "source": [
        "from sklearn.preprocessing import StandardScaler\n",
        "\n",
        "embeddings_1d_scaled = StandardScaler().fit_transform(embeddings_1d.reshape(-1, 1))\n",
        "sizes_for_samples_scaled = StandardScaler().fit_transform(np.array(sample_sizes).reshape(-1, 1))\n",
        "X = np.dstack((embeddings_1d_scaled.reshape(-1), sizes_for_samples_scaled.reshape(-1)))[0]\n",
        "X_scaled = StandardScaler().fit_transform(X)\n",
        "X_scaled"
      ],
      "execution_count": 43,
      "outputs": [
        {
          "output_type": "execute_result",
          "data": {
            "text/plain": [
              "array([[ 0.51202392,  0.48321195],\n",
              "       [ 0.38035717,  0.10570261],\n",
              "       [ 1.11719233, -1.0268254 ],\n",
              "       [ 0.21144165,  0.04530112],\n",
              "       [ 0.27526256,  0.04530112],\n",
              "       [ 1.01090688,  0.46811158],\n",
              "       [ 1.43400258, -0.63421569],\n",
              "       [ 0.67300892, -1.11742764],\n",
              "       [ 0.40841856, -1.23823063],\n",
              "       [ 1.12677986, -1.41943512],\n",
              "       [ 0.84168977, -0.15100374],\n",
              "       [-1.19011444,  1.6006396 ],\n",
              "       [-1.18756146,  1.6006396 ],\n",
              "       [-0.78490121,  0.90602241],\n",
              "       [-1.99052603,  0.99662466],\n",
              "       [-0.61014688,  1.41943512],\n",
              "       [-1.49444742, -0.78521943],\n",
              "       [-0.73338676, -1.29863213]])"
            ]
          },
          "metadata": {
            "tags": []
          },
          "execution_count": 43
        }
      ]
    },
    {
      "cell_type": "code",
      "metadata": {
        "id": "q74T57XPbwZC",
        "colab_type": "code",
        "outputId": "ffc45de8-3e38-4c2d-ed65-471be2f338f6",
        "colab": {
          "base_uri": "https://localhost:8080/",
          "height": 51
        }
      },
      "source": [
        "from sklearn.cluster import DBSCAN\n",
        "\n",
        "clf = DBSCAN(eps=0.75, min_samples=2)\n",
        "clf.fit(X_scaled)\n",
        "clusters = clf.labels_.astype(np.int)\n",
        "clusters"
      ],
      "execution_count": 44,
      "outputs": [
        {
          "output_type": "execute_result",
          "data": {
            "text/plain": [
              "array([ 0,  0,  1,  0,  0,  0,  1,  1,  1,  1,  0,  2,  2,  2, -1,  2, -1,\n",
              "       -1])"
            ]
          },
          "metadata": {
            "tags": []
          },
          "execution_count": 44
        }
      ]
    },
    {
      "cell_type": "code",
      "metadata": {
        "id": "yaRY5XAygF7q",
        "colab_type": "code",
        "outputId": "8ceca8cc-3509-4c0a-d76b-126a6762234d",
        "colab": {
          "base_uri": "https://localhost:8080/",
          "height": 290
        }
      },
      "source": [
        "import matplotlib.pyplot as plt\n",
        "\n",
        "from itertools import cycle, islice\n",
        "\n",
        "# last color is black to properly display label -1 as noise (black)\n",
        "colors = np.append(np.array(list(islice(cycle(['#AAAAFF', '#ff7f00', '#4daf4a',\n",
        "                                 '#f781bf', '#a65628', '#984ea3',\n",
        "                                 '#999999', '#e41a1c', '#dede00']),\n",
        "                          int(max(clusters) + 1)))), ['#000000'])\n",
        "\n",
        "# plt.figure(dpi=600)\n",
        "\n",
        "plt.xlabel('Similarity by typical routes')\n",
        "plt.ylabel('Passengers')\n",
        "\n",
        "plt.scatter(embeddings_1d, sample_sizes, color=colors[clusters], s=200)\n",
        "for name, x_pos, y_pos in zip(sample_names, embeddings_1d, sample_sizes):\n",
        "  plt.annotate(name, (x_pos,  y_pos), fontsize=18, color='grey')\n"
      ],
      "execution_count": 52,
      "outputs": [
        {
          "output_type": "display_data",
          "data": {
            "image/png": "[encoded data removed]",
            "text/plain": [
              "<Figure size 432x288 with 1 Axes>"
            ]
          },
          "metadata": {
            "tags": []
          }
        }
      ]
    },
    {
      "cell_type": "code",
      "metadata": {
        "id": "d5aM3L7Vte_y",
        "colab_type": "code",
        "colab": {}
      },
      "source": [
        ""
      ],
      "execution_count": 0,
      "outputs": []
    }
  ]
}