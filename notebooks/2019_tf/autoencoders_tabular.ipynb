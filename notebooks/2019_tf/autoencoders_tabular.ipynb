{
  "nbformat": 4,
  "nbformat_minor": 0,
  "metadata": {
    "colab": {
      "name": "autoencoders_tabular.ipynb",
      "version": "0.3.2",
      "provenance": [],
      "collapsed_sections": [],
      "include_colab_link": true
    },
    "kernelspec": {
      "name": "python3",
      "display_name": "Python 3"
    },
    "accelerator": "GPU"
  },
  "cells": [
    {
      "cell_type": "markdown",
      "metadata": {
        "id": "view-in-github",
        "colab_type": "text"
      },
      "source": [
        "<a href=\"https://colab.research.google.com/github/DJCordhose/ai/blob/master/notebooks/2019_tf/autoencoders_tabular.ipynb\" target=\"_parent\"><img src=\"https://colab.research.google.com/assets/colab-badge.svg\" alt=\"Open In Colab\"/></a>"
      ]
    },
    {
      "metadata": {
        "id": "t0SNZ3gZDa36",
        "colab_type": "text"
      },
      "cell_type": "markdown",
      "source": [
        "# Autoencoders on Tabular Data\n",
        "\n",
        "* Losses\n",
        "   * https://keras.io/losses/\n",
        "   * Predefined loss functions: https://github.com/keras-team/keras/blob/master/keras/losses.py\n",
        "   * Example custom loss function: https://stackoverflow.com/questions/43818584/custom-loss-function-in-keras\n",
        "   * Loss function that is not f(y_true, y_pred): https://github.com/keras-team/keras/issues/2662\n",
        "* Having more than one input/output, combined losses: https://keras.io/getting-started/functional-api-guide/\n",
        "* Normalizaing data: https://www.tensorflow.org/api_docs/python/tf/keras/utils/normalize   "
      ]
    },
    {
      "metadata": {
        "id": "Dtz68G6gitV3",
        "colab_type": "code",
        "outputId": "492fae36-ad62-4aa5-a668-7286fd1499bf",
        "colab": {
          "base_uri": "https://localhost:8080/",
          "height": 34
        }
      },
      "cell_type": "code",
      "source": [
        "import tensorflow as tf\n",
        "tf.logging.set_verbosity(tf.logging.ERROR)\n",
        "print(tf.__version__)"
      ],
      "execution_count": 1,
      "outputs": [
        {
          "output_type": "stream",
          "text": [
            "1.12.0\n"
          ],
          "name": "stdout"
        }
      ]
    },
    {
      "metadata": {
        "id": "8MluN9h0c4Mf",
        "colab_type": "text"
      },
      "cell_type": "markdown",
      "source": [
        "# Loading and exploring our data set\n",
        "\n",
        "This is a database of customers of an insurance company. Each data point is one customer. The group represents the number of accidents the customer has been involved with in the past\n",
        "\n",
        "* 0 - red: many accidents\n",
        "* 1 - green: few or no accidents\n",
        "* 2 - yellow: in the middle        "
      ]
    },
    {
      "metadata": {
        "id": "kORyj46n5zZj",
        "colab_type": "code",
        "outputId": "c732e12d-c32f-4764-8bfd-0b1c63ca9529",
        "colab": {
          "base_uri": "https://localhost:8080/",
          "height": 68
        }
      },
      "cell_type": "code",
      "source": [
        "!curl -O https://raw.githubusercontent.com/DJCordhose/deep-learning-crash-course-notebooks/master/data/insurance-customers-1500.csv"
      ],
      "execution_count": 2,
      "outputs": [
        {
          "output_type": "stream",
          "text": [
            "  % Total    % Received % Xferd  Average Speed   Time    Time     Time  Current\n",
            "                                 Dload  Upload   Total   Spent    Left  Speed\n",
            "\r  0     0    0     0    0     0      0      0 --:--:-- --:--:-- --:--:--     0\r100 26783  100 26783    0     0   132k      0 --:--:-- --:--:-- --:--:--  132k\n"
          ],
          "name": "stdout"
        }
      ]
    },
    {
      "metadata": {
        "id": "CgNrAC-y7Ki7",
        "colab_type": "code",
        "colab": {}
      },
      "cell_type": "code",
      "source": [
        "import pandas as pd\n",
        "\n",
        "df = pd.read_csv('./insurance-customers-1500.csv', sep=';')"
      ],
      "execution_count": 0,
      "outputs": []
    },
    {
      "metadata": {
        "id": "LpD5Vea68ILn",
        "colab_type": "code",
        "outputId": "615efdb2-4fde-4e06-8ad7-89a7a4547f47",
        "colab": {
          "base_uri": "https://localhost:8080/",
          "height": 297
        }
      },
      "cell_type": "code",
      "source": [
        "df.describe()"
      ],
      "execution_count": 4,
      "outputs": [
        {
          "output_type": "execute_result",
          "data": {
            "text/html": [
              "<div>\n",
              "<style scoped>\n",
              "    .dataframe tbody tr th:only-of-type {\n",
              "        vertical-align: middle;\n",
              "    }\n",
              "\n",
              "    .dataframe tbody tr th {\n",
              "        vertical-align: top;\n",
              "    }\n",
              "\n",
              "    .dataframe thead th {\n",
              "        text-align: right;\n",
              "    }\n",
              "</style>\n",
              "<table border=\"1\" class=\"dataframe\">\n",
              "  <thead>\n",
              "    <tr style=\"text-align: right;\">\n",
              "      <th></th>\n",
              "      <th>speed</th>\n",
              "      <th>age</th>\n",
              "      <th>miles</th>\n",
              "      <th>group</th>\n",
              "    </tr>\n",
              "  </thead>\n",
              "  <tbody>\n",
              "    <tr>\n",
              "      <th>count</th>\n",
              "      <td>1500.000000</td>\n",
              "      <td>1500.000000</td>\n",
              "      <td>1500.000000</td>\n",
              "      <td>1500.000000</td>\n",
              "    </tr>\n",
              "    <tr>\n",
              "      <th>mean</th>\n",
              "      <td>122.492667</td>\n",
              "      <td>44.980667</td>\n",
              "      <td>30.434000</td>\n",
              "      <td>0.998667</td>\n",
              "    </tr>\n",
              "    <tr>\n",
              "      <th>std</th>\n",
              "      <td>17.604333</td>\n",
              "      <td>17.130400</td>\n",
              "      <td>15.250815</td>\n",
              "      <td>0.816768</td>\n",
              "    </tr>\n",
              "    <tr>\n",
              "      <th>min</th>\n",
              "      <td>68.000000</td>\n",
              "      <td>16.000000</td>\n",
              "      <td>1.000000</td>\n",
              "      <td>0.000000</td>\n",
              "    </tr>\n",
              "    <tr>\n",
              "      <th>25%</th>\n",
              "      <td>108.000000</td>\n",
              "      <td>32.000000</td>\n",
              "      <td>18.000000</td>\n",
              "      <td>0.000000</td>\n",
              "    </tr>\n",
              "    <tr>\n",
              "      <th>50%</th>\n",
              "      <td>120.000000</td>\n",
              "      <td>42.000000</td>\n",
              "      <td>29.000000</td>\n",
              "      <td>1.000000</td>\n",
              "    </tr>\n",
              "    <tr>\n",
              "      <th>75%</th>\n",
              "      <td>137.000000</td>\n",
              "      <td>55.000000</td>\n",
              "      <td>42.000000</td>\n",
              "      <td>2.000000</td>\n",
              "    </tr>\n",
              "    <tr>\n",
              "      <th>max</th>\n",
              "      <td>166.000000</td>\n",
              "      <td>100.000000</td>\n",
              "      <td>84.000000</td>\n",
              "      <td>2.000000</td>\n",
              "    </tr>\n",
              "  </tbody>\n",
              "</table>\n",
              "</div>"
            ],
            "text/plain": [
              "             speed          age        miles        group\n",
              "count  1500.000000  1500.000000  1500.000000  1500.000000\n",
              "mean    122.492667    44.980667    30.434000     0.998667\n",
              "std      17.604333    17.130400    15.250815     0.816768\n",
              "min      68.000000    16.000000     1.000000     0.000000\n",
              "25%     108.000000    32.000000    18.000000     0.000000\n",
              "50%     120.000000    42.000000    29.000000     1.000000\n",
              "75%     137.000000    55.000000    42.000000     2.000000\n",
              "max     166.000000   100.000000    84.000000     2.000000"
            ]
          },
          "metadata": {
            "tags": []
          },
          "execution_count": 4
        }
      ]
    },
    {
      "metadata": {
        "id": "MS4YVRMn8LO0",
        "colab_type": "code",
        "outputId": "98bed8e0-87c2-4d6a-c382-792f6ba1dee2",
        "colab": {
          "base_uri": "https://localhost:8080/",
          "height": 204
        }
      },
      "cell_type": "code",
      "source": [
        "df.head()"
      ],
      "execution_count": 5,
      "outputs": [
        {
          "output_type": "execute_result",
          "data": {
            "text/html": [
              "<div>\n",
              "<style scoped>\n",
              "    .dataframe tbody tr th:only-of-type {\n",
              "        vertical-align: middle;\n",
              "    }\n",
              "\n",
              "    .dataframe tbody tr th {\n",
              "        vertical-align: top;\n",
              "    }\n",
              "\n",
              "    .dataframe thead th {\n",
              "        text-align: right;\n",
              "    }\n",
              "</style>\n",
              "<table border=\"1\" class=\"dataframe\">\n",
              "  <thead>\n",
              "    <tr style=\"text-align: right;\">\n",
              "      <th></th>\n",
              "      <th>speed</th>\n",
              "      <th>age</th>\n",
              "      <th>miles</th>\n",
              "      <th>group</th>\n",
              "    </tr>\n",
              "  </thead>\n",
              "  <tbody>\n",
              "    <tr>\n",
              "      <th>0</th>\n",
              "      <td>98.0</td>\n",
              "      <td>44.0</td>\n",
              "      <td>25.0</td>\n",
              "      <td>1</td>\n",
              "    </tr>\n",
              "    <tr>\n",
              "      <th>1</th>\n",
              "      <td>118.0</td>\n",
              "      <td>54.0</td>\n",
              "      <td>24.0</td>\n",
              "      <td>1</td>\n",
              "    </tr>\n",
              "    <tr>\n",
              "      <th>2</th>\n",
              "      <td>111.0</td>\n",
              "      <td>26.0</td>\n",
              "      <td>34.0</td>\n",
              "      <td>0</td>\n",
              "    </tr>\n",
              "    <tr>\n",
              "      <th>3</th>\n",
              "      <td>97.0</td>\n",
              "      <td>25.0</td>\n",
              "      <td>10.0</td>\n",
              "      <td>2</td>\n",
              "    </tr>\n",
              "    <tr>\n",
              "      <th>4</th>\n",
              "      <td>114.0</td>\n",
              "      <td>38.0</td>\n",
              "      <td>22.0</td>\n",
              "      <td>1</td>\n",
              "    </tr>\n",
              "  </tbody>\n",
              "</table>\n",
              "</div>"
            ],
            "text/plain": [
              "   speed   age  miles  group\n",
              "0   98.0  44.0   25.0      1\n",
              "1  118.0  54.0   24.0      1\n",
              "2  111.0  26.0   34.0      0\n",
              "3   97.0  25.0   10.0      2\n",
              "4  114.0  38.0   22.0      1"
            ]
          },
          "metadata": {
            "tags": []
          },
          "execution_count": 5
        }
      ]
    },
    {
      "metadata": {
        "id": "ag8xd_EBdWWj",
        "colab_type": "code",
        "outputId": "9ff63e32-8d93-4b95-d521-5a21cca2f70c",
        "colab": {
          "base_uri": "https://localhost:8080/",
          "height": 34
        }
      },
      "cell_type": "code",
      "source": [
        "sns.pairplot?"
      ],
      "execution_count": 6,
      "outputs": [
        {
          "output_type": "stream",
          "text": [
            "Object `sns.pairplot` not found.\n"
          ],
          "name": "stdout"
        }
      ]
    },
    {
      "metadata": {
        "id": "Qk_HBAyMc7ZB",
        "colab_type": "code",
        "outputId": "f4087ec5-8688-40c8-ca50-5b335d6accb5",
        "colab": {
          "base_uri": "https://localhost:8080/",
          "height": 1100
        }
      },
      "cell_type": "code",
      "source": [
        "import seaborn as sns\n",
        "\n",
        "sample_df = df.sample(n=100, random_state=42)\n",
        "sns.pairplot(sample_df, \n",
        "             hue=\"group\", palette={0: '#AA4444', 1: '#006000', 2: '#EEEE44'},\n",
        "#              kind='reg',\n",
        "             size=5,\n",
        "             diag_kind='kde',\n",
        "             vars=['age', 'speed', 'miles'])"
      ],
      "execution_count": 7,
      "outputs": [
        {
          "output_type": "execute_result",
          "data": {
            "text/plain": [
              "<seaborn.axisgrid.PairGrid at 0x7f1a571e80f0>"
            ]
          },
          "metadata": {
            "tags": []
          },
          "execution_count": 7
        },
        {
          "output_type": "display_data",
          "data": {
            "image/png": "[encoded data removed]",
            "text/plain": [
              "<Figure size 1121.62x1080 with 12 Axes>"
            ]
          },
          "metadata": {
            "tags": []
          }
        }
      ]
    },
    {
      "metadata": {
        "id": "UyehKLun7T2V",
        "colab_type": "code",
        "outputId": "15d47739-7855-493c-e322-18b33ce1950f",
        "colab": {
          "base_uri": "https://localhost:8080/",
          "height": 238
        }
      },
      "cell_type": "code",
      "source": [
        "from tensorflow import keras\n",
        "from tensorflow.keras.layers import Input, Flatten, GlobalAveragePooling1D, Dense\n",
        "from tensorflow.keras.models import Sequential, Model\n",
        "\n",
        "encoding_dim = 32\n",
        "\n",
        "input_data = Input(shape=(4,))\n",
        "encoded = Dense(units=encoding_dim, activation='relu', name=\"encoder\")(input_data)\n",
        "decoded = Dense(units=4, activation='linear', name=\"decoder\")(encoded)\n",
        "\n",
        "autoencoder = Model(inputs=input_data, outputs=decoded)\n",
        "autoencoder.compile(optimizer='adam', loss='mse')\n",
        "autoencoder.summary();"
      ],
      "execution_count": 8,
      "outputs": [
        {
          "output_type": "stream",
          "text": [
            "_________________________________________________________________\n",
            "Layer (type)                 Output Shape              Param #   \n",
            "=================================================================\n",
            "input_1 (InputLayer)         (None, 4)                 0         \n",
            "_________________________________________________________________\n",
            "encoder (Dense)              (None, 32)                160       \n",
            "_________________________________________________________________\n",
            "decoder (Dense)              (None, 4)                 132       \n",
            "=================================================================\n",
            "Total params: 292\n",
            "Trainable params: 292\n",
            "Non-trainable params: 0\n",
            "_________________________________________________________________\n"
          ],
          "name": "stdout"
        }
      ]
    },
    {
      "metadata": {
        "id": "vy-7ERH88hFd",
        "colab_type": "code",
        "outputId": "5aa8bf5b-cab9-46eb-e37f-be2981b026b4",
        "colab": {
          "base_uri": "https://localhost:8080/",
          "height": 391
        }
      },
      "cell_type": "code",
      "source": [
        "X = df\n",
        "BATCH_SIZE = 2\n",
        "%time history = autoencoder.fit(X, X, epochs=10, batch_size=BATCH_SIZE, shuffle=True, verbose=1)"
      ],
      "execution_count": 9,
      "outputs": [
        {
          "output_type": "stream",
          "text": [
            "Epoch 1/10\n",
            "1500/1500 [==============================] - 3s 2ms/step - loss: 421.8827\n",
            "Epoch 2/10\n",
            "1500/1500 [==============================] - 3s 2ms/step - loss: 1.8167\n",
            "Epoch 3/10\n",
            "1500/1500 [==============================] - 3s 2ms/step - loss: 0.3998\n",
            "Epoch 4/10\n",
            "1500/1500 [==============================] - 3s 2ms/step - loss: 0.2495\n",
            "Epoch 5/10\n",
            "1500/1500 [==============================] - 3s 2ms/step - loss: 0.1494\n",
            "Epoch 6/10\n",
            "1500/1500 [==============================] - 3s 2ms/step - loss: 0.0878\n",
            "Epoch 7/10\n",
            "1500/1500 [==============================] - 3s 2ms/step - loss: 0.0562\n",
            "Epoch 8/10\n",
            "1500/1500 [==============================] - 3s 2ms/step - loss: 0.0371\n",
            "Epoch 9/10\n",
            "1500/1500 [==============================] - 3s 2ms/step - loss: 0.0284\n",
            "Epoch 10/10\n",
            "1500/1500 [==============================] - 3s 2ms/step - loss: 0.0204\n",
            "CPU times: user 32.2 s, sys: 4.81 s, total: 37 s\n",
            "Wall time: 26.5 s\n"
          ],
          "name": "stdout"
        }
      ]
    },
    {
      "metadata": {
        "id": "oTFNENnA9Lpe",
        "colab_type": "code",
        "outputId": "4f17f8b9-d84c-491c-970a-a90f57d992a4",
        "colab": {
          "base_uri": "https://localhost:8080/",
          "height": 364
        }
      },
      "cell_type": "code",
      "source": [
        "import matplotlib.pyplot as plt\n",
        "\n",
        "plt.yscale('log')\n",
        "plt.plot(history.history['loss'])"
      ],
      "execution_count": 10,
      "outputs": [
        {
          "output_type": "execute_result",
          "data": {
            "text/plain": [
              "[<matplotlib.lines.Line2D at 0x7f1a529413c8>]"
            ]
          },
          "metadata": {
            "tags": []
          },
          "execution_count": 10
        },
        {
          "output_type": "display_data",
          "data": {
            "image/png": "[encoded data removed]",
            "text/plain": [
              "<Figure size 576x396 with 1 Axes>"
            ]
          },
          "metadata": {
            "tags": []
          }
        }
      ]
    },
    {
      "metadata": {
        "id": "YCfEdoX59kUs",
        "colab_type": "code",
        "outputId": "ee916e6a-5232-4287-9c90-db231c3f5966",
        "colab": {
          "base_uri": "https://localhost:8080/",
          "height": 51
        }
      },
      "cell_type": "code",
      "source": [
        "autoencoder.evaluate(X, X, batch_size=BATCH_SIZE)"
      ],
      "execution_count": 11,
      "outputs": [
        {
          "output_type": "stream",
          "text": [
            "1500/1500 [==============================] - 1s 752us/step\n"
          ],
          "name": "stdout"
        },
        {
          "output_type": "execute_result",
          "data": {
            "text/plain": [
              "0.009633435881580226"
            ]
          },
          "metadata": {
            "tags": []
          },
          "execution_count": 11
        }
      ]
    },
    {
      "metadata": {
        "id": "XMpydMeV9o0K",
        "colab_type": "code",
        "outputId": "d4d1453e-4afe-453d-8b08-0a2dc425ea99",
        "colab": {
          "base_uri": "https://localhost:8080/",
          "height": 359
        }
      },
      "cell_type": "code",
      "source": [
        "samples = df.sample(10).reset_index(drop=True)\n",
        "samples"
      ],
      "execution_count": 12,
      "outputs": [
        {
          "output_type": "execute_result",
          "data": {
            "text/html": [
              "<div>\n",
              "<style scoped>\n",
              "    .dataframe tbody tr th:only-of-type {\n",
              "        vertical-align: middle;\n",
              "    }\n",
              "\n",
              "    .dataframe tbody tr th {\n",
              "        vertical-align: top;\n",
              "    }\n",
              "\n",
              "    .dataframe thead th {\n",
              "        text-align: right;\n",
              "    }\n",
              "</style>\n",
              "<table border=\"1\" class=\"dataframe\">\n",
              "  <thead>\n",
              "    <tr style=\"text-align: right;\">\n",
              "      <th></th>\n",
              "      <th>speed</th>\n",
              "      <th>age</th>\n",
              "      <th>miles</th>\n",
              "      <th>group</th>\n",
              "    </tr>\n",
              "  </thead>\n",
              "  <tbody>\n",
              "    <tr>\n",
              "      <th>0</th>\n",
              "      <td>108.0</td>\n",
              "      <td>73.0</td>\n",
              "      <td>14.0</td>\n",
              "      <td>0</td>\n",
              "    </tr>\n",
              "    <tr>\n",
              "      <th>1</th>\n",
              "      <td>122.0</td>\n",
              "      <td>25.0</td>\n",
              "      <td>8.0</td>\n",
              "      <td>0</td>\n",
              "    </tr>\n",
              "    <tr>\n",
              "      <th>2</th>\n",
              "      <td>133.0</td>\n",
              "      <td>44.0</td>\n",
              "      <td>36.0</td>\n",
              "      <td>1</td>\n",
              "    </tr>\n",
              "    <tr>\n",
              "      <th>3</th>\n",
              "      <td>137.0</td>\n",
              "      <td>40.0</td>\n",
              "      <td>47.0</td>\n",
              "      <td>1</td>\n",
              "    </tr>\n",
              "    <tr>\n",
              "      <th>4</th>\n",
              "      <td>91.0</td>\n",
              "      <td>27.0</td>\n",
              "      <td>17.0</td>\n",
              "      <td>2</td>\n",
              "    </tr>\n",
              "    <tr>\n",
              "      <th>5</th>\n",
              "      <td>100.0</td>\n",
              "      <td>29.0</td>\n",
              "      <td>59.0</td>\n",
              "      <td>2</td>\n",
              "    </tr>\n",
              "    <tr>\n",
              "      <th>6</th>\n",
              "      <td>115.0</td>\n",
              "      <td>29.0</td>\n",
              "      <td>33.0</td>\n",
              "      <td>0</td>\n",
              "    </tr>\n",
              "    <tr>\n",
              "      <th>7</th>\n",
              "      <td>139.0</td>\n",
              "      <td>46.0</td>\n",
              "      <td>34.0</td>\n",
              "      <td>1</td>\n",
              "    </tr>\n",
              "    <tr>\n",
              "      <th>8</th>\n",
              "      <td>99.0</td>\n",
              "      <td>34.0</td>\n",
              "      <td>31.0</td>\n",
              "      <td>1</td>\n",
              "    </tr>\n",
              "    <tr>\n",
              "      <th>9</th>\n",
              "      <td>116.0</td>\n",
              "      <td>32.0</td>\n",
              "      <td>26.0</td>\n",
              "      <td>0</td>\n",
              "    </tr>\n",
              "  </tbody>\n",
              "</table>\n",
              "</div>"
            ],
            "text/plain": [
              "   speed   age  miles  group\n",
              "0  108.0  73.0   14.0      0\n",
              "1  122.0  25.0    8.0      0\n",
              "2  133.0  44.0   36.0      1\n",
              "3  137.0  40.0   47.0      1\n",
              "4   91.0  27.0   17.0      2\n",
              "5  100.0  29.0   59.0      2\n",
              "6  115.0  29.0   33.0      0\n",
              "7  139.0  46.0   34.0      1\n",
              "8   99.0  34.0   31.0      1\n",
              "9  116.0  32.0   26.0      0"
            ]
          },
          "metadata": {
            "tags": []
          },
          "execution_count": 12
        }
      ]
    },
    {
      "metadata": {
        "id": "MIDcCZtX-xLN",
        "colab_type": "code",
        "outputId": "fdb51084-bd55-40e0-f6ca-4d02af35c126",
        "colab": {
          "base_uri": "https://localhost:8080/",
          "height": 359
        }
      },
      "cell_type": "code",
      "source": [
        "predictions = pd.DataFrame(autoencoder.predict(samples), columns=[\"speed\",\t\"age\",\t\"miles\",\t\"group\"])\n",
        "predictions"
      ],
      "execution_count": 13,
      "outputs": [
        {
          "output_type": "execute_result",
          "data": {
            "text/html": [
              "<div>\n",
              "<style scoped>\n",
              "    .dataframe tbody tr th:only-of-type {\n",
              "        vertical-align: middle;\n",
              "    }\n",
              "\n",
              "    .dataframe tbody tr th {\n",
              "        vertical-align: top;\n",
              "    }\n",
              "\n",
              "    .dataframe thead th {\n",
              "        text-align: right;\n",
              "    }\n",
              "</style>\n",
              "<table border=\"1\" class=\"dataframe\">\n",
              "  <thead>\n",
              "    <tr style=\"text-align: right;\">\n",
              "      <th></th>\n",
              "      <th>speed</th>\n",
              "      <th>age</th>\n",
              "      <th>miles</th>\n",
              "      <th>group</th>\n",
              "    </tr>\n",
              "  </thead>\n",
              "  <tbody>\n",
              "    <tr>\n",
              "      <th>0</th>\n",
              "      <td>108.008820</td>\n",
              "      <td>72.892822</td>\n",
              "      <td>13.984183</td>\n",
              "      <td>-0.006698</td>\n",
              "    </tr>\n",
              "    <tr>\n",
              "      <th>1</th>\n",
              "      <td>122.011116</td>\n",
              "      <td>24.983749</td>\n",
              "      <td>7.975008</td>\n",
              "      <td>-0.000620</td>\n",
              "    </tr>\n",
              "    <tr>\n",
              "      <th>2</th>\n",
              "      <td>132.973801</td>\n",
              "      <td>43.880394</td>\n",
              "      <td>35.977631</td>\n",
              "      <td>0.988693</td>\n",
              "    </tr>\n",
              "    <tr>\n",
              "      <th>3</th>\n",
              "      <td>136.978348</td>\n",
              "      <td>39.879368</td>\n",
              "      <td>46.979515</td>\n",
              "      <td>0.988237</td>\n",
              "    </tr>\n",
              "    <tr>\n",
              "      <th>4</th>\n",
              "      <td>91.042732</td>\n",
              "      <td>27.013742</td>\n",
              "      <td>16.994432</td>\n",
              "      <td>1.994777</td>\n",
              "    </tr>\n",
              "    <tr>\n",
              "      <th>5</th>\n",
              "      <td>100.060059</td>\n",
              "      <td>28.980553</td>\n",
              "      <td>59.004818</td>\n",
              "      <td>1.991149</td>\n",
              "    </tr>\n",
              "    <tr>\n",
              "      <th>6</th>\n",
              "      <td>115.047218</td>\n",
              "      <td>28.988462</td>\n",
              "      <td>32.988312</td>\n",
              "      <td>-0.001235</td>\n",
              "    </tr>\n",
              "    <tr>\n",
              "      <th>7</th>\n",
              "      <td>138.956589</td>\n",
              "      <td>45.859879</td>\n",
              "      <td>33.973343</td>\n",
              "      <td>0.987455</td>\n",
              "    </tr>\n",
              "    <tr>\n",
              "      <th>8</th>\n",
              "      <td>99.054726</td>\n",
              "      <td>33.994949</td>\n",
              "      <td>30.995785</td>\n",
              "      <td>0.996153</td>\n",
              "    </tr>\n",
              "    <tr>\n",
              "      <th>9</th>\n",
              "      <td>116.035866</td>\n",
              "      <td>31.978769</td>\n",
              "      <td>25.985044</td>\n",
              "      <td>-0.001600</td>\n",
              "    </tr>\n",
              "  </tbody>\n",
              "</table>\n",
              "</div>"
            ],
            "text/plain": [
              "        speed        age      miles     group\n",
              "0  108.008820  72.892822  13.984183 -0.006698\n",
              "1  122.011116  24.983749   7.975008 -0.000620\n",
              "2  132.973801  43.880394  35.977631  0.988693\n",
              "3  136.978348  39.879368  46.979515  0.988237\n",
              "4   91.042732  27.013742  16.994432  1.994777\n",
              "5  100.060059  28.980553  59.004818  1.991149\n",
              "6  115.047218  28.988462  32.988312 -0.001235\n",
              "7  138.956589  45.859879  33.973343  0.987455\n",
              "8   99.054726  33.994949  30.995785  0.996153\n",
              "9  116.035866  31.978769  25.985044 -0.001600"
            ]
          },
          "metadata": {
            "tags": []
          },
          "execution_count": 13
        }
      ]
    },
    {
      "metadata": {
        "id": "9KqLiu1DU30l",
        "colab_type": "code",
        "outputId": "ffd71a8a-dc35-4b67-f99d-82ee17060691",
        "colab": {
          "base_uri": "https://localhost:8080/",
          "height": 359
        }
      },
      "cell_type": "code",
      "source": [
        "samples.subtract(predictions)"
      ],
      "execution_count": 14,
      "outputs": [
        {
          "output_type": "execute_result",
          "data": {
            "text/html": [
              "<div>\n",
              "<style scoped>\n",
              "    .dataframe tbody tr th:only-of-type {\n",
              "        vertical-align: middle;\n",
              "    }\n",
              "\n",
              "    .dataframe tbody tr th {\n",
              "        vertical-align: top;\n",
              "    }\n",
              "\n",
              "    .dataframe thead th {\n",
              "        text-align: right;\n",
              "    }\n",
              "</style>\n",
              "<table border=\"1\" class=\"dataframe\">\n",
              "  <thead>\n",
              "    <tr style=\"text-align: right;\">\n",
              "      <th></th>\n",
              "      <th>speed</th>\n",
              "      <th>age</th>\n",
              "      <th>miles</th>\n",
              "      <th>group</th>\n",
              "    </tr>\n",
              "  </thead>\n",
              "  <tbody>\n",
              "    <tr>\n",
              "      <th>0</th>\n",
              "      <td>-0.008820</td>\n",
              "      <td>0.107178</td>\n",
              "      <td>0.015817</td>\n",
              "      <td>0.006698</td>\n",
              "    </tr>\n",
              "    <tr>\n",
              "      <th>1</th>\n",
              "      <td>-0.011116</td>\n",
              "      <td>0.016251</td>\n",
              "      <td>0.024992</td>\n",
              "      <td>0.000620</td>\n",
              "    </tr>\n",
              "    <tr>\n",
              "      <th>2</th>\n",
              "      <td>0.026199</td>\n",
              "      <td>0.119606</td>\n",
              "      <td>0.022369</td>\n",
              "      <td>0.011307</td>\n",
              "    </tr>\n",
              "    <tr>\n",
              "      <th>3</th>\n",
              "      <td>0.021652</td>\n",
              "      <td>0.120632</td>\n",
              "      <td>0.020485</td>\n",
              "      <td>0.011763</td>\n",
              "    </tr>\n",
              "    <tr>\n",
              "      <th>4</th>\n",
              "      <td>-0.042732</td>\n",
              "      <td>-0.013742</td>\n",
              "      <td>0.005568</td>\n",
              "      <td>0.005223</td>\n",
              "    </tr>\n",
              "    <tr>\n",
              "      <th>5</th>\n",
              "      <td>-0.060059</td>\n",
              "      <td>0.019447</td>\n",
              "      <td>-0.004818</td>\n",
              "      <td>0.008851</td>\n",
              "    </tr>\n",
              "    <tr>\n",
              "      <th>6</th>\n",
              "      <td>-0.047218</td>\n",
              "      <td>0.011538</td>\n",
              "      <td>0.011688</td>\n",
              "      <td>0.001235</td>\n",
              "    </tr>\n",
              "    <tr>\n",
              "      <th>7</th>\n",
              "      <td>0.043411</td>\n",
              "      <td>0.140121</td>\n",
              "      <td>0.026657</td>\n",
              "      <td>0.012545</td>\n",
              "    </tr>\n",
              "    <tr>\n",
              "      <th>8</th>\n",
              "      <td>-0.054726</td>\n",
              "      <td>0.005051</td>\n",
              "      <td>0.004215</td>\n",
              "      <td>0.003847</td>\n",
              "    </tr>\n",
              "    <tr>\n",
              "      <th>9</th>\n",
              "      <td>-0.035866</td>\n",
              "      <td>0.021231</td>\n",
              "      <td>0.014956</td>\n",
              "      <td>0.001600</td>\n",
              "    </tr>\n",
              "  </tbody>\n",
              "</table>\n",
              "</div>"
            ],
            "text/plain": [
              "      speed       age     miles     group\n",
              "0 -0.008820  0.107178  0.015817  0.006698\n",
              "1 -0.011116  0.016251  0.024992  0.000620\n",
              "2  0.026199  0.119606  0.022369  0.011307\n",
              "3  0.021652  0.120632  0.020485  0.011763\n",
              "4 -0.042732 -0.013742  0.005568  0.005223\n",
              "5 -0.060059  0.019447 -0.004818  0.008851\n",
              "6 -0.047218  0.011538  0.011688  0.001235\n",
              "7  0.043411  0.140121  0.026657  0.012545\n",
              "8 -0.054726  0.005051  0.004215  0.003847\n",
              "9 -0.035866  0.021231  0.014956  0.001600"
            ]
          },
          "metadata": {
            "tags": []
          },
          "execution_count": 14
        }
      ]
    },
    {
      "metadata": {
        "id": "fG8ewUPT_Kbx",
        "colab_type": "text"
      },
      "cell_type": "markdown",
      "source": [
        "## Looks quite nice, but how impressed are you by abstracting 4 variables into 32?\n",
        "\n",
        "Let us try dimension of 2"
      ]
    },
    {
      "metadata": {
        "id": "vxaFDLqC--V4",
        "colab_type": "code",
        "outputId": "75a4a8d8-7ee9-4e6d-bcbe-d5d4343d4269",
        "colab": {
          "base_uri": "https://localhost:8080/",
          "height": 738
        }
      },
      "cell_type": "code",
      "source": [
        "encoding_dim = 2\n",
        "\n",
        "input_data = Input(shape=(4,))\n",
        "# notice tanh\n",
        "encoded = Dense(units=encoding_dim, activation='tanh', name=\"encoder\")(input_data)\n",
        "decoded = Dense(units=4, activation='linear', name=\"decoder\")(encoded)\n",
        "\n",
        "autoencoder = Model(inputs=input_data, outputs=decoded)\n",
        "# this does not get much better than 210 as a loss (bad), so we can just as well get there a bit faster (10 instead of 50 epochs with standard lr)\n",
        "adam = keras.optimizers.Adam(lr=0.01)\n",
        "# adam = keras.optimizers.Adam()\n",
        "autoencoder.compile(optimizer=adam, loss='mse')\n",
        "BATCH_SIZE = 2\n",
        "%time history = autoencoder.fit(X, X, epochs=10, batch_size=BATCH_SIZE, shuffle=True, verbose=1)\n",
        "plt.yscale('log')\n",
        "plt.plot(history.history['loss'])"
      ],
      "execution_count": 15,
      "outputs": [
        {
          "output_type": "stream",
          "text": [
            "Epoch 1/10\n",
            "1500/1500 [==============================] - 3s 2ms/step - loss: 3706.4616\n",
            "Epoch 2/10\n",
            "1500/1500 [==============================] - 3s 2ms/step - loss: 2355.9309\n",
            "Epoch 3/10\n",
            "1500/1500 [==============================] - 3s 2ms/step - loss: 1509.7182\n",
            "Epoch 4/10\n",
            "1500/1500 [==============================] - 3s 2ms/step - loss: 956.1105\n",
            "Epoch 5/10\n",
            "1500/1500 [==============================] - 3s 2ms/step - loss: 596.3917\n",
            "Epoch 6/10\n",
            "1500/1500 [==============================] - 3s 2ms/step - loss: 380.9357\n",
            "Epoch 7/10\n",
            "1500/1500 [==============================] - 3s 2ms/step - loss: 270.3717\n",
            "Epoch 8/10\n",
            "1500/1500 [==============================] - 3s 2ms/step - loss: 225.1573\n",
            "Epoch 9/10\n",
            "1500/1500 [==============================] - 3s 2ms/step - loss: 211.9266\n",
            "Epoch 10/10\n",
            "1500/1500 [==============================] - 3s 2ms/step - loss: 209.4090\n",
            "CPU times: user 32.6 s, sys: 4.3 s, total: 36.9 s\n",
            "Wall time: 26.3 s\n"
          ],
          "name": "stdout"
        },
        {
          "output_type": "execute_result",
          "data": {
            "text/plain": [
              "[<matplotlib.lines.Line2D at 0x7f1a3b9aee48>]"
            ]
          },
          "metadata": {
            "tags": []
          },
          "execution_count": 15
        },
        {
          "output_type": "display_data",
          "data": {
            "image/png": "[encoded data removed]",
            "text/plain": [
              "<Figure size 576x396 with 1 Axes>"
            ]
          },
          "metadata": {
            "tags": []
          }
        }
      ]
    },
    {
      "metadata": {
        "id": "2amqipwTFY8j",
        "colab_type": "code",
        "outputId": "d18464df-f197-45d0-96ac-7ec1e25c8340",
        "colab": {
          "base_uri": "https://localhost:8080/",
          "height": 51
        }
      },
      "cell_type": "code",
      "source": [
        "autoencoder.evaluate(X, X, batch_size=BATCH_SIZE)"
      ],
      "execution_count": 16,
      "outputs": [
        {
          "output_type": "stream",
          "text": [
            "1500/1500 [==============================] - 1s 780us/step\n"
          ],
          "name": "stdout"
        },
        {
          "output_type": "execute_result",
          "data": {
            "text/plain": [
              "209.0876815210978"
            ]
          },
          "metadata": {
            "tags": []
          },
          "execution_count": 16
        }
      ]
    },
    {
      "metadata": {
        "id": "MwAaHlBXFe8M",
        "colab_type": "code",
        "outputId": "7292810b-a716-44fc-ab2e-2043932bc291",
        "colab": {
          "base_uri": "https://localhost:8080/",
          "height": 359
        }
      },
      "cell_type": "code",
      "source": [
        "# just average over all of them :D\n",
        "predictions = pd.DataFrame(autoencoder.predict(samples), columns=[\"speed\",\t\"age\",\t\"miles\",\t\"group\"])\n",
        "predictions"
      ],
      "execution_count": 17,
      "outputs": [
        {
          "output_type": "execute_result",
          "data": {
            "text/html": [
              "<div>\n",
              "<style scoped>\n",
              "    .dataframe tbody tr th:only-of-type {\n",
              "        vertical-align: middle;\n",
              "    }\n",
              "\n",
              "    .dataframe tbody tr th {\n",
              "        vertical-align: top;\n",
              "    }\n",
              "\n",
              "    .dataframe thead th {\n",
              "        text-align: right;\n",
              "    }\n",
              "</style>\n",
              "<table border=\"1\" class=\"dataframe\">\n",
              "  <thead>\n",
              "    <tr style=\"text-align: right;\">\n",
              "      <th></th>\n",
              "      <th>speed</th>\n",
              "      <th>age</th>\n",
              "      <th>miles</th>\n",
              "      <th>group</th>\n",
              "    </tr>\n",
              "  </thead>\n",
              "  <tbody>\n",
              "    <tr>\n",
              "      <th>0</th>\n",
              "      <td>122.157516</td>\n",
              "      <td>45.300255</td>\n",
              "      <td>30.708887</td>\n",
              "      <td>0.970163</td>\n",
              "    </tr>\n",
              "    <tr>\n",
              "      <th>1</th>\n",
              "      <td>122.157516</td>\n",
              "      <td>45.300255</td>\n",
              "      <td>30.708887</td>\n",
              "      <td>0.970163</td>\n",
              "    </tr>\n",
              "    <tr>\n",
              "      <th>2</th>\n",
              "      <td>122.157516</td>\n",
              "      <td>45.300255</td>\n",
              "      <td>30.708887</td>\n",
              "      <td>0.970163</td>\n",
              "    </tr>\n",
              "    <tr>\n",
              "      <th>3</th>\n",
              "      <td>122.157516</td>\n",
              "      <td>45.300255</td>\n",
              "      <td>30.708887</td>\n",
              "      <td>0.970163</td>\n",
              "    </tr>\n",
              "    <tr>\n",
              "      <th>4</th>\n",
              "      <td>122.157516</td>\n",
              "      <td>45.300255</td>\n",
              "      <td>30.708887</td>\n",
              "      <td>0.970163</td>\n",
              "    </tr>\n",
              "    <tr>\n",
              "      <th>5</th>\n",
              "      <td>122.157516</td>\n",
              "      <td>45.300255</td>\n",
              "      <td>30.708887</td>\n",
              "      <td>0.970163</td>\n",
              "    </tr>\n",
              "    <tr>\n",
              "      <th>6</th>\n",
              "      <td>122.157516</td>\n",
              "      <td>45.300255</td>\n",
              "      <td>30.708887</td>\n",
              "      <td>0.970163</td>\n",
              "    </tr>\n",
              "    <tr>\n",
              "      <th>7</th>\n",
              "      <td>122.157516</td>\n",
              "      <td>45.300255</td>\n",
              "      <td>30.708887</td>\n",
              "      <td>0.970163</td>\n",
              "    </tr>\n",
              "    <tr>\n",
              "      <th>8</th>\n",
              "      <td>122.157516</td>\n",
              "      <td>45.300255</td>\n",
              "      <td>30.708887</td>\n",
              "      <td>0.970163</td>\n",
              "    </tr>\n",
              "    <tr>\n",
              "      <th>9</th>\n",
              "      <td>122.157516</td>\n",
              "      <td>45.300255</td>\n",
              "      <td>30.708887</td>\n",
              "      <td>0.970163</td>\n",
              "    </tr>\n",
              "  </tbody>\n",
              "</table>\n",
              "</div>"
            ],
            "text/plain": [
              "        speed        age      miles     group\n",
              "0  122.157516  45.300255  30.708887  0.970163\n",
              "1  122.157516  45.300255  30.708887  0.970163\n",
              "2  122.157516  45.300255  30.708887  0.970163\n",
              "3  122.157516  45.300255  30.708887  0.970163\n",
              "4  122.157516  45.300255  30.708887  0.970163\n",
              "5  122.157516  45.300255  30.708887  0.970163\n",
              "6  122.157516  45.300255  30.708887  0.970163\n",
              "7  122.157516  45.300255  30.708887  0.970163\n",
              "8  122.157516  45.300255  30.708887  0.970163\n",
              "9  122.157516  45.300255  30.708887  0.970163"
            ]
          },
          "metadata": {
            "tags": []
          },
          "execution_count": 17
        }
      ]
    },
    {
      "metadata": {
        "id": "9_Su0ILtFrhY",
        "colab_type": "code",
        "outputId": "1f38ebe0-b666-498b-ebd9-b5972c7c45ff",
        "colab": {
          "base_uri": "https://localhost:8080/",
          "height": 297
        }
      },
      "cell_type": "code",
      "source": [
        "samples.describe()"
      ],
      "execution_count": 18,
      "outputs": [
        {
          "output_type": "execute_result",
          "data": {
            "text/html": [
              "<div>\n",
              "<style scoped>\n",
              "    .dataframe tbody tr th:only-of-type {\n",
              "        vertical-align: middle;\n",
              "    }\n",
              "\n",
              "    .dataframe tbody tr th {\n",
              "        vertical-align: top;\n",
              "    }\n",
              "\n",
              "    .dataframe thead th {\n",
              "        text-align: right;\n",
              "    }\n",
              "</style>\n",
              "<table border=\"1\" class=\"dataframe\">\n",
              "  <thead>\n",
              "    <tr style=\"text-align: right;\">\n",
              "      <th></th>\n",
              "      <th>speed</th>\n",
              "      <th>age</th>\n",
              "      <th>miles</th>\n",
              "      <th>group</th>\n",
              "    </tr>\n",
              "  </thead>\n",
              "  <tbody>\n",
              "    <tr>\n",
              "      <th>count</th>\n",
              "      <td>10.000000</td>\n",
              "      <td>10.000000</td>\n",
              "      <td>10.000000</td>\n",
              "      <td>10.000000</td>\n",
              "    </tr>\n",
              "    <tr>\n",
              "      <th>mean</th>\n",
              "      <td>116.000000</td>\n",
              "      <td>37.900000</td>\n",
              "      <td>30.500000</td>\n",
              "      <td>0.800000</td>\n",
              "    </tr>\n",
              "    <tr>\n",
              "      <th>std</th>\n",
              "      <td>16.766368</td>\n",
              "      <td>14.270794</td>\n",
              "      <td>15.327898</td>\n",
              "      <td>0.788811</td>\n",
              "    </tr>\n",
              "    <tr>\n",
              "      <th>min</th>\n",
              "      <td>91.000000</td>\n",
              "      <td>25.000000</td>\n",
              "      <td>8.000000</td>\n",
              "      <td>0.000000</td>\n",
              "    </tr>\n",
              "    <tr>\n",
              "      <th>25%</th>\n",
              "      <td>102.000000</td>\n",
              "      <td>29.000000</td>\n",
              "      <td>19.250000</td>\n",
              "      <td>0.000000</td>\n",
              "    </tr>\n",
              "    <tr>\n",
              "      <th>50%</th>\n",
              "      <td>115.500000</td>\n",
              "      <td>33.000000</td>\n",
              "      <td>32.000000</td>\n",
              "      <td>1.000000</td>\n",
              "    </tr>\n",
              "    <tr>\n",
              "      <th>75%</th>\n",
              "      <td>130.250000</td>\n",
              "      <td>43.000000</td>\n",
              "      <td>35.500000</td>\n",
              "      <td>1.000000</td>\n",
              "    </tr>\n",
              "    <tr>\n",
              "      <th>max</th>\n",
              "      <td>139.000000</td>\n",
              "      <td>73.000000</td>\n",
              "      <td>59.000000</td>\n",
              "      <td>2.000000</td>\n",
              "    </tr>\n",
              "  </tbody>\n",
              "</table>\n",
              "</div>"
            ],
            "text/plain": [
              "            speed        age      miles      group\n",
              "count   10.000000  10.000000  10.000000  10.000000\n",
              "mean   116.000000  37.900000  30.500000   0.800000\n",
              "std     16.766368  14.270794  15.327898   0.788811\n",
              "min     91.000000  25.000000   8.000000   0.000000\n",
              "25%    102.000000  29.000000  19.250000   0.000000\n",
              "50%    115.500000  33.000000  32.000000   1.000000\n",
              "75%    130.250000  43.000000  35.500000   1.000000\n",
              "max    139.000000  73.000000  59.000000   2.000000"
            ]
          },
          "metadata": {
            "tags": []
          },
          "execution_count": 18
        }
      ]
    },
    {
      "metadata": {
        "id": "v09SYUFxX7ca",
        "colab_type": "text"
      },
      "cell_type": "markdown",
      "source": [
        "### relu makes it train"
      ]
    },
    {
      "metadata": {
        "id": "mN3No3KIKT7h",
        "colab_type": "code",
        "outputId": "8bf1f721-ac00-4def-b328-a2dd9bb2fb98",
        "colab": {
          "base_uri": "https://localhost:8080/",
          "height": 738
        }
      },
      "cell_type": "code",
      "source": [
        "encoding_dim = 2\n",
        "\n",
        "input_data = Input(shape=(4,))\n",
        "# notice relu\n",
        "encoded = Dense(units=encoding_dim, activation='relu', name=\"encoder\")(input_data)\n",
        "decoded = Dense(units=4, activation='linear', name=\"decoder\")(encoded)\n",
        "\n",
        "autoencoder = Model(inputs=input_data, outputs=decoded)\n",
        "# adam = keras.optimizers.Adam(lr=0.01)\n",
        "adam = keras.optimizers.Adam()\n",
        "autoencoder.compile(optimizer=adam, loss='mse')\n",
        "BATCH_SIZE = 1\n",
        "%time history = autoencoder.fit(X, X, epochs=10, batch_size=BATCH_SIZE, shuffle=True, verbose=1)\n",
        "plt.yscale('log')\n",
        "plt.plot(history.history['loss'])"
      ],
      "execution_count": 19,
      "outputs": [
        {
          "output_type": "stream",
          "text": [
            "Epoch 1/10\n",
            "1500/1500 [==============================] - 5s 4ms/step - loss: 2166.5098\n",
            "Epoch 2/10\n",
            "1500/1500 [==============================] - 5s 3ms/step - loss: 226.4697\n",
            "Epoch 3/10\n",
            "1500/1500 [==============================] - 5s 3ms/step - loss: 180.2871\n",
            "Epoch 4/10\n",
            "1500/1500 [==============================] - 5s 3ms/step - loss: 150.9254\n",
            "Epoch 5/10\n",
            "1500/1500 [==============================] - 5s 3ms/step - loss: 132.8012\n",
            "Epoch 6/10\n",
            "1500/1500 [==============================] - 5s 3ms/step - loss: 121.5160\n",
            "Epoch 7/10\n",
            "1500/1500 [==============================] - 5s 3ms/step - loss: 115.7569\n",
            "Epoch 8/10\n",
            "1500/1500 [==============================] - 5s 3ms/step - loss: 114.1016\n",
            "Epoch 9/10\n",
            "1500/1500 [==============================] - 5s 3ms/step - loss: 113.4699\n",
            "Epoch 10/10\n",
            "1500/1500 [==============================] - 5s 3ms/step - loss: 113.4332\n",
            "CPU times: user 1min 3s, sys: 8.43 s, total: 1min 11s\n",
            "Wall time: 50.8 s\n"
          ],
          "name": "stdout"
        },
        {
          "output_type": "execute_result",
          "data": {
            "text/plain": [
              "[<matplotlib.lines.Line2D at 0x7f1a3ac95860>]"
            ]
          },
          "metadata": {
            "tags": []
          },
          "execution_count": 19
        },
        {
          "output_type": "display_data",
          "data": {
            "image/png": "[encoded data removed]",
            "text/plain": [
              "<Figure size 576x396 with 1 Axes>"
            ]
          },
          "metadata": {
            "tags": []
          }
        }
      ]
    },
    {
      "metadata": {
        "id": "zRccLCNGLZc7",
        "colab_type": "code",
        "outputId": "15135272-3baa-4efc-e90d-69fffc7c5db5",
        "colab": {
          "base_uri": "https://localhost:8080/",
          "height": 359
        }
      },
      "cell_type": "code",
      "source": [
        "samples"
      ],
      "execution_count": 20,
      "outputs": [
        {
          "output_type": "execute_result",
          "data": {
            "text/html": [
              "<div>\n",
              "<style scoped>\n",
              "    .dataframe tbody tr th:only-of-type {\n",
              "        vertical-align: middle;\n",
              "    }\n",
              "\n",
              "    .dataframe tbody tr th {\n",
              "        vertical-align: top;\n",
              "    }\n",
              "\n",
              "    .dataframe thead th {\n",
              "        text-align: right;\n",
              "    }\n",
              "</style>\n",
              "<table border=\"1\" class=\"dataframe\">\n",
              "  <thead>\n",
              "    <tr style=\"text-align: right;\">\n",
              "      <th></th>\n",
              "      <th>speed</th>\n",
              "      <th>age</th>\n",
              "      <th>miles</th>\n",
              "      <th>group</th>\n",
              "    </tr>\n",
              "  </thead>\n",
              "  <tbody>\n",
              "    <tr>\n",
              "      <th>0</th>\n",
              "      <td>108.0</td>\n",
              "      <td>73.0</td>\n",
              "      <td>14.0</td>\n",
              "      <td>0</td>\n",
              "    </tr>\n",
              "    <tr>\n",
              "      <th>1</th>\n",
              "      <td>122.0</td>\n",
              "      <td>25.0</td>\n",
              "      <td>8.0</td>\n",
              "      <td>0</td>\n",
              "    </tr>\n",
              "    <tr>\n",
              "      <th>2</th>\n",
              "      <td>133.0</td>\n",
              "      <td>44.0</td>\n",
              "      <td>36.0</td>\n",
              "      <td>1</td>\n",
              "    </tr>\n",
              "    <tr>\n",
              "      <th>3</th>\n",
              "      <td>137.0</td>\n",
              "      <td>40.0</td>\n",
              "      <td>47.0</td>\n",
              "      <td>1</td>\n",
              "    </tr>\n",
              "    <tr>\n",
              "      <th>4</th>\n",
              "      <td>91.0</td>\n",
              "      <td>27.0</td>\n",
              "      <td>17.0</td>\n",
              "      <td>2</td>\n",
              "    </tr>\n",
              "    <tr>\n",
              "      <th>5</th>\n",
              "      <td>100.0</td>\n",
              "      <td>29.0</td>\n",
              "      <td>59.0</td>\n",
              "      <td>2</td>\n",
              "    </tr>\n",
              "    <tr>\n",
              "      <th>6</th>\n",
              "      <td>115.0</td>\n",
              "      <td>29.0</td>\n",
              "      <td>33.0</td>\n",
              "      <td>0</td>\n",
              "    </tr>\n",
              "    <tr>\n",
              "      <th>7</th>\n",
              "      <td>139.0</td>\n",
              "      <td>46.0</td>\n",
              "      <td>34.0</td>\n",
              "      <td>1</td>\n",
              "    </tr>\n",
              "    <tr>\n",
              "      <th>8</th>\n",
              "      <td>99.0</td>\n",
              "      <td>34.0</td>\n",
              "      <td>31.0</td>\n",
              "      <td>1</td>\n",
              "    </tr>\n",
              "    <tr>\n",
              "      <th>9</th>\n",
              "      <td>116.0</td>\n",
              "      <td>32.0</td>\n",
              "      <td>26.0</td>\n",
              "      <td>0</td>\n",
              "    </tr>\n",
              "  </tbody>\n",
              "</table>\n",
              "</div>"
            ],
            "text/plain": [
              "   speed   age  miles  group\n",
              "0  108.0  73.0   14.0      0\n",
              "1  122.0  25.0    8.0      0\n",
              "2  133.0  44.0   36.0      1\n",
              "3  137.0  40.0   47.0      1\n",
              "4   91.0  27.0   17.0      2\n",
              "5  100.0  29.0   59.0      2\n",
              "6  115.0  29.0   33.0      0\n",
              "7  139.0  46.0   34.0      1\n",
              "8   99.0  34.0   31.0      1\n",
              "9  116.0  32.0   26.0      0"
            ]
          },
          "metadata": {
            "tags": []
          },
          "execution_count": 20
        }
      ]
    },
    {
      "metadata": {
        "id": "47ncX00yLX10",
        "colab_type": "code",
        "outputId": "84668477-257c-45a0-aa13-6ce401d603bf",
        "colab": {
          "base_uri": "https://localhost:8080/",
          "height": 359
        }
      },
      "cell_type": "code",
      "source": [
        "# all groups close to 1, all off as they might not add to a big error\n",
        "predictions = pd.DataFrame(autoencoder.predict(samples), columns=[\"speed\",\t\"age\",\t\"miles\",\t\"group\"])\n",
        "predictions"
      ],
      "execution_count": 21,
      "outputs": [
        {
          "output_type": "execute_result",
          "data": {
            "text/html": [
              "<div>\n",
              "<style scoped>\n",
              "    .dataframe tbody tr th:only-of-type {\n",
              "        vertical-align: middle;\n",
              "    }\n",
              "\n",
              "    .dataframe tbody tr th {\n",
              "        vertical-align: top;\n",
              "    }\n",
              "\n",
              "    .dataframe thead th {\n",
              "        text-align: right;\n",
              "    }\n",
              "</style>\n",
              "<table border=\"1\" class=\"dataframe\">\n",
              "  <thead>\n",
              "    <tr style=\"text-align: right;\">\n",
              "      <th></th>\n",
              "      <th>speed</th>\n",
              "      <th>age</th>\n",
              "      <th>miles</th>\n",
              "      <th>group</th>\n",
              "    </tr>\n",
              "  </thead>\n",
              "  <tbody>\n",
              "    <tr>\n",
              "      <th>0</th>\n",
              "      <td>115.295837</td>\n",
              "      <td>42.171185</td>\n",
              "      <td>30.181902</td>\n",
              "      <td>0.865202</td>\n",
              "    </tr>\n",
              "    <tr>\n",
              "      <th>1</th>\n",
              "      <td>110.665154</td>\n",
              "      <td>40.496929</td>\n",
              "      <td>28.900557</td>\n",
              "      <td>0.848639</td>\n",
              "    </tr>\n",
              "    <tr>\n",
              "      <th>2</th>\n",
              "      <td>131.742264</td>\n",
              "      <td>48.117508</td>\n",
              "      <td>34.732746</td>\n",
              "      <td>0.924026</td>\n",
              "    </tr>\n",
              "    <tr>\n",
              "      <th>3</th>\n",
              "      <td>136.230042</td>\n",
              "      <td>49.740093</td>\n",
              "      <td>35.974545</td>\n",
              "      <td>0.940077</td>\n",
              "    </tr>\n",
              "    <tr>\n",
              "      <th>4</th>\n",
              "      <td>88.454628</td>\n",
              "      <td>32.466553</td>\n",
              "      <td>22.754740</td>\n",
              "      <td>0.769199</td>\n",
              "    </tr>\n",
              "    <tr>\n",
              "      <th>5</th>\n",
              "      <td>105.772697</td>\n",
              "      <td>38.728024</td>\n",
              "      <td>27.546778</td>\n",
              "      <td>0.831141</td>\n",
              "    </tr>\n",
              "    <tr>\n",
              "      <th>6</th>\n",
              "      <td>111.836075</td>\n",
              "      <td>40.920284</td>\n",
              "      <td>29.224558</td>\n",
              "      <td>0.852827</td>\n",
              "    </tr>\n",
              "    <tr>\n",
              "      <th>7</th>\n",
              "      <td>136.753357</td>\n",
              "      <td>49.929306</td>\n",
              "      <td>36.119354</td>\n",
              "      <td>0.941949</td>\n",
              "    </tr>\n",
              "    <tr>\n",
              "      <th>8</th>\n",
              "      <td>100.083786</td>\n",
              "      <td>36.671158</td>\n",
              "      <td>25.972614</td>\n",
              "      <td>0.810793</td>\n",
              "    </tr>\n",
              "    <tr>\n",
              "      <th>9</th>\n",
              "      <td>111.985443</td>\n",
              "      <td>40.974289</td>\n",
              "      <td>29.265890</td>\n",
              "      <td>0.853362</td>\n",
              "    </tr>\n",
              "  </tbody>\n",
              "</table>\n",
              "</div>"
            ],
            "text/plain": [
              "        speed        age      miles     group\n",
              "0  115.295837  42.171185  30.181902  0.865202\n",
              "1  110.665154  40.496929  28.900557  0.848639\n",
              "2  131.742264  48.117508  34.732746  0.924026\n",
              "3  136.230042  49.740093  35.974545  0.940077\n",
              "4   88.454628  32.466553  22.754740  0.769199\n",
              "5  105.772697  38.728024  27.546778  0.831141\n",
              "6  111.836075  40.920284  29.224558  0.852827\n",
              "7  136.753357  49.929306  36.119354  0.941949\n",
              "8  100.083786  36.671158  25.972614  0.810793\n",
              "9  111.985443  40.974289  29.265890  0.853362"
            ]
          },
          "metadata": {
            "tags": []
          },
          "execution_count": 21
        }
      ]
    },
    {
      "metadata": {
        "id": "LVfVKutqYabZ",
        "colab_type": "text"
      },
      "cell_type": "markdown",
      "source": [
        "### Let's try normalizing the data first (caution: losses do not compare any more)"
      ]
    },
    {
      "metadata": {
        "id": "jF7y7eMbYaBE",
        "colab_type": "code",
        "outputId": "eae8a353-3982-4730-be24-7ac22362299b",
        "colab": {
          "base_uri": "https://localhost:8080/",
          "height": 204
        }
      },
      "cell_type": "code",
      "source": [
        "df = pd.read_csv('./insurance-customers-1500.csv', sep=';')\n",
        "normalized_df = (df - df.mean()) / df.std()\n",
        "normalized_df.head()"
      ],
      "execution_count": 22,
      "outputs": [
        {
          "output_type": "execute_result",
          "data": {
            "text/html": [
              "<div>\n",
              "<style scoped>\n",
              "    .dataframe tbody tr th:only-of-type {\n",
              "        vertical-align: middle;\n",
              "    }\n",
              "\n",
              "    .dataframe tbody tr th {\n",
              "        vertical-align: top;\n",
              "    }\n",
              "\n",
              "    .dataframe thead th {\n",
              "        text-align: right;\n",
              "    }\n",
              "</style>\n",
              "<table border=\"1\" class=\"dataframe\">\n",
              "  <thead>\n",
              "    <tr style=\"text-align: right;\">\n",
              "      <th></th>\n",
              "      <th>speed</th>\n",
              "      <th>age</th>\n",
              "      <th>miles</th>\n",
              "      <th>group</th>\n",
              "    </tr>\n",
              "  </thead>\n",
              "  <tbody>\n",
              "    <tr>\n",
              "      <th>0</th>\n",
              "      <td>-1.391286</td>\n",
              "      <td>-0.057247</td>\n",
              "      <td>-0.356309</td>\n",
              "      <td>0.001632</td>\n",
              "    </tr>\n",
              "    <tr>\n",
              "      <th>1</th>\n",
              "      <td>-0.255202</td>\n",
              "      <td>0.526510</td>\n",
              "      <td>-0.421879</td>\n",
              "      <td>0.001632</td>\n",
              "    </tr>\n",
              "    <tr>\n",
              "      <th>2</th>\n",
              "      <td>-0.652832</td>\n",
              "      <td>-1.108011</td>\n",
              "      <td>0.233824</td>\n",
              "      <td>-1.222706</td>\n",
              "    </tr>\n",
              "    <tr>\n",
              "      <th>3</th>\n",
              "      <td>-1.448090</td>\n",
              "      <td>-1.166386</td>\n",
              "      <td>-1.339863</td>\n",
              "      <td>1.225971</td>\n",
              "    </tr>\n",
              "    <tr>\n",
              "      <th>4</th>\n",
              "      <td>-0.482419</td>\n",
              "      <td>-0.407502</td>\n",
              "      <td>-0.553020</td>\n",
              "      <td>0.001632</td>\n",
              "    </tr>\n",
              "  </tbody>\n",
              "</table>\n",
              "</div>"
            ],
            "text/plain": [
              "      speed       age     miles     group\n",
              "0 -1.391286 -0.057247 -0.356309  0.001632\n",
              "1 -0.255202  0.526510 -0.421879  0.001632\n",
              "2 -0.652832 -1.108011  0.233824 -1.222706\n",
              "3 -1.448090 -1.166386 -1.339863  1.225971\n",
              "4 -0.482419 -0.407502 -0.553020  0.001632"
            ]
          },
          "metadata": {
            "tags": []
          },
          "execution_count": 22
        }
      ]
    },
    {
      "metadata": {
        "id": "kdvtF1mIZfld",
        "colab_type": "code",
        "outputId": "0768da1c-4c91-4a20-e052-7b643165481b",
        "colab": {
          "base_uri": "https://localhost:8080/",
          "height": 738
        }
      },
      "cell_type": "code",
      "source": [
        "X = normalized_df\n",
        "encoding_dim = 2\n",
        "\n",
        "input_data = Input(shape=(4,))\n",
        "# notice relu\n",
        "encoded = Dense(units=encoding_dim, activation='relu', name=\"encoder\")(input_data)\n",
        "decoded = Dense(units=4, activation='linear', name=\"decoder\")(encoded)\n",
        "\n",
        "autoencoder = Model(inputs=input_data, outputs=decoded)\n",
        "# adam = keras.optimizers.Adam(lr=0.01)\n",
        "adam = keras.optimizers.Adam()\n",
        "autoencoder.compile(optimizer=adam, loss='mse')\n",
        "BATCH_SIZE = 1\n",
        "%time history = autoencoder.fit(X, X, epochs=10, batch_size=BATCH_SIZE, shuffle=True, verbose=1)\n",
        "plt.yscale('log')\n",
        "plt.plot(history.history['loss'])"
      ],
      "execution_count": 23,
      "outputs": [
        {
          "output_type": "stream",
          "text": [
            "Epoch 1/10\n",
            "1500/1500 [==============================] - 5s 4ms/step - loss: 0.9834\n",
            "Epoch 2/10\n",
            "1500/1500 [==============================] - 5s 3ms/step - loss: 0.6479\n",
            "Epoch 3/10\n",
            "1500/1500 [==============================] - 5s 3ms/step - loss: 0.4850\n",
            "Epoch 4/10\n",
            "1500/1500 [==============================] - 5s 3ms/step - loss: 0.4129\n",
            "Epoch 5/10\n",
            "1500/1500 [==============================] - 5s 3ms/step - loss: 0.3820\n",
            "Epoch 6/10\n",
            "1500/1500 [==============================] - 5s 3ms/step - loss: 0.3674\n",
            "Epoch 7/10\n",
            "1500/1500 [==============================] - 5s 3ms/step - loss: 0.3604\n",
            "Epoch 8/10\n",
            "1500/1500 [==============================] - 5s 4ms/step - loss: 0.3567\n",
            "Epoch 9/10\n",
            "1500/1500 [==============================] - 5s 3ms/step - loss: 0.3547\n",
            "Epoch 10/10\n",
            "1500/1500 [==============================] - 5s 3ms/step - loss: 0.3529\n",
            "CPU times: user 1min 3s, sys: 8.66 s, total: 1min 11s\n",
            "Wall time: 51.2 s\n"
          ],
          "name": "stdout"
        },
        {
          "output_type": "execute_result",
          "data": {
            "text/plain": [
              "[<matplotlib.lines.Line2D at 0x7f1a3a8025c0>]"
            ]
          },
          "metadata": {
            "tags": []
          },
          "execution_count": 23
        },
        {
          "output_type": "display_data",
          "data": {
            "image/png": "[encoded data removed]",
            "text/plain": [
              "<Figure size 576x396 with 1 Axes>"
            ]
          },
          "metadata": {
            "tags": []
          }
        }
      ]
    },
    {
      "metadata": {
        "id": "lSbHdeIIaABR",
        "colab_type": "text"
      },
      "cell_type": "markdown",
      "source": [
        "## This makes it very hard to estimate how well we did our job, but we can still plot the embedding\n",
        "\n",
        "Could be interpreted as a fancy version of dimensionality reduction\n"
      ]
    },
    {
      "metadata": {
        "id": "f-7hcm3CatuX",
        "colab_type": "code",
        "colab": {}
      },
      "cell_type": "code",
      "source": [
        "encoder = Model(inputs=input_data, outputs=encoded)\n",
        "latent_representation = encoder.predict(X)"
      ],
      "execution_count": 0,
      "outputs": []
    },
    {
      "metadata": {
        "id": "RXXmDlK9bfbB",
        "colab_type": "code",
        "outputId": "00c2fb9c-d416-4190-ef3a-7f8349a750d6",
        "colab": {
          "base_uri": "https://localhost:8080/",
          "height": 34
        }
      },
      "cell_type": "code",
      "source": [
        "latent_representation.shape"
      ],
      "execution_count": 25,
      "outputs": [
        {
          "output_type": "execute_result",
          "data": {
            "text/plain": [
              "(1500, 2)"
            ]
          },
          "metadata": {
            "tags": []
          },
          "execution_count": 25
        }
      ]
    },
    {
      "metadata": {
        "id": "6E-dAInBhW8K",
        "colab_type": "text"
      },
      "cell_type": "markdown",
      "source": [
        "### Look, ma, clusters"
      ]
    },
    {
      "metadata": {
        "id": "yFONhgUeaILI",
        "colab_type": "code",
        "outputId": "e6fe23d5-aaf9-4cad-ef6d-5624043a638e",
        "colab": {
          "base_uri": "https://localhost:8080/",
          "height": 364
        }
      },
      "cell_type": "code",
      "source": [
        "latent_x = latent_representation[:, 0]\n",
        "latent_y = latent_representation[:, 1]\n",
        "plt.scatter(latent_x, latent_y, alpha=0.5)"
      ],
      "execution_count": 26,
      "outputs": [
        {
          "output_type": "execute_result",
          "data": {
            "text/plain": [
              "<matplotlib.collections.PathCollection at 0x7f1a3a6d78d0>"
            ]
          },
          "metadata": {
            "tags": []
          },
          "execution_count": 26
        },
        {
          "output_type": "display_data",
          "data": {
            "image/png": "[encoded data removed]",
            "text/plain": [
              "<Figure size 576x396 with 1 Axes>"
            ]
          },
          "metadata": {
            "tags": []
          }
        }
      ]
    },
    {
      "metadata": {
        "id": "BMNd3Gi1haQV",
        "colab_type": "text"
      },
      "cell_type": "markdown",
      "source": [
        "### Clusters have actual meaning"
      ]
    },
    {
      "metadata": {
        "id": "qi78Igqaevv1",
        "colab_type": "code",
        "outputId": "080c577d-4459-4cd2-cd62-b47e0f5526fe",
        "colab": {
          "base_uri": "https://localhost:8080/",
          "height": 364
        }
      },
      "cell_type": "code",
      "source": [
        "from matplotlib.colors import ListedColormap\n",
        "\n",
        "# * 0 - red: many accidents\n",
        "# * 1 - green: few or no accidents\n",
        "# * 2 - yellow: in the middle\n",
        "colors = X['group']\n",
        "color_map = ListedColormap(['#AA4444', '#006000', '#EEEE44'])\n",
        "\n",
        "plt.scatter(latent_x, latent_y, alpha=0.5, s=100, marker='o', edgecolors='w', cmap=color_map, c=colors)"
      ],
      "execution_count": 27,
      "outputs": [
        {
          "output_type": "execute_result",
          "data": {
            "text/plain": [
              "<matplotlib.collections.PathCollection at 0x7f1a3a65b9b0>"
            ]
          },
          "metadata": {
            "tags": []
          },
          "execution_count": 27
        },
        {
          "output_type": "display_data",
          "data": {
            "image/png": "[encoded data removed]",
            "text/plain": [
              "<Figure size 576x396 with 1 Axes>"
            ]
          },
          "metadata": {
            "tags": []
          }
        }
      ]
    },
    {
      "metadata": {
        "id": "JHSqR66Acrkt",
        "colab_type": "text"
      },
      "cell_type": "markdown",
      "source": [
        "## But color still was not encoded properly: one-hot"
      ]
    },
    {
      "metadata": {
        "id": "-ZAL5CrMMcFH",
        "colab_type": "code",
        "colab": {}
      },
      "cell_type": "code",
      "source": [
        "from tensorflow.keras.utils import to_categorical\n",
        "\n",
        "df = pd.read_csv('./insurance-customers-1500.csv', sep=';')\n",
        "one_hot_groups = pd.DataFrame(to_categorical(df['group']), columns={'red', 'green', 'yellow'})\n",
        "main = df.drop('group', axis='columns')"
      ],
      "execution_count": 0,
      "outputs": []
    },
    {
      "metadata": {
        "id": "rO5kYRn8Mgto",
        "colab_type": "code",
        "outputId": "ffaa15f2-b75e-4d1d-b6f8-6153ef7605b9",
        "colab": {
          "base_uri": "https://localhost:8080/",
          "height": 204
        }
      },
      "cell_type": "code",
      "source": [
        "main.head()"
      ],
      "execution_count": 29,
      "outputs": [
        {
          "output_type": "execute_result",
          "data": {
            "text/html": [
              "<div>\n",
              "<style scoped>\n",
              "    .dataframe tbody tr th:only-of-type {\n",
              "        vertical-align: middle;\n",
              "    }\n",
              "\n",
              "    .dataframe tbody tr th {\n",
              "        vertical-align: top;\n",
              "    }\n",
              "\n",
              "    .dataframe thead th {\n",
              "        text-align: right;\n",
              "    }\n",
              "</style>\n",
              "<table border=\"1\" class=\"dataframe\">\n",
              "  <thead>\n",
              "    <tr style=\"text-align: right;\">\n",
              "      <th></th>\n",
              "      <th>speed</th>\n",
              "      <th>age</th>\n",
              "      <th>miles</th>\n",
              "    </tr>\n",
              "  </thead>\n",
              "  <tbody>\n",
              "    <tr>\n",
              "      <th>0</th>\n",
              "      <td>98.0</td>\n",
              "      <td>44.0</td>\n",
              "      <td>25.0</td>\n",
              "    </tr>\n",
              "    <tr>\n",
              "      <th>1</th>\n",
              "      <td>118.0</td>\n",
              "      <td>54.0</td>\n",
              "      <td>24.0</td>\n",
              "    </tr>\n",
              "    <tr>\n",
              "      <th>2</th>\n",
              "      <td>111.0</td>\n",
              "      <td>26.0</td>\n",
              "      <td>34.0</td>\n",
              "    </tr>\n",
              "    <tr>\n",
              "      <th>3</th>\n",
              "      <td>97.0</td>\n",
              "      <td>25.0</td>\n",
              "      <td>10.0</td>\n",
              "    </tr>\n",
              "    <tr>\n",
              "      <th>4</th>\n",
              "      <td>114.0</td>\n",
              "      <td>38.0</td>\n",
              "      <td>22.0</td>\n",
              "    </tr>\n",
              "  </tbody>\n",
              "</table>\n",
              "</div>"
            ],
            "text/plain": [
              "   speed   age  miles\n",
              "0   98.0  44.0   25.0\n",
              "1  118.0  54.0   24.0\n",
              "2  111.0  26.0   34.0\n",
              "3   97.0  25.0   10.0\n",
              "4  114.0  38.0   22.0"
            ]
          },
          "metadata": {
            "tags": []
          },
          "execution_count": 29
        }
      ]
    },
    {
      "metadata": {
        "id": "NH_vSxb9iRsP",
        "colab_type": "code",
        "outputId": "c0df2ca5-c363-4970-fdeb-3981cea3a055",
        "colab": {
          "base_uri": "https://localhost:8080/",
          "height": 204
        }
      },
      "cell_type": "code",
      "source": [
        "one_hot_groups.head()"
      ],
      "execution_count": 30,
      "outputs": [
        {
          "output_type": "execute_result",
          "data": {
            "text/html": [
              "<div>\n",
              "<style scoped>\n",
              "    .dataframe tbody tr th:only-of-type {\n",
              "        vertical-align: middle;\n",
              "    }\n",
              "\n",
              "    .dataframe tbody tr th {\n",
              "        vertical-align: top;\n",
              "    }\n",
              "\n",
              "    .dataframe thead th {\n",
              "        text-align: right;\n",
              "    }\n",
              "</style>\n",
              "<table border=\"1\" class=\"dataframe\">\n",
              "  <thead>\n",
              "    <tr style=\"text-align: right;\">\n",
              "      <th></th>\n",
              "      <th>green</th>\n",
              "      <th>red</th>\n",
              "      <th>yellow</th>\n",
              "    </tr>\n",
              "  </thead>\n",
              "  <tbody>\n",
              "    <tr>\n",
              "      <th>0</th>\n",
              "      <td>0.0</td>\n",
              "      <td>1.0</td>\n",
              "      <td>0.0</td>\n",
              "    </tr>\n",
              "    <tr>\n",
              "      <th>1</th>\n",
              "      <td>0.0</td>\n",
              "      <td>1.0</td>\n",
              "      <td>0.0</td>\n",
              "    </tr>\n",
              "    <tr>\n",
              "      <th>2</th>\n",
              "      <td>1.0</td>\n",
              "      <td>0.0</td>\n",
              "      <td>0.0</td>\n",
              "    </tr>\n",
              "    <tr>\n",
              "      <th>3</th>\n",
              "      <td>0.0</td>\n",
              "      <td>0.0</td>\n",
              "      <td>1.0</td>\n",
              "    </tr>\n",
              "    <tr>\n",
              "      <th>4</th>\n",
              "      <td>0.0</td>\n",
              "      <td>1.0</td>\n",
              "      <td>0.0</td>\n",
              "    </tr>\n",
              "  </tbody>\n",
              "</table>\n",
              "</div>"
            ],
            "text/plain": [
              "   green  red  yellow\n",
              "0    0.0  1.0     0.0\n",
              "1    0.0  1.0     0.0\n",
              "2    1.0  0.0     0.0\n",
              "3    0.0  0.0     1.0\n",
              "4    0.0  1.0     0.0"
            ]
          },
          "metadata": {
            "tags": []
          },
          "execution_count": 30
        }
      ]
    },
    {
      "metadata": {
        "id": "OK4_Z2DakNRe",
        "colab_type": "text"
      },
      "cell_type": "markdown",
      "source": [
        "### Challenge: we could feed in both parts in a united way, but they need different loss functions\n",
        "\n",
        "* write a custom loss function that does this and balances the value: https://keras.io/losses/\n",
        "* create multi-in/out model that makes this a little bit more transparent: https://keras.io/getting-started/functional-api-guide/#multi-input-and-multi-output-models"
      ]
    },
    {
      "metadata": {
        "id": "6_Ljs5_zj4yO",
        "colab_type": "code",
        "colab": {
          "base_uri": "https://localhost:8080/",
          "height": 425
        },
        "outputId": "28a18245-9cf6-45e7-f89b-55ebf6513700"
      },
      "cell_type": "code",
      "source": [
        "from tensorflow.keras.layers import concatenate, average, add\n",
        "\n",
        "# first multi in\n",
        "main_input = Input(shape=(3,), name='main_input')\n",
        "group_input = Input(shape=(3,), name='group_input')\n",
        "\n",
        "# hopefully this balances out inputs to same scale\n",
        "encoded_main = Dense(units=2, activation='relu', name=\"main_encoder\")(main_input)\n",
        "encoded_group = Dense(units=2, activation='relu', name=\"group_encoder\")(group_input)\n",
        "\n",
        "# latent representation\n",
        "\n",
        "merged = concatenate([encoded_main, encoded_group])\n",
        "# this might work as well\n",
        "# merged = average([encoded_main, encoded_group])\n",
        "\n",
        "# the effective latent encoding\n",
        "encoding_dim = 2\n",
        "encoded = Dense(units=encoding_dim, activation='relu', name=\"encoder\")(merged)\n",
        "\n",
        "# then multi out\n",
        "\n",
        "main_output = Dense(units=3, activation='linear', name=\"main_output\")(encoded)\n",
        "group_output = Dense(units=3, activation='softmax', name=\"group_output\")(encoded)\n",
        "\n",
        "autoencoder = Model(inputs=[main_input, group_input], outputs=[main_output, group_output])\n",
        "\n",
        "adam = keras.optimizers.Adam(lr=0.01)\n",
        "# adam = keras.optimizers.Adam()\n",
        "\n",
        "autoencoder.compile(optimizer=adam,\n",
        "              loss={'main_output': 'mse', 'group_output': 'categorical_crossentropy'},\n",
        "              loss_weights={'main_output': 1., 'group_output': 5000.})\n",
        "\n",
        "autoencoder.summary()"
      ],
      "execution_count": 60,
      "outputs": [
        {
          "output_type": "stream",
          "text": [
            "__________________________________________________________________________________________________\n",
            "Layer (type)                    Output Shape         Param #     Connected to                     \n",
            "==================================================================================================\n",
            "main_input (InputLayer)         (None, 3)            0                                            \n",
            "__________________________________________________________________________________________________\n",
            "group_input (InputLayer)        (None, 3)            0                                            \n",
            "__________________________________________________________________________________________________\n",
            "main_encoder (Dense)            (None, 2)            8           main_input[0][0]                 \n",
            "__________________________________________________________________________________________________\n",
            "group_encoder (Dense)           (None, 2)            8           group_input[0][0]                \n",
            "__________________________________________________________________________________________________\n",
            "concatenate_1 (Concatenate)     (None, 4)            0           main_encoder[0][0]               \n",
            "                                                                 group_encoder[0][0]              \n",
            "__________________________________________________________________________________________________\n",
            "encoder (Dense)                 (None, 2)            10          concatenate_1[0][0]              \n",
            "__________________________________________________________________________________________________\n",
            "main_output (Dense)             (None, 3)            9           encoder[0][0]                    \n",
            "__________________________________________________________________________________________________\n",
            "group_output (Dense)            (None, 3)            9           encoder[0][0]                    \n",
            "==================================================================================================\n",
            "Total params: 44\n",
            "Trainable params: 44\n",
            "Non-trainable params: 0\n",
            "__________________________________________________________________________________________________\n"
          ],
          "name": "stdout"
        }
      ]
    },
    {
      "metadata": {
        "id": "RyM46xtQuvmw",
        "colab_type": "code",
        "outputId": "d22abbd9-cdae-47ab-9ea3-aa3e35f3b57e",
        "colab": {
          "base_uri": "https://localhost:8080/",
          "height": 391
        }
      },
      "cell_type": "code",
      "source": [
        "BATCH_SIZE = 1\n",
        "EPOCHS=10\n",
        "\n",
        "%time history = autoencoder.fit(\\\n",
        "    x={'main_input': main, 'group_input': one_hot_groups},\\\n",
        "    y={'main_output': main, 'group_output': one_hot_groups},\\\n",
        "    epochs=EPOCHS, batch_size=BATCH_SIZE, shuffle=True, verbose=1)"
      ],
      "execution_count": 61,
      "outputs": [
        {
          "output_type": "stream",
          "text": [
            "Epoch 1/10\n",
            "1500/1500 [==============================] - 11s 7ms/step - loss: 8817.3581 - main_output_loss: 5129.8288 - group_output_loss: 0.7375\n",
            "Epoch 2/10\n",
            "1500/1500 [==============================] - 10s 7ms/step - loss: 4325.2636 - main_output_loss: 2798.2440 - group_output_loss: 0.3054\n",
            "Epoch 3/10\n",
            "1500/1500 [==============================] - 10s 7ms/step - loss: 2122.0534 - main_output_loss: 1822.4742 - group_output_loss: 0.0599\n",
            "Epoch 4/10\n",
            "1500/1500 [==============================] - 10s 7ms/step - loss: 1645.1927 - main_output_loss: 1496.1352 - group_output_loss: 0.0298\n",
            "Epoch 5/10\n",
            "1500/1500 [==============================] - 10s 7ms/step - loss: 1329.5706 - main_output_loss: 1246.9154 - group_output_loss: 0.0165\n",
            "Epoch 6/10\n",
            "1500/1500 [==============================] - 10s 7ms/step - loss: 1091.4763 - main_output_loss: 1041.0730 - group_output_loss: 0.0101\n",
            "Epoch 7/10\n",
            "1500/1500 [==============================] - 10s 7ms/step - loss: 905.4914 - main_output_loss: 874.2242 - group_output_loss: 0.0063\n",
            "Epoch 8/10\n",
            "1500/1500 [==============================] - 10s 7ms/step - loss: 756.6660 - main_output_loss: 737.3013 - group_output_loss: 0.0039\n",
            "Epoch 9/10\n",
            "1500/1500 [==============================] - 10s 7ms/step - loss: 637.6918 - main_output_loss: 625.7602 - group_output_loss: 0.0024\n",
            "Epoch 10/10\n",
            "1500/1500 [==============================] - 10s 7ms/step - loss: 541.6061 - main_output_loss: 534.1949 - group_output_loss: 0.0015\n",
            "CPU times: user 2min 10s, sys: 17 s, total: 2min 27s\n",
            "Wall time: 1min 44s\n"
          ],
          "name": "stdout"
        }
      ]
    },
    {
      "metadata": {
        "id": "OyWsH4OKPrth",
        "colab_type": "code",
        "outputId": "1774fc13-b457-468b-b192-0420ebde07ba",
        "colab": {
          "base_uri": "https://localhost:8080/",
          "height": 378
        }
      },
      "cell_type": "code",
      "source": [
        "plt.ylabel('loss')\n",
        "plt.xlabel('epoch')\n",
        "plt.yscale('log')\n",
        "\n",
        "plt.plot(history.history['loss'], 'b')\n",
        "plt.plot(history.history['main_output_loss'], 'r')\n",
        "plt.plot(history.history['group_output_loss'], 'g')\n",
        "\n",
        "plt.legend(['combined loss', 'main loss', 'group loss'], loc='upper right')\n"
      ],
      "execution_count": 62,
      "outputs": [
        {
          "output_type": "execute_result",
          "data": {
            "text/plain": [
              "<matplotlib.legend.Legend at 0x7f1a380249b0>"
            ]
          },
          "metadata": {
            "tags": []
          },
          "execution_count": 62
        },
        {
          "output_type": "display_data",
          "data": {
            "image/png": "[encoded data removed]",
            "text/plain": [
              "<Figure size 576x396 with 1 Axes>"
            ]
          },
          "metadata": {
            "tags": []
          }
        }
      ]
    },
    {
      "metadata": {
        "id": "eS9g8LMp2vYZ",
        "colab_type": "code",
        "colab": {}
      },
      "cell_type": "code",
      "source": [
        "samples = df.sample(10).reset_index(drop=True)\n",
        "main_samples = samples.drop('group', axis='columns')\n",
        "group_samples = pd.DataFrame(to_categorical(samples['group']), columns={'red', 'green', 'yellow'})"
      ],
      "execution_count": 0,
      "outputs": []
    },
    {
      "metadata": {
        "id": "HcE-2Zjy3ulb",
        "colab_type": "code",
        "outputId": "4e3af83c-4165-43c2-8a4b-633226e08292",
        "colab": {
          "base_uri": "https://localhost:8080/",
          "height": 359
        }
      },
      "cell_type": "code",
      "source": [
        "merged_samples = pd.concat([main_samples, group_samples], axis=1)\n",
        "merged_samples"
      ],
      "execution_count": 64,
      "outputs": [
        {
          "output_type": "execute_result",
          "data": {
            "text/html": [
              "<div>\n",
              "<style scoped>\n",
              "    .dataframe tbody tr th:only-of-type {\n",
              "        vertical-align: middle;\n",
              "    }\n",
              "\n",
              "    .dataframe tbody tr th {\n",
              "        vertical-align: top;\n",
              "    }\n",
              "\n",
              "    .dataframe thead th {\n",
              "        text-align: right;\n",
              "    }\n",
              "</style>\n",
              "<table border=\"1\" class=\"dataframe\">\n",
              "  <thead>\n",
              "    <tr style=\"text-align: right;\">\n",
              "      <th></th>\n",
              "      <th>speed</th>\n",
              "      <th>age</th>\n",
              "      <th>miles</th>\n",
              "      <th>green</th>\n",
              "      <th>red</th>\n",
              "      <th>yellow</th>\n",
              "    </tr>\n",
              "  </thead>\n",
              "  <tbody>\n",
              "    <tr>\n",
              "      <th>0</th>\n",
              "      <td>138.0</td>\n",
              "      <td>49.0</td>\n",
              "      <td>1.0</td>\n",
              "      <td>0.0</td>\n",
              "      <td>0.0</td>\n",
              "      <td>1.0</td>\n",
              "    </tr>\n",
              "    <tr>\n",
              "      <th>1</th>\n",
              "      <td>95.0</td>\n",
              "      <td>21.0</td>\n",
              "      <td>20.0</td>\n",
              "      <td>0.0</td>\n",
              "      <td>0.0</td>\n",
              "      <td>1.0</td>\n",
              "    </tr>\n",
              "    <tr>\n",
              "      <th>2</th>\n",
              "      <td>153.0</td>\n",
              "      <td>37.0</td>\n",
              "      <td>53.0</td>\n",
              "      <td>1.0</td>\n",
              "      <td>0.0</td>\n",
              "      <td>0.0</td>\n",
              "    </tr>\n",
              "    <tr>\n",
              "      <th>3</th>\n",
              "      <td>103.0</td>\n",
              "      <td>56.0</td>\n",
              "      <td>15.0</td>\n",
              "      <td>0.0</td>\n",
              "      <td>0.0</td>\n",
              "      <td>1.0</td>\n",
              "    </tr>\n",
              "    <tr>\n",
              "      <th>4</th>\n",
              "      <td>98.0</td>\n",
              "      <td>29.0</td>\n",
              "      <td>8.0</td>\n",
              "      <td>0.0</td>\n",
              "      <td>0.0</td>\n",
              "      <td>1.0</td>\n",
              "    </tr>\n",
              "    <tr>\n",
              "      <th>5</th>\n",
              "      <td>116.0</td>\n",
              "      <td>56.0</td>\n",
              "      <td>38.0</td>\n",
              "      <td>0.0</td>\n",
              "      <td>0.0</td>\n",
              "      <td>1.0</td>\n",
              "    </tr>\n",
              "    <tr>\n",
              "      <th>6</th>\n",
              "      <td>116.0</td>\n",
              "      <td>76.0</td>\n",
              "      <td>21.0</td>\n",
              "      <td>1.0</td>\n",
              "      <td>0.0</td>\n",
              "      <td>0.0</td>\n",
              "    </tr>\n",
              "    <tr>\n",
              "      <th>7</th>\n",
              "      <td>120.0</td>\n",
              "      <td>55.0</td>\n",
              "      <td>60.0</td>\n",
              "      <td>0.0</td>\n",
              "      <td>0.0</td>\n",
              "      <td>1.0</td>\n",
              "    </tr>\n",
              "    <tr>\n",
              "      <th>8</th>\n",
              "      <td>122.0</td>\n",
              "      <td>70.0</td>\n",
              "      <td>23.0</td>\n",
              "      <td>1.0</td>\n",
              "      <td>0.0</td>\n",
              "      <td>0.0</td>\n",
              "    </tr>\n",
              "    <tr>\n",
              "      <th>9</th>\n",
              "      <td>118.0</td>\n",
              "      <td>28.0</td>\n",
              "      <td>1.0</td>\n",
              "      <td>0.0</td>\n",
              "      <td>1.0</td>\n",
              "      <td>0.0</td>\n",
              "    </tr>\n",
              "  </tbody>\n",
              "</table>\n",
              "</div>"
            ],
            "text/plain": [
              "   speed   age  miles  green  red  yellow\n",
              "0  138.0  49.0    1.0    0.0  0.0     1.0\n",
              "1   95.0  21.0   20.0    0.0  0.0     1.0\n",
              "2  153.0  37.0   53.0    1.0  0.0     0.0\n",
              "3  103.0  56.0   15.0    0.0  0.0     1.0\n",
              "4   98.0  29.0    8.0    0.0  0.0     1.0\n",
              "5  116.0  56.0   38.0    0.0  0.0     1.0\n",
              "6  116.0  76.0   21.0    1.0  0.0     0.0\n",
              "7  120.0  55.0   60.0    0.0  0.0     1.0\n",
              "8  122.0  70.0   23.0    1.0  0.0     0.0\n",
              "9  118.0  28.0    1.0    0.0  1.0     0.0"
            ]
          },
          "metadata": {
            "tags": []
          },
          "execution_count": 64
        }
      ]
    },
    {
      "metadata": {
        "id": "aPNanIcRQ6s2",
        "colab_type": "code",
        "outputId": "58e67405-dde7-49e6-c4b2-604aadd0689f",
        "colab": {
          "base_uri": "https://localhost:8080/",
          "height": 357
        }
      },
      "cell_type": "code",
      "source": [
        "autoencoder.predict([main_samples, group_samples])"
      ],
      "execution_count": 65,
      "outputs": [
        {
          "output_type": "execute_result",
          "data": {
            "text/plain": [
              "[array([[127.27589 ,  44.12092 ,  29.585054],\n",
              "        [127.27589 ,  44.12092 ,  29.585054],\n",
              "        [ 87.250755,  43.272404,  30.88058 ],\n",
              "        [127.27589 ,  44.12092 ,  29.585054],\n",
              "        [127.27589 ,  44.12092 ,  29.585054],\n",
              "        [127.27589 ,  44.12092 ,  29.585054],\n",
              "        [ 87.250755,  43.272404,  30.88058 ],\n",
              "        [127.27589 ,  44.12092 ,  29.585054],\n",
              "        [ 87.250755,  43.272404,  30.88058 ],\n",
              "        [110.25412 ,  43.760067,  30.136011]], dtype=float32),\n",
              " array([[1.14254470e-14, 2.27611419e-03, 9.97723877e-01],\n",
              "        [1.14254470e-14, 2.27611419e-03, 9.97723877e-01],\n",
              "        [9.99747336e-01, 2.52694823e-04, 1.32577495e-14],\n",
              "        [1.14254470e-14, 2.27611419e-03, 9.97723877e-01],\n",
              "        [1.14254470e-14, 2.27611419e-03, 9.97723877e-01],\n",
              "        [1.14254470e-14, 2.27611419e-03, 9.97723877e-01],\n",
              "        [9.99747336e-01, 2.52694823e-04, 1.32577495e-14],\n",
              "        [1.14254470e-14, 2.27611419e-03, 9.97723877e-01],\n",
              "        [9.99747336e-01, 2.52694823e-04, 1.32577495e-14],\n",
              "        [1.08455533e-05, 9.98590171e-01, 1.39894208e-03]], dtype=float32)]"
            ]
          },
          "metadata": {
            "tags": []
          },
          "execution_count": 65
        }
      ]
    },
    {
      "metadata": {
        "id": "RmCJjYBDQ7IO",
        "colab_type": "code",
        "colab": {}
      },
      "cell_type": "code",
      "source": [
        "encoder = Model(inputs=[main_input, group_input], outputs=encoded)\n",
        "latent_representation = encoder.predict(x={'main_input': main, 'group_input': one_hot_groups})"
      ],
      "execution_count": 0,
      "outputs": []
    },
    {
      "metadata": {
        "id": "XKvu_R2Q5mH7",
        "colab_type": "code",
        "outputId": "03d6af53-296f-4fdd-efdb-817fb72eea79",
        "colab": {
          "base_uri": "https://localhost:8080/",
          "height": 34
        }
      },
      "cell_type": "code",
      "source": [
        "latent_representation.shape"
      ],
      "execution_count": 67,
      "outputs": [
        {
          "output_type": "execute_result",
          "data": {
            "text/plain": [
              "(1500, 2)"
            ]
          },
          "metadata": {
            "tags": []
          },
          "execution_count": 67
        }
      ]
    },
    {
      "metadata": {
        "id": "BZ5JG_B65plH",
        "colab_type": "code",
        "outputId": "d11dfe28-eaa9-473b-f655-55cf5cb7fff9",
        "colab": {
          "base_uri": "https://localhost:8080/",
          "height": 364
        }
      },
      "cell_type": "code",
      "source": [
        "from matplotlib.colors import ListedColormap\n",
        "\n",
        "# * 0 - red: many accidents\n",
        "# * 1 - green: few or no accidents\n",
        "# * 2 - yellow: in the middle\n",
        "colors = X['group']\n",
        "color_map = ListedColormap(['#AA4444', '#006000', '#EEEE44'])\n",
        "\n",
        "latent_x = latent_representation[:, 0]\n",
        "latent_y = latent_representation[:, 1]\n",
        "\n",
        "plt.scatter(latent_x, latent_y, alpha=0.5, s=100, marker='o', edgecolors='w', cmap=color_map, c=colors)"
      ],
      "execution_count": 68,
      "outputs": [
        {
          "output_type": "execute_result",
          "data": {
            "text/plain": [
              "<matplotlib.collections.PathCollection at 0x7f1a37d36470>"
            ]
          },
          "metadata": {
            "tags": []
          },
          "execution_count": 68
        },
        {
          "output_type": "display_data",
          "data": {
            "image/png": "[encoded data removed]",
            "text/plain": [
              "<Figure size 576x396 with 1 Axes>"
            ]
          },
          "metadata": {
            "tags": []
          }
        }
      ]
    },
    {
      "metadata": {
        "id": "vzag69Ab7sDo",
        "colab_type": "text"
      },
      "cell_type": "markdown",
      "source": [
        "### What a funny result: trained to (sometims almost) perfectly reproduce the groups, but not much of anything else\n",
        "\n",
        "quite obviously we ware emphasizing the group loss way too much"
      ]
    },
    {
      "metadata": {
        "id": "we2ONI5pBR8R",
        "colab_type": "text"
      },
      "cell_type": "markdown",
      "source": [
        "## Making results more stable\n",
        "\n",
        "* when you visualize latent spaces they should not change much when re-training or fitting additional data points\n",
        "* when working with autoencoders or embeddings there are two ways to make that happen\n",
        "  1. save model, do not retrain from scratch and only fit new data points with low learning rate\n",
        "  1. save output from embedding and keep new latent space similar by adding to the loss function"
      ]
    },
    {
      "metadata": {
        "id": "D0r202JoHa-K",
        "colab_type": "text"
      },
      "cell_type": "markdown",
      "source": [
        "### Option I: Saving and reloading model, retrain\n",
        "* https://keras.io/getting-started/faq/#how-can-i-save-a-keras-model"
      ]
    },
    {
      "metadata": {
        "id": "TOP4T2JJ562u",
        "colab_type": "code",
        "colab": {}
      },
      "cell_type": "code",
      "source": [
        "# save complete model\n",
        "autoencoder.save('autoencoder-v1.h5')\n",
        "del autoencoder"
      ],
      "execution_count": 0,
      "outputs": []
    },
    {
      "metadata": {
        "id": "zNdZeHxtEh_k",
        "colab_type": "code",
        "colab": {}
      },
      "cell_type": "code",
      "source": [
        "# later...\n",
        "from tensorflow.keras.models import load_model\n",
        "autoencoder = load_model('autoencoder-v1.h5')"
      ],
      "execution_count": 0,
      "outputs": []
    },
    {
      "metadata": {
        "id": "PjZwKc7NFDRO",
        "colab_type": "code",
        "colab": {}
      },
      "cell_type": "code",
      "source": [
        "main_input = autoencoder.get_layer('main_input').input\n",
        "group_input = autoencoder.get_layer('group_input').input\n",
        "encode = autoencoder.get_layer('encoder').output"
      ],
      "execution_count": 0,
      "outputs": []
    },
    {
      "metadata": {
        "id": "PxUGaN8gF3ss",
        "colab_type": "code",
        "colab": {}
      },
      "cell_type": "code",
      "source": [
        "encoder = Model(inputs=[main_input, group_input], outputs=encode)"
      ],
      "execution_count": 0,
      "outputs": []
    },
    {
      "metadata": {
        "id": "J1o3QDDZExNV",
        "colab_type": "code",
        "colab": {
          "base_uri": "https://localhost:8080/",
          "height": 364
        },
        "outputId": "00087834-695e-454f-f4ac-f4c1bdd4af5b"
      },
      "cell_type": "code",
      "source": [
        "latent_representation = encoder.predict(x={'main_input': main, 'group_input': one_hot_groups})\n",
        "colors = X['group']\n",
        "color_map = ListedColormap(['#AA4444', '#006000', '#EEEE44'])\n",
        "\n",
        "latent_x = latent_representation[:, 0]\n",
        "latent_y = latent_representation[:, 1]\n",
        "\n",
        "plt.scatter(latent_x, latent_y, alpha=0.5, s=100, marker='o', edgecolors='w', cmap=color_map, c=colors)"
      ],
      "execution_count": 73,
      "outputs": [
        {
          "output_type": "execute_result",
          "data": {
            "text/plain": [
              "<matplotlib.collections.PathCollection at 0x7f1a373c47f0>"
            ]
          },
          "metadata": {
            "tags": []
          },
          "execution_count": 73
        },
        {
          "output_type": "display_data",
          "data": {
            "image/png": "[encoded data removed]",
            "text/plain": [
              "<Figure size 576x396 with 1 Axes>"
            ]
          },
          "metadata": {
            "tags": []
          }
        }
      ]
    },
    {
      "metadata": {
        "id": "F_2V7ucrQxs_",
        "colab_type": "text"
      },
      "cell_type": "markdown",
      "source": [
        "### Using new dataset"
      ]
    },
    {
      "metadata": {
        "id": "okdb0cOxFlQT",
        "colab_type": "code",
        "colab": {
          "base_uri": "https://localhost:8080/",
          "height": 68
        },
        "outputId": "b5bfd7bc-7bb4-4974-9bdb-053b8a3e6972"
      },
      "cell_type": "code",
      "source": [
        "!curl -O https://raw.githubusercontent.com/DJCordhose/deep-learning-crash-course-notebooks/master/data/insurance-customers-300.csv"
      ],
      "execution_count": 74,
      "outputs": [
        {
          "output_type": "stream",
          "text": [
            "  % Total    % Received % Xferd  Average Speed   Time    Time     Time  Current\n",
            "                                 Dload  Upload   Total   Spent    Left  Speed\n",
            "\r  0     0    0     0    0     0      0      0 --:--:-- --:--:-- --:--:--     0\r100  5376  100  5376    0     0  28903      0 --:--:-- --:--:-- --:--:-- 28903\n"
          ],
          "name": "stdout"
        }
      ]
    },
    {
      "metadata": {
        "id": "ci9wYJ2jL9WP",
        "colab_type": "code",
        "colab": {}
      },
      "cell_type": "code",
      "source": [
        "import pandas as pd\n",
        "\n",
        "new_df = pd.read_csv('./insurance-customers-300.csv', sep=';')\n",
        "new_one_hot_groups = pd.DataFrame(to_categorical(new_df['group']), columns={'red', 'green', 'yellow'})\n",
        "new_main = new_df.drop('group', axis='columns')"
      ],
      "execution_count": 0,
      "outputs": []
    },
    {
      "metadata": {
        "id": "3B4O_w8cNYIU",
        "colab_type": "code",
        "colab": {
          "base_uri": "https://localhost:8080/",
          "height": 204
        },
        "outputId": "a357b62e-0125-45f3-a79c-e702c99e5942"
      },
      "cell_type": "code",
      "source": [
        "new_main.head()"
      ],
      "execution_count": 76,
      "outputs": [
        {
          "output_type": "execute_result",
          "data": {
            "text/html": [
              "<div>\n",
              "<style scoped>\n",
              "    .dataframe tbody tr th:only-of-type {\n",
              "        vertical-align: middle;\n",
              "    }\n",
              "\n",
              "    .dataframe tbody tr th {\n",
              "        vertical-align: top;\n",
              "    }\n",
              "\n",
              "    .dataframe thead th {\n",
              "        text-align: right;\n",
              "    }\n",
              "</style>\n",
              "<table border=\"1\" class=\"dataframe\">\n",
              "  <thead>\n",
              "    <tr style=\"text-align: right;\">\n",
              "      <th></th>\n",
              "      <th>speed</th>\n",
              "      <th>age</th>\n",
              "      <th>miles</th>\n",
              "    </tr>\n",
              "  </thead>\n",
              "  <tbody>\n",
              "    <tr>\n",
              "      <th>0</th>\n",
              "      <td>117.0</td>\n",
              "      <td>41.0</td>\n",
              "      <td>5.0</td>\n",
              "    </tr>\n",
              "    <tr>\n",
              "      <th>1</th>\n",
              "      <td>108.0</td>\n",
              "      <td>18.0</td>\n",
              "      <td>15.0</td>\n",
              "    </tr>\n",
              "    <tr>\n",
              "      <th>2</th>\n",
              "      <td>107.0</td>\n",
              "      <td>28.0</td>\n",
              "      <td>14.0</td>\n",
              "    </tr>\n",
              "    <tr>\n",
              "      <th>3</th>\n",
              "      <td>111.0</td>\n",
              "      <td>43.0</td>\n",
              "      <td>62.0</td>\n",
              "    </tr>\n",
              "    <tr>\n",
              "      <th>4</th>\n",
              "      <td>129.0</td>\n",
              "      <td>36.0</td>\n",
              "      <td>42.0</td>\n",
              "    </tr>\n",
              "  </tbody>\n",
              "</table>\n",
              "</div>"
            ],
            "text/plain": [
              "   speed   age  miles\n",
              "0  117.0  41.0    5.0\n",
              "1  108.0  18.0   15.0\n",
              "2  107.0  28.0   14.0\n",
              "3  111.0  43.0   62.0\n",
              "4  129.0  36.0   42.0"
            ]
          },
          "metadata": {
            "tags": []
          },
          "execution_count": 76
        }
      ]
    },
    {
      "metadata": {
        "id": "43lijJ-oNaYm",
        "colab_type": "code",
        "colab": {
          "base_uri": "https://localhost:8080/",
          "height": 204
        },
        "outputId": "3fab991c-eb7b-4729-b7a8-d8dde9db66f0"
      },
      "cell_type": "code",
      "source": [
        "new_one_hot_groups.head()"
      ],
      "execution_count": 77,
      "outputs": [
        {
          "output_type": "execute_result",
          "data": {
            "text/html": [
              "<div>\n",
              "<style scoped>\n",
              "    .dataframe tbody tr th:only-of-type {\n",
              "        vertical-align: middle;\n",
              "    }\n",
              "\n",
              "    .dataframe tbody tr th {\n",
              "        vertical-align: top;\n",
              "    }\n",
              "\n",
              "    .dataframe thead th {\n",
              "        text-align: right;\n",
              "    }\n",
              "</style>\n",
              "<table border=\"1\" class=\"dataframe\">\n",
              "  <thead>\n",
              "    <tr style=\"text-align: right;\">\n",
              "      <th></th>\n",
              "      <th>green</th>\n",
              "      <th>red</th>\n",
              "      <th>yellow</th>\n",
              "    </tr>\n",
              "  </thead>\n",
              "  <tbody>\n",
              "    <tr>\n",
              "      <th>0</th>\n",
              "      <td>0.0</td>\n",
              "      <td>1.0</td>\n",
              "      <td>0.0</td>\n",
              "    </tr>\n",
              "    <tr>\n",
              "      <th>1</th>\n",
              "      <td>0.0</td>\n",
              "      <td>1.0</td>\n",
              "      <td>0.0</td>\n",
              "    </tr>\n",
              "    <tr>\n",
              "      <th>2</th>\n",
              "      <td>0.0</td>\n",
              "      <td>0.0</td>\n",
              "      <td>1.0</td>\n",
              "    </tr>\n",
              "    <tr>\n",
              "      <th>3</th>\n",
              "      <td>0.0</td>\n",
              "      <td>0.0</td>\n",
              "      <td>1.0</td>\n",
              "    </tr>\n",
              "    <tr>\n",
              "      <th>4</th>\n",
              "      <td>1.0</td>\n",
              "      <td>0.0</td>\n",
              "      <td>0.0</td>\n",
              "    </tr>\n",
              "  </tbody>\n",
              "</table>\n",
              "</div>"
            ],
            "text/plain": [
              "   green  red  yellow\n",
              "0    0.0  1.0     0.0\n",
              "1    0.0  1.0     0.0\n",
              "2    0.0  0.0     1.0\n",
              "3    0.0  0.0     1.0\n",
              "4    1.0  0.0     0.0"
            ]
          },
          "metadata": {
            "tags": []
          },
          "execution_count": 77
        }
      ]
    },
    {
      "metadata": {
        "id": "7HdhJN2fMH6-",
        "colab_type": "code",
        "colab": {
          "base_uri": "https://localhost:8080/",
          "height": 391
        },
        "outputId": "190911b0-b7e4-4271-c0a3-f8161fedd468"
      },
      "cell_type": "code",
      "source": [
        "# adam = keras.optimizers.Adam()\n",
        "# even this high learning rate can not break it (moves it quite a bit, but still same overall shape)\n",
        "adam = keras.optimizers.Adam(lr=0.01)\n",
        "\n",
        "autoencoder.compile(optimizer=adam,\n",
        "              loss={'main_output': 'mse', 'group_output': 'categorical_crossentropy'},\n",
        "              loss_weights={'main_output': 1., 'group_output': 5000.})\n",
        "\n",
        "BATCH_SIZE = 1\n",
        "EPOCHS=10\n",
        "\n",
        "%time history = autoencoder.fit(\\\n",
        "    x={'main_input': new_main, 'group_input': new_one_hot_groups},\\\n",
        "    y={'main_output': new_main, 'group_output': new_one_hot_groups},\\\n",
        "    epochs=EPOCHS, batch_size=BATCH_SIZE, shuffle=True, verbose=1)\n"
      ],
      "execution_count": 84,
      "outputs": [
        {
          "output_type": "stream",
          "text": [
            "Epoch 1/10\n",
            "300/300 [==============================] - 3s 10ms/step - loss: 484.8726 - main_output_loss: 479.1427 - group_output_loss: 0.0011\n",
            "Epoch 2/10\n",
            "300/300 [==============================] - 2s 7ms/step - loss: 468.1991 - main_output_loss: 463.6383 - group_output_loss: 9.1215e-04\n",
            "Epoch 3/10\n",
            "300/300 [==============================] - 2s 7ms/step - loss: 453.1287 - main_output_loss: 448.8594 - group_output_loss: 8.5386e-04\n",
            "Epoch 4/10\n",
            "300/300 [==============================] - 2s 7ms/step - loss: 439.4036 - main_output_loss: 435.9194 - group_output_loss: 6.9684e-04\n",
            "Epoch 5/10\n",
            "300/300 [==============================] - 2s 7ms/step - loss: 426.6812 - main_output_loss: 423.1446 - group_output_loss: 7.0733e-04\n",
            "Epoch 6/10\n",
            "300/300 [==============================] - 2s 7ms/step - loss: 414.4767 - main_output_loss: 411.7369 - group_output_loss: 5.4796e-04\n",
            "Epoch 7/10\n",
            "300/300 [==============================] - 2s 7ms/step - loss: 402.7761 - main_output_loss: 400.2125 - group_output_loss: 5.1272e-04\n",
            "Epoch 8/10\n",
            "300/300 [==============================] - 2s 7ms/step - loss: 392.1910 - main_output_loss: 389.7960 - group_output_loss: 4.7902e-04\n",
            "Epoch 9/10\n",
            "300/300 [==============================] - 2s 7ms/step - loss: 382.3026 - main_output_loss: 380.3301 - group_output_loss: 3.9450e-04\n",
            "Epoch 10/10\n",
            "300/300 [==============================] - 2s 7ms/step - loss: 372.8783 - main_output_loss: 370.9171 - group_output_loss: 3.9222e-04\n",
            "CPU times: user 27.1 s, sys: 3.46 s, total: 30.5 s\n",
            "Wall time: 21.8 s\n"
          ],
          "name": "stdout"
        }
      ]
    },
    {
      "metadata": {
        "id": "dv1NKD2lMSzP",
        "colab_type": "code",
        "colab": {
          "base_uri": "https://localhost:8080/",
          "height": 378
        },
        "outputId": "dabdd84a-c252-4fbe-8bbe-73ad44a7e384"
      },
      "cell_type": "code",
      "source": [
        "plt.ylabel('loss')\n",
        "plt.xlabel('epoch')\n",
        "plt.yscale('log')\n",
        "\n",
        "plt.plot(history.history['loss'], 'b')\n",
        "plt.plot(history.history['main_output_loss'], 'r')\n",
        "plt.plot(history.history['group_output_loss'], 'g')\n",
        "\n",
        "plt.legend(['combined loss', 'main loss', 'group loss'], loc='upper right')\n"
      ],
      "execution_count": 79,
      "outputs": [
        {
          "output_type": "execute_result",
          "data": {
            "text/plain": [
              "<matplotlib.legend.Legend at 0x7f1a39545ba8>"
            ]
          },
          "metadata": {
            "tags": []
          },
          "execution_count": 79
        },
        {
          "output_type": "display_data",
          "data": {
            "image/png": "[encoded data removed]",
            "text/plain": [
              "<Figure size 576x396 with 1 Axes>"
            ]
          },
          "metadata": {
            "tags": []
          }
        }
      ]
    },
    {
      "metadata": {
        "id": "68KBQkAdO8il",
        "colab_type": "code",
        "colab": {}
      },
      "cell_type": "code",
      "source": [
        "main_input = autoencoder.get_layer('main_input').input\n",
        "group_input = autoencoder.get_layer('group_input').input\n",
        "encode = autoencoder.get_layer('encoder').output\n",
        "encoder = Model(inputs=[main_input, group_input], outputs=encode)"
      ],
      "execution_count": 0,
      "outputs": []
    },
    {
      "metadata": {
        "id": "8m5HqPOXSmr7",
        "colab_type": "code",
        "colab": {
          "base_uri": "https://localhost:8080/",
          "height": 364
        },
        "outputId": "d71ca0ef-3a8a-441f-81ab-62092381f071"
      },
      "cell_type": "code",
      "source": [
        "latent_representation = encoder.predict(x={'main_input': new_main, 'group_input': new_one_hot_groups})\n",
        "colors = new_df['group']\n",
        "color_map = ListedColormap(['#AA4444', '#006000', '#EEEE44'])\n",
        "\n",
        "latent_x = latent_representation[:, 0]\n",
        "latent_y = latent_representation[:, 1]\n",
        "\n",
        "plt.scatter(latent_x, latent_y, alpha=0.5, s=100, marker='o', edgecolors='w', cmap=color_map, c=colors)"
      ],
      "execution_count": 81,
      "outputs": [
        {
          "output_type": "execute_result",
          "data": {
            "text/plain": [
              "<matplotlib.collections.PathCollection at 0x7f1a36a369e8>"
            ]
          },
          "metadata": {
            "tags": []
          },
          "execution_count": 81
        },
        {
          "output_type": "display_data",
          "data": {
            "image/png": "[encoded data removed]",
            "text/plain": [
              "<Figure size 576x396 with 1 Axes>"
            ]
          },
          "metadata": {
            "tags": []
          }
        }
      ]
    },
    {
      "metadata": {
        "id": "y3JY2dlaPlG4",
        "colab_type": "text"
      },
      "cell_type": "markdown",
      "source": [
        "### Old data"
      ]
    },
    {
      "metadata": {
        "id": "ivC9ALVsOnoF",
        "colab_type": "code",
        "colab": {
          "base_uri": "https://localhost:8080/",
          "height": 364
        },
        "outputId": "bb4e008b-132d-4651-ce94-feedc2e17459"
      },
      "cell_type": "code",
      "source": [
        "latent_representation = encoder.predict(x={'main_input': main, 'group_input': one_hot_groups})\n",
        "colors = X['group']\n",
        "color_map = ListedColormap(['#AA4444', '#006000', '#EEEE44'])\n",
        "\n",
        "latent_x = latent_representation[:, 0]\n",
        "latent_y = latent_representation[:, 1]\n",
        "\n",
        "plt.scatter(latent_x, latent_y, alpha=0.5, s=100, marker='o', edgecolors='w', cmap=color_map, c=colors)"
      ],
      "execution_count": 82,
      "outputs": [
        {
          "output_type": "execute_result",
          "data": {
            "text/plain": [
              "<matplotlib.collections.PathCollection at 0x7f1a369c95f8>"
            ]
          },
          "metadata": {
            "tags": []
          },
          "execution_count": 82
        },
        {
          "output_type": "display_data",
          "data": {
            "image/png": "[encoded data removed]",
            "text/plain": [
              "<Figure size 576x396 with 1 Axes>"
            ]
          },
          "metadata": {
            "tags": []
          }
        }
      ]
    },
    {
      "metadata": {
        "id": "FZFOViomQGfA",
        "colab_type": "text"
      },
      "cell_type": "markdown",
      "source": [
        "### Option II: Train from scratch, but use difference to original latent representation as part of loss function\n"
      ]
    },
    {
      "metadata": {
        "id": "dNlZmzQQPBqK",
        "colab_type": "code",
        "colab": {}
      },
      "cell_type": "code",
      "source": [
        "# start over from scratch\n",
        "from tensorflow.keras.models import load_model\n",
        "autoencoder = load_model('autoencoder-v1.h5')"
      ],
      "execution_count": 0,
      "outputs": []
    },
    {
      "metadata": {
        "id": "_MKBHF-KR4O-",
        "colab_type": "code",
        "colab": {}
      },
      "cell_type": "code",
      "source": [
        "main_input = autoencoder.get_layer('main_input').input\n",
        "group_input = autoencoder.get_layer('group_input').input\n",
        "encode = autoencoder.get_layer('encoder').output\n",
        "encoder = Model(inputs=[main_input, group_input], outputs=encode)"
      ],
      "execution_count": 0,
      "outputs": []
    },
    {
      "metadata": {
        "id": "p3NJg2FpR03G",
        "colab_type": "code",
        "colab": {}
      },
      "cell_type": "code",
      "source": [
        "original_latent_representation = encoder.predict(x={'main_input': new_main, 'group_input': new_one_hot_groups})"
      ],
      "execution_count": 0,
      "outputs": []
    },
    {
      "metadata": {
        "id": "usnjfvJxS_sB",
        "colab_type": "code",
        "colab": {
          "base_uri": "https://localhost:8080/",
          "height": 34
        },
        "outputId": "74f069c4-c0e0-4747-9bc5-1a212a0130d5"
      },
      "cell_type": "code",
      "source": [
        "original_latent_representation.shape"
      ],
      "execution_count": 59,
      "outputs": [
        {
          "output_type": "execute_result",
          "data": {
            "text/plain": [
              "(300, 2)"
            ]
          },
          "metadata": {
            "tags": []
          },
          "execution_count": 59
        }
      ]
    },
    {
      "metadata": {
        "id": "_kQbWB5FTQ4Q",
        "colab_type": "code",
        "colab": {}
      },
      "cell_type": "code",
      "source": [
        "# first multi in\n",
        "main_input = Input(shape=(3,), name='main_input')\n",
        "group_input = Input(shape=(3,), name='group_input')\n",
        "\n",
        "# hopefully this balances out inputs to same scale\n",
        "encoded_main = Dense(units=2, activation='relu', name=\"main_encoder\")(main_input)\n",
        "encoded_group = Dense(units=2, activation='relu', name=\"group_encoder\")(group_input)\n",
        "\n",
        "# latent representation\n",
        "\n",
        "merged = concatenate([encoded_main, encoded_group])\n",
        "# this might work as well\n",
        "# merged = average([encoded_main, encoded_group])\n",
        "\n",
        "# the effective latent encoding\n",
        "encoding_dim = 2\n",
        "encoded = Dense(units=encoding_dim, activation='relu', name=\"encoder\")(merged)\n",
        "\n",
        "# then multi out\n",
        "\n",
        "main_output = Dense(units=3, activation='linear', name=\"main_output\")(encoded)\n",
        "group_output = Dense(units=3, activation='softmax', name=\"group_output\")(encoded)\n",
        "\n",
        "autoencoder = Model(inputs=[main_input, group_input], outputs=[main_output, group_output])\n"
      ],
      "execution_count": 0,
      "outputs": []
    },
    {
      "metadata": {
        "id": "sj0fbGs8TFtJ",
        "colab_type": "code",
        "colab": {}
      },
      "cell_type": "code",
      "source": [
        "# adam = keras.optimizers.Adam()\n",
        "# even this high learning rate can not break it (moves it quite a bit, but still same overall shape)\n",
        "adam = keras.optimizers.Adam(lr=0.1)\n",
        "\n",
        "autoencoder.compile(optimizer=adam,\n",
        "              loss={'main_output': 'mse', 'group_output': 'categorical_crossentropy'},\n",
        "              loss_weights={'main_output': 1., 'group_output': 5000.})\n",
        "\n",
        "BATCH_SIZE = 1\n",
        "EPOCHS=10\n",
        "\n",
        "%time history = autoencoder.fit(\\\n",
        "    x={'main_input': new_main, 'group_input': new_one_hot_groups},\\\n",
        "    y={'main_output': new_main, 'group_output': new_one_hot_groups},\\\n",
        "    epochs=EPOCHS, batch_size=BATCH_SIZE, shuffle=True, verbose=1)\n"
      ],
      "execution_count": 0,
      "outputs": []
    }
  ]
}