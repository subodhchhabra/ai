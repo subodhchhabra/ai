{
  "nbformat": 4,
  "nbformat_minor": 0,
  "metadata": {
    "colab": {
      "name": "rnn-add-example.ipynb",
      "version": "0.3.2",
      "provenance": [],
      "include_colab_link": true
    },
    "kernelspec": {
      "display_name": "Python 3",
      "language": "python",
      "name": "python3"
    },
    "accelerator": "GPU"
  },
  "cells": [
    {
      "cell_type": "markdown",
      "metadata": {
        "id": "view-in-github",
        "colab_type": "text"
      },
      "source": [
        "<a href=\"https://colab.research.google.com/github/DJCordhose/ai/blob/master/notebooks/2019_tf/rnn-add-example.ipynb\" target=\"_parent\"><img src=\"https://colab.research.google.com/assets/colab-badge.svg\" alt=\"Open In Colab\"/></a>"
      ]
    },
    {
      "metadata": {
        "id": "Zqi1xb086Gl_",
        "colab_type": "code",
        "colab": {}
      },
      "cell_type": "code",
      "source": [
        "# Adapted from\n",
        "# https://github.com/keras-team/keras/blob/master/examples/addition_rnn.py"
      ],
      "execution_count": 0,
      "outputs": []
    },
    {
      "metadata": {
        "id": "n3ey4zBb6GmE",
        "colab_type": "code",
        "colab": {}
      },
      "cell_type": "code",
      "source": [
        "import warnings\n",
        "warnings.filterwarnings('ignore')"
      ],
      "execution_count": 0,
      "outputs": []
    },
    {
      "metadata": {
        "id": "E8uDkaTi6GmH",
        "colab_type": "code",
        "outputId": "16a536d7-668c-4391-ebee-a7250ce500b4",
        "colab": {
          "base_uri": "https://localhost:8080/",
          "height": 34
        }
      },
      "cell_type": "code",
      "source": [
        "%matplotlib inline\n",
        "%pylab inline"
      ],
      "execution_count": 3,
      "outputs": [
        {
          "output_type": "stream",
          "text": [
            "Populating the interactive namespace from numpy and matplotlib\n"
          ],
          "name": "stdout"
        }
      ]
    },
    {
      "metadata": {
        "id": "8ZQZTEee6GmM",
        "colab_type": "code",
        "outputId": "7b783f23-122c-406c-ea5e-cb5382a9e369",
        "colab": {
          "base_uri": "https://localhost:8080/",
          "height": 34
        }
      },
      "cell_type": "code",
      "source": [
        "import tensorflow as tf\n",
        "tf.logging.set_verbosity(tf.logging.ERROR)\n",
        "print(tf.__version__)"
      ],
      "execution_count": 4,
      "outputs": [
        {
          "output_type": "stream",
          "text": [
            "1.12.0\n"
          ],
          "name": "stdout"
        }
      ]
    },
    {
      "metadata": {
        "id": "7kBle7aI9O7O",
        "colab_type": "code",
        "outputId": "77c7f560-71e8-4853-88cc-c353ac54cba6",
        "colab": {
          "base_uri": "https://localhost:8080/",
          "height": 86
        }
      },
      "cell_type": "code",
      "source": [
        "# let's see what compute devices we have available, hopefully a GPU \n",
        "sess = tf.Session()\n",
        "devices = sess.list_devices()\n",
        "for d in devices:\n",
        "    print(d.name)"
      ],
      "execution_count": 5,
      "outputs": [
        {
          "output_type": "stream",
          "text": [
            "/job:localhost/replica:0/task:0/device:CPU:0\n",
            "/job:localhost/replica:0/task:0/device:XLA_CPU:0\n",
            "/job:localhost/replica:0/task:0/device:XLA_GPU:0\n",
            "/job:localhost/replica:0/task:0/device:GPU:0\n"
          ],
          "name": "stdout"
        }
      ]
    },
    {
      "metadata": {
        "id": "k7rxZQym9PcT",
        "colab_type": "code",
        "outputId": "9285aa98-37d1-4724-d0f6-049f11389235",
        "colab": {
          "base_uri": "https://localhost:8080/",
          "height": 34
        }
      },
      "cell_type": "code",
      "source": [
        "# a small sanity check, does tf seem to work ok?\n",
        "hello = tf.constant('Hello TF!')\n",
        "print(sess.run(hello))"
      ],
      "execution_count": 6,
      "outputs": [
        {
          "output_type": "stream",
          "text": [
            "b'Hello TF!'\n"
          ],
          "name": "stdout"
        }
      ]
    },
    {
      "metadata": {
        "id": "2gCgM1JJ9T2v",
        "colab_type": "code",
        "outputId": "9d17dd2f-6f42-4a64-81d1-7ee5461e4e9f",
        "colab": {
          "base_uri": "https://localhost:8080/",
          "height": 34
        }
      },
      "cell_type": "code",
      "source": [
        "from tensorflow import keras\n",
        "print(keras.__version__)"
      ],
      "execution_count": 7,
      "outputs": [
        {
          "output_type": "stream",
          "text": [
            "2.1.6-tf\n"
          ],
          "name": "stdout"
        }
      ]
    },
    {
      "metadata": {
        "id": "SEvTJtaL6GmR",
        "colab_type": "text"
      },
      "cell_type": "markdown",
      "source": [
        "### Step 1: Generate sample equations"
      ]
    },
    {
      "metadata": {
        "id": "IAz9Tnpu6GmR",
        "colab_type": "code",
        "colab": {}
      },
      "cell_type": "code",
      "source": [
        "class CharacterTable(object):\n",
        "    \"\"\"Given a set of characters:\n",
        "    + Encode them to a one hot integer representation\n",
        "    + Decode the one hot integer representation to their character output\n",
        "    + Decode a vector of probabilities to their character output\n",
        "    \"\"\"\n",
        "    def __init__(self, chars):\n",
        "        \"\"\"Initialize character table.\n",
        "\n",
        "        # Arguments\n",
        "            chars: Characters that can appear in the input.\n",
        "        \"\"\"\n",
        "        self.chars = sorted(set(chars))\n",
        "        self.char_indices = dict((c, i) for i, c in enumerate(self.chars))\n",
        "        self.indices_char = dict((i, c) for i, c in enumerate(self.chars))\n",
        "\n",
        "    def encode(self, C, num_rows):\n",
        "        \"\"\"One hot encode given string C.\n",
        "\n",
        "        # Arguments\n",
        "            num_rows: Number of rows in the returned one hot encoding. This is\n",
        "                used to keep the # of rows for each data the same.\n",
        "        \"\"\"\n",
        "        x = np.zeros((num_rows, len(self.chars)))\n",
        "        for i, c in enumerate(C):\n",
        "            x[i, self.char_indices[c]] = 1\n",
        "        return x\n",
        "\n",
        "    def decode(self, x, calc_argmax=True):\n",
        "        if calc_argmax:\n",
        "            x = x.argmax(axis=-1)\n",
        "        return ''.join(self.indices_char[x] for x in x)\n"
      ],
      "execution_count": 0,
      "outputs": []
    },
    {
      "metadata": {
        "id": "DqdzUFGZ6GmV",
        "colab_type": "code",
        "colab": {}
      },
      "cell_type": "code",
      "source": [
        "class colors:\n",
        "    ok = '\\033[92m'\n",
        "    fail = '\\033[91m'\n",
        "    close = '\\033[0m'"
      ],
      "execution_count": 0,
      "outputs": []
    },
    {
      "metadata": {
        "id": "kf7L7DwB6GmY",
        "colab_type": "code",
        "outputId": "5fceeb08-846c-4363-d674-561af0892505",
        "colab": {
          "base_uri": "https://localhost:8080/",
          "height": 51
        }
      },
      "cell_type": "code",
      "source": [
        "# Parameters for the model and dataset.\n",
        "TRAINING_SIZE = 50000\n",
        "DIGITS = 3\n",
        "# REVERSE = True\n",
        "REVERSE = False\n",
        "\n",
        "# Maximum length of input is 'int + int' (e.g., '345+678'). Maximum length of\n",
        "# int is DIGITS.\n",
        "MAXLEN = DIGITS + 1 + DIGITS\n",
        "\n",
        "# All the numbers, plus sign and space for padding.\n",
        "chars = '0123456789+ '\n",
        "ctable = CharacterTable(chars)\n",
        "\n",
        "questions = []\n",
        "expected = []\n",
        "seen = set()\n",
        "print('Generating data...')\n",
        "while len(questions) < TRAINING_SIZE:\n",
        "    f = lambda: int(''.join(np.random.choice(list('0123456789'))\n",
        "                    for i in range(np.random.randint(1, DIGITS + 1))))\n",
        "    a, b = f(), f()\n",
        "    # Skip any addition questions we've already seen\n",
        "    # Also skip any such that x+Y == Y+x (hence the sorting).\n",
        "    key = tuple(sorted((a, b)))\n",
        "    if key in seen:\n",
        "        continue\n",
        "    seen.add(key)\n",
        "    # Pad the data with spaces such that it is always MAXLEN.\n",
        "    q = '{}+{}'.format(a, b)\n",
        "    query = q + ' ' * (MAXLEN - len(q))\n",
        "    ans = str(a + b)\n",
        "    # Answers can be of maximum size DIGITS + 1.\n",
        "    ans += ' ' * (DIGITS + 1 - len(ans))\n",
        "    if REVERSE:\n",
        "        # Reverse the query, e.g., '12+345  ' becomes '  543+21'. (Note the\n",
        "        # space used for padding.)\n",
        "        query = query[::-1]\n",
        "    questions.append(query)\n",
        "    expected.append(ans)\n",
        "print('Total addition questions:', len(questions))"
      ],
      "execution_count": 10,
      "outputs": [
        {
          "output_type": "stream",
          "text": [
            "Generating data...\n",
            "Total addition questions: 50000\n"
          ],
          "name": "stdout"
        }
      ]
    },
    {
      "metadata": {
        "id": "gTLONdDN6Gmc",
        "colab_type": "code",
        "outputId": "4589f8d5-cf41-4329-cf7e-399324fd3ee8",
        "colab": {
          "base_uri": "https://localhost:8080/",
          "height": 34
        }
      },
      "cell_type": "code",
      "source": [
        "questions[0]"
      ],
      "execution_count": 11,
      "outputs": [
        {
          "output_type": "execute_result",
          "data": {
            "text/plain": [
              "'97+78  '"
            ]
          },
          "metadata": {
            "tags": []
          },
          "execution_count": 11
        }
      ]
    },
    {
      "metadata": {
        "id": "L6n6X_w26Gmg",
        "colab_type": "code",
        "outputId": "4e251eae-3c32-4472-ad2b-a69271c802b5",
        "colab": {
          "base_uri": "https://localhost:8080/",
          "height": 34
        }
      },
      "cell_type": "code",
      "source": [
        "print('Vectorization...')\n",
        "x = np.zeros((len(questions), MAXLEN, len(chars)), dtype=np.bool)\n",
        "y = np.zeros((len(questions), DIGITS + 1, len(chars)), dtype=np.bool)\n",
        "for i, sentence in enumerate(questions):\n",
        "    x[i] = ctable.encode(sentence, MAXLEN)\n",
        "for i, sentence in enumerate(expected):\n",
        "    y[i] = ctable.encode(sentence, DIGITS + 1)\n"
      ],
      "execution_count": 12,
      "outputs": [
        {
          "output_type": "stream",
          "text": [
            "Vectorization...\n"
          ],
          "name": "stdout"
        }
      ]
    },
    {
      "metadata": {
        "id": "L1rqJg9v6Gmk",
        "colab_type": "code",
        "outputId": "fa30bf5c-bcb3-49d6-cf24-f1beff9cd981",
        "colab": {
          "base_uri": "https://localhost:8080/",
          "height": 34
        }
      },
      "cell_type": "code",
      "source": [
        "len(x[0])"
      ],
      "execution_count": 13,
      "outputs": [
        {
          "output_type": "execute_result",
          "data": {
            "text/plain": [
              "7"
            ]
          },
          "metadata": {
            "tags": []
          },
          "execution_count": 13
        }
      ]
    },
    {
      "metadata": {
        "id": "0lgZ9xs-6Gmo",
        "colab_type": "code",
        "outputId": "441076ad-dbb5-4343-86ff-59b01d8c55c4",
        "colab": {
          "base_uri": "https://localhost:8080/",
          "height": 34
        }
      },
      "cell_type": "code",
      "source": [
        "len(questions[0])"
      ],
      "execution_count": 14,
      "outputs": [
        {
          "output_type": "execute_result",
          "data": {
            "text/plain": [
              "7"
            ]
          },
          "metadata": {
            "tags": []
          },
          "execution_count": 14
        }
      ]
    },
    {
      "metadata": {
        "id": "5MU2q5Jp6Gmr",
        "colab_type": "code",
        "outputId": "7d5ded11-28da-4365-f63e-7634621caf77",
        "colab": {
          "base_uri": "https://localhost:8080/",
          "height": 34
        }
      },
      "cell_type": "code",
      "source": [
        "questions[0]"
      ],
      "execution_count": 15,
      "outputs": [
        {
          "output_type": "execute_result",
          "data": {
            "text/plain": [
              "'97+78  '"
            ]
          },
          "metadata": {
            "tags": []
          },
          "execution_count": 15
        }
      ]
    },
    {
      "metadata": {
        "id": "wZ_g5cHf6Gmw",
        "colab_type": "code",
        "outputId": "0b647f91-8cc9-4635-8066-aa103b2a1bbf",
        "colab": {
          "base_uri": "https://localhost:8080/",
          "height": 258
        }
      },
      "cell_type": "code",
      "source": [
        "x[0]"
      ],
      "execution_count": 16,
      "outputs": [
        {
          "output_type": "execute_result",
          "data": {
            "text/plain": [
              "array([[False, False, False, False, False, False, False, False, False,\n",
              "        False, False,  True],\n",
              "       [False, False, False, False, False, False, False, False, False,\n",
              "         True, False, False],\n",
              "       [False,  True, False, False, False, False, False, False, False,\n",
              "        False, False, False],\n",
              "       [False, False, False, False, False, False, False, False, False,\n",
              "         True, False, False],\n",
              "       [False, False, False, False, False, False, False, False, False,\n",
              "        False,  True, False],\n",
              "       [ True, False, False, False, False, False, False, False, False,\n",
              "        False, False, False],\n",
              "       [ True, False, False, False, False, False, False, False, False,\n",
              "        False, False, False]])"
            ]
          },
          "metadata": {
            "tags": []
          },
          "execution_count": 16
        }
      ]
    },
    {
      "metadata": {
        "id": "hWldgEEJ6Gmz",
        "colab_type": "code",
        "outputId": "fe0a2df6-8cba-4a66-9221-a93b214f41fd",
        "colab": {
          "base_uri": "https://localhost:8080/",
          "height": 155
        }
      },
      "cell_type": "code",
      "source": [
        "y[0]"
      ],
      "execution_count": 17,
      "outputs": [
        {
          "output_type": "execute_result",
          "data": {
            "text/plain": [
              "array([[False, False, False,  True, False, False, False, False, False,\n",
              "        False, False, False],\n",
              "       [False, False, False, False, False, False, False, False, False,\n",
              "         True, False, False],\n",
              "       [False, False, False, False, False, False, False,  True, False,\n",
              "        False, False, False],\n",
              "       [ True, False, False, False, False, False, False, False, False,\n",
              "        False, False, False]])"
            ]
          },
          "metadata": {
            "tags": []
          },
          "execution_count": 17
        }
      ]
    },
    {
      "metadata": {
        "id": "o-r8EDwQ6Gm5",
        "colab_type": "code",
        "outputId": "93a744a6-31a1-4938-c8aa-d75a6a4f936e",
        "colab": {
          "base_uri": "https://localhost:8080/",
          "height": 34
        }
      },
      "cell_type": "code",
      "source": [
        "expected[0]"
      ],
      "execution_count": 18,
      "outputs": [
        {
          "output_type": "execute_result",
          "data": {
            "text/plain": [
              "'175 '"
            ]
          },
          "metadata": {
            "tags": []
          },
          "execution_count": 18
        }
      ]
    },
    {
      "metadata": {
        "id": "XPO5c5xe6GnB",
        "colab_type": "code",
        "colab": {}
      },
      "cell_type": "code",
      "source": [
        "# Shuffle (x, y) in unison as the later parts of x will almost all be larger\n",
        "# digits.\n",
        "indices = np.arange(len(y))\n",
        "np.random.shuffle(indices)\n",
        "x = x[indices]\n",
        "y = y[indices]"
      ],
      "execution_count": 0,
      "outputs": []
    },
    {
      "metadata": {
        "id": "envfa2ZT6GnE",
        "colab_type": "text"
      },
      "cell_type": "markdown",
      "source": [
        "### Step 2: Training/Validation Split"
      ]
    },
    {
      "metadata": {
        "id": "bDSoeziy6GnE",
        "colab_type": "code",
        "outputId": "41627bc0-1cb4-4158-971a-e519f898c637",
        "colab": {
          "base_uri": "https://localhost:8080/",
          "height": 120
        }
      },
      "cell_type": "code",
      "source": [
        "# Explicitly set apart 10% for validation data that we never train over.\n",
        "split_at = len(x) - len(x) // 10\n",
        "(x_train, x_val) = x[:split_at], x[split_at:]\n",
        "(y_train, y_val) = y[:split_at], y[split_at:]\n",
        "\n",
        "print('Training Data:')\n",
        "print(x_train.shape)\n",
        "print(y_train.shape)\n",
        "\n",
        "print('Validation Data:')\n",
        "print(x_val.shape)\n",
        "print(y_val.shape)"
      ],
      "execution_count": 20,
      "outputs": [
        {
          "output_type": "stream",
          "text": [
            "Training Data:\n",
            "(45000, 7, 12)\n",
            "(45000, 4, 12)\n",
            "Validation Data:\n",
            "(5000, 7, 12)\n",
            "(5000, 4, 12)\n"
          ],
          "name": "stdout"
        }
      ]
    },
    {
      "metadata": {
        "id": "bPUg9slY6GnK",
        "colab_type": "text"
      },
      "cell_type": "markdown",
      "source": [
        "### Step 3: Create Model"
      ]
    },
    {
      "metadata": {
        "id": "wK_ll_ew6GnL",
        "colab_type": "code",
        "outputId": "c4896803-8edc-477a-b611-e861721bdcbd",
        "colab": {
          "base_uri": "https://localhost:8080/",
          "height": 34
        }
      },
      "cell_type": "code",
      "source": [
        "# input shape: 7 digits, each being 0-9, + or space (12 possibilities)\n",
        "MAXLEN, len(chars)"
      ],
      "execution_count": 21,
      "outputs": [
        {
          "output_type": "execute_result",
          "data": {
            "text/plain": [
              "(7, 12)"
            ]
          },
          "metadata": {
            "tags": []
          },
          "execution_count": 21
        }
      ]
    },
    {
      "metadata": {
        "id": "dksl6o766GnO",
        "colab_type": "code",
        "outputId": "d4ac1e31-7a41-4eb5-d451-7364bf9ad373",
        "colab": {
          "base_uri": "https://localhost:8080/",
          "height": 310
        }
      },
      "cell_type": "code",
      "source": [
        "from tensorflow.keras.models import Sequential\n",
        "from tensorflow.keras.layers import  LSTM, GRU, SimpleRNN, Dense, RepeatVector\n",
        "\n",
        "# Try replacing LSTM, GRU, or SimpleRNN.\n",
        "# RNN = LSTM\n",
        "RNN = SimpleRNN # should be enough since we do not have long sequences and only local dependencies\n",
        "# RNN = GRU\n",
        "HIDDEN_SIZE = 128\n",
        "BATCH_SIZE = 128\n",
        "\n",
        "model = Sequential()\n",
        "# encoder \n",
        "model.add(RNN(units=HIDDEN_SIZE, input_shape=(MAXLEN, len(chars))))\n",
        "\n",
        "# latent space\n",
        "encoding_dim = 32\n",
        "model.add(Dense(units=encoding_dim, activation='relu', name=\"encoder\"))\n",
        "\n",
        "# decoder: have 4 temporal outputs one for each of the digits of the results\n",
        "model.add(RepeatVector(DIGITS + 1))\n",
        "\n",
        "# return_sequences=True tells it to keep all 4 temporal outputs, not only the final one (we need all four digits for the results)\n",
        "model.add(RNN(units=HIDDEN_SIZE, return_sequences=True))\n",
        "\n",
        "model.add(Dense(name='classifier', units=len(chars), activation='softmax'))\n",
        "\n",
        "model.compile(loss='categorical_crossentropy',\n",
        "              optimizer='adam',\n",
        "              metrics=['accuracy'])\n",
        "model.summary()"
      ],
      "execution_count": 22,
      "outputs": [
        {
          "output_type": "stream",
          "text": [
            "_________________________________________________________________\n",
            "Layer (type)                 Output Shape              Param #   \n",
            "=================================================================\n",
            "simple_rnn (SimpleRNN)       (None, 128)               18048     \n",
            "_________________________________________________________________\n",
            "encoder (Dense)              (None, 32)                4128      \n",
            "_________________________________________________________________\n",
            "repeat_vector (RepeatVector) (None, 4, 32)             0         \n",
            "_________________________________________________________________\n",
            "simple_rnn_1 (SimpleRNN)     (None, 4, 128)            20608     \n",
            "_________________________________________________________________\n",
            "classifier (Dense)           (None, 4, 12)             1548      \n",
            "=================================================================\n",
            "Total params: 44,332\n",
            "Trainable params: 44,332\n",
            "Non-trainable params: 0\n",
            "_________________________________________________________________\n"
          ],
          "name": "stdout"
        }
      ]
    },
    {
      "metadata": {
        "id": "c8pEzhmT6GnS",
        "colab_type": "code",
        "outputId": "fe9ba7bf-32a3-4811-d400-a9c1e743e348",
        "colab": {
          "base_uri": "https://localhost:8080/",
          "height": 224
        }
      },
      "cell_type": "code",
      "source": [
        "model.predict(np.array([x_val[0]]))"
      ],
      "execution_count": 23,
      "outputs": [
        {
          "output_type": "execute_result",
          "data": {
            "text/plain": [
              "array([[[0.06073245, 0.08336107, 0.10029726, 0.08469585, 0.09659   ,\n",
              "         0.11598717, 0.06166694, 0.06459656, 0.13300465, 0.068892  ,\n",
              "         0.07243988, 0.05773613],\n",
              "        [0.0650866 , 0.06419094, 0.12746704, 0.08446076, 0.10033891,\n",
              "         0.13981514, 0.06703152, 0.05505698, 0.1320974 , 0.05002015,\n",
              "         0.06313809, 0.05129645],\n",
              "        [0.06849667, 0.06362775, 0.09853102, 0.05808814, 0.10894131,\n",
              "         0.1375532 , 0.04866729, 0.05768577, 0.19622035, 0.04026084,\n",
              "         0.07738415, 0.04454346],\n",
              "        [0.08254389, 0.0527699 , 0.12924536, 0.06359158, 0.10203908,\n",
              "         0.12213654, 0.03239036, 0.08219448, 0.17831269, 0.0339051 ,\n",
              "         0.06941115, 0.05145984]]], dtype=float32)"
            ]
          },
          "metadata": {
            "tags": []
          },
          "execution_count": 23
        }
      ]
    },
    {
      "metadata": {
        "id": "-yXszHzg6GnW",
        "colab_type": "code",
        "outputId": "cf7f512a-969e-4f4f-a0da-f17211e76f82",
        "colab": {
          "base_uri": "https://localhost:8080/",
          "height": 34
        }
      },
      "cell_type": "code",
      "source": [
        "model.predict_classes(np.array([x_val[0]]))"
      ],
      "execution_count": 24,
      "outputs": [
        {
          "output_type": "execute_result",
          "data": {
            "text/plain": [
              "array([[8, 5, 8, 8]])"
            ]
          },
          "metadata": {
            "tags": []
          },
          "execution_count": 24
        }
      ]
    },
    {
      "metadata": {
        "id": "cdW2FJVl6GnZ",
        "colab_type": "text"
      },
      "cell_type": "markdown",
      "source": [
        "### Step 4: Train"
      ]
    },
    {
      "metadata": {
        "id": "izY-B-UF6Gna",
        "colab_type": "code",
        "outputId": "78517e5c-b937-45aa-9917-d6b62eaedee7",
        "colab": {
          "base_uri": "https://localhost:8080/",
          "height": 13558
        }
      },
      "cell_type": "code",
      "source": [
        "# Train the model each generation and show predictions against the validation\n",
        "# dataset.\n",
        "for iteration in range(1, 50):\n",
        "    print()\n",
        "    print('-' * 50)\n",
        "    print('Iteration', iteration)\n",
        "    model.fit(x_train, y_train,\n",
        "              batch_size=BATCH_SIZE,\n",
        "              epochs=1,\n",
        "              validation_data=(x_val, y_val))\n",
        "    # Select 10 samples from the validation set at random so we can visualize\n",
        "    # errors.\n",
        "    for i in range(10):\n",
        "        ind = np.random.randint(0, len(x_val))\n",
        "        rowx, rowy = x_val[np.array([ind])], y_val[np.array([ind])]\n",
        "        preds = model.predict_classes(rowx, verbose=0)\n",
        "        q = ctable.decode(rowx[0])\n",
        "        correct = ctable.decode(rowy[0])\n",
        "        guess = ctable.decode(preds[0], calc_argmax=False)\n",
        "        print('Q', q[::-1] if REVERSE else q, end=' ')\n",
        "        print('T', correct, end=' ')\n",
        "        if correct == guess:\n",
        "            print(colors.ok + '☑' + colors.close, end=' ')\n",
        "        else:\n",
        "            print(colors.fail + '☒' + colors.close, end=' ')\n",
        "        print(guess)"
      ],
      "execution_count": 25,
      "outputs": [
        {
          "output_type": "stream",
          "text": [
            "\n",
            "--------------------------------------------------\n",
            "Iteration 1\n",
            "Train on 45000 samples, validate on 5000 samples\n",
            "Epoch 1/1\n",
            "45000/45000 [==============================] - 6s 138us/step - loss: 1.6509 - acc: 0.3961 - val_loss: 1.4937 - val_acc: 0.4466\n",
            "Q 937+13  T 950  \u001b[91m☒\u001b[0m 988 \n",
            "Q 532+52  T 584  \u001b[91m☒\u001b[0m 556 \n",
            "Q 818+102 T 920  \u001b[91m☒\u001b[0m 911 \n",
            "Q 949+65  T 1014 \u001b[91m☒\u001b[0m 907 \n",
            "Q 9+921   T 930  \u001b[91m☒\u001b[0m 991 \n",
            "Q 68+468  T 536  \u001b[91m☒\u001b[0m 531 \n",
            "Q 54+875  T 929  \u001b[91m☒\u001b[0m 842 \n",
            "Q 87+842  T 929  \u001b[91m☒\u001b[0m 885 \n",
            "Q 612+619 T 1231 \u001b[91m☒\u001b[0m 1271\n",
            "Q 9+35    T 44   \u001b[91m☒\u001b[0m 56  \n",
            "\n",
            "--------------------------------------------------\n",
            "Iteration 2\n",
            "Train on 45000 samples, validate on 5000 samples\n",
            "Epoch 1/1\n",
            "45000/45000 [==============================] - 6s 124us/step - loss: 1.3690 - acc: 0.4884 - val_loss: 1.2670 - val_acc: 0.5199\n",
            "Q 82+499  T 581  \u001b[91m☒\u001b[0m 554 \n",
            "Q 118+221 T 339  \u001b[91m☒\u001b[0m 543 \n",
            "Q 719+91  T 810  \u001b[91m☒\u001b[0m 841 \n",
            "Q 80+133  T 213  \u001b[91m☒\u001b[0m 122 \n",
            "Q 418+910 T 1328 \u001b[91m☒\u001b[0m 1334\n",
            "Q 60+386  T 446  \u001b[91m☒\u001b[0m 445 \n",
            "Q 30+527  T 557  \u001b[91m☒\u001b[0m 552 \n",
            "Q 341+956 T 1297 \u001b[91m☒\u001b[0m 1275\n",
            "Q 39+83   T 122  \u001b[91m☒\u001b[0m 115 \n",
            "Q 66+262  T 328  \u001b[91m☒\u001b[0m 320 \n",
            "\n",
            "--------------------------------------------------\n",
            "Iteration 3\n",
            "Train on 45000 samples, validate on 5000 samples\n",
            "Epoch 1/1\n",
            "45000/45000 [==============================] - 6s 124us/step - loss: 1.1795 - acc: 0.5535 - val_loss: 1.1389 - val_acc: 0.5645\n",
            "Q 645+28  T 673  \u001b[91m☒\u001b[0m 665 \n",
            "Q 1+85    T 86   \u001b[92m☑\u001b[0m 86  \n",
            "Q 132+2   T 134  \u001b[91m☒\u001b[0m 132 \n",
            "Q 474+908 T 1382 \u001b[91m☒\u001b[0m 1398\n",
            "Q 372+108 T 480  \u001b[91m☒\u001b[0m 475 \n",
            "Q 228+215 T 443  \u001b[91m☒\u001b[0m 456 \n",
            "Q 532+52  T 584  \u001b[91m☒\u001b[0m 575 \n",
            "Q 670+8   T 678  \u001b[91m☒\u001b[0m 677 \n",
            "Q 26+49   T 75   \u001b[91m☒\u001b[0m 95  \n",
            "Q 37+1    T 38   \u001b[91m☒\u001b[0m 35  \n",
            "\n",
            "--------------------------------------------------\n",
            "Iteration 4\n",
            "Train on 45000 samples, validate on 5000 samples\n",
            "Epoch 1/1\n",
            "45000/45000 [==============================] - 6s 124us/step - loss: 1.0476 - acc: 0.6014 - val_loss: 1.0165 - val_acc: 0.6120\n",
            "Q 23+23   T 46   \u001b[91m☒\u001b[0m 45  \n",
            "Q 98+99   T 197  \u001b[91m☒\u001b[0m 199 \n",
            "Q 824+366 T 1190 \u001b[91m☒\u001b[0m 1199\n",
            "Q 881+66  T 947  \u001b[91m☒\u001b[0m 945 \n",
            "Q 2+640   T 642  \u001b[91m☒\u001b[0m 643 \n",
            "Q 934+529 T 1463 \u001b[91m☒\u001b[0m 1477\n",
            "Q 0+3     T 3    \u001b[91m☒\u001b[0m 2   \n",
            "Q 907+42  T 949  \u001b[91m☒\u001b[0m 943 \n",
            "Q 16+395  T 411  \u001b[91m☒\u001b[0m 419 \n",
            "Q 804+343 T 1147 \u001b[91m☒\u001b[0m 1159\n",
            "\n",
            "--------------------------------------------------\n",
            "Iteration 5\n",
            "Train on 45000 samples, validate on 5000 samples\n",
            "Epoch 1/1\n",
            "45000/45000 [==============================] - 6s 126us/step - loss: 0.9406 - acc: 0.6410 - val_loss: 0.8874 - val_acc: 0.6626\n",
            "Q 128+54  T 182  \u001b[91m☒\u001b[0m 181 \n",
            "Q 73+241  T 314  \u001b[91m☒\u001b[0m 313 \n",
            "Q 199+62  T 261  \u001b[91m☒\u001b[0m 248 \n",
            "Q 27+918  T 945  \u001b[91m☒\u001b[0m 941 \n",
            "Q 96+89   T 185  \u001b[91m☒\u001b[0m 173 \n",
            "Q 14+623  T 637  \u001b[91m☒\u001b[0m 647 \n",
            "Q 18+149  T 167  \u001b[91m☒\u001b[0m 265 \n",
            "Q 98+582  T 680  \u001b[91m☒\u001b[0m 671 \n",
            "Q 95+301  T 396  \u001b[91m☒\u001b[0m 394 \n",
            "Q 63+69   T 132  \u001b[92m☑\u001b[0m 132 \n",
            "\n",
            "--------------------------------------------------\n",
            "Iteration 6\n",
            "Train on 45000 samples, validate on 5000 samples\n",
            "Epoch 1/1\n",
            "45000/45000 [==============================] - 6s 125us/step - loss: 0.8425 - acc: 0.6792 - val_loss: 0.8537 - val_acc: 0.6679\n",
            "Q 218+839 T 1057 \u001b[91m☒\u001b[0m 1044\n",
            "Q 344+288 T 632  \u001b[91m☒\u001b[0m 621 \n",
            "Q 827+480 T 1307 \u001b[91m☒\u001b[0m 1311\n",
            "Q 855+64  T 919  \u001b[91m☒\u001b[0m 921 \n",
            "Q 15+220  T 235  \u001b[91m☒\u001b[0m 248 \n",
            "Q 175+4   T 179  \u001b[91m☒\u001b[0m 186 \n",
            "Q 48+706  T 754  \u001b[91m☒\u001b[0m 752 \n",
            "Q 773+70  T 843  \u001b[91m☒\u001b[0m 849 \n",
            "Q 2+430   T 432  \u001b[92m☑\u001b[0m 432 \n",
            "Q 58+666  T 724  \u001b[91m☒\u001b[0m 734 \n",
            "\n",
            "--------------------------------------------------\n",
            "Iteration 7\n",
            "Train on 45000 samples, validate on 5000 samples\n",
            "Epoch 1/1\n",
            "45000/45000 [==============================] - 6s 124us/step - loss: 0.7622 - acc: 0.7105 - val_loss: 0.7393 - val_acc: 0.7187\n",
            "Q 97+536  T 633  \u001b[92m☑\u001b[0m 633 \n",
            "Q 562+82  T 644  \u001b[91m☒\u001b[0m 637 \n",
            "Q 16+795  T 811  \u001b[92m☑\u001b[0m 811 \n",
            "Q 33+692  T 725  \u001b[92m☑\u001b[0m 725 \n",
            "Q 548+44  T 592  \u001b[91m☒\u001b[0m 590 \n",
            "Q 245+412 T 657  \u001b[91m☒\u001b[0m 568 \n",
            "Q 835+90  T 925  \u001b[92m☑\u001b[0m 925 \n",
            "Q 344+152 T 496  \u001b[91m☒\u001b[0m 494 \n",
            "Q 922+62  T 984  \u001b[92m☑\u001b[0m 984 \n",
            "Q 4+823   T 827  \u001b[92m☑\u001b[0m 827 \n",
            "\n",
            "--------------------------------------------------\n",
            "Iteration 8\n",
            "Train on 45000 samples, validate on 5000 samples\n",
            "Epoch 1/1\n",
            "45000/45000 [==============================] - 6s 125us/step - loss: 0.6936 - acc: 0.7360 - val_loss: 0.6807 - val_acc: 0.7435\n",
            "Q 458+808 T 1266 \u001b[91m☒\u001b[0m 1265\n",
            "Q 930+99  T 1029 \u001b[91m☒\u001b[0m 1020\n",
            "Q 87+607  T 694  \u001b[92m☑\u001b[0m 694 \n",
            "Q 59+481  T 540  \u001b[91m☒\u001b[0m 539 \n",
            "Q 971+8   T 979  \u001b[92m☑\u001b[0m 979 \n",
            "Q 56+43   T 99   \u001b[91m☒\u001b[0m 90  \n",
            "Q 544+182 T 726  \u001b[91m☒\u001b[0m 725 \n",
            "Q 594+24  T 618  \u001b[91m☒\u001b[0m 617 \n",
            "Q 265+21  T 286  \u001b[91m☒\u001b[0m 288 \n",
            "Q 434+47  T 481  \u001b[91m☒\u001b[0m 489 \n",
            "\n",
            "--------------------------------------------------\n",
            "Iteration 9\n",
            "Train on 45000 samples, validate on 5000 samples\n",
            "Epoch 1/1\n",
            "45000/45000 [==============================] - 6s 125us/step - loss: 0.6252 - acc: 0.7622 - val_loss: 0.6238 - val_acc: 0.7560\n",
            "Q 986+15  T 1001 \u001b[91m☒\u001b[0m 100 \n",
            "Q 627+3   T 630  \u001b[91m☒\u001b[0m 634 \n",
            "Q 171+323 T 494  \u001b[91m☒\u001b[0m 481 \n",
            "Q 389+24  T 413  \u001b[91m☒\u001b[0m 420 \n",
            "Q 551+28  T 579  \u001b[91m☒\u001b[0m 560 \n",
            "Q 481+993 T 1474 \u001b[91m☒\u001b[0m 1479\n",
            "Q 119+465 T 584  \u001b[91m☒\u001b[0m 666 \n",
            "Q 34+86   T 120  \u001b[91m☒\u001b[0m 110 \n",
            "Q 50+727  T 777  \u001b[91m☒\u001b[0m 766 \n",
            "Q 91+427  T 518  \u001b[92m☑\u001b[0m 518 \n",
            "\n",
            "--------------------------------------------------\n",
            "Iteration 10\n",
            "Train on 45000 samples, validate on 5000 samples\n",
            "Epoch 1/1\n",
            "45000/45000 [==============================] - 6s 126us/step - loss: 0.5657 - acc: 0.7862 - val_loss: 0.5611 - val_acc: 0.7845\n",
            "Q 670+69  T 739  \u001b[91m☒\u001b[0m 748 \n",
            "Q 137+71  T 208  \u001b[92m☑\u001b[0m 208 \n",
            "Q 25+887  T 912  \u001b[92m☑\u001b[0m 912 \n",
            "Q 175+4   T 179  \u001b[92m☑\u001b[0m 179 \n",
            "Q 88+593  T 681  \u001b[92m☑\u001b[0m 681 \n",
            "Q 134+6   T 140  \u001b[91m☒\u001b[0m 149 \n",
            "Q 219+91  T 310  \u001b[91m☒\u001b[0m 319 \n",
            "Q 18+344  T 362  \u001b[91m☒\u001b[0m 371 \n",
            "Q 681+117 T 798  \u001b[91m☒\u001b[0m 899 \n",
            "Q 443+8   T 451  \u001b[91m☒\u001b[0m 441 \n",
            "\n",
            "--------------------------------------------------\n",
            "Iteration 11\n",
            "Train on 45000 samples, validate on 5000 samples\n",
            "Epoch 1/1\n",
            "45000/45000 [==============================] - 6s 126us/step - loss: 0.5204 - acc: 0.8023 - val_loss: 0.5340 - val_acc: 0.7928\n",
            "Q 899+66  T 965  \u001b[91m☒\u001b[0m 966 \n",
            "Q 927+3   T 930  \u001b[92m☑\u001b[0m 930 \n",
            "Q 805+946 T 1751 \u001b[92m☑\u001b[0m 1751\n",
            "Q 252+11  T 263  \u001b[92m☑\u001b[0m 263 \n",
            "Q 604+430 T 1034 \u001b[91m☒\u001b[0m 933 \n",
            "Q 690+640 T 1330 \u001b[91m☒\u001b[0m 1336\n",
            "Q 220+68  T 288  \u001b[92m☑\u001b[0m 288 \n",
            "Q 277+30  T 307  \u001b[92m☑\u001b[0m 307 \n",
            "Q 770+463 T 1233 \u001b[91m☒\u001b[0m 1239\n",
            "Q 19+618  T 637  \u001b[92m☑\u001b[0m 637 \n",
            "\n",
            "--------------------------------------------------\n",
            "Iteration 12\n",
            "Train on 45000 samples, validate on 5000 samples\n",
            "Epoch 1/1\n",
            "45000/45000 [==============================] - 6s 125us/step - loss: 0.4806 - acc: 0.8190 - val_loss: 0.4886 - val_acc: 0.8153\n",
            "Q 33+113  T 146  \u001b[92m☑\u001b[0m 146 \n",
            "Q 8+969   T 977  \u001b[92m☑\u001b[0m 977 \n",
            "Q 822+447 T 1269 \u001b[91m☒\u001b[0m 1267\n",
            "Q 45+52   T 97   \u001b[91m☒\u001b[0m 99  \n",
            "Q 124+74  T 198  \u001b[91m☒\u001b[0m 298 \n",
            "Q 84+138  T 222  \u001b[92m☑\u001b[0m 222 \n",
            "Q 85+962  T 1047 \u001b[91m☒\u001b[0m 1056\n",
            "Q 27+607  T 634  \u001b[92m☑\u001b[0m 634 \n",
            "Q 4+892   T 896  \u001b[92m☑\u001b[0m 896 \n",
            "Q 67+240  T 307  \u001b[92m☑\u001b[0m 307 \n",
            "\n",
            "--------------------------------------------------\n",
            "Iteration 13\n",
            "Train on 45000 samples, validate on 5000 samples\n",
            "Epoch 1/1\n",
            "45000/45000 [==============================] - 6s 124us/step - loss: 0.4423 - acc: 0.8350 - val_loss: 0.4646 - val_acc: 0.8253\n",
            "Q 7+274   T 281  \u001b[92m☑\u001b[0m 281 \n",
            "Q 34+375  T 409  \u001b[91m☒\u001b[0m 419 \n",
            "Q 915+65  T 980  \u001b[91m☒\u001b[0m 970 \n",
            "Q 738+90  T 828  \u001b[92m☑\u001b[0m 828 \n",
            "Q 778+1   T 779  \u001b[91m☒\u001b[0m 789 \n",
            "Q 156+97  T 253  \u001b[92m☑\u001b[0m 253 \n",
            "Q 735+590 T 1325 \u001b[91m☒\u001b[0m 1334\n",
            "Q 515+8   T 523  \u001b[92m☑\u001b[0m 523 \n",
            "Q 81+18   T 99   \u001b[91m☒\u001b[0m 100 \n",
            "Q 36+233  T 269  \u001b[92m☑\u001b[0m 269 \n",
            "\n",
            "--------------------------------------------------\n",
            "Iteration 14\n",
            "Train on 45000 samples, validate on 5000 samples\n",
            "Epoch 1/1\n",
            "45000/45000 [==============================] - 6s 125us/step - loss: 0.4134 - acc: 0.8458 - val_loss: 0.4303 - val_acc: 0.8328\n",
            "Q 843+490 T 1333 \u001b[91m☒\u001b[0m 1332\n",
            "Q 949+73  T 1022 \u001b[91m☒\u001b[0m 1021\n",
            "Q 0+726   T 726  \u001b[92m☑\u001b[0m 726 \n",
            "Q 23+247  T 270  \u001b[91m☒\u001b[0m 260 \n",
            "Q 978+562 T 1540 \u001b[91m☒\u001b[0m 1532\n",
            "Q 387+960 T 1347 \u001b[91m☒\u001b[0m 1344\n",
            "Q 209+544 T 753  \u001b[91m☒\u001b[0m 655 \n",
            "Q 712+4   T 716  \u001b[92m☑\u001b[0m 716 \n",
            "Q 55+85   T 140  \u001b[92m☑\u001b[0m 140 \n",
            "Q 24+976  T 1000 \u001b[92m☑\u001b[0m 1000\n",
            "\n",
            "--------------------------------------------------\n",
            "Iteration 15\n",
            "Train on 45000 samples, validate on 5000 samples\n",
            "Epoch 1/1\n",
            "45000/45000 [==============================] - 6s 125us/step - loss: 0.3885 - acc: 0.8535 - val_loss: 0.4157 - val_acc: 0.8384\n",
            "Q 656+602 T 1258 \u001b[91m☒\u001b[0m 1261\n",
            "Q 8+170   T 178  \u001b[92m☑\u001b[0m 178 \n",
            "Q 940+49  T 989  \u001b[92m☑\u001b[0m 989 \n",
            "Q 30+572  T 602  \u001b[91m☒\u001b[0m 502 \n",
            "Q 185+41  T 226  \u001b[91m☒\u001b[0m 225 \n",
            "Q 118+221 T 339  \u001b[91m☒\u001b[0m 340 \n",
            "Q 359+73  T 432  \u001b[92m☑\u001b[0m 432 \n",
            "Q 875+0   T 875  \u001b[91m☒\u001b[0m 876 \n",
            "Q 130+55  T 185  \u001b[92m☑\u001b[0m 185 \n",
            "Q 221+51  T 272  \u001b[92m☑\u001b[0m 272 \n",
            "\n",
            "--------------------------------------------------\n",
            "Iteration 16\n",
            "Train on 45000 samples, validate on 5000 samples\n",
            "Epoch 1/1\n",
            "45000/45000 [==============================] - 6s 125us/step - loss: 0.3602 - acc: 0.8640 - val_loss: 0.3934 - val_acc: 0.8448\n",
            "Q 60+12   T 72   \u001b[92m☑\u001b[0m 72  \n",
            "Q 946+812 T 1758 \u001b[91m☒\u001b[0m 1765\n",
            "Q 813+4   T 817  \u001b[92m☑\u001b[0m 817 \n",
            "Q 695+6   T 701  \u001b[91m☒\u001b[0m 601 \n",
            "Q 9+62    T 71   \u001b[91m☒\u001b[0m 61  \n",
            "Q 445+365 T 810  \u001b[91m☒\u001b[0m 811 \n",
            "Q 133+0   T 133  \u001b[92m☑\u001b[0m 133 \n",
            "Q 2+306   T 308  \u001b[91m☒\u001b[0m 208 \n",
            "Q 77+9    T 86   \u001b[91m☒\u001b[0m 84  \n",
            "Q 652+3   T 655  \u001b[91m☒\u001b[0m 654 \n",
            "\n",
            "--------------------------------------------------\n",
            "Iteration 17\n",
            "Train on 45000 samples, validate on 5000 samples\n",
            "Epoch 1/1\n",
            "45000/45000 [==============================] - 6s 125us/step - loss: 0.3367 - acc: 0.8711 - val_loss: 0.3499 - val_acc: 0.8645\n",
            "Q 542+1   T 543  \u001b[92m☑\u001b[0m 543 \n",
            "Q 700+8   T 708  \u001b[92m☑\u001b[0m 708 \n",
            "Q 663+326 T 989  \u001b[91m☒\u001b[0m 990 \n",
            "Q 3+460   T 463  \u001b[92m☑\u001b[0m 463 \n",
            "Q 781+32  T 813  \u001b[92m☑\u001b[0m 813 \n",
            "Q 707+666 T 1373 \u001b[91m☒\u001b[0m 1374\n",
            "Q 632+3   T 635  \u001b[91m☒\u001b[0m 636 \n",
            "Q 717+184 T 901  \u001b[91m☒\u001b[0m 891 \n",
            "Q 451+71  T 522  \u001b[92m☑\u001b[0m 522 \n",
            "Q 818+841 T 1659 \u001b[91m☒\u001b[0m 1567\n",
            "\n",
            "--------------------------------------------------\n",
            "Iteration 18\n",
            "Train on 45000 samples, validate on 5000 samples\n",
            "Epoch 1/1\n",
            "45000/45000 [==============================] - 6s 124us/step - loss: 0.3024 - acc: 0.8855 - val_loss: 0.3335 - val_acc: 0.8712\n",
            "Q 33+692  T 725  \u001b[92m☑\u001b[0m 725 \n",
            "Q 778+804 T 1582 \u001b[91m☒\u001b[0m 1571\n",
            "Q 332+931 T 1263 \u001b[92m☑\u001b[0m 1263\n",
            "Q 948+5   T 953  \u001b[92m☑\u001b[0m 953 \n",
            "Q 800+687 T 1487 \u001b[92m☑\u001b[0m 1487\n",
            "Q 194+902 T 1096 \u001b[91m☒\u001b[0m 1196\n",
            "Q 324+11  T 335  \u001b[92m☑\u001b[0m 335 \n",
            "Q 217+6   T 223  \u001b[91m☒\u001b[0m 224 \n",
            "Q 801+963 T 1764 \u001b[91m☒\u001b[0m 1765\n",
            "Q 620+9   T 629  \u001b[92m☑\u001b[0m 629 \n",
            "\n",
            "--------------------------------------------------\n",
            "Iteration 19\n",
            "Train on 45000 samples, validate on 5000 samples\n",
            "Epoch 1/1\n",
            "45000/45000 [==============================] - 6s 125us/step - loss: 0.2883 - acc: 0.8897 - val_loss: 0.3023 - val_acc: 0.8833\n",
            "Q 38+69   T 107  \u001b[92m☑\u001b[0m 107 \n",
            "Q 854+163 T 1017 \u001b[91m☒\u001b[0m 1015\n",
            "Q 609+912 T 1521 \u001b[92m☑\u001b[0m 1521\n",
            "Q 906+88  T 994  \u001b[92m☑\u001b[0m 994 \n",
            "Q 971+8   T 979  \u001b[92m☑\u001b[0m 979 \n",
            "Q 911+537 T 1448 \u001b[91m☒\u001b[0m 1449\n",
            "Q 315+71  T 386  \u001b[91m☒\u001b[0m 385 \n",
            "Q 874+95  T 969  \u001b[92m☑\u001b[0m 969 \n",
            "Q 335+76  T 411  \u001b[92m☑\u001b[0m 411 \n",
            "Q 988+89  T 1077 \u001b[91m☒\u001b[0m 1076\n",
            "\n",
            "--------------------------------------------------\n",
            "Iteration 20\n",
            "Train on 45000 samples, validate on 5000 samples\n",
            "Epoch 1/1\n",
            "45000/45000 [==============================] - 6s 126us/step - loss: 0.2671 - acc: 0.8991 - val_loss: 0.3030 - val_acc: 0.8819\n",
            "Q 18+672  T 690  \u001b[92m☑\u001b[0m 690 \n",
            "Q 620+84  T 704  \u001b[92m☑\u001b[0m 704 \n",
            "Q 125+868 T 993  \u001b[91m☒\u001b[0m 1003\n",
            "Q 886+828 T 1714 \u001b[91m☒\u001b[0m 1703\n",
            "Q 70+32   T 102  \u001b[92m☑\u001b[0m 102 \n",
            "Q 80+927  T 1007 \u001b[92m☑\u001b[0m 1007\n",
            "Q 322+52  T 374  \u001b[92m☑\u001b[0m 374 \n",
            "Q 406+243 T 649  \u001b[91m☒\u001b[0m 659 \n",
            "Q 381+3   T 384  \u001b[92m☑\u001b[0m 384 \n",
            "Q 18+72   T 90   \u001b[91m☒\u001b[0m 80  \n",
            "\n",
            "--------------------------------------------------\n",
            "Iteration 21\n",
            "Train on 45000 samples, validate on 5000 samples\n",
            "Epoch 1/1\n",
            "45000/45000 [==============================] - 6s 125us/step - loss: 0.2489 - acc: 0.9067 - val_loss: 0.2651 - val_acc: 0.9003\n",
            "Q 327+6   T 333  \u001b[92m☑\u001b[0m 333 \n",
            "Q 67+201  T 268  \u001b[91m☒\u001b[0m 168 \n",
            "Q 195+887 T 1082 \u001b[92m☑\u001b[0m 1082\n",
            "Q 99+108  T 207  \u001b[92m☑\u001b[0m 207 \n",
            "Q 52+423  T 475  \u001b[92m☑\u001b[0m 475 \n",
            "Q 658+4   T 662  \u001b[92m☑\u001b[0m 662 \n",
            "Q 52+48   T 100  \u001b[92m☑\u001b[0m 100 \n",
            "Q 24+998  T 1022 \u001b[91m☒\u001b[0m 1023\n",
            "Q 379+490 T 869  \u001b[91m☒\u001b[0m 868 \n",
            "Q 23+442  T 465  \u001b[92m☑\u001b[0m 465 \n",
            "\n",
            "--------------------------------------------------\n",
            "Iteration 22\n",
            "Train on 45000 samples, validate on 5000 samples\n",
            "Epoch 1/1\n",
            "45000/45000 [==============================] - 6s 125us/step - loss: 0.2336 - acc: 0.9130 - val_loss: 0.2630 - val_acc: 0.8997\n",
            "Q 949+47  T 996  \u001b[91m☒\u001b[0m 908 \n",
            "Q 607+58  T 665  \u001b[92m☑\u001b[0m 665 \n",
            "Q 955+759 T 1714 \u001b[91m☒\u001b[0m 1703\n",
            "Q 16+355  T 371  \u001b[92m☑\u001b[0m 371 \n",
            "Q 74+349  T 423  \u001b[92m☑\u001b[0m 423 \n",
            "Q 51+542  T 593  \u001b[92m☑\u001b[0m 593 \n",
            "Q 5+68    T 73   \u001b[92m☑\u001b[0m 73  \n",
            "Q 775+665 T 1440 \u001b[92m☑\u001b[0m 1440\n",
            "Q 92+406  T 498  \u001b[92m☑\u001b[0m 498 \n",
            "Q 32+177  T 209  \u001b[92m☑\u001b[0m 209 \n",
            "\n",
            "--------------------------------------------------\n",
            "Iteration 23\n",
            "Train on 45000 samples, validate on 5000 samples\n",
            "Epoch 1/1\n",
            "45000/45000 [==============================] - 6s 126us/step - loss: 0.2162 - acc: 0.9198 - val_loss: 0.2367 - val_acc: 0.9096\n",
            "Q 277+665 T 942  \u001b[92m☑\u001b[0m 942 \n",
            "Q 157+63  T 220  \u001b[92m☑\u001b[0m 220 \n",
            "Q 950+84  T 1034 \u001b[92m☑\u001b[0m 1034\n",
            "Q 119+86  T 205  \u001b[92m☑\u001b[0m 205 \n",
            "Q 385+3   T 388  \u001b[92m☑\u001b[0m 388 \n",
            "Q 88+66   T 154  \u001b[91m☒\u001b[0m 155 \n",
            "Q 74+821  T 895  \u001b[92m☑\u001b[0m 895 \n",
            "Q 7+639   T 646  \u001b[92m☑\u001b[0m 646 \n",
            "Q 6+786   T 792  \u001b[92m☑\u001b[0m 792 \n",
            "Q 44+141  T 185  \u001b[91m☒\u001b[0m 186 \n",
            "\n",
            "--------------------------------------------------\n",
            "Iteration 24\n",
            "Train on 45000 samples, validate on 5000 samples\n",
            "Epoch 1/1\n",
            "45000/45000 [==============================] - 6s 125us/step - loss: 0.2041 - acc: 0.9246 - val_loss: 0.2146 - val_acc: 0.9209\n",
            "Q 852+10  T 862  \u001b[92m☑\u001b[0m 862 \n",
            "Q 128+124 T 252  \u001b[91m☒\u001b[0m 352 \n",
            "Q 107+139 T 246  \u001b[91m☒\u001b[0m 346 \n",
            "Q 780+234 T 1014 \u001b[91m☒\u001b[0m 1024\n",
            "Q 8+297   T 305  \u001b[92m☑\u001b[0m 305 \n",
            "Q 83+535  T 618  \u001b[92m☑\u001b[0m 618 \n",
            "Q 589+67  T 656  \u001b[92m☑\u001b[0m 656 \n",
            "Q 35+190  T 225  \u001b[92m☑\u001b[0m 225 \n",
            "Q 819+48  T 867  \u001b[92m☑\u001b[0m 867 \n",
            "Q 345+341 T 686  \u001b[92m☑\u001b[0m 686 \n",
            "\n",
            "--------------------------------------------------\n",
            "Iteration 25\n",
            "Train on 45000 samples, validate on 5000 samples\n",
            "Epoch 1/1\n",
            "45000/45000 [==============================] - 6s 126us/step - loss: 0.1954 - acc: 0.9281 - val_loss: 0.2376 - val_acc: 0.9118\n",
            "Q 464+488 T 952  \u001b[92m☑\u001b[0m 952 \n",
            "Q 726+787 T 1513 \u001b[91m☒\u001b[0m 1523\n",
            "Q 793+719 T 1512 \u001b[91m☒\u001b[0m 1502\n",
            "Q 195+528 T 723  \u001b[91m☒\u001b[0m 823 \n",
            "Q 253+318 T 571  \u001b[92m☑\u001b[0m 571 \n",
            "Q 846+16  T 862  \u001b[92m☑\u001b[0m 862 \n",
            "Q 83+786  T 869  \u001b[92m☑\u001b[0m 869 \n",
            "Q 757+95  T 852  \u001b[92m☑\u001b[0m 852 \n",
            "Q 98+684  T 782  \u001b[91m☒\u001b[0m 781 \n",
            "Q 181+11  T 192  \u001b[91m☒\u001b[0m 292 \n",
            "\n",
            "--------------------------------------------------\n",
            "Iteration 26\n",
            "Train on 45000 samples, validate on 5000 samples\n",
            "Epoch 1/1\n",
            "45000/45000 [==============================] - 6s 125us/step - loss: 0.1907 - acc: 0.9294 - val_loss: 0.1964 - val_acc: 0.9288\n",
            "Q 909+95  T 1004 \u001b[91m☒\u001b[0m 100 \n",
            "Q 55+687  T 742  \u001b[92m☑\u001b[0m 742 \n",
            "Q 779+54  T 833  \u001b[92m☑\u001b[0m 833 \n",
            "Q 225+50  T 275  \u001b[92m☑\u001b[0m 275 \n",
            "Q 843+41  T 884  \u001b[92m☑\u001b[0m 884 \n",
            "Q 754+693 T 1447 \u001b[91m☒\u001b[0m 1448\n",
            "Q 906+88  T 994  \u001b[92m☑\u001b[0m 994 \n",
            "Q 353+956 T 1309 \u001b[91m☒\u001b[0m 1319\n",
            "Q 231+310 T 541  \u001b[92m☑\u001b[0m 541 \n",
            "Q 1+238   T 239  \u001b[92m☑\u001b[0m 239 \n",
            "\n",
            "--------------------------------------------------\n",
            "Iteration 27\n",
            "Train on 45000 samples, validate on 5000 samples\n",
            "Epoch 1/1\n",
            "45000/45000 [==============================] - 6s 126us/step - loss: 0.1844 - acc: 0.9311 - val_loss: 0.2753 - val_acc: 0.8969\n",
            "Q 818+595 T 1413 \u001b[92m☑\u001b[0m 1413\n",
            "Q 55+399  T 454  \u001b[92m☑\u001b[0m 454 \n",
            "Q 859+769 T 1628 \u001b[92m☑\u001b[0m 1628\n",
            "Q 739+79  T 818  \u001b[92m☑\u001b[0m 818 \n",
            "Q 75+11   T 86   \u001b[92m☑\u001b[0m 86  \n",
            "Q 768+10  T 778  \u001b[92m☑\u001b[0m 778 \n",
            "Q 10+309  T 319  \u001b[92m☑\u001b[0m 319 \n",
            "Q 16+622  T 638  \u001b[92m☑\u001b[0m 638 \n",
            "Q 4+885   T 889  \u001b[92m☑\u001b[0m 889 \n",
            "Q 8+807   T 815  \u001b[92m☑\u001b[0m 815 \n",
            "\n",
            "--------------------------------------------------\n",
            "Iteration 28\n",
            "Train on 45000 samples, validate on 5000 samples\n",
            "Epoch 1/1\n",
            "45000/45000 [==============================] - 6s 124us/step - loss: 0.1772 - acc: 0.9343 - val_loss: 0.1822 - val_acc: 0.9319\n",
            "Q 38+997  T 1035 \u001b[92m☑\u001b[0m 1035\n",
            "Q 1+467   T 468  \u001b[92m☑\u001b[0m 468 \n",
            "Q 369+572 T 941  \u001b[91m☒\u001b[0m 942 \n",
            "Q 194+54  T 248  \u001b[91m☒\u001b[0m 258 \n",
            "Q 84+688  T 772  \u001b[92m☑\u001b[0m 772 \n",
            "Q 132+40  T 172  \u001b[92m☑\u001b[0m 172 \n",
            "Q 93+35   T 128  \u001b[92m☑\u001b[0m 128 \n",
            "Q 998+824 T 1822 \u001b[91m☒\u001b[0m 1821\n",
            "Q 69+24   T 93   \u001b[92m☑\u001b[0m 93  \n",
            "Q 883+50  T 933  \u001b[91m☒\u001b[0m 932 \n",
            "\n",
            "--------------------------------------------------\n",
            "Iteration 29\n",
            "Train on 45000 samples, validate on 5000 samples\n",
            "Epoch 1/1\n",
            "45000/45000 [==============================] - 6s 125us/step - loss: 0.1594 - acc: 0.9416 - val_loss: 0.2195 - val_acc: 0.9175\n",
            "Q 82+195  T 277  \u001b[92m☑\u001b[0m 277 \n",
            "Q 7+520   T 527  \u001b[92m☑\u001b[0m 527 \n",
            "Q 76+914  T 990  \u001b[92m☑\u001b[0m 990 \n",
            "Q 55+669  T 724  \u001b[92m☑\u001b[0m 724 \n",
            "Q 867+262 T 1129 \u001b[91m☒\u001b[0m 1121\n",
            "Q 243+297 T 540  \u001b[91m☒\u001b[0m 549 \n",
            "Q 2+440   T 442  \u001b[92m☑\u001b[0m 442 \n",
            "Q 478+903 T 1381 \u001b[91m☒\u001b[0m 1372\n",
            "Q 341+93  T 434  \u001b[92m☑\u001b[0m 434 \n",
            "Q 268+81  T 349  \u001b[92m☑\u001b[0m 349 \n",
            "\n",
            "--------------------------------------------------\n",
            "Iteration 30\n",
            "Train on 45000 samples, validate on 5000 samples\n",
            "Epoch 1/1\n",
            "45000/45000 [==============================] - 6s 125us/step - loss: 0.1623 - acc: 0.9406 - val_loss: 0.2262 - val_acc: 0.9147\n",
            "Q 907+7   T 914  \u001b[92m☑\u001b[0m 914 \n",
            "Q 834+4   T 838  \u001b[91m☒\u001b[0m 837 \n",
            "Q 165+76  T 241  \u001b[91m☒\u001b[0m 231 \n",
            "Q 9+304   T 313  \u001b[92m☑\u001b[0m 313 \n",
            "Q 851+84  T 935  \u001b[92m☑\u001b[0m 935 \n",
            "Q 214+352 T 566  \u001b[92m☑\u001b[0m 566 \n",
            "Q 185+28  T 213  \u001b[92m☑\u001b[0m 213 \n",
            "Q 503+88  T 591  \u001b[92m☑\u001b[0m 591 \n",
            "Q 133+835 T 968  \u001b[91m☒\u001b[0m 978 \n",
            "Q 9+626   T 635  \u001b[92m☑\u001b[0m 635 \n",
            "\n",
            "--------------------------------------------------\n",
            "Iteration 31\n",
            "Train on 45000 samples, validate on 5000 samples\n",
            "Epoch 1/1\n",
            "45000/45000 [==============================] - 6s 126us/step - loss: 0.1502 - acc: 0.9452 - val_loss: 0.1813 - val_acc: 0.9319\n",
            "Q 235+867 T 1102 \u001b[91m☒\u001b[0m 1192\n",
            "Q 69+90   T 159  \u001b[91m☒\u001b[0m 169 \n",
            "Q 55+559  T 614  \u001b[92m☑\u001b[0m 614 \n",
            "Q 62+153  T 215  \u001b[92m☑\u001b[0m 215 \n",
            "Q 245+412 T 657  \u001b[92m☑\u001b[0m 657 \n",
            "Q 3+683   T 686  \u001b[91m☒\u001b[0m 687 \n",
            "Q 75+109  T 184  \u001b[92m☑\u001b[0m 184 \n",
            "Q 16+229  T 245  \u001b[92m☑\u001b[0m 245 \n",
            "Q 378+56  T 434  \u001b[92m☑\u001b[0m 434 \n",
            "Q 83+565  T 648  \u001b[92m☑\u001b[0m 648 \n",
            "\n",
            "--------------------------------------------------\n",
            "Iteration 32\n",
            "Train on 45000 samples, validate on 5000 samples\n",
            "Epoch 1/1\n",
            "45000/45000 [==============================] - 6s 125us/step - loss: 0.1610 - acc: 0.9397 - val_loss: 0.1804 - val_acc: 0.9315\n",
            "Q 434+70  T 504  \u001b[92m☑\u001b[0m 504 \n",
            "Q 597+798 T 1395 \u001b[91m☒\u001b[0m 1295\n",
            "Q 60+12   T 72   \u001b[92m☑\u001b[0m 72  \n",
            "Q 82+86   T 168  \u001b[92m☑\u001b[0m 168 \n",
            "Q 52+252  T 304  \u001b[92m☑\u001b[0m 304 \n",
            "Q 3+217   T 220  \u001b[92m☑\u001b[0m 220 \n",
            "Q 66+20   T 86   \u001b[92m☑\u001b[0m 86  \n",
            "Q 533+68  T 601  \u001b[92m☑\u001b[0m 601 \n",
            "Q 1+845   T 846  \u001b[92m☑\u001b[0m 846 \n",
            "Q 826+288 T 1114 \u001b[92m☑\u001b[0m 1114\n",
            "\n",
            "--------------------------------------------------\n",
            "Iteration 33\n",
            "Train on 45000 samples, validate on 5000 samples\n",
            "Epoch 1/1\n",
            "45000/45000 [==============================] - 6s 125us/step - loss: 0.1404 - acc: 0.9495 - val_loss: 0.2002 - val_acc: 0.9239\n",
            "Q 295+1   T 296  \u001b[92m☑\u001b[0m 296 \n",
            "Q 263+149 T 412  \u001b[92m☑\u001b[0m 412 \n",
            "Q 763+40  T 803  \u001b[92m☑\u001b[0m 803 \n",
            "Q 414+474 T 888  \u001b[92m☑\u001b[0m 888 \n",
            "Q 22+503  T 525  \u001b[92m☑\u001b[0m 525 \n",
            "Q 9+342   T 351  \u001b[92m☑\u001b[0m 351 \n",
            "Q 918+86  T 1004 \u001b[92m☑\u001b[0m 1004\n",
            "Q 41+444  T 485  \u001b[92m☑\u001b[0m 485 \n",
            "Q 778+47  T 825  \u001b[92m☑\u001b[0m 825 \n",
            "Q 42+760  T 802  \u001b[92m☑\u001b[0m 802 \n",
            "\n",
            "--------------------------------------------------\n",
            "Iteration 34\n",
            "Train on 45000 samples, validate on 5000 samples\n",
            "Epoch 1/1\n",
            "45000/45000 [==============================] - 6s 125us/step - loss: 0.1497 - acc: 0.9449 - val_loss: 0.2002 - val_acc: 0.9261\n",
            "Q 277+30  T 307  \u001b[91m☒\u001b[0m 297 \n",
            "Q 935+71  T 1006 \u001b[91m☒\u001b[0m 1076\n",
            "Q 63+69   T 132  \u001b[92m☑\u001b[0m 132 \n",
            "Q 824+61  T 885  \u001b[91m☒\u001b[0m 884 \n",
            "Q 1+112   T 113  \u001b[92m☑\u001b[0m 113 \n",
            "Q 26+94   T 120  \u001b[91m☒\u001b[0m 121 \n",
            "Q 978+157 T 1135 \u001b[92m☑\u001b[0m 1135\n",
            "Q 81+499  T 580  \u001b[91m☒\u001b[0m 570 \n",
            "Q 47+6    T 53   \u001b[91m☒\u001b[0m 54  \n",
            "Q 765+29  T 794  \u001b[92m☑\u001b[0m 794 \n",
            "\n",
            "--------------------------------------------------\n",
            "Iteration 35\n",
            "Train on 45000 samples, validate on 5000 samples\n",
            "Epoch 1/1\n",
            "45000/45000 [==============================] - 6s 125us/step - loss: 0.1372 - acc: 0.9499 - val_loss: 0.1803 - val_acc: 0.9345\n",
            "Q 69+466  T 535  \u001b[92m☑\u001b[0m 535 \n",
            "Q 519+239 T 758  \u001b[92m☑\u001b[0m 758 \n",
            "Q 89+501  T 590  \u001b[92m☑\u001b[0m 590 \n",
            "Q 5+164   T 169  \u001b[92m☑\u001b[0m 169 \n",
            "Q 70+32   T 102  \u001b[92m☑\u001b[0m 102 \n",
            "Q 171+82  T 253  \u001b[92m☑\u001b[0m 253 \n",
            "Q 552+83  T 635  \u001b[92m☑\u001b[0m 635 \n",
            "Q 390+872 T 1262 \u001b[92m☑\u001b[0m 1262\n",
            "Q 6+812   T 818  \u001b[92m☑\u001b[0m 818 \n",
            "Q 833+15  T 848  \u001b[92m☑\u001b[0m 848 \n",
            "\n",
            "--------------------------------------------------\n",
            "Iteration 36\n",
            "Train on 45000 samples, validate on 5000 samples\n",
            "Epoch 1/1\n",
            "45000/45000 [==============================] - 6s 126us/step - loss: 0.1274 - acc: 0.9540 - val_loss: 0.1480 - val_acc: 0.9460\n",
            "Q 1+845   T 846  \u001b[92m☑\u001b[0m 846 \n",
            "Q 90+990  T 1080 \u001b[92m☑\u001b[0m 1080\n",
            "Q 108+95  T 203  \u001b[91m☒\u001b[0m 202 \n",
            "Q 647+833 T 1480 \u001b[91m☒\u001b[0m 1470\n",
            "Q 692+415 T 1107 \u001b[92m☑\u001b[0m 1107\n",
            "Q 20+183  T 203  \u001b[92m☑\u001b[0m 203 \n",
            "Q 717+184 T 901  \u001b[91m☒\u001b[0m 801 \n",
            "Q 27+14   T 41   \u001b[92m☑\u001b[0m 41  \n",
            "Q 438+822 T 1260 \u001b[91m☒\u001b[0m 1250\n",
            "Q 35+210  T 245  \u001b[92m☑\u001b[0m 245 \n",
            "\n",
            "--------------------------------------------------\n",
            "Iteration 37\n",
            "Train on 45000 samples, validate on 5000 samples\n",
            "Epoch 1/1\n",
            "45000/45000 [==============================] - 6s 125us/step - loss: 0.1346 - acc: 0.9506 - val_loss: 0.1775 - val_acc: 0.9323\n",
            "Q 378+84  T 462  \u001b[91m☒\u001b[0m 463 \n",
            "Q 80+93   T 173  \u001b[92m☑\u001b[0m 173 \n",
            "Q 337+89  T 426  \u001b[92m☑\u001b[0m 426 \n",
            "Q 85+962  T 1047 \u001b[92m☑\u001b[0m 1047\n",
            "Q 648+61  T 709  \u001b[92m☑\u001b[0m 709 \n",
            "Q 4+928   T 932  \u001b[92m☑\u001b[0m 932 \n",
            "Q 815+746 T 1561 \u001b[92m☑\u001b[0m 1561\n",
            "Q 486+57  T 543  \u001b[92m☑\u001b[0m 543 \n",
            "Q 442+181 T 623  \u001b[92m☑\u001b[0m 623 \n",
            "Q 81+689  T 770  \u001b[91m☒\u001b[0m 760 \n",
            "\n",
            "--------------------------------------------------\n",
            "Iteration 38\n",
            "Train on 45000 samples, validate on 5000 samples\n",
            "Epoch 1/1\n",
            "45000/45000 [==============================] - 6s 126us/step - loss: 0.1250 - acc: 0.9542 - val_loss: 0.1310 - val_acc: 0.9533\n",
            "Q 48+829  T 877  \u001b[92m☑\u001b[0m 877 \n",
            "Q 7+432   T 439  \u001b[92m☑\u001b[0m 439 \n",
            "Q 237+24  T 261  \u001b[92m☑\u001b[0m 261 \n",
            "Q 423+6   T 429  \u001b[92m☑\u001b[0m 429 \n",
            "Q 527+310 T 837  \u001b[92m☑\u001b[0m 837 \n",
            "Q 48+25   T 73   \u001b[91m☒\u001b[0m 72  \n",
            "Q 34+375  T 409  \u001b[91m☒\u001b[0m 419 \n",
            "Q 40+88   T 128  \u001b[92m☑\u001b[0m 128 \n",
            "Q 898+678 T 1576 \u001b[92m☑\u001b[0m 1576\n",
            "Q 28+196  T 224  \u001b[92m☑\u001b[0m 224 \n",
            "\n",
            "--------------------------------------------------\n",
            "Iteration 39\n",
            "Train on 45000 samples, validate on 5000 samples\n",
            "Epoch 1/1\n",
            "45000/45000 [==============================] - 6s 126us/step - loss: 0.1217 - acc: 0.9564 - val_loss: 0.1943 - val_acc: 0.9282\n",
            "Q 831+672 T 1503 \u001b[92m☑\u001b[0m 1503\n",
            "Q 320+38  T 358  \u001b[92m☑\u001b[0m 358 \n",
            "Q 562+82  T 644  \u001b[91m☒\u001b[0m 645 \n",
            "Q 591+73  T 664  \u001b[92m☑\u001b[0m 664 \n",
            "Q 278+8   T 286  \u001b[92m☑\u001b[0m 286 \n",
            "Q 371+37  T 408  \u001b[92m☑\u001b[0m 408 \n",
            "Q 981+300 T 1281 \u001b[92m☑\u001b[0m 1281\n",
            "Q 38+858  T 896  \u001b[92m☑\u001b[0m 896 \n",
            "Q 79+569  T 648  \u001b[92m☑\u001b[0m 648 \n",
            "Q 814+270 T 1084 \u001b[91m☒\u001b[0m 1085\n",
            "\n",
            "--------------------------------------------------\n",
            "Iteration 40\n",
            "Train on 45000 samples, validate on 5000 samples\n",
            "Epoch 1/1\n",
            "45000/45000 [==============================] - 6s 125us/step - loss: 0.1177 - acc: 0.9576 - val_loss: 0.1272 - val_acc: 0.9527\n",
            "Q 80+30   T 110  \u001b[92m☑\u001b[0m 110 \n",
            "Q 97+11   T 108  \u001b[92m☑\u001b[0m 108 \n",
            "Q 173+48  T 221  \u001b[91m☒\u001b[0m 211 \n",
            "Q 425+810 T 1235 \u001b[91m☒\u001b[0m 1246\n",
            "Q 815+55  T 870  \u001b[92m☑\u001b[0m 870 \n",
            "Q 27+883  T 910  \u001b[92m☑\u001b[0m 910 \n",
            "Q 94+151  T 245  \u001b[92m☑\u001b[0m 245 \n",
            "Q 267+196 T 463  \u001b[91m☒\u001b[0m 464 \n",
            "Q 68+423  T 491  \u001b[92m☑\u001b[0m 491 \n",
            "Q 774+9   T 783  \u001b[92m☑\u001b[0m 783 \n",
            "\n",
            "--------------------------------------------------\n",
            "Iteration 41\n",
            "Train on 45000 samples, validate on 5000 samples\n",
            "Epoch 1/1\n",
            "45000/45000 [==============================] - 6s 126us/step - loss: 0.1264 - acc: 0.9534 - val_loss: 0.1479 - val_acc: 0.9458\n",
            "Q 995+98  T 1093 \u001b[92m☑\u001b[0m 1093\n",
            "Q 57+191  T 248  \u001b[92m☑\u001b[0m 248 \n",
            "Q 633+83  T 716  \u001b[92m☑\u001b[0m 716 \n",
            "Q 819+4   T 823  \u001b[91m☒\u001b[0m 822 \n",
            "Q 62+260  T 322  \u001b[92m☑\u001b[0m 322 \n",
            "Q 780+5   T 785  \u001b[92m☑\u001b[0m 785 \n",
            "Q 16+795  T 811  \u001b[92m☑\u001b[0m 811 \n",
            "Q 341+93  T 434  \u001b[92m☑\u001b[0m 434 \n",
            "Q 443+450 T 893  \u001b[92m☑\u001b[0m 893 \n",
            "Q 376+479 T 855  \u001b[91m☒\u001b[0m 854 \n",
            "\n",
            "--------------------------------------------------\n",
            "Iteration 42\n",
            "Train on 45000 samples, validate on 5000 samples\n",
            "Epoch 1/1\n",
            "45000/45000 [==============================] - 6s 126us/step - loss: 0.1380 - acc: 0.9521 - val_loss: 0.2534 - val_acc: 0.9040\n",
            "Q 99+47   T 146  \u001b[92m☑\u001b[0m 146 \n",
            "Q 930+679 T 1609 \u001b[91m☒\u001b[0m 1619\n",
            "Q 640+63  T 703  \u001b[91m☒\u001b[0m 603 \n",
            "Q 37+506  T 543  \u001b[92m☑\u001b[0m 543 \n",
            "Q 220+707 T 927  \u001b[92m☑\u001b[0m 927 \n",
            "Q 948+5   T 953  \u001b[92m☑\u001b[0m 953 \n",
            "Q 325+71  T 396  \u001b[92m☑\u001b[0m 396 \n",
            "Q 63+102  T 165  \u001b[91m☒\u001b[0m 164 \n",
            "Q 665+38  T 703  \u001b[92m☑\u001b[0m 703 \n",
            "Q 588+328 T 916  \u001b[91m☒\u001b[0m 915 \n",
            "\n",
            "--------------------------------------------------\n",
            "Iteration 43\n",
            "Train on 45000 samples, validate on 5000 samples\n",
            "Epoch 1/1\n",
            "45000/45000 [==============================] - 6s 126us/step - loss: 0.1083 - acc: 0.9617 - val_loss: 0.1508 - val_acc: 0.9465\n",
            "Q 962+414 T 1376 \u001b[92m☑\u001b[0m 1376\n",
            "Q 33+25   T 58   \u001b[91m☒\u001b[0m 57  \n",
            "Q 614+207 T 821  \u001b[92m☑\u001b[0m 821 \n",
            "Q 58+189  T 247  \u001b[92m☑\u001b[0m 247 \n",
            "Q 950+84  T 1034 \u001b[92m☑\u001b[0m 1034\n",
            "Q 956+70  T 1026 \u001b[92m☑\u001b[0m 1026\n",
            "Q 814+456 T 1270 \u001b[91m☒\u001b[0m 1260\n",
            "Q 62+468  T 530  \u001b[92m☑\u001b[0m 530 \n",
            "Q 83+150  T 233  \u001b[92m☑\u001b[0m 233 \n",
            "Q 971+8   T 979  \u001b[91m☒\u001b[0m 970 \n",
            "\n",
            "--------------------------------------------------\n",
            "Iteration 44\n",
            "Train on 45000 samples, validate on 5000 samples\n",
            "Epoch 1/1\n",
            "45000/45000 [==============================] - 6s 124us/step - loss: 0.0999 - acc: 0.9648 - val_loss: 0.1193 - val_acc: 0.9554\n",
            "Q 550+2   T 552  \u001b[92m☑\u001b[0m 552 \n",
            "Q 6+550   T 556  \u001b[92m☑\u001b[0m 556 \n",
            "Q 93+11   T 104  \u001b[92m☑\u001b[0m 104 \n",
            "Q 14+512  T 526  \u001b[92m☑\u001b[0m 526 \n",
            "Q 894+24  T 918  \u001b[92m☑\u001b[0m 918 \n",
            "Q 30+737  T 767  \u001b[92m☑\u001b[0m 767 \n",
            "Q 668+44  T 712  \u001b[92m☑\u001b[0m 712 \n",
            "Q 347+987 T 1334 \u001b[92m☑\u001b[0m 1334\n",
            "Q 856+52  T 908  \u001b[92m☑\u001b[0m 908 \n",
            "Q 3+293   T 296  \u001b[92m☑\u001b[0m 296 \n",
            "\n",
            "--------------------------------------------------\n",
            "Iteration 45\n",
            "Train on 45000 samples, validate on 5000 samples\n",
            "Epoch 1/1\n",
            "45000/45000 [==============================] - 6s 124us/step - loss: 0.1219 - acc: 0.9561 - val_loss: 0.1671 - val_acc: 0.9385\n",
            "Q 729+82  T 811  \u001b[92m☑\u001b[0m 811 \n",
            "Q 99+155  T 254  \u001b[92m☑\u001b[0m 254 \n",
            "Q 5+918   T 923  \u001b[92m☑\u001b[0m 923 \n",
            "Q 1+26    T 27   \u001b[91m☒\u001b[0m 28  \n",
            "Q 325+148 T 473  \u001b[91m☒\u001b[0m 463 \n",
            "Q 68+43   T 111  \u001b[91m☒\u001b[0m 112 \n",
            "Q 719+91  T 810  \u001b[92m☑\u001b[0m 810 \n",
            "Q 45+84   T 129  \u001b[91m☒\u001b[0m 139 \n",
            "Q 65+555  T 620  \u001b[92m☑\u001b[0m 620 \n",
            "Q 561+606 T 1167 \u001b[92m☑\u001b[0m 1167\n",
            "\n",
            "--------------------------------------------------\n",
            "Iteration 46\n",
            "Train on 45000 samples, validate on 5000 samples\n",
            "Epoch 1/1\n",
            "45000/45000 [==============================] - 6s 125us/step - loss: 0.0982 - acc: 0.9651 - val_loss: 0.1333 - val_acc: 0.9514\n",
            "Q 870+27  T 897  \u001b[92m☑\u001b[0m 897 \n",
            "Q 95+700  T 795  \u001b[92m☑\u001b[0m 795 \n",
            "Q 85+542  T 627  \u001b[92m☑\u001b[0m 627 \n",
            "Q 535+3   T 538  \u001b[92m☑\u001b[0m 538 \n",
            "Q 850+72  T 922  \u001b[92m☑\u001b[0m 922 \n",
            "Q 745+735 T 1480 \u001b[92m☑\u001b[0m 1480\n",
            "Q 52+113  T 165  \u001b[92m☑\u001b[0m 165 \n",
            "Q 643+84  T 727  \u001b[92m☑\u001b[0m 727 \n",
            "Q 521+54  T 575  \u001b[92m☑\u001b[0m 575 \n",
            "Q 60+5    T 65   \u001b[92m☑\u001b[0m 65  \n",
            "\n",
            "--------------------------------------------------\n",
            "Iteration 47\n",
            "Train on 45000 samples, validate on 5000 samples\n",
            "Epoch 1/1\n",
            "45000/45000 [==============================] - 6s 126us/step - loss: 0.0916 - acc: 0.9681 - val_loss: 0.1566 - val_acc: 0.9401\n",
            "Q 81+6    T 87   \u001b[92m☑\u001b[0m 87  \n",
            "Q 71+21   T 92   \u001b[92m☑\u001b[0m 92  \n",
            "Q 898+837 T 1735 \u001b[92m☑\u001b[0m 1735\n",
            "Q 517+850 T 1367 \u001b[92m☑\u001b[0m 1367\n",
            "Q 902+35  T 937  \u001b[92m☑\u001b[0m 937 \n",
            "Q 224+358 T 582  \u001b[92m☑\u001b[0m 582 \n",
            "Q 994+444 T 1438 \u001b[92m☑\u001b[0m 1438\n",
            "Q 908+273 T 1181 \u001b[91m☒\u001b[0m 1189\n",
            "Q 738+79  T 817  \u001b[92m☑\u001b[0m 817 \n",
            "Q 39+553  T 592  \u001b[92m☑\u001b[0m 592 \n",
            "\n",
            "--------------------------------------------------\n",
            "Iteration 48\n",
            "Train on 45000 samples, validate on 5000 samples\n",
            "Epoch 1/1\n",
            "45000/45000 [==============================] - 6s 125us/step - loss: 0.1097 - acc: 0.9596 - val_loss: 0.1183 - val_acc: 0.9572\n",
            "Q 641+88  T 729  \u001b[92m☑\u001b[0m 729 \n",
            "Q 221+51  T 272  \u001b[91m☒\u001b[0m 282 \n",
            "Q 671+725 T 1396 \u001b[92m☑\u001b[0m 1396\n",
            "Q 341+27  T 368  \u001b[92m☑\u001b[0m 368 \n",
            "Q 609+151 T 760  \u001b[91m☒\u001b[0m 750 \n",
            "Q 848+60  T 908  \u001b[92m☑\u001b[0m 908 \n",
            "Q 879+63  T 942  \u001b[92m☑\u001b[0m 942 \n",
            "Q 81+19   T 100  \u001b[92m☑\u001b[0m 100 \n",
            "Q 764+7   T 771  \u001b[92m☑\u001b[0m 771 \n",
            "Q 71+370  T 441  \u001b[92m☑\u001b[0m 441 \n",
            "\n",
            "--------------------------------------------------\n",
            "Iteration 49\n",
            "Train on 45000 samples, validate on 5000 samples\n",
            "Epoch 1/1\n",
            "45000/45000 [==============================] - 6s 124us/step - loss: 0.1082 - acc: 0.9609 - val_loss: 0.1257 - val_acc: 0.9537\n",
            "Q 504+140 T 644  \u001b[92m☑\u001b[0m 644 \n",
            "Q 186+71  T 257  \u001b[92m☑\u001b[0m 257 \n",
            "Q 74+70   T 144  \u001b[92m☑\u001b[0m 144 \n",
            "Q 769+221 T 990  \u001b[92m☑\u001b[0m 990 \n",
            "Q 34+56   T 90   \u001b[92m☑\u001b[0m 90  \n",
            "Q 511+774 T 1285 \u001b[92m☑\u001b[0m 1285\n",
            "Q 193+31  T 224  \u001b[92m☑\u001b[0m 224 \n",
            "Q 563+58  T 621  \u001b[92m☑\u001b[0m 621 \n",
            "Q 95+694  T 789  \u001b[92m☑\u001b[0m 789 \n",
            "Q 995+2   T 997  \u001b[92m☑\u001b[0m 997 \n"
          ],
          "name": "stdout"
        }
      ]
    },
    {
      "metadata": {
        "id": "e01UTx5j6Gnc",
        "colab_type": "code",
        "outputId": "331e8213-d89c-4f1f-eb21-db33ba3a13de",
        "colab": {
          "base_uri": "https://localhost:8080/",
          "height": 258
        }
      },
      "cell_type": "code",
      "source": [
        "x_val[0]"
      ],
      "execution_count": 26,
      "outputs": [
        {
          "output_type": "execute_result",
          "data": {
            "text/plain": [
              "array([[False, False, False, False, False,  True, False, False, False,\n",
              "        False, False, False],\n",
              "       [False, False, False, False, False, False, False, False, False,\n",
              "         True, False, False],\n",
              "       [False,  True, False, False, False, False, False, False, False,\n",
              "        False, False, False],\n",
              "       [False, False, False, False, False, False, False,  True, False,\n",
              "        False, False, False],\n",
              "       [False, False, False,  True, False, False, False, False, False,\n",
              "        False, False, False],\n",
              "       [False, False,  True, False, False, False, False, False, False,\n",
              "        False, False, False],\n",
              "       [ True, False, False, False, False, False, False, False, False,\n",
              "        False, False, False]])"
            ]
          },
          "metadata": {
            "tags": []
          },
          "execution_count": 26
        }
      ]
    },
    {
      "metadata": {
        "id": "reDP4EUk6Gng",
        "colab_type": "code",
        "outputId": "11daab19-483d-4588-99c2-d60a372fabc6",
        "colab": {
          "base_uri": "https://localhost:8080/",
          "height": 241
        }
      },
      "cell_type": "code",
      "source": [
        "model.predict(np.array([x_val[0]]))"
      ],
      "execution_count": 27,
      "outputs": [
        {
          "output_type": "execute_result",
          "data": {
            "text/plain": [
              "array([[[7.94129899e-13, 2.87924761e-14, 1.18646258e-25, 9.59054786e-25,\n",
              "         2.03095373e-17, 7.95529961e-11, 5.67746290e-04, 9.97682333e-01,\n",
              "         1.74977246e-03, 5.48088188e-08, 1.23451435e-14, 4.03143465e-22],\n",
              "        [4.55670010e-17, 7.95083603e-14, 1.14772706e-18, 1.49933130e-16,\n",
              "         3.47644780e-09, 9.00389254e-03, 9.90862012e-01, 1.34045709e-04,\n",
              "         3.14028803e-10, 1.47472665e-13, 2.42793259e-17, 3.21213037e-20],\n",
              "        [1.25700292e-11, 3.61033111e-18, 1.80906222e-19, 1.87023352e-30,\n",
              "         1.95363435e-31, 2.41585786e-26, 3.99912002e-20, 1.01704859e-13,\n",
              "         9.58164492e-06, 9.94372964e-01, 5.61747886e-03, 3.00486784e-12],\n",
              "        [9.99999881e-01, 1.08146393e-15, 1.99482893e-17, 2.16688125e-22,\n",
              "         1.51945213e-23, 1.12841766e-20, 1.43552365e-16, 5.81294561e-12,\n",
              "         5.38239604e-08, 5.71181111e-08, 1.80124929e-10, 5.77742471e-14]]],\n",
              "      dtype=float32)"
            ]
          },
          "metadata": {
            "tags": []
          },
          "execution_count": 27
        }
      ]
    },
    {
      "metadata": {
        "id": "jmBdHduN6Gnl",
        "colab_type": "code",
        "outputId": "ab5a5743-c67e-4f7c-8943-d6da439b23d0",
        "colab": {
          "base_uri": "https://localhost:8080/",
          "height": 34
        }
      },
      "cell_type": "code",
      "source": [
        "model.predict_classes(np.array([x_val[0]]))"
      ],
      "execution_count": 28,
      "outputs": [
        {
          "output_type": "execute_result",
          "data": {
            "text/plain": [
              "array([[7, 6, 9, 0]])"
            ]
          },
          "metadata": {
            "tags": []
          },
          "execution_count": 28
        }
      ]
    },
    {
      "metadata": {
        "id": "KkVVnOD76Gno",
        "colab_type": "code",
        "colab": {}
      },
      "cell_type": "code",
      "source": [
        ""
      ],
      "execution_count": 0,
      "outputs": []
    }
  ]
}