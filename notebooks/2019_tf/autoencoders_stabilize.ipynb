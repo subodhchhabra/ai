{
  "nbformat": 4,
  "nbformat_minor": 0,
  "metadata": {
    "colab": {
      "name": "autoencoders_tabular.ipynb",
      "version": "0.3.2",
      "provenance": [],
      "collapsed_sections": [],
      "include_colab_link": true
    },
    "kernelspec": {
      "name": "python3",
      "display_name": "Python 3"
    },
    "accelerator": "GPU"
  },
  "cells": [
    {
      "cell_type": "markdown",
      "metadata": {
        "id": "view-in-github",
        "colab_type": "text"
      },
      "source": [
        "<a href=\"https://colab.research.google.com/github/DJCordhose/ai/blob/master/notebooks/2019_tf/autoencoders_stabilize.ipynb\" target=\"_parent\"><img src=\"https://colab.research.google.com/assets/colab-badge.svg\" alt=\"Open In Colab\"/></a>"
      ]
    },
    {
      "metadata": {
        "id": "t0SNZ3gZDa36",
        "colab_type": "text"
      },
      "cell_type": "markdown",
      "source": [
        "# Autoencoders: Stabilitzing results\n",
        "\n",
        "* Losses\n",
        "   * https://keras.io/losses/\n",
        "   * Predefined loss functions: https://github.com/keras-team/keras/blob/master/keras/losses.py\n",
        "   * Example custom loss function: https://stackoverflow.com/questions/43818584/custom-loss-function-in-keras\n",
        "   * Loss function that is not f(y_true, y_pred): https://github.com/keras-team/keras/issues/2662\n",
        "* Having more than one input/output, combined losses: https://keras.io/getting-started/functional-api-guide/\n",
        "* Normalizaing data: https://www.tensorflow.org/api_docs/python/tf/keras/utils/normalize\n",
        "* Initializers: https://keras.io/initializers/"
      ]
    },
    {
      "metadata": {
        "id": "Dtz68G6gitV3",
        "colab_type": "code",
        "outputId": "8e247dec-cb39-4aeb-ee15-790e8c25d409",
        "colab": {
          "base_uri": "https://localhost:8080/",
          "height": 34
        }
      },
      "cell_type": "code",
      "source": [
        "import tensorflow as tf\n",
        "tf.logging.set_verbosity(tf.logging.ERROR)\n",
        "print(tf.__version__)"
      ],
      "execution_count": 1,
      "outputs": [
        {
          "output_type": "stream",
          "text": [
            "1.12.0\n"
          ],
          "name": "stdout"
        }
      ]
    },
    {
      "metadata": {
        "id": "kORyj46n5zZj",
        "colab_type": "code",
        "outputId": "8af9db89-bec8-4062-ff2a-67f8074c030b",
        "colab": {
          "base_uri": "https://localhost:8080/",
          "height": 68
        }
      },
      "cell_type": "code",
      "source": [
        "!curl -O https://raw.githubusercontent.com/DJCordhose/deep-learning-crash-course-notebooks/master/data/insurance-customers-1500.csv"
      ],
      "execution_count": 2,
      "outputs": [
        {
          "output_type": "stream",
          "text": [
            "  % Total    % Received % Xferd  Average Speed   Time    Time     Time  Current\n",
            "                                 Dload  Upload   Total   Spent    Left  Speed\n",
            "\r  0     0    0     0    0     0      0      0 --:--:-- --:--:-- --:--:--     0\r  0     0    0     0    0     0      0      0 --:--:-- --:--:-- --:--:--     0\r100 26783  100 26783    0     0  83177      0 --:--:-- --:--:-- --:--:-- 82919\n"
          ],
          "name": "stdout"
        }
      ]
    },
    {
      "metadata": {
        "colab_type": "code",
        "id": "Q9_NZUevpZJU",
        "colab": {}
      },
      "cell_type": "code",
      "source": [
        "from tensorflow import keras\n",
        "from tensorflow.keras.layers import Input, Flatten, GlobalAveragePooling1D, Dense\n",
        "from tensorflow.keras.models import Sequential, Model\n",
        "from tensorflow.keras.utils import to_categorical\n"
      ],
      "execution_count": 0,
      "outputs": []
    },
    {
      "metadata": {
        "id": "-ZAL5CrMMcFH",
        "colab_type": "code",
        "colab": {}
      },
      "cell_type": "code",
      "source": [
        "import pandas as pd\n",
        "df = pd.read_csv('./insurance-customers-1500.csv', sep=';')\n",
        "one_hot_groups = pd.DataFrame(to_categorical(df['group']), columns={'red', 'green', 'yellow'})\n",
        "main = df.drop('group', axis='columns')"
      ],
      "execution_count": 0,
      "outputs": []
    },
    {
      "metadata": {
        "id": "rO5kYRn8Mgto",
        "colab_type": "code",
        "outputId": "4b5b761a-9672-4738-d60a-c178c4b488c3",
        "colab": {
          "base_uri": "https://localhost:8080/",
          "height": 204
        }
      },
      "cell_type": "code",
      "source": [
        "main.head()"
      ],
      "execution_count": 5,
      "outputs": [
        {
          "output_type": "execute_result",
          "data": {
            "text/html": [
              "<div>\n",
              "<style scoped>\n",
              "    .dataframe tbody tr th:only-of-type {\n",
              "        vertical-align: middle;\n",
              "    }\n",
              "\n",
              "    .dataframe tbody tr th {\n",
              "        vertical-align: top;\n",
              "    }\n",
              "\n",
              "    .dataframe thead th {\n",
              "        text-align: right;\n",
              "    }\n",
              "</style>\n",
              "<table border=\"1\" class=\"dataframe\">\n",
              "  <thead>\n",
              "    <tr style=\"text-align: right;\">\n",
              "      <th></th>\n",
              "      <th>speed</th>\n",
              "      <th>age</th>\n",
              "      <th>miles</th>\n",
              "    </tr>\n",
              "  </thead>\n",
              "  <tbody>\n",
              "    <tr>\n",
              "      <th>0</th>\n",
              "      <td>98.0</td>\n",
              "      <td>44.0</td>\n",
              "      <td>25.0</td>\n",
              "    </tr>\n",
              "    <tr>\n",
              "      <th>1</th>\n",
              "      <td>118.0</td>\n",
              "      <td>54.0</td>\n",
              "      <td>24.0</td>\n",
              "    </tr>\n",
              "    <tr>\n",
              "      <th>2</th>\n",
              "      <td>111.0</td>\n",
              "      <td>26.0</td>\n",
              "      <td>34.0</td>\n",
              "    </tr>\n",
              "    <tr>\n",
              "      <th>3</th>\n",
              "      <td>97.0</td>\n",
              "      <td>25.0</td>\n",
              "      <td>10.0</td>\n",
              "    </tr>\n",
              "    <tr>\n",
              "      <th>4</th>\n",
              "      <td>114.0</td>\n",
              "      <td>38.0</td>\n",
              "      <td>22.0</td>\n",
              "    </tr>\n",
              "  </tbody>\n",
              "</table>\n",
              "</div>"
            ],
            "text/plain": [
              "   speed   age  miles\n",
              "0   98.0  44.0   25.0\n",
              "1  118.0  54.0   24.0\n",
              "2  111.0  26.0   34.0\n",
              "3   97.0  25.0   10.0\n",
              "4  114.0  38.0   22.0"
            ]
          },
          "metadata": {
            "tags": []
          },
          "execution_count": 5
        }
      ]
    },
    {
      "metadata": {
        "id": "NH_vSxb9iRsP",
        "colab_type": "code",
        "outputId": "604355ac-fbfe-427a-949f-205037418e06",
        "colab": {
          "base_uri": "https://localhost:8080/",
          "height": 204
        }
      },
      "cell_type": "code",
      "source": [
        "one_hot_groups.head()"
      ],
      "execution_count": 6,
      "outputs": [
        {
          "output_type": "execute_result",
          "data": {
            "text/html": [
              "<div>\n",
              "<style scoped>\n",
              "    .dataframe tbody tr th:only-of-type {\n",
              "        vertical-align: middle;\n",
              "    }\n",
              "\n",
              "    .dataframe tbody tr th {\n",
              "        vertical-align: top;\n",
              "    }\n",
              "\n",
              "    .dataframe thead th {\n",
              "        text-align: right;\n",
              "    }\n",
              "</style>\n",
              "<table border=\"1\" class=\"dataframe\">\n",
              "  <thead>\n",
              "    <tr style=\"text-align: right;\">\n",
              "      <th></th>\n",
              "      <th>green</th>\n",
              "      <th>yellow</th>\n",
              "      <th>red</th>\n",
              "    </tr>\n",
              "  </thead>\n",
              "  <tbody>\n",
              "    <tr>\n",
              "      <th>0</th>\n",
              "      <td>0.0</td>\n",
              "      <td>1.0</td>\n",
              "      <td>0.0</td>\n",
              "    </tr>\n",
              "    <tr>\n",
              "      <th>1</th>\n",
              "      <td>0.0</td>\n",
              "      <td>1.0</td>\n",
              "      <td>0.0</td>\n",
              "    </tr>\n",
              "    <tr>\n",
              "      <th>2</th>\n",
              "      <td>1.0</td>\n",
              "      <td>0.0</td>\n",
              "      <td>0.0</td>\n",
              "    </tr>\n",
              "    <tr>\n",
              "      <th>3</th>\n",
              "      <td>0.0</td>\n",
              "      <td>0.0</td>\n",
              "      <td>1.0</td>\n",
              "    </tr>\n",
              "    <tr>\n",
              "      <th>4</th>\n",
              "      <td>0.0</td>\n",
              "      <td>1.0</td>\n",
              "      <td>0.0</td>\n",
              "    </tr>\n",
              "  </tbody>\n",
              "</table>\n",
              "</div>"
            ],
            "text/plain": [
              "   green  yellow  red\n",
              "0    0.0     1.0  0.0\n",
              "1    0.0     1.0  0.0\n",
              "2    1.0     0.0  0.0\n",
              "3    0.0     0.0  1.0\n",
              "4    0.0     1.0  0.0"
            ]
          },
          "metadata": {
            "tags": []
          },
          "execution_count": 6
        }
      ]
    },
    {
      "metadata": {
        "id": "OK4_Z2DakNRe",
        "colab_type": "text"
      },
      "cell_type": "markdown",
      "source": [
        "### Challenge: we could feed in both parts in a united way, but they need different loss functions\n",
        "\n",
        "* write a custom loss function that does this and balances the value: https://keras.io/losses/\n",
        "* create multi-in/out model that makes this a little bit more transparent: https://keras.io/getting-started/functional-api-guide/#multi-input-and-multi-output-models"
      ]
    },
    {
      "metadata": {
        "id": "6_Ljs5_zj4yO",
        "colab_type": "code",
        "outputId": "d3172ec3-5d9f-4e86-8080-dd62ad3e5d0e",
        "colab": {
          "base_uri": "https://localhost:8080/",
          "height": 425
        }
      },
      "cell_type": "code",
      "source": [
        "# often does not even train, so choose a seed known to be good\n",
        "from tensorflow.keras.initializers import glorot_normal\n",
        "seed= 17\n",
        "\n",
        "from tensorflow.keras.layers import concatenate, average, add\n",
        "\n",
        "# first multi in\n",
        "main_input = Input(shape=(3,), name='main_input')\n",
        "group_input = Input(shape=(3,), name='group_input')\n",
        "\n",
        "# hopefully this balances out inputs to same scale\n",
        "encoded_main = Dense(units=2, activation='relu', name=\"main_encoder\", bias_initializer='zeros', kernel_initializer=glorot_normal(seed=seed))(main_input)\n",
        "encoded_group = Dense(units=2, activation='relu', name=\"group_encoder\", bias_initializer='zeros', kernel_initializer=glorot_normal(seed=seed))(group_input)\n",
        "\n",
        "# latent representation\n",
        "\n",
        "merged = concatenate([encoded_main, encoded_group])\n",
        "# this might work as well\n",
        "# merged = average([encoded_main, encoded_group])\n",
        "\n",
        "# the effective latent encoding\n",
        "encoding_dim = 2\n",
        "encoded = Dense(units=encoding_dim, activation='relu', name=\"encoder\", bias_initializer='zeros', kernel_initializer=glorot_normal(seed=seed))(merged)\n",
        "\n",
        "# then multi out\n",
        "main_output = Dense(units=3, activation='linear', name=\"main_output\", bias_initializer='zeros', kernel_initializer=glorot_normal(seed=seed))(encoded)\n",
        "group_output = Dense(units=3, activation='softmax', name=\"group_output\", bias_initializer='zeros', kernel_initializer=glorot_normal(seed=seed))(encoded)\n",
        "\n",
        "autoencoder = Model(inputs=[main_input, group_input], outputs=[main_output, group_output])\n",
        "\n",
        "adam = keras.optimizers.Adam(lr=0.01)\n",
        "# adam = keras.optimizers.Adam()\n",
        "\n",
        "autoencoder.compile(optimizer=adam,\n",
        "              loss={'main_output': 'mae', 'group_output': 'categorical_crossentropy'},\n",
        "              loss_weights={'main_output': 1., 'group_output': 50.})\n",
        "\n",
        "autoencoder.summary()"
      ],
      "execution_count": 7,
      "outputs": [
        {
          "output_type": "stream",
          "text": [
            "__________________________________________________________________________________________________\n",
            "Layer (type)                    Output Shape         Param #     Connected to                     \n",
            "==================================================================================================\n",
            "main_input (InputLayer)         (None, 3)            0                                            \n",
            "__________________________________________________________________________________________________\n",
            "group_input (InputLayer)        (None, 3)            0                                            \n",
            "__________________________________________________________________________________________________\n",
            "main_encoder (Dense)            (None, 2)            8           main_input[0][0]                 \n",
            "__________________________________________________________________________________________________\n",
            "group_encoder (Dense)           (None, 2)            8           group_input[0][0]                \n",
            "__________________________________________________________________________________________________\n",
            "concatenate (Concatenate)       (None, 4)            0           main_encoder[0][0]               \n",
            "                                                                 group_encoder[0][0]              \n",
            "__________________________________________________________________________________________________\n",
            "encoder (Dense)                 (None, 2)            10          concatenate[0][0]                \n",
            "__________________________________________________________________________________________________\n",
            "main_output (Dense)             (None, 3)            9           encoder[0][0]                    \n",
            "__________________________________________________________________________________________________\n",
            "group_output (Dense)            (None, 3)            9           encoder[0][0]                    \n",
            "==================================================================================================\n",
            "Total params: 44\n",
            "Trainable params: 44\n",
            "Non-trainable params: 0\n",
            "__________________________________________________________________________________________________\n"
          ],
          "name": "stdout"
        }
      ]
    },
    {
      "metadata": {
        "id": "RyM46xtQuvmw",
        "colab_type": "code",
        "outputId": "e388fd8e-f271-4381-d5b9-8e6e95812979",
        "colab": {
          "base_uri": "https://localhost:8080/",
          "height": 391
        }
      },
      "cell_type": "code",
      "source": [
        "BATCH_SIZE = 1\n",
        "EPOCHS=10\n",
        "\n",
        "%time history = autoencoder.fit(\\\n",
        "    x={'main_input': main, 'group_input': one_hot_groups},\\\n",
        "    y={'main_output': main, 'group_output': one_hot_groups},\\\n",
        "    epochs=EPOCHS, batch_size=BATCH_SIZE, shuffle=True, verbose=1)"
      ],
      "execution_count": 8,
      "outputs": [
        {
          "output_type": "stream",
          "text": [
            "Epoch 1/10\n",
            "1500/1500 [==============================] - 10s 7ms/step - loss: 62.0372 - main_output_loss: 47.9435 - group_output_loss: 0.2819\n",
            "Epoch 2/10\n",
            "1500/1500 [==============================] - 9s 6ms/step - loss: 36.5832 - main_output_loss: 33.3895 - group_output_loss: 0.0639\n",
            "Epoch 3/10\n",
            "1500/1500 [==============================] - 9s 6ms/step - loss: 31.5609 - main_output_loss: 29.6735 - group_output_loss: 0.0377\n",
            "Epoch 4/10\n",
            "1500/1500 [==============================] - 9s 6ms/step - loss: 28.3381 - main_output_loss: 27.0141 - group_output_loss: 0.0265\n",
            "Epoch 5/10\n",
            "1500/1500 [==============================] - 9s 6ms/step - loss: 25.0030 - main_output_loss: 23.6828 - group_output_loss: 0.0264\n",
            "Epoch 6/10\n",
            "1500/1500 [==============================] - 9s 6ms/step - loss: 21.1347 - main_output_loss: 19.3685 - group_output_loss: 0.0353\n",
            "Epoch 7/10\n",
            "1500/1500 [==============================] - 9s 6ms/step - loss: 19.4739 - main_output_loss: 17.8124 - group_output_loss: 0.0332\n",
            "Epoch 8/10\n",
            "1500/1500 [==============================] - 9s 6ms/step - loss: 18.4423 - main_output_loss: 16.9742 - group_output_loss: 0.0294\n",
            "Epoch 9/10\n",
            "1500/1500 [==============================] - 9s 6ms/step - loss: 17.6809 - main_output_loss: 16.4552 - group_output_loss: 0.0245\n",
            "Epoch 10/10\n",
            "1500/1500 [==============================] - 9s 6ms/step - loss: 17.0810 - main_output_loss: 16.0412 - group_output_loss: 0.0208\n",
            "CPU times: user 1min 57s, sys: 16.7 s, total: 2min 13s\n",
            "Wall time: 1min 33s\n"
          ],
          "name": "stdout"
        }
      ]
    },
    {
      "metadata": {
        "id": "OyWsH4OKPrth",
        "colab_type": "code",
        "outputId": "063204a2-c654-4f13-ee65-bfd84b779829",
        "colab": {
          "base_uri": "https://localhost:8080/",
          "height": 378
        }
      },
      "cell_type": "code",
      "source": [
        "import matplotlib.pyplot as plt\n",
        "\n",
        "plt.ylabel('loss')\n",
        "plt.xlabel('epoch')\n",
        "plt.yscale('log')\n",
        "\n",
        "plt.plot(history.history['loss'], 'b')\n",
        "plt.plot(history.history['main_output_loss'], 'r')\n",
        "plt.plot(history.history['group_output_loss'], 'g')\n",
        "\n",
        "plt.legend(['combined loss', 'main loss', 'group loss'], loc='upper right')"
      ],
      "execution_count": 9,
      "outputs": [
        {
          "output_type": "execute_result",
          "data": {
            "text/plain": [
              "<matplotlib.legend.Legend at 0x7f74da1bc278>"
            ]
          },
          "metadata": {
            "tags": []
          },
          "execution_count": 9
        },
        {
          "output_type": "display_data",
          "data": {
            "image/png": "[encoded data removed]",
            "text/plain": [
              "<Figure size 576x396 with 1 Axes>"
            ]
          },
          "metadata": {
            "tags": []
          }
        }
      ]
    },
    {
      "metadata": {
        "id": "eS9g8LMp2vYZ",
        "colab_type": "code",
        "colab": {}
      },
      "cell_type": "code",
      "source": [
        "samples = df.sample(10).reset_index(drop=True)\n",
        "main_samples = samples.drop('group', axis='columns')\n",
        "group_samples = pd.DataFrame(to_categorical(samples['group']), columns={'red', 'green', 'yellow'})"
      ],
      "execution_count": 0,
      "outputs": []
    },
    {
      "metadata": {
        "id": "HcE-2Zjy3ulb",
        "colab_type": "code",
        "outputId": "d70fccb8-7d15-477b-f9da-9e9d27aca15b",
        "colab": {
          "base_uri": "https://localhost:8080/",
          "height": 359
        }
      },
      "cell_type": "code",
      "source": [
        "merged_samples = pd.concat([main_samples, group_samples], axis=1)\n",
        "merged_samples"
      ],
      "execution_count": 11,
      "outputs": [
        {
          "output_type": "execute_result",
          "data": {
            "text/html": [
              "<div>\n",
              "<style scoped>\n",
              "    .dataframe tbody tr th:only-of-type {\n",
              "        vertical-align: middle;\n",
              "    }\n",
              "\n",
              "    .dataframe tbody tr th {\n",
              "        vertical-align: top;\n",
              "    }\n",
              "\n",
              "    .dataframe thead th {\n",
              "        text-align: right;\n",
              "    }\n",
              "</style>\n",
              "<table border=\"1\" class=\"dataframe\">\n",
              "  <thead>\n",
              "    <tr style=\"text-align: right;\">\n",
              "      <th></th>\n",
              "      <th>speed</th>\n",
              "      <th>age</th>\n",
              "      <th>miles</th>\n",
              "      <th>green</th>\n",
              "      <th>yellow</th>\n",
              "      <th>red</th>\n",
              "    </tr>\n",
              "  </thead>\n",
              "  <tbody>\n",
              "    <tr>\n",
              "      <th>0</th>\n",
              "      <td>126.0</td>\n",
              "      <td>34.0</td>\n",
              "      <td>34.0</td>\n",
              "      <td>1.0</td>\n",
              "      <td>0.0</td>\n",
              "      <td>0.0</td>\n",
              "    </tr>\n",
              "    <tr>\n",
              "      <th>1</th>\n",
              "      <td>124.0</td>\n",
              "      <td>67.0</td>\n",
              "      <td>22.0</td>\n",
              "      <td>1.0</td>\n",
              "      <td>0.0</td>\n",
              "      <td>0.0</td>\n",
              "    </tr>\n",
              "    <tr>\n",
              "      <th>2</th>\n",
              "      <td>106.0</td>\n",
              "      <td>35.0</td>\n",
              "      <td>35.0</td>\n",
              "      <td>1.0</td>\n",
              "      <td>0.0</td>\n",
              "      <td>0.0</td>\n",
              "    </tr>\n",
              "    <tr>\n",
              "      <th>3</th>\n",
              "      <td>141.0</td>\n",
              "      <td>49.0</td>\n",
              "      <td>67.0</td>\n",
              "      <td>0.0</td>\n",
              "      <td>0.0</td>\n",
              "      <td>1.0</td>\n",
              "    </tr>\n",
              "    <tr>\n",
              "      <th>4</th>\n",
              "      <td>102.0</td>\n",
              "      <td>24.0</td>\n",
              "      <td>6.0</td>\n",
              "      <td>0.0</td>\n",
              "      <td>0.0</td>\n",
              "      <td>1.0</td>\n",
              "    </tr>\n",
              "    <tr>\n",
              "      <th>5</th>\n",
              "      <td>144.0</td>\n",
              "      <td>61.0</td>\n",
              "      <td>29.0</td>\n",
              "      <td>0.0</td>\n",
              "      <td>0.0</td>\n",
              "      <td>1.0</td>\n",
              "    </tr>\n",
              "    <tr>\n",
              "      <th>6</th>\n",
              "      <td>153.0</td>\n",
              "      <td>38.0</td>\n",
              "      <td>55.0</td>\n",
              "      <td>1.0</td>\n",
              "      <td>0.0</td>\n",
              "      <td>0.0</td>\n",
              "    </tr>\n",
              "    <tr>\n",
              "      <th>7</th>\n",
              "      <td>150.0</td>\n",
              "      <td>39.0</td>\n",
              "      <td>51.0</td>\n",
              "      <td>1.0</td>\n",
              "      <td>0.0</td>\n",
              "      <td>0.0</td>\n",
              "    </tr>\n",
              "    <tr>\n",
              "      <th>8</th>\n",
              "      <td>105.0</td>\n",
              "      <td>31.0</td>\n",
              "      <td>22.0</td>\n",
              "      <td>0.0</td>\n",
              "      <td>1.0</td>\n",
              "      <td>0.0</td>\n",
              "    </tr>\n",
              "    <tr>\n",
              "      <th>9</th>\n",
              "      <td>119.0</td>\n",
              "      <td>69.0</td>\n",
              "      <td>41.0</td>\n",
              "      <td>0.0</td>\n",
              "      <td>0.0</td>\n",
              "      <td>1.0</td>\n",
              "    </tr>\n",
              "  </tbody>\n",
              "</table>\n",
              "</div>"
            ],
            "text/plain": [
              "   speed   age  miles  green  yellow  red\n",
              "0  126.0  34.0   34.0    1.0     0.0  0.0\n",
              "1  124.0  67.0   22.0    1.0     0.0  0.0\n",
              "2  106.0  35.0   35.0    1.0     0.0  0.0\n",
              "3  141.0  49.0   67.0    0.0     0.0  1.0\n",
              "4  102.0  24.0    6.0    0.0     0.0  1.0\n",
              "5  144.0  61.0   29.0    0.0     0.0  1.0\n",
              "6  153.0  38.0   55.0    1.0     0.0  0.0\n",
              "7  150.0  39.0   51.0    1.0     0.0  0.0\n",
              "8  105.0  31.0   22.0    0.0     1.0  0.0\n",
              "9  119.0  69.0   41.0    0.0     0.0  1.0"
            ]
          },
          "metadata": {
            "tags": []
          },
          "execution_count": 11
        }
      ]
    },
    {
      "metadata": {
        "id": "aPNanIcRQ6s2",
        "colab_type": "code",
        "outputId": "291f47dc-b6c9-4902-99f3-e4c362c47327",
        "colab": {
          "base_uri": "https://localhost:8080/",
          "height": 357
        }
      },
      "cell_type": "code",
      "source": [
        "autoencoder.predict([main_samples, group_samples])"
      ],
      "execution_count": 12,
      "outputs": [
        {
          "output_type": "execute_result",
          "data": {
            "text/plain": [
              "[array([[118.42957 ,  41.323223,  29.63947 ],\n",
              "        [118.42957 ,  41.323223,  29.63947 ],\n",
              "        [118.42957 ,  41.323223,  29.63947 ],\n",
              "        [141.43462 ,  43.064613,  32.28809 ],\n",
              "        [141.43462 ,  43.064613,  32.28809 ],\n",
              "        [141.43462 ,  43.064613,  32.28809 ],\n",
              "        [118.42957 ,  41.323223,  29.63947 ],\n",
              "        [118.42957 ,  41.323223,  29.63947 ],\n",
              "        [ 98.26651 ,  39.79696 ,  27.31805 ],\n",
              "        [141.43462 ,  43.064613,  32.28809 ]], dtype=float32),\n",
              " array([[9.6638060e-01, 1.0208833e-02, 2.3410549e-02],\n",
              "        [9.6638060e-01, 1.0208833e-02, 2.3410549e-02],\n",
              "        [9.6638060e-01, 1.0208833e-02, 2.3410549e-02],\n",
              "        [9.1042584e-03, 3.9444803e-09, 9.9089569e-01],\n",
              "        [9.1042584e-03, 3.9444803e-09, 9.9089569e-01],\n",
              "        [9.1042584e-03, 3.9444803e-09, 9.9089569e-01],\n",
              "        [9.6638060e-01, 1.0208833e-02, 2.3410549e-02],\n",
              "        [9.6638060e-01, 1.0208833e-02, 2.3410549e-02],\n",
              "        [1.3342056e-02, 9.8665768e-01, 2.0332342e-07],\n",
              "        [9.1042584e-03, 3.9444803e-09, 9.9089569e-01]], dtype=float32)]"
            ]
          },
          "metadata": {
            "tags": []
          },
          "execution_count": 12
        }
      ]
    },
    {
      "metadata": {
        "id": "RmCJjYBDQ7IO",
        "colab_type": "code",
        "colab": {}
      },
      "cell_type": "code",
      "source": [
        "encoder = Model(inputs=[main_input, group_input], outputs=encoded)\n",
        "latent_representation = encoder.predict(x={'main_input': main, 'group_input': one_hot_groups})"
      ],
      "execution_count": 0,
      "outputs": []
    },
    {
      "metadata": {
        "id": "XKvu_R2Q5mH7",
        "colab_type": "code",
        "outputId": "e00fcdb5-ae09-4eb9-f51e-841aabdf5f38",
        "colab": {
          "base_uri": "https://localhost:8080/",
          "height": 34
        }
      },
      "cell_type": "code",
      "source": [
        "latent_representation.shape"
      ],
      "execution_count": 14,
      "outputs": [
        {
          "output_type": "execute_result",
          "data": {
            "text/plain": [
              "(1500, 2)"
            ]
          },
          "metadata": {
            "tags": []
          },
          "execution_count": 14
        }
      ]
    },
    {
      "metadata": {
        "id": "BZ5JG_B65plH",
        "colab_type": "code",
        "outputId": "018b822c-3efd-4646-d86a-93d217f9c959",
        "colab": {
          "base_uri": "https://localhost:8080/",
          "height": 364
        }
      },
      "cell_type": "code",
      "source": [
        "from matplotlib.colors import ListedColormap\n",
        "\n",
        "# * 0 - red: many accidents\n",
        "# * 1 - green: few or no accidents\n",
        "# * 2 - yellow: in the middle\n",
        "colors = df['group']\n",
        "color_map = ListedColormap(['#AA4444', '#006000', '#EEEE44'])\n",
        "\n",
        "latent_x = latent_representation[:, 0]\n",
        "latent_y = latent_representation[:, 1]\n",
        "\n",
        "plt.scatter(latent_x, latent_y, alpha=0.5, s=100, marker='o', edgecolors='w', cmap=color_map, c=colors)"
      ],
      "execution_count": 15,
      "outputs": [
        {
          "output_type": "execute_result",
          "data": {
            "text/plain": [
              "<matplotlib.collections.PathCollection at 0x7f74d807e908>"
            ]
          },
          "metadata": {
            "tags": []
          },
          "execution_count": 15
        },
        {
          "output_type": "display_data",
          "data": {
            "image/png": "[encoded data removed]",
            "text/plain": [
              "<Figure size 576x396 with 1 Axes>"
            ]
          },
          "metadata": {
            "tags": []
          }
        }
      ]
    },
    {
      "metadata": {
        "id": "vzag69Ab7sDo",
        "colab_type": "text"
      },
      "cell_type": "markdown",
      "source": [
        "### What a funny result: trained to (sometims almost) perfectly reproduce the groups, but not much of anything else\n",
        "\n",
        "quite obviously we ware emphasizing the group loss way too much"
      ]
    },
    {
      "metadata": {
        "id": "we2ONI5pBR8R",
        "colab_type": "text"
      },
      "cell_type": "markdown",
      "source": [
        "## Making results more stable\n",
        "\n",
        "* when you visualize latent spaces they should not change much when re-training or fitting additional data points\n",
        "* when working with autoencoders or embeddings there are two ways to make that happen\n",
        "  1. save model, do not retrain from scratch and only fit new data points with low learning rate\n",
        "  1. save output from embedding and keep new latent space similar by adding to the loss function"
      ]
    },
    {
      "metadata": {
        "id": "zcZJrb9DrpxU",
        "colab_type": "code",
        "colab": {}
      },
      "cell_type": "code",
      "source": [
        "# save complete model\n",
        "autoencoder.save('autoencoder-v1.h5')\n",
        "del autoencoder"
      ],
      "execution_count": 0,
      "outputs": []
    },
    {
      "metadata": {
        "id": "D0r202JoHa-K",
        "colab_type": "text"
      },
      "cell_type": "markdown",
      "source": [
        "### Option I: Saving and reloading model, retrain\n",
        "* https://keras.io/getting-started/faq/#how-can-i-save-a-keras-model"
      ]
    },
    {
      "metadata": {
        "id": "zNdZeHxtEh_k",
        "colab_type": "code",
        "colab": {}
      },
      "cell_type": "code",
      "source": [
        "# later...\n",
        "from tensorflow.keras.models import load_model\n",
        "autoencoder = load_model('autoencoder-v1.h5')"
      ],
      "execution_count": 0,
      "outputs": []
    },
    {
      "metadata": {
        "id": "PjZwKc7NFDRO",
        "colab_type": "code",
        "colab": {}
      },
      "cell_type": "code",
      "source": [
        "main_input = autoencoder.get_layer('main_input').input\n",
        "group_input = autoencoder.get_layer('group_input').input\n",
        "encode = autoencoder.get_layer('encoder').output\n",
        "encoder = Model(inputs=[main_input, group_input], outputs=encode)"
      ],
      "execution_count": 0,
      "outputs": []
    },
    {
      "metadata": {
        "id": "J1o3QDDZExNV",
        "colab_type": "code",
        "outputId": "0abe7449-9959-44c0-c365-279131d3c77b",
        "colab": {
          "base_uri": "https://localhost:8080/",
          "height": 379
        }
      },
      "cell_type": "code",
      "source": [
        "latent_representation = encoder.predict(x={'main_input': main, 'group_input': one_hot_groups})\n",
        "colors = df['group']\n",
        "color_map = ListedColormap(['#AA4444', '#006000', '#EEEE44'])\n",
        "\n",
        "latent_x = latent_representation[:, 0]\n",
        "latent_y = latent_representation[:, 1]\n",
        "\n",
        "plt.title('original data, old model')\n",
        "\n",
        "plt.scatter(latent_x, latent_y, alpha=0.5, s=100, marker='o', edgecolors='w', cmap=color_map, c=colors)"
      ],
      "execution_count": 19,
      "outputs": [
        {
          "output_type": "execute_result",
          "data": {
            "text/plain": [
              "<matplotlib.collections.PathCollection at 0x7f74d6ef3860>"
            ]
          },
          "metadata": {
            "tags": []
          },
          "execution_count": 19
        },
        {
          "output_type": "display_data",
          "data": {
            "image/png": "[encoded data removed]",
            "text/plain": [
              "<Figure size 576x396 with 1 Axes>"
            ]
          },
          "metadata": {
            "tags": []
          }
        }
      ]
    },
    {
      "metadata": {
        "id": "F_2V7ucrQxs_",
        "colab_type": "text"
      },
      "cell_type": "markdown",
      "source": [
        "### Using new dataset"
      ]
    },
    {
      "metadata": {
        "id": "okdb0cOxFlQT",
        "colab_type": "code",
        "outputId": "7717286f-1247-435c-8ee5-8bed8cea559c",
        "colab": {
          "base_uri": "https://localhost:8080/",
          "height": 68
        }
      },
      "cell_type": "code",
      "source": [
        "!curl -O https://raw.githubusercontent.com/DJCordhose/deep-learning-crash-course-notebooks/master/data/insurance-customers-300.csv"
      ],
      "execution_count": 20,
      "outputs": [
        {
          "output_type": "stream",
          "text": [
            "  % Total    % Received % Xferd  Average Speed   Time    Time     Time  Current\n",
            "                                 Dload  Upload   Total   Spent    Left  Speed\n",
            "\r  0     0    0     0    0     0      0      0 --:--:-- --:--:-- --:--:--     0\r  0     0    0     0    0     0      0      0 --:--:-- --:--:-- --:--:--     0\r100  5376  100  5376    0     0  16390      0 --:--:-- --:--:-- --:--:-- 16340\n"
          ],
          "name": "stdout"
        }
      ]
    },
    {
      "metadata": {
        "id": "ci9wYJ2jL9WP",
        "colab_type": "code",
        "colab": {}
      },
      "cell_type": "code",
      "source": [
        "import pandas as pd\n",
        "\n",
        "new_df = pd.read_csv('./insurance-customers-300.csv', sep=';')\n",
        "new_one_hot_groups = pd.DataFrame(to_categorical(new_df['group']), columns={'red', 'green', 'yellow'})\n",
        "new_main = new_df.drop('group', axis='columns')"
      ],
      "execution_count": 0,
      "outputs": []
    },
    {
      "metadata": {
        "id": "qMhG7zWVyAxi",
        "colab_type": "code",
        "colab": {
          "base_uri": "https://localhost:8080/",
          "height": 297
        },
        "outputId": "97272e47-81e8-44f1-b5b2-51646027981f"
      },
      "cell_type": "code",
      "source": [
        "new_df.describe()"
      ],
      "execution_count": 22,
      "outputs": [
        {
          "output_type": "execute_result",
          "data": {
            "text/html": [
              "<div>\n",
              "<style scoped>\n",
              "    .dataframe tbody tr th:only-of-type {\n",
              "        vertical-align: middle;\n",
              "    }\n",
              "\n",
              "    .dataframe tbody tr th {\n",
              "        vertical-align: top;\n",
              "    }\n",
              "\n",
              "    .dataframe thead th {\n",
              "        text-align: right;\n",
              "    }\n",
              "</style>\n",
              "<table border=\"1\" class=\"dataframe\">\n",
              "  <thead>\n",
              "    <tr style=\"text-align: right;\">\n",
              "      <th></th>\n",
              "      <th>speed</th>\n",
              "      <th>age</th>\n",
              "      <th>miles</th>\n",
              "      <th>group</th>\n",
              "    </tr>\n",
              "  </thead>\n",
              "  <tbody>\n",
              "    <tr>\n",
              "      <th>count</th>\n",
              "      <td>300.000000</td>\n",
              "      <td>300.000000</td>\n",
              "      <td>300.000000</td>\n",
              "      <td>300.000000</td>\n",
              "    </tr>\n",
              "    <tr>\n",
              "      <th>mean</th>\n",
              "      <td>122.963333</td>\n",
              "      <td>44.000000</td>\n",
              "      <td>31.133333</td>\n",
              "      <td>1.000000</td>\n",
              "    </tr>\n",
              "    <tr>\n",
              "      <th>std</th>\n",
              "      <td>17.135170</td>\n",
              "      <td>16.312992</td>\n",
              "      <td>15.568885</td>\n",
              "      <td>0.817861</td>\n",
              "    </tr>\n",
              "    <tr>\n",
              "      <th>min</th>\n",
              "      <td>85.000000</td>\n",
              "      <td>16.000000</td>\n",
              "      <td>1.000000</td>\n",
              "      <td>0.000000</td>\n",
              "    </tr>\n",
              "    <tr>\n",
              "      <th>25%</th>\n",
              "      <td>109.750000</td>\n",
              "      <td>33.000000</td>\n",
              "      <td>18.000000</td>\n",
              "      <td>0.000000</td>\n",
              "    </tr>\n",
              "    <tr>\n",
              "      <th>50%</th>\n",
              "      <td>121.000000</td>\n",
              "      <td>42.000000</td>\n",
              "      <td>30.000000</td>\n",
              "      <td>1.000000</td>\n",
              "    </tr>\n",
              "    <tr>\n",
              "      <th>75%</th>\n",
              "      <td>137.000000</td>\n",
              "      <td>52.000000</td>\n",
              "      <td>43.000000</td>\n",
              "      <td>2.000000</td>\n",
              "    </tr>\n",
              "    <tr>\n",
              "      <th>max</th>\n",
              "      <td>161.000000</td>\n",
              "      <td>97.000000</td>\n",
              "      <td>99.000000</td>\n",
              "      <td>2.000000</td>\n",
              "    </tr>\n",
              "  </tbody>\n",
              "</table>\n",
              "</div>"
            ],
            "text/plain": [
              "            speed         age       miles       group\n",
              "count  300.000000  300.000000  300.000000  300.000000\n",
              "mean   122.963333   44.000000   31.133333    1.000000\n",
              "std     17.135170   16.312992   15.568885    0.817861\n",
              "min     85.000000   16.000000    1.000000    0.000000\n",
              "25%    109.750000   33.000000   18.000000    0.000000\n",
              "50%    121.000000   42.000000   30.000000    1.000000\n",
              "75%    137.000000   52.000000   43.000000    2.000000\n",
              "max    161.000000   97.000000   99.000000    2.000000"
            ]
          },
          "metadata": {
            "tags": []
          },
          "execution_count": 22
        }
      ]
    },
    {
      "metadata": {
        "id": "4LgAGzsDuCXu",
        "colab_type": "code",
        "colab": {
          "base_uri": "https://localhost:8080/",
          "height": 379
        },
        "outputId": "a987a078-7131-447f-c6ad-df851051796c"
      },
      "cell_type": "code",
      "source": [
        "latent_representation = encoder.predict(x={'main_input': new_main, 'group_input': new_one_hot_groups})\n",
        "colors = new_df['group']\n",
        "color_map = ListedColormap(['#AA4444', '#006000', '#EEEE44'])\n",
        "\n",
        "latent_x = latent_representation[:, 0]\n",
        "latent_y = latent_representation[:, 1]\n",
        "\n",
        "plt.title('new data, old model')\n",
        "\n",
        "plt.scatter(latent_x, latent_y, alpha=0.5, s=100, marker='o', edgecolors='w', cmap=color_map, c=colors)"
      ],
      "execution_count": 23,
      "outputs": [
        {
          "output_type": "execute_result",
          "data": {
            "text/plain": [
              "<matplotlib.collections.PathCollection at 0x7f74d6edf9b0>"
            ]
          },
          "metadata": {
            "tags": []
          },
          "execution_count": 23
        },
        {
          "output_type": "display_data",
          "data": {
            "image/png": "[encoded data removed]",
            "text/plain": [
              "<Figure size 576x396 with 1 Axes>"
            ]
          },
          "metadata": {
            "tags": []
          }
        }
      ]
    },
    {
      "metadata": {
        "id": "7HdhJN2fMH6-",
        "colab_type": "code",
        "outputId": "c8e49ccb-206b-42d1-fd4a-812bed1b86c5",
        "colab": {
          "base_uri": "https://localhost:8080/",
          "height": 391
        }
      },
      "cell_type": "code",
      "source": [
        "#default lr\n",
        "# adam = keras.optimizers.Adam(lr=0.001)\n",
        "# we use just half of that\n",
        "adam = keras.optimizers.Adam(lr=0.0005)\n",
        "# even this high learning rate can not break it (moves it quite a bit, but still same overall shape)\n",
        "# adam = keras.optimizers.Adam(lr=0.1)\n",
        "\n",
        "autoencoder.compile(optimizer=adam,\n",
        "              loss={'main_output': 'mae', 'group_output': 'categorical_crossentropy'},\n",
        "              loss_weights={'main_output': 1., 'group_output': 50.})\n",
        "\n",
        "BATCH_SIZE = 1\n",
        "EPOCHS=10\n",
        "\n",
        "%time history = autoencoder.fit(\\\n",
        "    x={'main_input': new_main, 'group_input': new_one_hot_groups},\\\n",
        "    y={'main_output': new_main, 'group_output': new_one_hot_groups},\\\n",
        "    epochs=EPOCHS, batch_size=BATCH_SIZE, shuffle=True, verbose=1)\n"
      ],
      "execution_count": 24,
      "outputs": [
        {
          "output_type": "stream",
          "text": [
            "Epoch 1/10\n",
            "300/300 [==============================] - 2s 7ms/step - loss: 16.4911 - main_output_loss: 15.5391 - group_output_loss: 0.0190\n",
            "Epoch 2/10\n",
            "300/300 [==============================] - 2s 6ms/step - loss: 16.4797 - main_output_loss: 15.4974 - group_output_loss: 0.0196\n",
            "Epoch 3/10\n",
            "300/300 [==============================] - 2s 6ms/step - loss: 16.4737 - main_output_loss: 15.4851 - group_output_loss: 0.0198\n",
            "Epoch 4/10\n",
            "300/300 [==============================] - 2s 6ms/step - loss: 16.4681 - main_output_loss: 15.4550 - group_output_loss: 0.0203\n",
            "Epoch 5/10\n",
            "300/300 [==============================] - 2s 6ms/step - loss: 16.4625 - main_output_loss: 15.4595 - group_output_loss: 0.0201\n",
            "Epoch 6/10\n",
            "300/300 [==============================] - 2s 6ms/step - loss: 16.4572 - main_output_loss: 15.4575 - group_output_loss: 0.0200\n",
            "Epoch 7/10\n",
            "300/300 [==============================] - 2s 6ms/step - loss: 16.4512 - main_output_loss: 15.4483 - group_output_loss: 0.0201\n",
            "Epoch 8/10\n",
            "300/300 [==============================] - 2s 6ms/step - loss: 16.4461 - main_output_loss: 15.4394 - group_output_loss: 0.0201\n",
            "Epoch 9/10\n",
            "300/300 [==============================] - 2s 6ms/step - loss: 16.4397 - main_output_loss: 15.4472 - group_output_loss: 0.0198\n",
            "Epoch 10/10\n",
            "300/300 [==============================] - 2s 6ms/step - loss: 16.4340 - main_output_loss: 15.4322 - group_output_loss: 0.0200\n",
            "CPU times: user 24.2 s, sys: 3.29 s, total: 27.5 s\n",
            "Wall time: 19.4 s\n"
          ],
          "name": "stdout"
        }
      ]
    },
    {
      "metadata": {
        "id": "dv1NKD2lMSzP",
        "colab_type": "code",
        "outputId": "374d8a55-9afe-41bd-b32c-209d9311ce90",
        "colab": {
          "base_uri": "https://localhost:8080/",
          "height": 378
        }
      },
      "cell_type": "code",
      "source": [
        "plt.ylabel('loss')\n",
        "plt.xlabel('epoch')\n",
        "plt.yscale('log')\n",
        "\n",
        "plt.plot(history.history['loss'], 'b')\n",
        "plt.plot(history.history['main_output_loss'], 'r')\n",
        "plt.plot(history.history['group_output_loss'], 'g')\n",
        "\n",
        "plt.legend(['combined loss', 'main loss', 'group loss'], loc='upper right')\n"
      ],
      "execution_count": 25,
      "outputs": [
        {
          "output_type": "execute_result",
          "data": {
            "text/plain": [
              "<matplotlib.legend.Legend at 0x7f74d6605400>"
            ]
          },
          "metadata": {
            "tags": []
          },
          "execution_count": 25
        },
        {
          "output_type": "display_data",
          "data": {
            "image/png": "[encoded data removed]",
            "text/plain": [
              "<Figure size 576x396 with 1 Axes>"
            ]
          },
          "metadata": {
            "tags": []
          }
        }
      ]
    },
    {
      "metadata": {
        "id": "8m5HqPOXSmr7",
        "colab_type": "code",
        "outputId": "fc6ea92e-3e5a-4bf2-86bf-4a1a9d65630c",
        "colab": {
          "base_uri": "https://localhost:8080/",
          "height": 379
        }
      },
      "cell_type": "code",
      "source": [
        "latent_representation = encoder.predict(x={'main_input': new_main, 'group_input': new_one_hot_groups})\n",
        "colors = new_df['group']\n",
        "color_map = ListedColormap(['#AA4444', '#006000', '#EEEE44'])\n",
        "\n",
        "latent_x = latent_representation[:, 0]\n",
        "latent_y = latent_representation[:, 1]\n",
        "\n",
        "plt.title('updated model, new data')\n",
        "\n",
        "plt.scatter(latent_x, latent_y, alpha=0.5, s=100, marker='o', edgecolors='w', cmap=color_map, c=colors)"
      ],
      "execution_count": 26,
      "outputs": [
        {
          "output_type": "execute_result",
          "data": {
            "text/plain": [
              "<matplotlib.collections.PathCollection at 0x7f74d65a0d68>"
            ]
          },
          "metadata": {
            "tags": []
          },
          "execution_count": 26
        },
        {
          "output_type": "display_data",
          "data": {
            "image/png": "[encoded data removed]",
            "text/plain": [
              "<Figure size 576x396 with 1 Axes>"
            ]
          },
          "metadata": {
            "tags": []
          }
        }
      ]
    },
    {
      "metadata": {
        "id": "ivC9ALVsOnoF",
        "colab_type": "code",
        "outputId": "41f06b04-6342-4263-cc92-5ca2dce13803",
        "colab": {
          "base_uri": "https://localhost:8080/",
          "height": 379
        }
      },
      "cell_type": "code",
      "source": [
        "latent_representation = encoder.predict(x={'main_input': main, 'group_input': one_hot_groups})\n",
        "colors = df['group']\n",
        "color_map = ListedColormap(['#AA4444', '#006000', '#EEEE44'])\n",
        "\n",
        "latent_x = latent_representation[:, 0]\n",
        "latent_y = latent_representation[:, 1]\n",
        "\n",
        "plt.title('updated model, original data')\n",
        "\n",
        "plt.scatter(latent_x, latent_y, alpha=0.5, s=100, marker='o', edgecolors='w', cmap=color_map, c=colors)"
      ],
      "execution_count": 27,
      "outputs": [
        {
          "output_type": "execute_result",
          "data": {
            "text/plain": [
              "<matplotlib.collections.PathCollection at 0x7f74d65445f8>"
            ]
          },
          "metadata": {
            "tags": []
          },
          "execution_count": 27
        },
        {
          "output_type": "display_data",
          "data": {
            "image/png": "[encoded data removed]",
            "text/plain": [
              "<Figure size 576x396 with 1 Axes>"
            ]
          },
          "metadata": {
            "tags": []
          }
        }
      ]
    },
    {
      "metadata": {
        "id": "FZFOViomQGfA",
        "colab_type": "text"
      },
      "cell_type": "markdown",
      "source": [
        "### Option II: Train from scratch, but use difference to original latent representation as part of loss function\n"
      ]
    },
    {
      "metadata": {
        "id": "dNlZmzQQPBqK",
        "colab_type": "code",
        "colab": {}
      },
      "cell_type": "code",
      "source": [
        "# start over from scratch\n",
        "from tensorflow.keras.models import load_model\n",
        "autoencoder = load_model('autoencoder-v1.h5')"
      ],
      "execution_count": 0,
      "outputs": []
    },
    {
      "metadata": {
        "id": "_MKBHF-KR4O-",
        "colab_type": "code",
        "colab": {}
      },
      "cell_type": "code",
      "source": [
        "main_input = autoencoder.get_layer('main_input').input\n",
        "group_input = autoencoder.get_layer('group_input').input\n",
        "encode = autoencoder.get_layer('encoder').output\n",
        "encoder = Model(inputs=[main_input, group_input], outputs=encode)"
      ],
      "execution_count": 0,
      "outputs": []
    },
    {
      "metadata": {
        "id": "p3NJg2FpR03G",
        "colab_type": "code",
        "colab": {}
      },
      "cell_type": "code",
      "source": [
        "new_original_latent_representation = encoder.predict(x={'main_input': new_main, 'group_input': new_one_hot_groups})\n",
        "old_original_latent_representation = encoder.predict(x={'main_input': main, 'group_input': one_hot_groups})"
      ],
      "execution_count": 0,
      "outputs": []
    },
    {
      "metadata": {
        "id": "usnjfvJxS_sB",
        "colab_type": "code",
        "outputId": "4351875f-635d-4516-ccb6-52406810f1c5",
        "colab": {
          "base_uri": "https://localhost:8080/",
          "height": 379
        }
      },
      "cell_type": "code",
      "source": [
        "latent_representation = encoder.predict(x={'main_input': main, 'group_input': one_hot_groups})\n",
        "colors = df['group']\n",
        "color_map = ListedColormap(['#AA4444', '#006000', '#EEEE44'])\n",
        "\n",
        "latent_x = latent_representation[:, 0]\n",
        "latent_y = latent_representation[:, 1]\n",
        "\n",
        "plt.title('original data, original model')\n",
        "\n",
        "plt.scatter(latent_x, latent_y, alpha=0.5, s=100, marker='o', edgecolors='w', cmap=color_map, c=colors)"
      ],
      "execution_count": 31,
      "outputs": [
        {
          "output_type": "execute_result",
          "data": {
            "text/plain": [
              "<matplotlib.collections.PathCollection at 0x7f74d5b969e8>"
            ]
          },
          "metadata": {
            "tags": []
          },
          "execution_count": 31
        },
        {
          "output_type": "display_data",
          "data": {
            "image/png": "[encoded data removed]",
            "text/plain": [
              "<Figure size 576x396 with 1 Axes>"
            ]
          },
          "metadata": {
            "tags": []
          }
        }
      ]
    },
    {
      "metadata": {
        "id": "ShOhYlgkh6tN",
        "colab_type": "code",
        "outputId": "95ad9be9-9bbb-4a98-f7a1-a533cd6e313d",
        "colab": {
          "base_uri": "https://localhost:8080/",
          "height": 379
        }
      },
      "cell_type": "code",
      "source": [
        "latent_representation = encoder.predict(x={'main_input': new_main, 'group_input': new_one_hot_groups})\n",
        "colors = new_df['group']\n",
        "color_map = ListedColormap(['#AA4444', '#006000', '#EEEE44'])\n",
        "\n",
        "latent_x = latent_representation[:, 0]\n",
        "latent_y = latent_representation[:, 1]\n",
        "\n",
        "plt.title('new data, original model')\n",
        "\n",
        "plt.scatter(latent_x, latent_y, alpha=0.5, s=100, marker='o', edgecolors='w', cmap=color_map, c=colors)"
      ],
      "execution_count": 32,
      "outputs": [
        {
          "output_type": "execute_result",
          "data": {
            "text/plain": [
              "<matplotlib.collections.PathCollection at 0x7f74d5b05da0>"
            ]
          },
          "metadata": {
            "tags": []
          },
          "execution_count": 32
        },
        {
          "output_type": "display_data",
          "data": {
            "image/png": "[encoded data removed]",
            "text/plain": [
              "<Figure size 576x396 with 1 Axes>"
            ]
          },
          "metadata": {
            "tags": []
          }
        }
      ]
    },
    {
      "metadata": {
        "id": "_kQbWB5FTQ4Q",
        "colab_type": "code",
        "colab": {
          "base_uri": "https://localhost:8080/",
          "height": 731
        },
        "outputId": "29e03493-0650-40b7-814f-46235fe895e4"
      },
      "cell_type": "code",
      "source": [
        "# often does not even train, so choose a seed known to be good\n",
        "from tensorflow.keras.initializers import glorot_normal\n",
        "seed= 13\n",
        "\n",
        "# first multi in\n",
        "main_input = Input(shape=(3,), name='main_input')\n",
        "group_input = Input(shape=(3,), name='group_input')\n",
        "\n",
        "# hopefully this balances out inputs to same scale\n",
        "encoded_main = Dense(units=2, activation='relu', name=\"main_encoder\", bias_initializer='zeros', kernel_initializer=glorot_normal(seed=seed))(main_input)\n",
        "encoded_group = Dense(units=2, activation='relu', name=\"group_encoder\", bias_initializer='zeros', kernel_initializer=glorot_normal(seed=seed))(group_input)\n",
        "\n",
        "# latent representation\n",
        "\n",
        "merged = concatenate([encoded_main, encoded_group])\n",
        "# this might work as well\n",
        "# merged = average([encoded_main, encoded_group])\n",
        "\n",
        "# the effective latent encoding\n",
        "encoding_dim = 2\n",
        "encoded = Dense(units=encoding_dim, activation='relu', name=\"encoder\", bias_initializer='zeros', kernel_initializer=glorot_normal(seed=seed))(merged)\n",
        "\n",
        "# then multi out\n",
        "\n",
        "main_output = Dense(units=3, activation='linear', name=\"main_output\", bias_initializer='zeros', kernel_initializer=glorot_normal(seed=seed))(encoded)\n",
        "group_output = Dense(units=3, activation='softmax', name=\"group_output\", bias_initializer='zeros', kernel_initializer=glorot_normal(seed=seed))(encoded)\n",
        "stability_output = encoded # just the latent space as output\n",
        "\n",
        "# autoencoder = Model(inputs=[main_input, group_input], outputs=[main_output, group_output, stability_output])\n",
        "autoencoder = Model(inputs=[main_input, group_input], outputs=[main_output, group_output])\n",
        "\n",
        "# adam = keras.optimizers.Adam(lr=0.001)\n",
        "adam = keras.optimizers.Adam(lr=0.01)\n",
        "\n",
        "# autoencoder.compile(optimizer=adam,\n",
        "#               loss={'main_output': 'mae', 'group_output': 'categorical_crossentropy', 'encoder': 'mae' },\n",
        "#               loss_weights={'main_output': 1., 'group_output': 50., 'encoder': 10.})\n",
        "\n",
        "autoencoder.compile(optimizer=adam,\n",
        "              loss={'main_output': 'mae', 'group_output': 'categorical_crossentropy'},\n",
        "              loss_weights={'main_output': 1., 'group_output': 1000.})\n",
        "\n",
        "BATCH_SIZE = 1\n",
        "EPOCHS=20\n",
        "\n",
        "# %time history = autoencoder.fit(\\\n",
        "#     x={'main_input': new_main, 'group_input': new_one_hot_groups},\\\n",
        "#     y={'main_output': new_main, 'group_output': new_one_hot_groups, 'encoder': new_original_latent_representation},\\\n",
        "#     epochs=EPOCHS, batch_size=BATCH_SIZE, shuffle=True, verbose=1)\n",
        "\n",
        "%time history = autoencoder.fit(\\\n",
        "    x={'main_input': new_main, 'group_input': new_one_hot_groups},\\\n",
        "    y={'main_output': new_main, 'group_output': new_one_hot_groups},\\\n",
        "    epochs=EPOCHS, batch_size=BATCH_SIZE, verbose=1)"
      ],
      "execution_count": 33,
      "outputs": [
        {
          "output_type": "stream",
          "text": [
            "Epoch 1/20\n",
            "300/300 [==============================] - 2s 8ms/step - loss: 1075.0396 - main_output_loss: 62.5825 - group_output_loss: 1.0125\n",
            "Epoch 2/20\n",
            "300/300 [==============================] - 2s 7ms/step - loss: 710.2245 - main_output_loss: 51.3525 - group_output_loss: 0.6589\n",
            "Epoch 3/20\n",
            "300/300 [==============================] - 2s 6ms/step - loss: 554.2364 - main_output_loss: 43.3977 - group_output_loss: 0.5108\n",
            "Epoch 4/20\n",
            "300/300 [==============================] - 2s 6ms/step - loss: 400.3064 - main_output_loss: 37.1499 - group_output_loss: 0.3632\n",
            "Epoch 5/20\n",
            "300/300 [==============================] - 2s 6ms/step - loss: 367.2637 - main_output_loss: 35.1426 - group_output_loss: 0.3321\n",
            "Epoch 6/20\n",
            "300/300 [==============================] - 2s 6ms/step - loss: 283.9395 - main_output_loss: 34.4017 - group_output_loss: 0.2495\n",
            "Epoch 7/20\n",
            "300/300 [==============================] - 2s 6ms/step - loss: 216.9488 - main_output_loss: 33.4983 - group_output_loss: 0.1835\n",
            "Epoch 8/20\n",
            "300/300 [==============================] - 2s 6ms/step - loss: 179.1375 - main_output_loss: 33.4484 - group_output_loss: 0.1457\n",
            "Epoch 9/20\n",
            "300/300 [==============================] - 2s 6ms/step - loss: 158.9729 - main_output_loss: 32.1631 - group_output_loss: 0.1268\n",
            "Epoch 10/20\n",
            "300/300 [==============================] - 2s 6ms/step - loss: 157.8654 - main_output_loss: 31.6042 - group_output_loss: 0.1263\n",
            "Epoch 11/20\n",
            "300/300 [==============================] - 2s 6ms/step - loss: 132.5870 - main_output_loss: 30.9712 - group_output_loss: 0.1016\n",
            "Epoch 12/20\n",
            "300/300 [==============================] - 2s 6ms/step - loss: 110.9476 - main_output_loss: 30.5586 - group_output_loss: 0.0804\n",
            "Epoch 13/20\n",
            "300/300 [==============================] - 2s 6ms/step - loss: 100.6134 - main_output_loss: 30.1349 - group_output_loss: 0.0705\n",
            "Epoch 14/20\n",
            "300/300 [==============================] - 2s 6ms/step - loss: 125.1873 - main_output_loss: 29.5103 - group_output_loss: 0.0957\n",
            "Epoch 15/20\n",
            "300/300 [==============================] - 2s 6ms/step - loss: 95.3959 - main_output_loss: 28.4863 - group_output_loss: 0.0669\n",
            "Epoch 16/20\n",
            "300/300 [==============================] - 2s 6ms/step - loss: 74.4944 - main_output_loss: 28.3542 - group_output_loss: 0.0461\n",
            "Epoch 17/20\n",
            "300/300 [==============================] - 2s 6ms/step - loss: 58.6646 - main_output_loss: 27.9461 - group_output_loss: 0.0307\n",
            "Epoch 18/20\n",
            "300/300 [==============================] - 2s 6ms/step - loss: 156.7170 - main_output_loss: 27.7043 - group_output_loss: 0.1290\n",
            "Epoch 19/20\n",
            "300/300 [==============================] - 2s 6ms/step - loss: 51.6782 - main_output_loss: 26.7190 - group_output_loss: 0.0250\n",
            "Epoch 20/20\n",
            "300/300 [==============================] - 2s 6ms/step - loss: 45.8228 - main_output_loss: 26.2583 - group_output_loss: 0.0196\n",
            "CPU times: user 48.2 s, sys: 6.42 s, total: 54.6 s\n",
            "Wall time: 38.3 s\n"
          ],
          "name": "stdout"
        }
      ]
    },
    {
      "metadata": {
        "id": "RdzwwTF1oVKZ",
        "colab_type": "code",
        "colab": {}
      },
      "cell_type": "code",
      "source": [
        "main_input = autoencoder.get_layer('main_input').input\n",
        "group_input = autoencoder.get_layer('group_input').input\n",
        "encode = autoencoder.get_layer('encoder').output\n",
        "encoder = Model(inputs=[main_input, group_input], outputs=encode)"
      ],
      "execution_count": 0,
      "outputs": []
    },
    {
      "metadata": {
        "id": "Gi_ekqgZgIVb",
        "colab_type": "code",
        "outputId": "a9c37872-f081-49c1-ebea-2bb8360e1737",
        "colab": {
          "base_uri": "https://localhost:8080/",
          "height": 379
        }
      },
      "cell_type": "code",
      "source": [
        "latent_representation = encoder.predict(x={'main_input': new_main, 'group_input': new_one_hot_groups})\n",
        "colors = new_df['group']\n",
        "color_map = ListedColormap(['#AA4444', '#006000', '#EEEE44'])\n",
        "\n",
        "latent_x = latent_representation[:, 0]\n",
        "latent_y = latent_representation[:, 1]\n",
        "\n",
        "plt.title('new data, new model without forcing')\n",
        "\n",
        "plt.scatter(latent_x, latent_y, alpha=0.5, s=100, marker='o', edgecolors='w', cmap=color_map, c=colors)"
      ],
      "execution_count": 35,
      "outputs": [
        {
          "output_type": "execute_result",
          "data": {
            "text/plain": [
              "<matplotlib.collections.PathCollection at 0x7f74d517b518>"
            ]
          },
          "metadata": {
            "tags": []
          },
          "execution_count": 35
        },
        {
          "output_type": "display_data",
          "data": {
            "image/png": "[encoded data removed]",
            "text/plain": [
              "<Figure size 576x396 with 1 Axes>"
            ]
          },
          "metadata": {
            "tags": []
          }
        }
      ]
    },
    {
      "metadata": {
        "id": "zvNpWV8n2pr5",
        "colab_type": "code",
        "colab": {
          "base_uri": "https://localhost:8080/",
          "height": 731
        },
        "outputId": "edbb674c-2640-4ef1-f7b6-0da5540edf91"
      },
      "cell_type": "code",
      "source": [
        "# often does not even train, so choose a seed known to be good\n",
        "from tensorflow.keras.initializers import glorot_normal\n",
        "seed= 13\n",
        "\n",
        "# first multi in\n",
        "main_input = Input(shape=(3,), name='main_input')\n",
        "group_input = Input(shape=(3,), name='group_input')\n",
        "\n",
        "# hopefully this balances out inputs to same scale\n",
        "encoded_main = Dense(units=2, activation='relu', name=\"main_encoder\", bias_initializer='zeros', kernel_initializer=glorot_normal(seed=seed))(main_input)\n",
        "encoded_group = Dense(units=2, activation='relu', name=\"group_encoder\", bias_initializer='zeros', kernel_initializer=glorot_normal(seed=seed))(group_input)\n",
        "\n",
        "# latent representation\n",
        "\n",
        "merged = concatenate([encoded_main, encoded_group])\n",
        "# this might work as well\n",
        "# merged = average([encoded_main, encoded_group])\n",
        "\n",
        "# the effective latent encoding\n",
        "encoding_dim = 2\n",
        "encoded = Dense(units=encoding_dim, activation='relu', name=\"encoder\", bias_initializer='zeros', kernel_initializer=glorot_normal(seed=seed))(merged)\n",
        "\n",
        "# then multi out\n",
        "\n",
        "main_output = Dense(units=3, activation='linear', name=\"main_output\", bias_initializer='zeros', kernel_initializer=glorot_normal(seed=seed))(encoded)\n",
        "group_output = Dense(units=3, activation='softmax', name=\"group_output\", bias_initializer='zeros', kernel_initializer=glorot_normal(seed=seed))(encoded)\n",
        "stability_output = encoded # just the latent space as output\n",
        "\n",
        "autoencoder = Model(inputs=[main_input, group_input], outputs=[main_output, group_output, stability_output])\n",
        "\n",
        "# adam = keras.optimizers.Adam(lr=0.001)\n",
        "adam = keras.optimizers.Adam(lr=0.01)\n",
        "\n",
        "autoencoder.compile(optimizer=adam,\n",
        "              loss={'main_output': 'mae', 'group_output': 'categorical_crossentropy', 'encoder': 'mae' },\n",
        "              loss_weights={'main_output': 1., 'group_output': 100., 'encoder': 100.})\n",
        "\n",
        "\n",
        "BATCH_SIZE = 1\n",
        "EPOCHS=20\n",
        "\n",
        "%time history = autoencoder.fit(\\\n",
        "    x={'main_input': new_main, 'group_input': new_one_hot_groups},\\\n",
        "    y={'main_output': new_main, 'group_output': new_one_hot_groups, 'encoder': new_original_latent_representation},\\\n",
        "    epochs=EPOCHS, batch_size=BATCH_SIZE, verbose=1)"
      ],
      "execution_count": 36,
      "outputs": [
        {
          "output_type": "stream",
          "text": [
            "Epoch 1/20\n",
            "300/300 [==============================] - 3s 9ms/step - loss: 305.4781 - main_output_loss: 51.8509 - group_output_loss: 1.1185 - encoder_loss: 1.4178\n",
            "Epoch 2/20\n",
            "300/300 [==============================] - 2s 7ms/step - loss: 135.6641 - main_output_loss: 33.4648 - group_output_loss: 0.9922 - encoder_loss: 0.0298\n",
            "Epoch 3/20\n",
            "300/300 [==============================] - 2s 7ms/step - loss: 116.8377 - main_output_loss: 25.4114 - group_output_loss: 0.8898 - encoder_loss: 0.0245\n",
            "Epoch 4/20\n",
            "300/300 [==============================] - 2s 7ms/step - loss: 103.9711 - main_output_loss: 22.4340 - group_output_loss: 0.7896 - encoder_loss: 0.0257\n",
            "Epoch 5/20\n",
            "300/300 [==============================] - 2s 7ms/step - loss: 96.7130 - main_output_loss: 21.4369 - group_output_loss: 0.7303 - encoder_loss: 0.0225\n",
            "Epoch 6/20\n",
            "300/300 [==============================] - 2s 7ms/step - loss: 90.2812 - main_output_loss: 21.1249 - group_output_loss: 0.6676 - encoder_loss: 0.0240\n",
            "Epoch 7/20\n",
            "300/300 [==============================] - 2s 7ms/step - loss: 84.9061 - main_output_loss: 20.8536 - group_output_loss: 0.6118 - encoder_loss: 0.0287\n",
            "Epoch 8/20\n",
            "300/300 [==============================] - 2s 7ms/step - loss: 80.0151 - main_output_loss: 20.6879 - group_output_loss: 0.5700 - encoder_loss: 0.0232\n",
            "Epoch 9/20\n",
            "300/300 [==============================] - 2s 7ms/step - loss: 77.8911 - main_output_loss: 20.6195 - group_output_loss: 0.5414 - encoder_loss: 0.0313\n",
            "Epoch 10/20\n",
            "300/300 [==============================] - 2s 7ms/step - loss: 73.3865 - main_output_loss: 20.5419 - group_output_loss: 0.5078 - encoder_loss: 0.0207\n",
            "Epoch 11/20\n",
            "300/300 [==============================] - 2s 7ms/step - loss: 70.3371 - main_output_loss: 20.4985 - group_output_loss: 0.4697 - encoder_loss: 0.0287\n",
            "Epoch 12/20\n",
            "300/300 [==============================] - 2s 7ms/step - loss: 67.9732 - main_output_loss: 20.3585 - group_output_loss: 0.4557 - encoder_loss: 0.0205\n",
            "Epoch 13/20\n",
            "300/300 [==============================] - 2s 7ms/step - loss: 66.0106 - main_output_loss: 20.3306 - group_output_loss: 0.4290 - encoder_loss: 0.0278\n",
            "Epoch 14/20\n",
            "300/300 [==============================] - 2s 7ms/step - loss: 62.6151 - main_output_loss: 20.2152 - group_output_loss: 0.4014 - encoder_loss: 0.0226\n",
            "Epoch 15/20\n",
            "300/300 [==============================] - 2s 7ms/step - loss: 60.8805 - main_output_loss: 20.1307 - group_output_loss: 0.3842 - encoder_loss: 0.0233\n",
            "Epoch 16/20\n",
            "300/300 [==============================] - 2s 7ms/step - loss: 58.0019 - main_output_loss: 20.1146 - group_output_loss: 0.3528 - encoder_loss: 0.0261\n",
            "Epoch 17/20\n",
            "300/300 [==============================] - 2s 7ms/step - loss: 56.8047 - main_output_loss: 20.0029 - group_output_loss: 0.3420 - encoder_loss: 0.0261\n",
            "Epoch 18/20\n",
            "300/300 [==============================] - 2s 7ms/step - loss: 55.3727 - main_output_loss: 19.8991 - group_output_loss: 0.3273 - encoder_loss: 0.0275\n",
            "Epoch 19/20\n",
            "300/300 [==============================] - 2s 7ms/step - loss: 53.1672 - main_output_loss: 19.8443 - group_output_loss: 0.3095 - encoder_loss: 0.0237\n",
            "Epoch 20/20\n",
            "300/300 [==============================] - 2s 7ms/step - loss: 52.5677 - main_output_loss: 19.8120 - group_output_loss: 0.2963 - encoder_loss: 0.0312\n",
            "CPU times: user 56.1 s, sys: 7.76 s, total: 1min 3s\n",
            "Wall time: 43.5 s\n"
          ],
          "name": "stdout"
        }
      ]
    },
    {
      "metadata": {
        "id": "vxGtAcxe7RX6",
        "colab_type": "code",
        "colab": {
          "base_uri": "https://localhost:8080/",
          "height": 379
        },
        "outputId": "3fdcbc25-34b9-4ece-a738-266942e8dc70"
      },
      "cell_type": "code",
      "source": [
        "main_input = autoencoder.get_layer('main_input').input\n",
        "group_input = autoencoder.get_layer('group_input').input\n",
        "encode = autoencoder.get_layer('encoder').output\n",
        "encoder = Model(inputs=[main_input, group_input], outputs=encode)\n",
        "\n",
        "latent_representation = encoder.predict(x={'main_input': new_main, 'group_input': new_one_hot_groups})\n",
        "colors = new_df['group']\n",
        "color_map = ListedColormap(['#AA4444', '#006000', '#EEEE44'])\n",
        "\n",
        "latent_x = latent_representation[:, 0]\n",
        "latent_y = latent_representation[:, 1]\n",
        "\n",
        "plt.title('new data, new model with forcing')\n",
        "\n",
        "plt.scatter(latent_x, latent_y, alpha=0.5, s=100, marker='o', edgecolors='w', cmap=color_map, c=colors)"
      ],
      "execution_count": 37,
      "outputs": [
        {
          "output_type": "execute_result",
          "data": {
            "text/plain": [
              "<matplotlib.collections.PathCollection at 0x7f74d46bcc18>"
            ]
          },
          "metadata": {
            "tags": []
          },
          "execution_count": 37
        },
        {
          "output_type": "display_data",
          "data": {
            "image/png": "[encoded data removed]",
            "text/plain": [
              "<Figure size 576x396 with 1 Axes>"
            ]
          },
          "metadata": {
            "tags": []
          }
        }
      ]
    },
    {
      "metadata": {
        "id": "5A0oheNu7lmB",
        "colab_type": "code",
        "colab": {}
      },
      "cell_type": "code",
      "source": [
        ""
      ],
      "execution_count": 0,
      "outputs": []
    }
  ]
}