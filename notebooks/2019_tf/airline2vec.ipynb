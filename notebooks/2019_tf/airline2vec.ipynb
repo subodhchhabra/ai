{
  "nbformat": 4,
  "nbformat_minor": 0,
  "metadata": {
    "colab": {
      "name": "airline2vec.ipynb",
      "version": "0.3.2",
      "provenance": [],
      "collapsed_sections": [],
      "include_colab_link": true
    },
    "kernelspec": {
      "name": "python3",
      "display_name": "Python 3"
    },
    "accelerator": "GPU"
  },
  "cells": [
    {
      "cell_type": "markdown",
      "metadata": {
        "id": "view-in-github",
        "colab_type": "text"
      },
      "source": [
        "<a href=\"https://colab.research.google.com/github/DJCordhose/ai/blob/master/notebooks/2019_tf/airline2vec.ipynb\" target=\"_parent\"><img src=\"https://colab.research.google.com/assets/colab-badge.svg\" alt=\"Open In Colab\"/></a>"
      ]
    },
    {
      "metadata": {
        "id": "t0SNZ3gZDa36",
        "colab_type": "text"
      },
      "cell_type": "markdown",
      "source": [
        "# Airline Embeddings\n",
        "\n",
        "_Basic assumption: airlines fliying similar routes are similar_\n",
        "\n",
        "## Data Sets\n",
        "* Single Flights: http://stat-computing.org/dataexpo/2009/the-data.html\n",
        "* Routes between airports: https://openflights.org/data.html#route\n"
      ]
    },
    {
      "metadata": {
        "id": "74_7Xj83pNyk",
        "colab_type": "code",
        "outputId": "0d199b25-363a-4074-a56d-1399eb1bb9cb",
        "colab": {
          "base_uri": "https://localhost:8080/",
          "height": 68
        }
      },
      "cell_type": "code",
      "source": [
        "!curl -O https://raw.githubusercontent.com/jpatokal/openflights/master/data/routes.dat"
      ],
      "execution_count": 1,
      "outputs": [
        {
          "output_type": "stream",
          "text": [
            "  % Total    % Received % Xferd  Average Speed   Time    Time     Time  Current\n",
            "                                 Dload  Upload   Total   Spent    Left  Speed\n",
            "100 2321k  100 2321k    0     0  1458k      0  0:00:01  0:00:01 --:--:-- 1458k\n"
          ],
          "name": "stdout"
        }
      ]
    },
    {
      "metadata": {
        "id": "9CUgJvsutUuV",
        "colab_type": "code",
        "colab": {}
      },
      "cell_type": "code",
      "source": [
        "# pd.read_csv?"
      ],
      "execution_count": 0,
      "outputs": []
    },
    {
      "metadata": {
        "id": "7Q64fxjyqmyU",
        "colab_type": "code",
        "outputId": "87b9c552-ce93-45ff-aa45-3c6f637b2d0e",
        "colab": {
          "base_uri": "https://localhost:8080/",
          "height": 34
        }
      },
      "cell_type": "code",
      "source": [
        "import pandas as pd\n",
        "\n",
        "df = pd.read_csv('routes.dat', quotechar=\"'\", sep=',', encoding='utf-8', header=None, na_values='\\\\N',\n",
        "                names=['Airline', 'Airline ID', 'Source airport', 'Source airport ID', 'Destination airport', 'Destination airport ID', 'Codeshare', 'Stops', 'Equipment'])\n",
        "\n",
        "# https://openflights.org/data.html#route\n",
        "  \n",
        "# Airline\t2-letter (IATA) or 3-letter (ICAO) code of the airline.\n",
        "# Airline ID\tUnique OpenFlights identifier for airline (see Airline).\n",
        "# Source airport\t3-letter (IATA) or 4-letter (ICAO) code of the source airport.\n",
        "# Source airport ID\tUnique OpenFlights identifier for source airport (see Airport)\n",
        "# Destination airport\t3-letter (IATA) or 4-letter (ICAO) code of the destination airport.\n",
        "# Destination airport ID\tUnique OpenFlights identifier for destination airport (see Airport)\n",
        "# Codeshare\t\"Y\" if this flight is a codeshare (that is, not operated by Airline, but another carrier), empty otherwise.\n",
        "# Stops\tNumber of stops on this flight (\"0\" for direct)\n",
        "# Equipment\t3-letter codes for plane type(s) generally used on this flight, separated by spaces\n",
        "\n",
        "# df[df['Stops'] == 1] gives only a dozen or so routes, so also drop it\n",
        "df.drop(['Airline ID',\t'Source airport ID', 'Destination airport ID', 'Codeshare', 'Equipment', 'Stops'], axis='columns', inplace=True)\n",
        "len(df)"
      ],
      "execution_count": 3,
      "outputs": [
        {
          "output_type": "execute_result",
          "data": {
            "text/plain": [
              "67663"
            ]
          },
          "metadata": {
            "tags": []
          },
          "execution_count": 3
        }
      ]
    },
    {
      "metadata": {
        "id": "RpZAQeL8rJUH",
        "colab_type": "code",
        "outputId": "8e4d7a82-d961-41b2-ae49-6dfb5e406139",
        "colab": {
          "base_uri": "https://localhost:8080/",
          "height": 204
        }
      },
      "cell_type": "code",
      "source": [
        "df.head()"
      ],
      "execution_count": 4,
      "outputs": [
        {
          "output_type": "execute_result",
          "data": {
            "text/html": [
              "<div>\n",
              "<style scoped>\n",
              "    .dataframe tbody tr th:only-of-type {\n",
              "        vertical-align: middle;\n",
              "    }\n",
              "\n",
              "    .dataframe tbody tr th {\n",
              "        vertical-align: top;\n",
              "    }\n",
              "\n",
              "    .dataframe thead th {\n",
              "        text-align: right;\n",
              "    }\n",
              "</style>\n",
              "<table border=\"1\" class=\"dataframe\">\n",
              "  <thead>\n",
              "    <tr style=\"text-align: right;\">\n",
              "      <th></th>\n",
              "      <th>Airline</th>\n",
              "      <th>Source airport</th>\n",
              "      <th>Destination airport</th>\n",
              "    </tr>\n",
              "  </thead>\n",
              "  <tbody>\n",
              "    <tr>\n",
              "      <th>0</th>\n",
              "      <td>2B</td>\n",
              "      <td>AER</td>\n",
              "      <td>KZN</td>\n",
              "    </tr>\n",
              "    <tr>\n",
              "      <th>1</th>\n",
              "      <td>2B</td>\n",
              "      <td>ASF</td>\n",
              "      <td>KZN</td>\n",
              "    </tr>\n",
              "    <tr>\n",
              "      <th>2</th>\n",
              "      <td>2B</td>\n",
              "      <td>ASF</td>\n",
              "      <td>MRV</td>\n",
              "    </tr>\n",
              "    <tr>\n",
              "      <th>3</th>\n",
              "      <td>2B</td>\n",
              "      <td>CEK</td>\n",
              "      <td>KZN</td>\n",
              "    </tr>\n",
              "    <tr>\n",
              "      <th>4</th>\n",
              "      <td>2B</td>\n",
              "      <td>CEK</td>\n",
              "      <td>OVB</td>\n",
              "    </tr>\n",
              "  </tbody>\n",
              "</table>\n",
              "</div>"
            ],
            "text/plain": [
              "  Airline Source airport Destination airport\n",
              "0      2B            AER                 KZN\n",
              "1      2B            ASF                 KZN\n",
              "2      2B            ASF                 MRV\n",
              "3      2B            CEK                 KZN\n",
              "4      2B            CEK                 OVB"
            ]
          },
          "metadata": {
            "tags": []
          },
          "execution_count": 4
        }
      ]
    },
    {
      "metadata": {
        "id": "EehcSpqtvYwu",
        "colab_type": "code",
        "outputId": "fd6f49bb-029c-4c6f-afab-18c5d16f112b",
        "colab": {
          "base_uri": "https://localhost:8080/",
          "height": 34
        }
      },
      "cell_type": "code",
      "source": [
        "sources = df['Source airport'].unique()\n",
        "len(sources)"
      ],
      "execution_count": 5,
      "outputs": [
        {
          "output_type": "execute_result",
          "data": {
            "text/plain": [
              "3409"
            ]
          },
          "metadata": {
            "tags": []
          },
          "execution_count": 5
        }
      ]
    },
    {
      "metadata": {
        "id": "Ub5pJVxhvmJ7",
        "colab_type": "code",
        "outputId": "5520f2c6-71d9-402e-c17f-b7f18c998985",
        "colab": {
          "base_uri": "https://localhost:8080/",
          "height": 34
        }
      },
      "cell_type": "code",
      "source": [
        "destinations = df['Destination airport'].unique()\n",
        "len(destinations)"
      ],
      "execution_count": 6,
      "outputs": [
        {
          "output_type": "execute_result",
          "data": {
            "text/plain": [
              "3418"
            ]
          },
          "metadata": {
            "tags": []
          },
          "execution_count": 6
        }
      ]
    },
    {
      "metadata": {
        "id": "v1dOL_9-v0oT",
        "colab_type": "code",
        "outputId": "9b6ea14a-c3bb-43f0-b56e-22f4954c739b",
        "colab": {
          "base_uri": "https://localhost:8080/",
          "height": 34
        }
      },
      "cell_type": "code",
      "source": [
        "airlines = df['Airline'].unique()\n",
        "len(airlines)"
      ],
      "execution_count": 7,
      "outputs": [
        {
          "output_type": "execute_result",
          "data": {
            "text/plain": [
              "568"
            ]
          },
          "metadata": {
            "tags": []
          },
          "execution_count": 7
        }
      ]
    },
    {
      "metadata": {
        "id": "Dtz68G6gitV3",
        "colab_type": "code",
        "outputId": "7a36a7ae-aefd-4d60-e621-285131b763c7",
        "colab": {
          "base_uri": "https://localhost:8080/",
          "height": 34
        }
      },
      "cell_type": "code",
      "source": [
        "import tensorflow as tf\n",
        "tf.logging.set_verbosity(tf.logging.ERROR)\n",
        "print(tf.__version__)"
      ],
      "execution_count": 8,
      "outputs": [
        {
          "output_type": "stream",
          "text": [
            "1.13.0-rc2\n"
          ],
          "name": "stdout"
        }
      ]
    },
    {
      "metadata": {
        "id": "N4YhKffPzMAc",
        "colab_type": "code",
        "outputId": "46430182-c3fa-42a2-fc23-2f8c8e41e95d",
        "colab": {
          "base_uri": "https://localhost:8080/",
          "height": 34
        }
      },
      "cell_type": "code",
      "source": [
        "from tensorflow.keras.preprocessing.text import Tokenizer\n",
        "\n",
        "airline_tokenizer = Tokenizer()\n",
        "airline_tokenizer.fit_on_texts(df['Airline'])\n",
        "\n",
        "import numpy as np\n",
        "\n",
        "encoded_airlines = np.array(airline_tokenizer.texts_to_sequences(df['Airline'])).reshape(-1)\n",
        "encoded_airlines"
      ],
      "execution_count": 9,
      "outputs": [
        {
          "output_type": "execute_result",
          "data": {
            "text/plain": [
              "array([241, 241, 241, ..., 543, 543, 543])"
            ]
          },
          "metadata": {
            "tags": []
          },
          "execution_count": 9
        }
      ]
    },
    {
      "metadata": {
        "id": "6IBnf4t5zW-q",
        "colab_type": "code",
        "outputId": "164c55ec-55e3-4e78-ef13-1718092c6cd0",
        "colab": {
          "base_uri": "https://localhost:8080/",
          "height": 34
        }
      },
      "cell_type": "code",
      "source": [
        "len(encoded_airlines) "
      ],
      "execution_count": 10,
      "outputs": [
        {
          "output_type": "execute_result",
          "data": {
            "text/plain": [
              "67663"
            ]
          },
          "metadata": {
            "tags": []
          },
          "execution_count": 10
        }
      ]
    },
    {
      "metadata": {
        "id": "U7n-Vq0m2Hu4",
        "colab_type": "code",
        "outputId": "096d405a-8c09-4d74-b129-fd98a22360e2",
        "colab": {
          "base_uri": "https://localhost:8080/",
          "height": 119
        }
      },
      "cell_type": "code",
      "source": [
        "routes = df[['Source airport', 'Destination airport']].apply(lambda x: ' '.join(x), axis=1)\n",
        "routes.head()"
      ],
      "execution_count": 11,
      "outputs": [
        {
          "output_type": "execute_result",
          "data": {
            "text/plain": [
              "0    AER KZN\n",
              "1    ASF KZN\n",
              "2    ASF MRV\n",
              "3    CEK KZN\n",
              "4    CEK OVB\n",
              "dtype: object"
            ]
          },
          "metadata": {
            "tags": []
          },
          "execution_count": 11
        }
      ]
    },
    {
      "metadata": {
        "id": "nYV0rPJC0c4G",
        "colab_type": "code",
        "colab": {}
      },
      "cell_type": "code",
      "source": [
        "routes_tokenizer = Tokenizer()\n",
        "routes_tokenizer.fit_on_texts(routes)\n",
        "encoded_routes = np.array(routes_tokenizer.texts_to_sequences(routes))"
      ],
      "execution_count": 0,
      "outputs": []
    },
    {
      "metadata": {
        "id": "hDFKV1Cz8WvF",
        "colab_type": "code",
        "outputId": "10dc3572-3bcc-4404-9182-d3a3b1590be2",
        "colab": {
          "base_uri": "https://localhost:8080/",
          "height": 34
        }
      },
      "cell_type": "code",
      "source": [
        "# should be a bit more 3400 as source and destination are from the same set\n",
        "output_dim = len(routes_tokenizer.word_index) + 1\n",
        "output_dim"
      ],
      "execution_count": 13,
      "outputs": [
        {
          "output_type": "execute_result",
          "data": {
            "text/plain": [
              "3426"
            ]
          },
          "metadata": {
            "tags": []
          },
          "execution_count": 13
        }
      ]
    },
    {
      "metadata": {
        "id": "K5jz1ykV8Oen",
        "colab_type": "code",
        "outputId": "58c11c9c-af89-4830-bd48-63e8295214de",
        "colab": {
          "base_uri": "https://localhost:8080/",
          "height": 34
        }
      },
      "cell_type": "code",
      "source": [
        "encoded_routes[0]"
      ],
      "execution_count": 14,
      "outputs": [
        {
          "output_type": "execute_result",
          "data": {
            "text/plain": [
              "array([511, 491])"
            ]
          },
          "metadata": {
            "tags": []
          },
          "execution_count": 14
        }
      ]
    },
    {
      "metadata": {
        "id": "yKB85wjg7y3Z",
        "colab_type": "code",
        "outputId": "45ac6cda-e5a6-41d1-94d9-444ed3535f2b",
        "colab": {
          "base_uri": "https://localhost:8080/",
          "height": 34
        }
      },
      "cell_type": "code",
      "source": [
        "len(encoded_routes)"
      ],
      "execution_count": 15,
      "outputs": [
        {
          "output_type": "execute_result",
          "data": {
            "text/plain": [
              "67663"
            ]
          },
          "metadata": {
            "tags": []
          },
          "execution_count": 15
        }
      ]
    },
    {
      "metadata": {
        "id": "hSm686Cv77Vj",
        "colab_type": "code",
        "colab": {}
      },
      "cell_type": "code",
      "source": [
        "from tensorflow.keras.utils import to_categorical\n",
        "\n",
        "# sequence of airlines encoded as a unique number\n",
        "x = encoded_airlines\n",
        "# sequence of pair, src, dest encoded as a unique numbers\n",
        "Y = to_categorical(encoded_routes)\n",
        "# for now just the source\n",
        "# Y = to_categorical(encoded_routes[:, 0])"
      ],
      "execution_count": 0,
      "outputs": []
    },
    {
      "metadata": {
        "id": "cSi258PHZAf9",
        "colab_type": "code",
        "colab": {
          "base_uri": "https://localhost:8080/",
          "height": 51
        },
        "outputId": "d6cf53ec-8636-48bf-990d-7fd4730f8d0a"
      },
      "cell_type": "code",
      "source": [
        "Y[0]"
      ],
      "execution_count": 17,
      "outputs": [
        {
          "output_type": "execute_result",
          "data": {
            "text/plain": [
              "array([[0., 0., 0., ..., 0., 0., 0.],\n",
              "       [0., 0., 0., ..., 0., 0., 0.]], dtype=float32)"
            ]
          },
          "metadata": {
            "tags": []
          },
          "execution_count": 17
        }
      ]
    },
    {
      "metadata": {
        "id": "BzKAyEvmraN-",
        "colab_type": "text"
      },
      "cell_type": "markdown",
      "source": [
        "## 2d embeddings"
      ]
    },
    {
      "metadata": {
        "id": "brvMGP0koGBu",
        "colab_type": "code",
        "outputId": "e460774e-bba9-4e6b-edc8-1f3222efad2e",
        "colab": {
          "base_uri": "https://localhost:8080/",
          "height": 379
        }
      },
      "cell_type": "code",
      "source": [
        "%%time\n",
        "\n",
        "import matplotlib.pyplot as plt\n",
        "\n",
        "\n",
        "import tensorflow as tf\n",
        "from tensorflow import keras\n",
        "from tensorflow.keras.layers import Flatten, GlobalAveragePooling1D, Dense, LSTM, GRU, SimpleRNN, Bidirectional, Embedding, RepeatVector\n",
        "from tensorflow.keras.models import Sequential, Model\n",
        "\n",
        "from tensorflow.keras.initializers import glorot_normal\n",
        "seed = 3\n",
        "\n",
        "input_dim = len(airlines) + 1\n",
        "embedding_dim = 2\n",
        "\n",
        "model = Sequential()\n",
        "\n",
        "model.add(Embedding(name='embedding',\n",
        "                    input_dim=input_dim, \n",
        "                    output_dim=embedding_dim, \n",
        "                    input_length=1,\n",
        "                   embeddings_initializer=glorot_normal(seed=seed)))\n",
        "\n",
        "# model.add(GlobalAveragePooling1D())\n",
        "model.add(Flatten())\n",
        "\n",
        "model.add(Dense(units=50, activation='relu', bias_initializer='zeros', kernel_initializer=glorot_normal(seed=seed)))\n",
        "\n",
        "model.add(RepeatVector(2))\n",
        "\n",
        "model.add(SimpleRNN(units=50, return_sequences=True, bias_initializer='zeros', kernel_initializer=glorot_normal(seed=seed)))\n",
        "\n",
        "model.add(Dense(units=output_dim, name='output', activation='softmax', bias_initializer='zeros', kernel_initializer=glorot_normal(seed=seed)))\n",
        "model.compile(optimizer='adam', loss='categorical_crossentropy', metrics=['accuracy'])\n",
        "\n",
        "model.summary()"
      ],
      "execution_count": 18,
      "outputs": [
        {
          "output_type": "stream",
          "text": [
            "_________________________________________________________________\n",
            "Layer (type)                 Output Shape              Param #   \n",
            "=================================================================\n",
            "embedding (Embedding)        (None, 1, 2)              1138      \n",
            "_________________________________________________________________\n",
            "flatten (Flatten)            (None, 2)                 0         \n",
            "_________________________________________________________________\n",
            "dense (Dense)                (None, 50)                150       \n",
            "_________________________________________________________________\n",
            "repeat_vector (RepeatVector) (None, 2, 50)             0         \n",
            "_________________________________________________________________\n",
            "simple_rnn (SimpleRNN)       (None, 2, 50)             5050      \n",
            "_________________________________________________________________\n",
            "output (Dense)               (None, 2, 3426)           174726    \n",
            "=================================================================\n",
            "Total params: 181,064\n",
            "Trainable params: 181,064\n",
            "Non-trainable params: 0\n",
            "_________________________________________________________________\n",
            "CPU times: user 334 ms, sys: 9.91 ms, total: 344 ms\n",
            "Wall time: 343 ms\n"
          ],
          "name": "stdout"
        }
      ]
    },
    {
      "metadata": {
        "id": "twAODgEoDjpN",
        "colab_type": "code",
        "outputId": "b6fdd478-7ed1-4b63-ca13-6e715f8e973b",
        "colab": {
          "base_uri": "https://localhost:8080/",
          "height": 86
        }
      },
      "cell_type": "code",
      "source": [
        "model.predict(np.array([x[0]]))"
      ],
      "execution_count": 19,
      "outputs": [
        {
          "output_type": "execute_result",
          "data": {
            "text/plain": [
              "array([[[0.00029187, 0.00029189, 0.00029188, ..., 0.00029186,\n",
              "         0.00029188, 0.00029189],\n",
              "        [0.00029188, 0.00029188, 0.0002919 , ..., 0.00029187,\n",
              "         0.00029187, 0.00029191]]], dtype=float32)"
            ]
          },
          "metadata": {
            "tags": []
          },
          "execution_count": 19
        }
      ]
    },
    {
      "metadata": {
        "id": "Ti2efJAYXkqs",
        "colab_type": "code",
        "colab": {
          "base_uri": "https://localhost:8080/",
          "height": 51
        },
        "outputId": "ae79441a-8cfa-4a46-de66-18c1d3671db7"
      },
      "cell_type": "code",
      "source": [
        "Y[0]"
      ],
      "execution_count": 20,
      "outputs": [
        {
          "output_type": "execute_result",
          "data": {
            "text/plain": [
              "array([[0., 0., 0., ..., 0., 0., 0.],\n",
              "       [0., 0., 0., ..., 0., 0., 0.]], dtype=float32)"
            ]
          },
          "metadata": {
            "tags": []
          },
          "execution_count": 20
        }
      ]
    },
    {
      "metadata": {
        "id": "-VE_4hb9DYrR",
        "colab_type": "code",
        "outputId": "51a2884a-304f-4e39-c527-7d63b87e1e01",
        "colab": {
          "base_uri": "https://localhost:8080/",
          "height": 1245
        }
      },
      "cell_type": "code",
      "source": [
        "%%time\n",
        "\n",
        "EPOCHS=25\n",
        "BATCH_SIZE=100\n",
        "\n",
        "history = model.fit(x, Y, epochs=EPOCHS, batch_size=BATCH_SIZE, verbose=1)\n",
        "\n",
        "plt.yscale('log')\n",
        "plt.plot(history.history['loss'])\n",
        "plt.plot(history.history['acc'])"
      ],
      "execution_count": 21,
      "outputs": [
        {
          "output_type": "stream",
          "text": [
            "Epoch 1/25\n",
            "67663/67663 [==============================] - 9s 138us/sample - loss: 6.7967 - acc: 0.0139\n",
            "Epoch 2/25\n",
            "67663/67663 [==============================] - 9s 135us/sample - loss: 6.2463 - acc: 0.0235\n",
            "Epoch 3/25\n",
            "67663/67663 [==============================] - 9s 136us/sample - loss: 5.8471 - acc: 0.0376\n",
            "Epoch 4/25\n",
            "67663/67663 [==============================] - 9s 135us/sample - loss: 5.5863 - acc: 0.0508\n",
            "Epoch 5/25\n",
            "67663/67663 [==============================] - 9s 135us/sample - loss: 5.3562 - acc: 0.0717\n",
            "Epoch 6/25\n",
            "67663/67663 [==============================] - 9s 135us/sample - loss: 5.1995 - acc: 0.0857\n",
            "Epoch 7/25\n",
            "67663/67663 [==============================] - 9s 135us/sample - loss: 5.0852 - acc: 0.0936\n",
            "Epoch 8/25\n",
            "67663/67663 [==============================] - 9s 135us/sample - loss: 4.9964 - acc: 0.1000\n",
            "Epoch 9/25\n",
            "67663/67663 [==============================] - 9s 135us/sample - loss: 4.9244 - acc: 0.1061\n",
            "Epoch 10/25\n",
            "67663/67663 [==============================] - 9s 135us/sample - loss: 4.8687 - acc: 0.1104\n",
            "Epoch 11/25\n",
            "67663/67663 [==============================] - 9s 135us/sample - loss: 4.8224 - acc: 0.1140\n",
            "Epoch 12/25\n",
            "67663/67663 [==============================] - 9s 135us/sample - loss: 4.7829 - acc: 0.1164\n",
            "Epoch 13/25\n",
            "67663/67663 [==============================] - 9s 135us/sample - loss: 4.7483 - acc: 0.1192\n",
            "Epoch 14/25\n",
            "67663/67663 [==============================] - 9s 135us/sample - loss: 4.7181 - acc: 0.1216\n",
            "Epoch 15/25\n",
            "67663/67663 [==============================] - 9s 136us/sample - loss: 4.6911 - acc: 0.1246\n",
            "Epoch 16/25\n",
            "67663/67663 [==============================] - 9s 136us/sample - loss: 4.6670 - acc: 0.1266\n",
            "Epoch 17/25\n",
            "67663/67663 [==============================] - 9s 137us/sample - loss: 4.6457 - acc: 0.1284\n",
            "Epoch 18/25\n",
            "67663/67663 [==============================] - 9s 137us/sample - loss: 4.6260 - acc: 0.1295\n",
            "Epoch 19/25\n",
            "67663/67663 [==============================] - 9s 135us/sample - loss: 4.6090 - acc: 0.1302\n",
            "Epoch 20/25\n",
            "67663/67663 [==============================] - 9s 135us/sample - loss: 4.5922 - acc: 0.1313\n",
            "Epoch 21/25\n",
            "67663/67663 [==============================] - 9s 135us/sample - loss: 4.5786 - acc: 0.1331\n",
            "Epoch 22/25\n",
            "67663/67663 [==============================] - 9s 135us/sample - loss: 4.5644 - acc: 0.1330\n",
            "Epoch 23/25\n",
            "67663/67663 [==============================] - 9s 135us/sample - loss: 4.5525 - acc: 0.1342\n",
            "Epoch 24/25\n",
            "67663/67663 [==============================] - 9s 135us/sample - loss: 4.5393 - acc: 0.1347\n",
            "Epoch 25/25\n",
            "67663/67663 [==============================] - 9s 135us/sample - loss: 4.5281 - acc: 0.1360\n",
            "CPU times: user 3min 46s, sys: 34.3 s, total: 4min 21s\n",
            "Wall time: 3min 49s\n"
          ],
          "name": "stdout"
        },
        {
          "output_type": "display_data",
          "data": {
            "image/png": "[encoded data removed]",
            "text/plain": [
              "<Figure size 576x396 with 1 Axes>"
            ]
          },
          "metadata": {
            "tags": []
          }
        }
      ]
    },
    {
      "metadata": {
        "id": "V9ItdCvWISKr",
        "colab_type": "code",
        "colab": {
          "base_uri": "https://localhost:8080/",
          "height": 51
        },
        "outputId": "f3b8cf4e-b40a-4ba9-d8e5-db0fae0f9b6a"
      },
      "cell_type": "code",
      "source": [
        "loss, accuracy = model.evaluate(x, Y, batch_size=BATCH_SIZE)\n",
        "loss, accuracy"
      ],
      "execution_count": 22,
      "outputs": [
        {
          "output_type": "stream",
          "text": [
            "67663/67663 [==============================] - 5s 77us/sample - loss: 4.4975 - acc: 0.1335\n"
          ],
          "name": "stdout"
        },
        {
          "output_type": "execute_result",
          "data": {
            "text/plain": [
              "(4.4975070127010195, 0.1334555)"
            ]
          },
          "metadata": {
            "tags": []
          },
          "execution_count": 22
        }
      ]
    },
    {
      "metadata": {
        "id": "6DyEK_CODsZy",
        "colab_type": "code",
        "colab": {}
      },
      "cell_type": "code",
      "source": [
        "samples = pd.DataFrame(encoded_airlines).sample(n=200).values.reshape(-1)"
      ],
      "execution_count": 0,
      "outputs": []
    },
    {
      "metadata": {
        "id": "zvNZOg1itp_s",
        "colab_type": "code",
        "colab": {}
      },
      "cell_type": "code",
      "source": [
        "# https://en.wikipedia.org/wiki/List_of_airline_codes\n",
        "# https://en.wikipedia.org/wiki/List_of_largest_airlines_in_North_America\n",
        "# https://en.wikipedia.org/wiki/List_of_largest_airlines_in_Europe\n",
        "\n",
        "europe_airlines = ['LH', 'BA', 'SK', 'KL', 'AF', 'FR', 'SU', 'EW', 'TP', 'BT', 'U2']\n",
        "us_airlines = ['AA', 'US', 'UA', 'WN', 'DL', 'AS', 'HA']"
      ],
      "execution_count": 0,
      "outputs": []
    },
    {
      "metadata": {
        "id": "oXnMYvAg5m3y",
        "colab_type": "code",
        "colab": {}
      },
      "cell_type": "code",
      "source": [
        "samples = [airline_tokenizer.word_index[airline_code.lower()] for airline_code in europe_airlines + us_airlines]"
      ],
      "execution_count": 0,
      "outputs": []
    },
    {
      "metadata": {
        "id": "yBuKaNNxExs2",
        "colab_type": "code",
        "colab": {}
      },
      "cell_type": "code",
      "source": [
        "embedding_layer = model.get_layer('embedding')\n",
        "embedding_model = Model(inputs=model.input, outputs=embedding_layer.output)\n",
        "embeddings_2d = embedding_model.predict(samples).reshape(-1, 2)"
      ],
      "execution_count": 0,
      "outputs": []
    },
    {
      "metadata": {
        "id": "-gC6uRgMDXTl",
        "colab_type": "code",
        "colab": {
          "base_uri": "https://localhost:8080/",
          "height": 347
        },
        "outputId": "8bed4590-9cb3-44bb-d29b-7fb18f56f160"
      },
      "cell_type": "code",
      "source": [
        "# for printing only\n",
        "# plt.figure(dpi=600)\n",
        "plt.axis('off')\n",
        "\n",
        "plt.scatter(embeddings_2d[:, 0], embeddings_2d[:, 1])\n",
        "for index, x_pos, y_pos in zip(samples, embeddings_2d[:, 0], embeddings_2d[:, 1]):\n",
        "  name = airline_tokenizer.index_word[index]\n",
        "#   print(name, (x_pos, y_pos))\n",
        "  plt.annotate(name, (x_pos, y_pos))"
      ],
      "execution_count": 27,
      "outputs": [
        {
          "output_type": "display_data",
          "data": {
            "image/png": "[encoded data removed]",
            "text/plain": [
              "<Figure size 576x396 with 1 Axes>"
            ]
          },
          "metadata": {
            "tags": []
          }
        }
      ]
    },
    {
      "metadata": {
        "id": "YTOc5V0UDDca",
        "colab_type": "text"
      },
      "cell_type": "markdown",
      "source": [
        "## 1d embeddings"
      ]
    },
    {
      "metadata": {
        "id": "yZdK4FMtEsAS",
        "colab_type": "code",
        "colab": {
          "base_uri": "https://localhost:8080/",
          "height": 374
        },
        "outputId": "05ac1b43-1560-46e2-c01a-72c3e76c329d"
      },
      "cell_type": "code",
      "source": [
        "%%time\n",
        "\n",
        "import matplotlib.pyplot as plt\n",
        "\n",
        "\n",
        "import tensorflow as tf\n",
        "from tensorflow import keras\n",
        "from tensorflow.keras.layers import Flatten, GlobalAveragePooling1D, Dense, LSTM, GRU, SimpleRNN, Bidirectional, Embedding, RepeatVector\n",
        "from tensorflow.keras.models import Sequential, Model\n",
        "\n",
        "from tensorflow.keras.initializers import glorot_normal\n",
        "seed = 3\n",
        "\n",
        "input_dim = len(airlines) + 1\n",
        "embedding_dim = 1\n",
        "\n",
        "model = Sequential()\n",
        "\n",
        "model.add(Embedding(name='embedding',\n",
        "                    input_dim=input_dim, \n",
        "                    output_dim=embedding_dim, \n",
        "                    input_length=1,\n",
        "                   embeddings_initializer=glorot_normal(seed=seed)))\n",
        "\n",
        "# model.add(GlobalAveragePooling1D())\n",
        "model.add(Flatten())\n",
        "\n",
        "model.add(Dense(units=50, activation='relu', bias_initializer='zeros', kernel_initializer=glorot_normal(seed=seed)))\n",
        "\n",
        "model.add(RepeatVector(2))\n",
        "\n",
        "model.add(SimpleRNN(units=50, return_sequences=True, bias_initializer='zeros', kernel_initializer=glorot_normal(seed=seed)))\n",
        "\n",
        "model.add(Dense(units=output_dim, name='output', activation='softmax', bias_initializer='zeros', kernel_initializer=glorot_normal(seed=seed)))\n",
        "model.compile(optimizer='adam', loss='categorical_crossentropy', metrics=['accuracy'])\n",
        "\n",
        "model.summary()"
      ],
      "execution_count": 28,
      "outputs": [
        {
          "output_type": "stream",
          "text": [
            "_________________________________________________________________\n",
            "Layer (type)                 Output Shape              Param #   \n",
            "=================================================================\n",
            "embedding (Embedding)        (None, 1, 1)              569       \n",
            "_________________________________________________________________\n",
            "flatten_1 (Flatten)          (None, 1)                 0         \n",
            "_________________________________________________________________\n",
            "dense_1 (Dense)              (None, 50)                100       \n",
            "_________________________________________________________________\n",
            "repeat_vector_1 (RepeatVecto (None, 2, 50)             0         \n",
            "_________________________________________________________________\n",
            "simple_rnn_1 (SimpleRNN)     (None, 2, 50)             5050      \n",
            "_________________________________________________________________\n",
            "output (Dense)               (None, 2, 3426)           174726    \n",
            "=================================================================\n",
            "Total params: 180,445\n",
            "Trainable params: 180,445\n",
            "Non-trainable params: 0\n",
            "_________________________________________________________________\n",
            "CPU times: user 420 ms, sys: 864 µs, total: 421 ms\n",
            "Wall time: 420 ms\n"
          ],
          "name": "stdout"
        }
      ]
    },
    {
      "metadata": {
        "id": "_y0ScvHBEbzQ",
        "colab_type": "code",
        "colab": {
          "base_uri": "https://localhost:8080/",
          "height": 1231
        },
        "outputId": "11110053-1eb7-49d1-be28-7e8bedb5ce6c"
      },
      "cell_type": "code",
      "source": [
        "%%time\n",
        "\n",
        "EPOCHS=25\n",
        "BATCH_SIZE=100\n",
        "\n",
        "history = model.fit(x, Y, epochs=EPOCHS, batch_size=BATCH_SIZE, verbose=1)\n",
        "\n",
        "plt.yscale('log')\n",
        "plt.plot(history.history['loss'])\n",
        "plt.plot(history.history['acc'])"
      ],
      "execution_count": 29,
      "outputs": [
        {
          "output_type": "stream",
          "text": [
            "Epoch 1/25\n",
            "67663/67663 [==============================] - 9s 138us/sample - loss: 6.8042 - acc: 0.0140\n",
            "Epoch 2/25\n",
            "67663/67663 [==============================] - 9s 134us/sample - loss: 6.2626 - acc: 0.0227\n",
            "Epoch 3/25\n",
            "67663/67663 [==============================] - 9s 133us/sample - loss: 5.9223 - acc: 0.0349\n",
            "Epoch 4/25\n",
            "67663/67663 [==============================] - 9s 135us/sample - loss: 5.6672 - acc: 0.0429\n",
            "Epoch 5/25\n",
            "67663/67663 [==============================] - 9s 134us/sample - loss: 5.5110 - acc: 0.0504\n",
            "Epoch 6/25\n",
            "67663/67663 [==============================] - 9s 134us/sample - loss: 5.4034 - acc: 0.0573\n",
            "Epoch 7/25\n",
            "67663/67663 [==============================] - 9s 134us/sample - loss: 5.3193 - acc: 0.0633\n",
            "Epoch 8/25\n",
            "67663/67663 [==============================] - 9s 134us/sample - loss: 5.2505 - acc: 0.0684\n",
            "Epoch 9/25\n",
            "67663/67663 [==============================] - 9s 134us/sample - loss: 5.1953 - acc: 0.0711\n",
            "Epoch 10/25\n",
            "67663/67663 [==============================] - 9s 134us/sample - loss: 5.1488 - acc: 0.0742\n",
            "Epoch 11/25\n",
            "67663/67663 [==============================] - 9s 135us/sample - loss: 5.1080 - acc: 0.0762\n",
            "Epoch 12/25\n",
            "67663/67663 [==============================] - 9s 134us/sample - loss: 5.0740 - acc: 0.0782\n",
            "Epoch 13/25\n",
            "67663/67663 [==============================] - 9s 134us/sample - loss: 5.0437 - acc: 0.0792\n",
            "Epoch 14/25\n",
            "67663/67663 [==============================] - 9s 134us/sample - loss: 5.0165 - acc: 0.0799\n",
            "Epoch 15/25\n",
            "67663/67663 [==============================] - 9s 134us/sample - loss: 4.9934 - acc: 0.0813\n",
            "Epoch 16/25\n",
            "67663/67663 [==============================] - 9s 134us/sample - loss: 4.9732 - acc: 0.0815\n",
            "Epoch 17/25\n",
            "67663/67663 [==============================] - 9s 134us/sample - loss: 4.9520 - acc: 0.0836\n",
            "Epoch 18/25\n",
            "67663/67663 [==============================] - 9s 134us/sample - loss: 4.9354 - acc: 0.0844\n",
            "Epoch 19/25\n",
            "67663/67663 [==============================] - 9s 133us/sample - loss: 4.9195 - acc: 0.0843\n",
            "Epoch 20/25\n",
            "67663/67663 [==============================] - 9s 134us/sample - loss: 4.9056 - acc: 0.0864\n",
            "Epoch 21/25\n",
            "67663/67663 [==============================] - 9s 134us/sample - loss: 4.8950 - acc: 0.0861\n",
            "Epoch 22/25\n",
            "67663/67663 [==============================] - 9s 134us/sample - loss: 4.8806 - acc: 0.0871\n",
            "Epoch 23/25\n",
            "67663/67663 [==============================] - 9s 133us/sample - loss: 4.8695 - acc: 0.0875\n",
            "Epoch 24/25\n",
            "67663/67663 [==============================] - 9s 135us/sample - loss: 4.8589 - acc: 0.0881\n",
            "Epoch 25/25\n",
            "67663/67663 [==============================] - 9s 134us/sample - loss: 4.8518 - acc: 0.0875\n",
            "CPU times: user 3min 48s, sys: 33.5 s, total: 4min 21s\n",
            "Wall time: 3min 48s\n"
          ],
          "name": "stdout"
        },
        {
          "output_type": "display_data",
          "data": {
            "image/png": "[encoded data removed]",
            "text/plain": [
              "<Figure size 576x396 with 1 Axes>"
            ]
          },
          "metadata": {
            "tags": []
          }
        }
      ]
    },
    {
      "metadata": {
        "id": "9Fv_XbOyFGxH",
        "colab_type": "code",
        "colab": {
          "base_uri": "https://localhost:8080/",
          "height": 51
        },
        "outputId": "90a3c1df-36a6-4ced-c634-d801384cec1d"
      },
      "cell_type": "code",
      "source": [
        "# we expect this to be substantially worse than the 2d version as the bottle neck now is much more narrow\n",
        "loss, accuracy = model.evaluate(x, Y, batch_size=BATCH_SIZE)\n",
        "loss, accuracy"
      ],
      "execution_count": 30,
      "outputs": [
        {
          "output_type": "stream",
          "text": [
            "67663/67663 [==============================] - 5s 76us/sample - loss: 4.8163 - acc: 0.0886\n"
          ],
          "name": "stdout"
        },
        {
          "output_type": "execute_result",
          "data": {
            "text/plain": [
              "(4.816289215311429, 0.08860086)"
            ]
          },
          "metadata": {
            "tags": []
          },
          "execution_count": 30
        }
      ]
    },
    {
      "metadata": {
        "id": "2oaM-ovJLisy",
        "colab_type": "code",
        "colab": {
          "base_uri": "https://localhost:8080/",
          "height": 347
        },
        "outputId": "b1610b7e-d479-463d-980d-8bc62eab25e5"
      },
      "cell_type": "code",
      "source": [
        "import numpy as np\n",
        "\n",
        "embedding_layer = model.get_layer('embedding')\n",
        "embedding_model = Model(inputs=model.input, outputs=embedding_layer.output)\n",
        "embeddings_1d = embedding_model.predict(samples).reshape(-1)\n",
        "\n",
        "# for printing only\n",
        "# plt.figure(figsize=(20,5))\n",
        "# plt.figure(dpi=600)\n",
        "plt.axis('off')\n",
        "\n",
        "plt.scatter(embeddings_1d, np.zeros(len(embeddings_1d)))\n",
        "for index, x_pos in zip(samples, embeddings_1d):\n",
        "  name = airline_tokenizer.index_word[index]\n",
        "#   print(name, (x_pos, y_pos))\n",
        "  plt.annotate(name, (x_pos, 0), rotation=80)"
      ],
      "execution_count": 31,
      "outputs": [
        {
          "output_type": "display_data",
          "data": {
            "image/png": "[encoded data removed]",
            "text/plain": [
              "<Figure size 576x396 with 1 Axes>"
            ]
          },
          "metadata": {
            "tags": []
          }
        }
      ]
    },
    {
      "metadata": {
        "id": "3gWJ3zQtP0VC",
        "colab_type": "text"
      },
      "cell_type": "markdown",
      "source": [
        "## 2d embedding reduced via PCA \n",
        "\n",
        "much worse, as semantics are getting lost\n",
        "\n"
      ]
    },
    {
      "metadata": {
        "id": "MZJVjpPMQQYf",
        "colab_type": "code",
        "colab": {
          "base_uri": "https://localhost:8080/",
          "height": 51
        },
        "outputId": "5df32802-a5db-4d38-a27b-36fdc942725c"
      },
      "cell_type": "code",
      "source": [
        "from sklearn.decomposition import PCA\n",
        "\n",
        "X = embeddings_2d\n",
        "\n",
        "pca = PCA(n_components=2)\n",
        "pca.fit(X)"
      ],
      "execution_count": 35,
      "outputs": [
        {
          "output_type": "execute_result",
          "data": {
            "text/plain": [
              "PCA(copy=True, iterated_power='auto', n_components=2, random_state=None,\n",
              "  svd_solver='auto', tol=0.0, whiten=False)"
            ]
          },
          "metadata": {
            "tags": []
          },
          "execution_count": 35
        }
      ]
    },
    {
      "metadata": {
        "id": "6ONLkTVOSCw8",
        "colab_type": "code",
        "colab": {
          "base_uri": "https://localhost:8080/",
          "height": 34
        },
        "outputId": "7d28569a-5007-43d0-84fc-6011feb89285"
      },
      "cell_type": "code",
      "source": [
        "pca.explained_variance_ratio_"
      ],
      "execution_count": 38,
      "outputs": [
        {
          "output_type": "execute_result",
          "data": {
            "text/plain": [
              "array([0.6861775 , 0.31382248], dtype=float32)"
            ]
          },
          "metadata": {
            "tags": []
          },
          "execution_count": 38
        }
      ]
    },
    {
      "metadata": {
        "id": "1lFAkRWISXNY",
        "colab_type": "code",
        "colab": {
          "base_uri": "https://localhost:8080/",
          "height": 347
        },
        "outputId": "ca85f85f-b241-4b49-c187-090999f93fa7"
      },
      "cell_type": "code",
      "source": [
        "X_transformed = pca.transform(X)\n",
        "# for printing only\n",
        "# plt.figure(dpi=600)\n",
        "plt.axis('off')\n",
        "\n",
        "plt.scatter(X_transformed[:, 0], X_transformed[:, 1])\n",
        "for index, x_pos, y_pos in zip(samples, X_transformed[:, 0], X_transformed[:, 1]):\n",
        "  name = airline_tokenizer.index_word[index]\n",
        "#   print(name, (x_pos, y_pos))\n",
        "  plt.annotate(name, (x_pos, y_pos))"
      ],
      "execution_count": 41,
      "outputs": [
        {
          "output_type": "display_data",
          "data": {
            "image/png": "[encoded data removed]",
            "text/plain": [
              "<Figure size 576x396 with 1 Axes>"
            ]
          },
          "metadata": {
            "tags": []
          }
        }
      ]
    },
    {
      "metadata": {
        "id": "ti2bSM0fStz-",
        "colab_type": "code",
        "colab": {
          "base_uri": "https://localhost:8080/",
          "height": 347
        },
        "outputId": "a2a2e21b-2c77-4a24-92f1-77223d592252"
      },
      "cell_type": "code",
      "source": [
        "pca = PCA(n_components=1)\n",
        "pca.fit(X)\n",
        "X_transformed = pca.transform(X)\n",
        "# for printing only\n",
        "# plt.figure(figsize=(20,5))\n",
        "# plt.figure(dpi=600)\n",
        "plt.axis('off')\n",
        "\n",
        "plt.scatter(X_transformed, np.zeros(len(X_transformed)))\n",
        "for index, x_pos in zip(samples, X_transformed):\n",
        "  name = airline_tokenizer.index_word[index]\n",
        "#   print(name, (x_pos, y_pos))\n",
        "  plt.annotate(name, (x_pos, 0), rotation=80)"
      ],
      "execution_count": 45,
      "outputs": [
        {
          "output_type": "display_data",
          "data": {
            "image/png": "[encoded data removed]",
            "text/plain": [
              "<Figure size 576x396 with 1 Axes>"
            ]
          },
          "metadata": {
            "tags": []
          }
        }
      ]
    },
    {
      "metadata": {
        "id": "7OigqkWUN6t3",
        "colab_type": "text"
      },
      "cell_type": "markdown",
      "source": [
        "## Clustering in 2d\n",
        "\n",
        "1d embedding vs size of airline\n",
        "* find what is similar\n",
        "* what is an outlier"
      ]
    },
    {
      "metadata": {
        "id": "WyyRsXWdN6YI",
        "colab_type": "code",
        "colab": {}
      },
      "cell_type": "code",
      "source": [
        "# https://en.wikipedia.org/wiki/List_of_airline_codes\n",
        "# https://en.wikipedia.org/wiki/List_of_largest_airlines_in_North_America\n",
        "# https://www.tvlon.com/resources/airlinecodes.htm\n",
        "# https://en.wikipedia.org/wiki/List_of_largest_airlines_in_Europe\n",
        "\n",
        "airline_size = {\n",
        "    'LH': 130, 'BA': 105, 'SK': 30, 'KL': 101, 'AF': 101, 'FR': 129, 'SU': 56, 'EW': 24, 'TP': 16, 'BT': 4, 'U2': 88, 'AA': 204, 'US': 204, 'UA': 158, 'WN': 164, 'DL': 192, 'AS': 46, 'HA': 12\n",
        "}\n",
        "sample_names = [airline_tokenizer.index_word[sample].upper() for sample in samples]\n",
        "sample_sizes = [airline_size[name] * 1e6 for name in sample_names]"
      ],
      "execution_count": 0,
      "outputs": []
    },
    {
      "metadata": {
        "id": "CksSH1wHLzSu",
        "colab_type": "code",
        "colab": {
          "base_uri": "https://localhost:8080/",
          "height": 347
        },
        "outputId": "dbc9627e-7f64-418b-cb18-c9a648bd83b0"
      },
      "cell_type": "code",
      "source": [
        "# for printing only\n",
        "# plt.figure(figsize=(20,5))\n",
        "# plt.figure(dpi=600)\n",
        "# plt.axis('off')\n",
        "\n",
        "plt.scatter(embeddings_1d, sizes_for_samples)\n",
        "for name, x_pos, y_pos in zip(sample_names, embeddings_1d, sizes_for_samples):\n",
        "  plt.annotate(name, (x_pos,  y_pos))"
      ],
      "execution_count": 123,
      "outputs": [
        {
          "output_type": "display_data",
          "data": {
            "image/png": "[encoded data removed]",
            "text/plain": [
              "<Figure size 576x396 with 1 Axes>"
            ]
          },
          "metadata": {
            "tags": []
          }
        }
      ]
    },
    {
      "metadata": {
        "id": "2ZMqtkZze5fS",
        "colab_type": "code",
        "colab": {
          "base_uri": "https://localhost:8080/",
          "height": 323
        },
        "outputId": "9196f0a5-2ce0-4687-8f46-c6213003907a"
      },
      "cell_type": "code",
      "source": [
        "from sklearn.preprocessing import StandardScaler\n",
        "\n",
        "embeddings_1d_scaled = StandardScaler().fit_transform(embeddings_1d.reshape(-1, 1))\n",
        "embeddings_1d_scaled"
      ],
      "execution_count": 84,
      "outputs": [
        {
          "output_type": "execute_result",
          "data": {
            "text/plain": [
              "array([[ 0.5285824 ],\n",
              "       [ 0.35104126],\n",
              "       [ 1.0322984 ],\n",
              "       [ 0.01405706],\n",
              "       [ 0.16033554],\n",
              "       [ 0.8821311 ],\n",
              "       [ 1.8265796 ],\n",
              "       [ 0.66832733],\n",
              "       [ 0.6552796 ],\n",
              "       [ 1.1538649 ],\n",
              "       [ 0.7772857 ],\n",
              "       [-1.4009333 ],\n",
              "       [-1.4400388 ],\n",
              "       [-1.1528269 ],\n",
              "       [-1.0672358 ],\n",
              "       [-0.7781508 ],\n",
              "       [-0.99033916],\n",
              "       [-1.2202576 ]], dtype=float32)"
            ]
          },
          "metadata": {
            "tags": []
          },
          "execution_count": 84
        }
      ]
    },
    {
      "metadata": {
        "id": "B4zmfaF-fD0d",
        "colab_type": "code",
        "colab": {
          "base_uri": "https://localhost:8080/",
          "height": 391
        },
        "outputId": "da918c3a-a0de-4395-c414-15c9489324ef"
      },
      "cell_type": "code",
      "source": [
        "sizes_for_samples_scaled = StandardScaler().fit_transform(np.array(sizes_for_samples).reshape(-1, 1))\n",
        "sizes_for_samples_scaled"
      ],
      "execution_count": 93,
      "outputs": [
        {
          "output_type": "stream",
          "text": [
            "/usr/local/lib/python3.6/dist-packages/sklearn/utils/validation.py:595: DataConversionWarning: Data with input dtype int64 was converted to float64 by StandardScaler.\n",
            "  warnings.warn(msg, DataConversionWarning)\n",
            "/usr/local/lib/python3.6/dist-packages/sklearn/utils/validation.py:595: DataConversionWarning: Data with input dtype int64 was converted to float64 by StandardScaler.\n",
            "  warnings.warn(msg, DataConversionWarning)\n"
          ],
          "name": "stderr"
        },
        {
          "output_type": "execute_result",
          "data": {
            "text/plain": [
              "array([[ 0.48321195],\n",
              "       [ 0.10570261],\n",
              "       [-1.0268254 ],\n",
              "       [ 0.04530112],\n",
              "       [ 0.04530112],\n",
              "       [ 0.46811158],\n",
              "       [-0.63421569],\n",
              "       [-1.11742764],\n",
              "       [-1.23823063],\n",
              "       [-1.41943512],\n",
              "       [-0.15100374],\n",
              "       [ 1.6006396 ],\n",
              "       [ 1.6006396 ],\n",
              "       [ 0.90602241],\n",
              "       [ 0.99662466],\n",
              "       [ 1.41943512],\n",
              "       [-0.78521943],\n",
              "       [-1.29863213]])"
            ]
          },
          "metadata": {
            "tags": []
          },
          "execution_count": 93
        }
      ]
    },
    {
      "metadata": {
        "id": "CMqYygCsdOma",
        "colab_type": "code",
        "colab": {
          "base_uri": "https://localhost:8080/",
          "height": 323
        },
        "outputId": "04271105-79ce-4c37-ce99-0624935089b1"
      },
      "cell_type": "code",
      "source": [
        "X = np.dstack((embeddings_1d_scaled.reshape(-1), sizes_for_samples_scaled.reshape(-1)))[0]\n",
        "X_scaled = StandardScaler().fit_transform(X)\n",
        "X_scaled"
      ],
      "execution_count": 112,
      "outputs": [
        {
          "output_type": "execute_result",
          "data": {
            "text/plain": [
              "array([[ 0.52858238,  0.48321195],\n",
              "       [ 0.35104124,  0.10570261],\n",
              "       [ 1.03229843, -1.0268254 ],\n",
              "       [ 0.01405703,  0.04530112],\n",
              "       [ 0.16033552,  0.04530112],\n",
              "       [ 0.88213109,  0.46811158],\n",
              "       [ 1.82657957, -0.63421569],\n",
              "       [ 0.66832732, -1.11742764],\n",
              "       [ 0.65527956, -1.23823063],\n",
              "       [ 1.15386485, -1.41943512],\n",
              "       [ 0.77728568, -0.15100374],\n",
              "       [-1.40093331,  1.6006396 ],\n",
              "       [-1.44003884,  1.6006396 ],\n",
              "       [-1.15282694,  0.90602241],\n",
              "       [-1.06723586,  0.99662466],\n",
              "       [-0.77815083,  1.41943512],\n",
              "       [-0.9903392 , -0.78521943],\n",
              "       [-1.22025768, -1.29863213]])"
            ]
          },
          "metadata": {
            "tags": []
          },
          "execution_count": 112
        }
      ]
    },
    {
      "metadata": {
        "id": "q74T57XPbwZC",
        "colab_type": "code",
        "colab": {
          "base_uri": "https://localhost:8080/",
          "height": 51
        },
        "outputId": "30d99890-ff53-4e4f-b9af-ce14aefcf272"
      },
      "cell_type": "code",
      "source": [
        "from sklearn.cluster import DBSCAN\n",
        "\n",
        "clf = DBSCAN(eps=0.75, min_samples=3)\n",
        "clf.fit(X)\n",
        "clusters = clf.labels_.astype(np.int)\n",
        "clusters"
      ],
      "execution_count": 142,
      "outputs": [
        {
          "output_type": "execute_result",
          "data": {
            "text/plain": [
              "array([ 0,  0,  1,  0,  0,  0, -1,  1,  1,  1,  0,  2,  2,  2,  2,  2, -1,\n",
              "       -1])"
            ]
          },
          "metadata": {
            "tags": []
          },
          "execution_count": 142
        }
      ]
    },
    {
      "metadata": {
        "id": "yaRY5XAygF7q",
        "colab_type": "code",
        "colab": {
          "base_uri": "https://localhost:8080/",
          "height": 347
        },
        "outputId": "a4dab27b-58f0-4b04-b703-4b2c44cc4baf"
      },
      "cell_type": "code",
      "source": [
        "import matplotlib.pyplot as plt\n",
        "\n",
        "from itertools import cycle, islice\n",
        "\n",
        "# last color is black to properly display label -1 as noise (black)\n",
        "colors = np.append(np.array(list(islice(cycle(['#AAAAFF', '#ff7f00', '#4daf4a',\n",
        "                                 '#f781bf', '#a65628', '#984ea3',\n",
        "                                 '#999999', '#e41a1c', '#dede00']),\n",
        "                          int(max(clusters) + 1)))), ['#000000'])\n",
        "\n",
        "plt.scatter(embeddings_1d, sizes_for_samples, color=colors[clusters])\n",
        "for name, x_pos, y_pos in zip(sample_names, embeddings_1d, sizes_for_samples):\n",
        "  plt.annotate(name, (x_pos,  y_pos))\n",
        "  \n",
        "# plt.scatter(embeddings_1d, sizes_for_samples_scaled, color=colors[clusters])\n",
        "# for name, x_pos, y_pos in zip(sample_names, embeddings_1d, sizes_for_samples):\n",
        "#   plt.annotate(name, (x_pos,  y_pos))"
      ],
      "execution_count": 143,
      "outputs": [
        {
          "output_type": "display_data",
          "data": {
            "image/png": "[encoded data removed]",
            "text/plain": [
              "<Figure size 576x396 with 1 Axes>"
            ]
          },
          "metadata": {
            "tags": []
          }
        }
      ]
    },
    {
      "metadata": {
        "id": "0uXQ5YkMiUS0",
        "colab_type": "code",
        "colab": {}
      },
      "cell_type": "code",
      "source": [
        ""
      ],
      "execution_count": 0,
      "outputs": []
    }
  ]
}