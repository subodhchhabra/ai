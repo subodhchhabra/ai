{
  "nbformat": 4,
  "nbformat_minor": 0,
  "metadata": {
    "colab": {
      "name": "time_series.ipynb",
      "version": "0.3.2",
      "provenance": [],
      "collapsed_sections": [],
      "toc_visible": true,
      "include_colab_link": true
    },
    "kernelspec": {
      "name": "python3",
      "display_name": "Python 3"
    }
  },
  "cells": [
    {
      "cell_type": "markdown",
      "metadata": {
        "id": "view-in-github",
        "colab_type": "text"
      },
      "source": [
        "<a href=\"https://colab.research.google.com/github/DJCordhose/ai/blob/master/notebooks/2019_tf/time_series.ipynb\" target=\"_parent\"><img src=\"https://colab.research.google.com/assets/colab-badge.svg\" alt=\"Open In Colab\"/></a>"
      ]
    },
    {
      "metadata": {
        "id": "t0SNZ3gZDa36",
        "colab_type": "text"
      },
      "cell_type": "markdown",
      "source": [
        "# Time Series / Sequences\n",
        "\n",
        "Links\n",
        "* Example, some code and a lot of inspiration taken from: https://machinelearningmastery.com/how-to-develop-lstm-models-for-time-series-forecasting/\n",
        "* RNNs used for text: https://colab.research.google.com/github/djcordhose/ai/blob/master/notebooks/tensorflow/sentiment-gru-reg.ipynb"
      ]
    },
    {
      "metadata": {
        "id": "qg63cDunD4s4",
        "colab_type": "text"
      },
      "cell_type": "markdown",
      "source": [
        "## Univariate Sequences\n",
        "\n",
        "just one variable per time step\n",
        "\n",
        "### Challenge\n",
        "\n",
        "We have a known series of events, possibly in time and you want to know what is the next event. Like this\n",
        "\n",
        "[10, 20, 30, 40, 50, 60, 70, 80, 90]"
      ]
    },
    {
      "metadata": {
        "id": "RB7EfRrWDJE0",
        "colab_type": "code",
        "colab": {}
      },
      "cell_type": "code",
      "source": [
        "# univariate data preparation\n",
        "import numpy as np\n",
        "\n",
        "# split a univariate sequence into samples\n",
        "def split_sequence(sequence, n_steps):\n",
        "\tX, y = list(), list()\n",
        "\tfor i in range(len(sequence)):\n",
        "\t\t# find the end of this pattern\n",
        "\t\tend_ix = i + n_steps\n",
        "\t\t# check if we are beyond the sequence\n",
        "\t\tif end_ix > len(sequence)-1:\n",
        "\t\t\tbreak\n",
        "\t\t# gather input and output parts of the pattern\n",
        "\t\tseq_x, seq_y = sequence[i:end_ix], sequence[end_ix]\n",
        "\t\tX.append(seq_x)\n",
        "\t\ty.append(seq_y)\n",
        "\treturn np.array(X), np.array(y)"
      ],
      "execution_count": 0,
      "outputs": []
    },
    {
      "metadata": {
        "id": "PSbObY6YEWhh",
        "colab_type": "code",
        "outputId": "90954b7e-1006-4ad1-8c3d-596eba4b9212",
        "colab": {
          "base_uri": "https://localhost:8080/",
          "height": 120
        }
      },
      "cell_type": "code",
      "source": [
        "# define input sequence\n",
        "raw_seq = [10, 20, 30, 40, 50, 60, 70, 80, 90]\n",
        "\n",
        "# choose a number of time steps\n",
        "n_steps = 3\n",
        "\n",
        "# split into samples\n",
        "X, y = split_sequence(raw_seq, n_steps)\n",
        "\n",
        "# summarize the data\n",
        "list(zip(X, y))"
      ],
      "execution_count": 2,
      "outputs": [
        {
          "output_type": "execute_result",
          "data": {
            "text/plain": [
              "[(array([10, 20, 30]), 40),\n",
              " (array([20, 30, 40]), 50),\n",
              " (array([30, 40, 50]), 60),\n",
              " (array([40, 50, 60]), 70),\n",
              " (array([50, 60, 70]), 80),\n",
              " (array([60, 70, 80]), 90)]"
            ]
          },
          "metadata": {
            "tags": []
          },
          "execution_count": 2
        }
      ]
    },
    {
      "metadata": {
        "id": "yqgEV0kyF8Q6",
        "colab_type": "code",
        "outputId": "a3fc6c44-ede6-4eaa-e62b-bc347fbf259a",
        "colab": {
          "base_uri": "https://localhost:8080/",
          "height": 120
        }
      },
      "cell_type": "code",
      "source": [
        "X"
      ],
      "execution_count": 3,
      "outputs": [
        {
          "output_type": "execute_result",
          "data": {
            "text/plain": [
              "array([[10, 20, 30],\n",
              "       [20, 30, 40],\n",
              "       [30, 40, 50],\n",
              "       [40, 50, 60],\n",
              "       [50, 60, 70],\n",
              "       [60, 70, 80]])"
            ]
          },
          "metadata": {
            "tags": []
          },
          "execution_count": 3
        }
      ]
    },
    {
      "metadata": {
        "id": "HUpCkSRqFzZK",
        "colab_type": "code",
        "outputId": "05f4584d-61ea-45ac-ae95-f09860fabd69",
        "colab": {
          "base_uri": "https://localhost:8080/",
          "height": 414
        }
      },
      "cell_type": "code",
      "source": [
        "# reshape from [samples, timesteps] into [samples, timesteps, features]\n",
        "n_features = 1\n",
        "X = X.reshape((X.shape[0], X.shape[1], n_features))\n",
        "X"
      ],
      "execution_count": 4,
      "outputs": [
        {
          "output_type": "execute_result",
          "data": {
            "text/plain": [
              "array([[[10],\n",
              "        [20],\n",
              "        [30]],\n",
              "\n",
              "       [[20],\n",
              "        [30],\n",
              "        [40]],\n",
              "\n",
              "       [[30],\n",
              "        [40],\n",
              "        [50]],\n",
              "\n",
              "       [[40],\n",
              "        [50],\n",
              "        [60]],\n",
              "\n",
              "       [[50],\n",
              "        [60],\n",
              "        [70]],\n",
              "\n",
              "       [[60],\n",
              "        [70],\n",
              "        [80]]])"
            ]
          },
          "metadata": {
            "tags": []
          },
          "execution_count": 4
        }
      ]
    },
    {
      "metadata": {
        "id": "UCAbYYgLDmzh",
        "colab_type": "code",
        "colab": {}
      },
      "cell_type": "code",
      "source": [
        "import tensorflow as tf\n",
        "from tensorflow import keras\n",
        "from tensorflow.keras.layers import Dense, LSTM, GRU, SimpleRNN, Bidirectional\n",
        "from tensorflow.keras.models import Sequential, Model\n",
        "\n",
        "# define model\n",
        "model = Sequential()\n",
        "model.add(SimpleRNN(units=50, activation='relu', input_shape=(n_steps, n_features), name=\"RNN_Input\"))\n",
        "model.add(Dense(units=1, name=\"Linear_Output\"))\n",
        "model.compile(optimizer='adam', loss='mse')"
      ],
      "execution_count": 0,
      "outputs": []
    },
    {
      "metadata": {
        "id": "Yo1GD73MFfwW",
        "colab_type": "code",
        "outputId": "1880c93b-d614-4093-9589-b3d1405aba40",
        "colab": {
          "base_uri": "https://localhost:8080/",
          "height": 71
        }
      },
      "cell_type": "code",
      "source": [
        "# fit model\n",
        "%time history = model.fit(X, y, epochs=500, verbose=0)"
      ],
      "execution_count": 6,
      "outputs": [
        {
          "output_type": "stream",
          "text": [
            "CPU times: user 1.87 s, sys: 142 ms, total: 2.02 s\n",
            "Wall time: 2.09 s\n"
          ],
          "name": "stdout"
        }
      ]
    },
    {
      "metadata": {
        "id": "raJ0DsbqGZET",
        "colab_type": "code",
        "outputId": "64987f2b-8eb8-4eeb-b5db-a7758d059785",
        "colab": {
          "base_uri": "https://localhost:8080/",
          "height": 364
        }
      },
      "cell_type": "code",
      "source": [
        "import matplotlib.pyplot as plt\n",
        "\n",
        "plt.plot(history.history['loss'])"
      ],
      "execution_count": 7,
      "outputs": [
        {
          "output_type": "execute_result",
          "data": {
            "text/plain": [
              "[<matplotlib.lines.Line2D at 0x7fb65735e358>]"
            ]
          },
          "metadata": {
            "tags": []
          },
          "execution_count": 7
        },
        {
          "output_type": "display_data",
          "data": {
            "image/png": "[encoded data removed]",
            "text/plain": [
              "<matplotlib.figure.Figure at 0x7fb669c17550>"
            ]
          },
          "metadata": {
            "tags": []
          }
        }
      ]
    },
    {
      "metadata": {
        "id": "2ryB1sVmGwok",
        "colab_type": "code",
        "outputId": "82cb4db0-347e-4be6-d778-436129ce25e9",
        "colab": {
          "base_uri": "https://localhost:8080/",
          "height": 157
        }
      },
      "cell_type": "code",
      "source": [
        "# this does not look too bad\n",
        "X_sample = np.array([[10, 20, 30], [70, 80, 90]])\n",
        "X_sample = X_sample.reshape((X_sample.shape[0], X_sample.shape[1], n_features))\n",
        "X_sample"
      ],
      "execution_count": 8,
      "outputs": [
        {
          "output_type": "execute_result",
          "data": {
            "text/plain": [
              "array([[[10],\n",
              "        [20],\n",
              "        [30]],\n",
              "\n",
              "       [[70],\n",
              "        [80],\n",
              "        [90]]])"
            ]
          },
          "metadata": {
            "tags": []
          },
          "execution_count": 8
        }
      ]
    },
    {
      "metadata": {
        "id": "5mzPZ_OzIXR0",
        "colab_type": "code",
        "outputId": "1275b1d4-21b8-47ee-9c03-a05ede4c0c15",
        "colab": {
          "base_uri": "https://localhost:8080/",
          "height": 51
        }
      },
      "cell_type": "code",
      "source": [
        "y_pred = model.predict(X_sample)\n",
        "y_pred"
      ],
      "execution_count": 9,
      "outputs": [
        {
          "output_type": "execute_result",
          "data": {
            "text/plain": [
              "array([[ 39.767338],\n",
              "       [100.001076]], dtype=float32)"
            ]
          },
          "metadata": {
            "tags": []
          },
          "execution_count": 9
        }
      ]
    },
    {
      "metadata": {
        "id": "EXBe7ud3PLS-",
        "colab_type": "code",
        "colab": {}
      },
      "cell_type": "code",
      "source": [
        "def predict(model, samples, n_features=1):\n",
        "  input = np.array(samples)\n",
        "  input = input.reshape((input.shape[0], input.shape[1], n_features))\n",
        "  y_pred = model.predict(input)\n",
        "  return y_pred"
      ],
      "execution_count": 0,
      "outputs": []
    },
    {
      "metadata": {
        "id": "V4kWLPaNLMf0",
        "colab_type": "code",
        "outputId": "42e6b74d-4ba5-4d54-81ea-14a5bd0341d7",
        "colab": {
          "base_uri": "https://localhost:8080/",
          "height": 68
        }
      },
      "cell_type": "code",
      "source": [
        "# do not look too close, though\n",
        "predict(model, [[100, 110, 120], [200, 210, 220], [200, 300, 400]])"
      ],
      "execution_count": 11,
      "outputs": [
        {
          "output_type": "execute_result",
          "data": {
            "text/plain": [
              "array([[130.40291],\n",
              "       [231.74236],\n",
              "       [489.32404]], dtype=float32)"
            ]
          },
          "metadata": {
            "tags": []
          },
          "execution_count": 11
        }
      ]
    },
    {
      "metadata": {
        "id": "JaW6YtGrJkIa",
        "colab_type": "text"
      },
      "cell_type": "markdown",
      "source": [
        "### Multi Layer RNNs"
      ]
    },
    {
      "metadata": {
        "id": "uhevuHBxIsN3",
        "colab_type": "code",
        "outputId": "8ca58a43-af5f-46e0-f44c-b1c3de7be409",
        "colab": {
          "base_uri": "https://localhost:8080/",
          "height": 241
        }
      },
      "cell_type": "code",
      "source": [
        "# what comes out of an RNN?\n",
        "rnn_layer = model.get_layer(\"RNN_Input\")\n",
        "model_stub = Model(inputs = model.input, outputs = rnn_layer.output)\n",
        "hidden = predict(model_stub, [[10, 20, 30]])\n",
        "hidden"
      ],
      "execution_count": 12,
      "outputs": [
        {
          "output_type": "execute_result",
          "data": {
            "text/plain": [
              "array([[0.00000000e+00, 0.00000000e+00, 1.07456722e+01, 1.73262525e+00,\n",
              "        6.30991077e+00, 1.46667423e+01, 0.00000000e+00, 2.74113750e+00,\n",
              "        1.26034203e+01, 1.82928123e+01, 0.00000000e+00, 0.00000000e+00,\n",
              "        0.00000000e+00, 1.79814720e+01, 0.00000000e+00, 0.00000000e+00,\n",
              "        1.66320210e+01, 0.00000000e+00, 0.00000000e+00, 1.80330429e+01,\n",
              "        1.90209427e+01, 0.00000000e+00, 0.00000000e+00, 0.00000000e+00,\n",
              "        1.27146349e+01, 0.00000000e+00, 0.00000000e+00, 0.00000000e+00,\n",
              "        0.00000000e+00, 0.00000000e+00, 0.00000000e+00, 0.00000000e+00,\n",
              "        1.16606245e+01, 1.45123510e+01, 8.61536694e+00, 1.13234472e+01,\n",
              "        4.82574797e+00, 1.17380562e+01, 5.14581394e+00, 0.00000000e+00,\n",
              "        0.00000000e+00, 0.00000000e+00, 0.00000000e+00, 1.38667660e+01,\n",
              "        0.00000000e+00, 1.15013123e-03, 0.00000000e+00, 1.08859062e+01,\n",
              "        0.00000000e+00, 2.51363277e+00]], dtype=float32)"
            ]
          },
          "metadata": {
            "tags": []
          },
          "execution_count": 12
        }
      ]
    },
    {
      "metadata": {
        "id": "NxXT0hFrQ6Hp",
        "colab_type": "text"
      },
      "cell_type": "markdown",
      "source": [
        "#### What's the issue?\n",
        "* each unit (50) has a single output\n",
        "* as a sidenote you nicely see the RELU nature of the output\n",
        "* so the timesteps are lost\n",
        "* we are only looking at the final output\n",
        "* still with each timestep, the layer does produce a unique output we can use"
      ]
    },
    {
      "metadata": {
        "id": "OenC414DbKGh",
        "colab_type": "text"
      },
      "cell_type": "markdown",
      "source": [
        "### We need to look into RNNs a bit more deeply now\n",
        "\n",
        "#### RNNs - Networks with Loops\n",
        "<img src='https://djcordhose.github.io/ai/img/nlp/colah/RNN-rolled.png' height=200>\n",
        "\n",
        "http://colah.github.io/posts/2015-08-Understanding-LSTMs/\n",
        "#### Unrolling the loop\n",
        "<img src='https://djcordhose.github.io/ai/img/nlp/colah/RNN-unrolled.png'>\n",
        "\n",
        "http://colah.github.io/posts/2015-08-Understanding-LSTMs/\n",
        "#### Simple RNN internals\n",
        "\n",
        "<img src='https://djcordhose.github.io/ai/img/nlp/fchollet_rnn.png'>\n",
        "\n",
        "##  $output_t = \\tanh(W input_t + U output_{t-1} + b)$\n",
        "\n",
        "From Deep Learning with Python, Chapter 6, François Chollet, Manning: https://livebook.manning.com/#!/book/deep-learning-with-python/chapter-6/129\n",
        "\n",
        "#### Activation functions\n",
        "\n",
        "<img src='https://djcordhose.github.io/ai/img/sigmoid-activation.png' height=200>\n",
        "\n",
        "Sigmoid compressing between 0 and 1\n",
        "\n",
        "<img src='https://djcordhose.github.io/ai/img/tanh-activation.png' height=200>\n",
        "\n",
        "Hyperbolic tangent, like sigmoind, but compressing between -1 and 1, thus allowing for negative values as well"
      ]
    },
    {
      "metadata": {
        "id": "3PBtxVF7Np1B",
        "colab_type": "code",
        "outputId": "e0cafb79-5a4f-4003-c3ca-34dc77f58d15",
        "colab": {
          "base_uri": "https://localhost:8080/",
          "height": 172
        }
      },
      "cell_type": "code",
      "source": [
        "# https://arxiv.org/ftp/arxiv/papers/1701/1701.05923.pdf\n",
        "# n = output dimension\n",
        "# m = input dimension\n",
        "# Total number of parameters for \n",
        "# Simple RNN = n**2 + nm + n\n",
        "# GRU = 3 × (n**2 + nm + n)\n",
        "# LSTM = 4 × (n**2 + nm + n)\n",
        "\n",
        "rnn_units = 1\n",
        "\n",
        "model = Sequential()\n",
        "model.add(SimpleRNN(units=rnn_units, activation='relu', input_shape=(n_steps, n_features), name=\"RNN_Input\"))\n",
        "# model.add(GRU(units=rnn_units, activation='relu', input_shape=(n_steps, n_features), name=\"RNN_Input\"))\n",
        "model.summary()"
      ],
      "execution_count": 13,
      "outputs": [
        {
          "output_type": "stream",
          "text": [
            "_________________________________________________________________\n",
            "Layer (type)                 Output Shape              Param #   \n",
            "=================================================================\n",
            "RNN_Input (SimpleRNN)        (None, 1)                 3         \n",
            "=================================================================\n",
            "Total params: 3\n",
            "Trainable params: 3\n",
            "Non-trainable params: 0\n",
            "_________________________________________________________________\n"
          ],
          "name": "stdout"
        }
      ]
    },
    {
      "metadata": {
        "id": "2ncdn2LHRS5_",
        "colab_type": "code",
        "outputId": "16f78ce8-248b-440f-ec7c-ee6b068203ed",
        "colab": {
          "base_uri": "https://localhost:8080/",
          "height": 34
        }
      },
      "cell_type": "code",
      "source": [
        "output_dimension = rnn_units\n",
        "input_dimension = n_features\n",
        "parameters = 1 * (output_dimension ** 2 +  output_dimension * input_dimension + output_dimension) \n",
        "parameters"
      ],
      "execution_count": 14,
      "outputs": [
        {
          "output_type": "execute_result",
          "data": {
            "text/plain": [
              "3"
            ]
          },
          "metadata": {
            "tags": []
          },
          "execution_count": 14
        }
      ]
    },
    {
      "metadata": {
        "id": "edALlkf0Vhdj",
        "colab_type": "code",
        "outputId": "5bc80181-8bfd-4d89-d194-a4aaecf91f56",
        "colab": {
          "base_uri": "https://localhost:8080/",
          "height": 34
        }
      },
      "cell_type": "code",
      "source": [
        "# from only a single output for the final timestep\n",
        "# ideal for feeding into something that *does not* handle timesteps\n",
        "rnn_units = 1\n",
        "model = Sequential([\n",
        "    SimpleRNN(units=rnn_units, activation='relu', input_shape=(n_steps, n_features))\n",
        "])\n",
        "predict(model, [[10, 20, 30]])"
      ],
      "execution_count": 15,
      "outputs": [
        {
          "output_type": "execute_result",
          "data": {
            "text/plain": [
              "array([[65.48696]], dtype=float32)"
            ]
          },
          "metadata": {
            "tags": []
          },
          "execution_count": 15
        }
      ]
    },
    {
      "metadata": {
        "id": "Fyy6tY6iS9aG",
        "colab_type": "code",
        "outputId": "15f8d454-3d9d-4536-cbbf-d2aed8b284c8",
        "colab": {
          "base_uri": "https://localhost:8080/",
          "height": 68
        }
      },
      "cell_type": "code",
      "source": [
        "# to one output for each timestep\n",
        "# ideal for feeding into something that *expects* timesteps\n",
        "rnn_units = 1\n",
        "model = Sequential([\n",
        "    SimpleRNN(units=rnn_units, activation='relu', input_shape=(n_steps, n_features), return_sequences=True)\n",
        "])\n",
        "predict(model, [[10, 20, 30]])"
      ],
      "execution_count": 16,
      "outputs": [
        {
          "output_type": "execute_result",
          "data": {
            "text/plain": [
              "array([[[ 7.953931],\n",
              "        [23.861794],\n",
              "        [47.723587]]], dtype=float32)"
            ]
          },
          "metadata": {
            "tags": []
          },
          "execution_count": 16
        }
      ]
    },
    {
      "metadata": {
        "id": "2F2BARiZVKcZ",
        "colab_type": "code",
        "outputId": "6a4077b2-a36f-4615-e1c9-ce5baf2fa60d",
        "colab": {
          "base_uri": "https://localhost:8080/",
          "height": 241
        }
      },
      "cell_type": "code",
      "source": [
        "rnn_units = 50\n",
        "\n",
        "model = Sequential([\n",
        "    SimpleRNN(units=rnn_units, activation='relu', input_shape=(n_steps, n_features), return_sequences=True, name=\"RNN_Input\"),\n",
        "    SimpleRNN(units=rnn_units, activation='relu', name=\"RNN_Latent\"),\n",
        "    Dense(units=1, name=\"Linear_Output\")\n",
        "])\n",
        "model.compile(optimizer='adam', loss='mse')\n",
        "model.summary()"
      ],
      "execution_count": 17,
      "outputs": [
        {
          "output_type": "stream",
          "text": [
            "_________________________________________________________________\n",
            "Layer (type)                 Output Shape              Param #   \n",
            "=================================================================\n",
            "RNN_Input (SimpleRNN)        (None, 3, 50)             2600      \n",
            "_________________________________________________________________\n",
            "RNN_Latent (SimpleRNN)       (None, 50)                5050      \n",
            "_________________________________________________________________\n",
            "Linear_Output (Dense)        (None, 1)                 51        \n",
            "=================================================================\n",
            "Total params: 7,701\n",
            "Trainable params: 7,701\n",
            "Non-trainable params: 0\n",
            "_________________________________________________________________\n"
          ],
          "name": "stdout"
        }
      ]
    },
    {
      "metadata": {
        "id": "CeeF8jd2nerI",
        "colab_type": "code",
        "outputId": "e35e52e4-221e-46b5-b781-8d7918059c45",
        "colab": {
          "base_uri": "https://localhost:8080/",
          "height": 398
        }
      },
      "cell_type": "code",
      "source": [
        "%time history = model.fit(X, y, epochs=500, verbose=0)\n",
        "plt.plot(history.history['loss'])"
      ],
      "execution_count": 18,
      "outputs": [
        {
          "output_type": "stream",
          "text": [
            "CPU times: user 2.61 s, sys: 73.7 ms, total: 2.68 s\n",
            "Wall time: 2.13 s\n"
          ],
          "name": "stdout"
        },
        {
          "output_type": "execute_result",
          "data": {
            "text/plain": [
              "[<matplotlib.lines.Line2D at 0x7fb653cb7c88>]"
            ]
          },
          "metadata": {
            "tags": []
          },
          "execution_count": 18
        },
        {
          "output_type": "display_data",
          "data": {
            "image/png": "[encoded data removed]",
            "text/plain": [
              "<matplotlib.figure.Figure at 0x7fb655321e10>"
            ]
          },
          "metadata": {
            "tags": []
          }
        }
      ]
    },
    {
      "metadata": {
        "id": "VB2ZXbCRntl4",
        "colab_type": "code",
        "outputId": "fdce3c25-ca83-4ebf-9b61-09d0a486531d",
        "colab": {
          "base_uri": "https://localhost:8080/",
          "height": 103
        }
      },
      "cell_type": "code",
      "source": [
        "predict(model, [[10, 20, 30], [70, 80, 90], [100, 110, 120], [200, 210, 220], [200, 300, 400]])"
      ],
      "execution_count": 19,
      "outputs": [
        {
          "output_type": "execute_result",
          "data": {
            "text/plain": [
              "array([[ 39.988335],\n",
              "       [100.65956 ],\n",
              "       [134.76059 ],\n",
              "       [249.25423 ],\n",
              "       [485.79214 ]], dtype=float32)"
            ]
          },
          "metadata": {
            "tags": []
          },
          "execution_count": 19
        }
      ]
    },
    {
      "metadata": {
        "id": "oWGy12tnr-mC",
        "colab_type": "text"
      },
      "cell_type": "markdown",
      "source": [
        "### Bidirectional RNNs"
      ]
    },
    {
      "metadata": {
        "id": "-XEfPiSoq880",
        "colab_type": "code",
        "colab": {}
      },
      "cell_type": "code",
      "source": [
        "rnn_units = 50\n",
        "\n",
        "model = Sequential([\n",
        "    Bidirectional(SimpleRNN(units=rnn_units, activation='relu', input_shape=(n_steps, n_features), name=\"RNN_Input\")),\n",
        "    Dense(units=1, name=\"Linear_Output\")\n",
        "])\n",
        "model.compile(optimizer='adam', loss='mse')"
      ],
      "execution_count": 0,
      "outputs": []
    },
    {
      "metadata": {
        "id": "C9Qb6GfYslm4",
        "colab_type": "code",
        "outputId": "64742db1-f495-4652-b65e-758fce99cedd",
        "colab": {
          "base_uri": "https://localhost:8080/",
          "height": 402
        }
      },
      "cell_type": "code",
      "source": [
        "%time history = model.fit(X, y, epochs=500, verbose=0)\n",
        "plt.plot(history.history['loss'])"
      ],
      "execution_count": 21,
      "outputs": [
        {
          "output_type": "stream",
          "text": [
            "CPU times: user 2.88 s, sys: 56.1 ms, total: 2.94 s\n",
            "Wall time: 2.44 s\n"
          ],
          "name": "stdout"
        },
        {
          "output_type": "execute_result",
          "data": {
            "text/plain": [
              "[<matplotlib.lines.Line2D at 0x7fb653113a90>]"
            ]
          },
          "metadata": {
            "tags": []
          },
          "execution_count": 21
        },
        {
          "output_type": "display_data",
          "data": {
            "image/png": "[encoded data removed]",
            "text/plain": [
              "<matplotlib.figure.Figure at 0x7fb653c99b00>"
            ]
          },
          "metadata": {
            "tags": []
          }
        }
      ]
    },
    {
      "metadata": {
        "id": "wHFpYY9hsQ5y",
        "colab_type": "code",
        "outputId": "4d52b522-d2ba-4695-eb40-60820dd51bef",
        "colab": {
          "base_uri": "https://localhost:8080/",
          "height": 103
        }
      },
      "cell_type": "code",
      "source": [
        "predict(model, [[10, 20, 30], [70, 80, 90], [100, 110, 120], [200, 210, 220], [200, 300, 400]])"
      ],
      "execution_count": 22,
      "outputs": [
        {
          "output_type": "execute_result",
          "data": {
            "text/plain": [
              "array([[ 39.886833],\n",
              "       [100.47219 ],\n",
              "       [131.75922 ],\n",
              "       [236.04929 ],\n",
              "       [486.82144 ]], dtype=float32)"
            ]
          },
          "metadata": {
            "tags": []
          },
          "execution_count": 22
        }
      ]
    },
    {
      "metadata": {
        "id": "xJwXPkE5vEIZ",
        "colab_type": "text"
      },
      "cell_type": "markdown",
      "source": [
        "### LSMTs / GRUs\n",
        "\n",
        "* mainly beneficial for long sequences\n",
        "* but also 3-4 times more expensive\n",
        "* might not have better results for short sequences like these"
      ]
    },
    {
      "metadata": {
        "id": "xISS3v8Zu-C-",
        "colab_type": "code",
        "outputId": "1705b5ba-9d58-4140-d9b9-373fa96f327d",
        "colab": {
          "base_uri": "https://localhost:8080/",
          "height": 207
        }
      },
      "cell_type": "code",
      "source": [
        "rnn_units = 50\n",
        "\n",
        "model = Sequential([\n",
        "    LSTM(units=rnn_units, activation='relu', input_shape=(n_steps, n_features), name=\"RNN_Input\"),\n",
        "    Dense(units=1, name=\"Linear_Output\")\n",
        "])\n",
        "model.compile(optimizer='adam', loss='mse')\n",
        "model.summary()"
      ],
      "execution_count": 23,
      "outputs": [
        {
          "output_type": "stream",
          "text": [
            "_________________________________________________________________\n",
            "Layer (type)                 Output Shape              Param #   \n",
            "=================================================================\n",
            "RNN_Input (LSTM)             (None, 50)                10400     \n",
            "_________________________________________________________________\n",
            "Linear_Output (Dense)        (None, 1)                 51        \n",
            "=================================================================\n",
            "Total params: 10,451\n",
            "Trainable params: 10,451\n",
            "Non-trainable params: 0\n",
            "_________________________________________________________________\n"
          ],
          "name": "stdout"
        }
      ]
    },
    {
      "metadata": {
        "id": "teTa0X7txFf2",
        "colab_type": "code",
        "outputId": "0331b292-ede8-450d-a8b3-f77aa799629e",
        "colab": {
          "base_uri": "https://localhost:8080/",
          "height": 34
        }
      },
      "cell_type": "code",
      "source": [
        "output_dimension = rnn_units\n",
        "input_dimension = n_features\n",
        "parameters = 4 * (output_dimension ** 2 +  output_dimension * input_dimension + output_dimension) \n",
        "parameters"
      ],
      "execution_count": 24,
      "outputs": [
        {
          "output_type": "execute_result",
          "data": {
            "text/plain": [
              "10400"
            ]
          },
          "metadata": {
            "tags": []
          },
          "execution_count": 24
        }
      ]
    },
    {
      "metadata": {
        "id": "f9WIk3lgsvu-",
        "colab_type": "code",
        "outputId": "bc763f92-9980-4161-fd57-e12fefccc4f2",
        "colab": {
          "base_uri": "https://localhost:8080/",
          "height": 398
        }
      },
      "cell_type": "code",
      "source": [
        "%time history = model.fit(X, y, epochs=500, verbose=0)\n",
        "plt.plot(history.history['loss'])"
      ],
      "execution_count": 25,
      "outputs": [
        {
          "output_type": "stream",
          "text": [
            "CPU times: user 4.49 s, sys: 150 ms, total: 4.64 s\n",
            "Wall time: 3.48 s\n"
          ],
          "name": "stdout"
        },
        {
          "output_type": "execute_result",
          "data": {
            "text/plain": [
              "[<matplotlib.lines.Line2D at 0x7fb652308c50>]"
            ]
          },
          "metadata": {
            "tags": []
          },
          "execution_count": 25
        },
        {
          "output_type": "display_data",
          "data": {
            "image/png": "[encoded data removed]",
            "text/plain": [
              "<matplotlib.figure.Figure at 0x7fb653c93668>"
            ]
          },
          "metadata": {
            "tags": []
          }
        }
      ]
    },
    {
      "metadata": {
        "id": "PrChIAKivga_",
        "colab_type": "code",
        "outputId": "4235d241-1cf4-43fc-d682-6313d8fcd25e",
        "colab": {
          "base_uri": "https://localhost:8080/",
          "height": 103
        }
      },
      "cell_type": "code",
      "source": [
        "predict(model, [[10, 20, 30], [70, 80, 90], [100, 110, 120], [200, 210, 220], [200, 300, 400]])"
      ],
      "execution_count": 26,
      "outputs": [
        {
          "output_type": "execute_result",
          "data": {
            "text/plain": [
              "array([[ 40.00001],\n",
              "       [102.94592],\n",
              "       [143.79745],\n",
              "       [280.1768 ],\n",
              "       [352.2422 ]], dtype=float32)"
            ]
          },
          "metadata": {
            "tags": []
          },
          "execution_count": 26
        }
      ]
    },
    {
      "metadata": {
        "id": "0-6-qw2Uw-kG",
        "colab_type": "code",
        "outputId": "715dd2ee-78f4-4379-cef5-d16d3307e798",
        "colab": {
          "base_uri": "https://localhost:8080/",
          "height": 207
        }
      },
      "cell_type": "code",
      "source": [
        "rnn_units = 50\n",
        "\n",
        "model = Sequential([\n",
        "    GRU(units=rnn_units, activation='relu', input_shape=(n_steps, n_features), name=\"RNN_Input\"),\n",
        "    Dense(units=1, name=\"Linear_Output\")\n",
        "])\n",
        "model.compile(optimizer='adam', loss='mse')\n",
        "model.summary()"
      ],
      "execution_count": 27,
      "outputs": [
        {
          "output_type": "stream",
          "text": [
            "_________________________________________________________________\n",
            "Layer (type)                 Output Shape              Param #   \n",
            "=================================================================\n",
            "RNN_Input (GRU)              (None, 50)                7800      \n",
            "_________________________________________________________________\n",
            "Linear_Output (Dense)        (None, 1)                 51        \n",
            "=================================================================\n",
            "Total params: 7,851\n",
            "Trainable params: 7,851\n",
            "Non-trainable params: 0\n",
            "_________________________________________________________________\n"
          ],
          "name": "stdout"
        }
      ]
    },
    {
      "metadata": {
        "id": "V96JbGbWxJYl",
        "colab_type": "code",
        "outputId": "58f7743e-bf5d-4b69-e598-6fd8d473f7c4",
        "colab": {
          "base_uri": "https://localhost:8080/",
          "height": 34
        }
      },
      "cell_type": "code",
      "source": [
        "output_dimension = rnn_units\n",
        "input_dimension = n_features\n",
        "parameters = 3 * (output_dimension ** 2 +  output_dimension * input_dimension + output_dimension) \n",
        "parameters"
      ],
      "execution_count": 28,
      "outputs": [
        {
          "output_type": "execute_result",
          "data": {
            "text/plain": [
              "7800"
            ]
          },
          "metadata": {
            "tags": []
          },
          "execution_count": 28
        }
      ]
    },
    {
      "metadata": {
        "id": "ZItEwNiBxKCn",
        "colab_type": "code",
        "outputId": "14128efb-059e-4b88-fcf2-417de7113c3f",
        "colab": {
          "base_uri": "https://localhost:8080/",
          "height": 398
        }
      },
      "cell_type": "code",
      "source": [
        "%time history = model.fit(X, y, epochs=500, verbose=0)\n",
        "plt.plot(history.history['loss'])"
      ],
      "execution_count": 29,
      "outputs": [
        {
          "output_type": "stream",
          "text": [
            "CPU times: user 3.89 s, sys: 91.7 ms, total: 3.99 s\n",
            "Wall time: 3.06 s\n"
          ],
          "name": "stdout"
        },
        {
          "output_type": "execute_result",
          "data": {
            "text/plain": [
              "[<matplotlib.lines.Line2D at 0x7fb65160d080>]"
            ]
          },
          "metadata": {
            "tags": []
          },
          "execution_count": 29
        },
        {
          "output_type": "display_data",
          "data": {
            "image/png": "[encoded data removed]",
            "text/plain": [
              "<matplotlib.figure.Figure at 0x7fb652291be0>"
            ]
          },
          "metadata": {
            "tags": []
          }
        }
      ]
    },
    {
      "metadata": {
        "id": "Qz7hU9x2xOCP",
        "colab_type": "code",
        "outputId": "089bf100-611a-46a8-f813-cfedc82bdf58",
        "colab": {
          "base_uri": "https://localhost:8080/",
          "height": 103
        }
      },
      "cell_type": "code",
      "source": [
        "predict(model, [[10, 20, 30], [70, 80, 90], [100, 110, 120], [200, 210, 220], [200, 300, 400]])"
      ],
      "execution_count": 30,
      "outputs": [
        {
          "output_type": "execute_result",
          "data": {
            "text/plain": [
              "array([[ 40.     ],\n",
              "       [102.5557 ],\n",
              "       [139.84831],\n",
              "       [264.08813],\n",
              "       [412.378  ]], dtype=float32)"
            ]
          },
          "metadata": {
            "tags": []
          },
          "execution_count": 30
        }
      ]
    },
    {
      "metadata": {
        "id": "6O1p-MKsZoPx",
        "colab_type": "text"
      },
      "cell_type": "markdown",
      "source": [
        "## Multivariate LSTM Models"
      ]
    },
    {
      "metadata": {
        "id": "ogVauet4kvha",
        "colab_type": "text"
      },
      "cell_type": "markdown",
      "source": [
        "### Multiple Input Series"
      ]
    },
    {
      "metadata": {
        "id": "sI478dzhxSFQ",
        "colab_type": "code",
        "colab": {
          "base_uri": "https://localhost:8080/",
          "height": 34
        },
        "outputId": "2f022f1f-b7fc-44d1-c821-b1d8318032aa"
      },
      "cell_type": "code",
      "source": [
        "in_seq1 = [10, 20, 30, 40, 50, 60, 70, 80, 90]\n",
        "in_seq2 = [15, 25, 35, 45, 55, 65, 75, 85, 95]\n",
        "out_seq = [in1 + in2 for in1, in2 in zip(in_seq1, in_seq2)]\n",
        "out_seq"
      ],
      "execution_count": 31,
      "outputs": [
        {
          "output_type": "execute_result",
          "data": {
            "text/plain": [
              "[25, 45, 65, 85, 105, 125, 145, 165, 185]"
            ]
          },
          "metadata": {
            "tags": []
          },
          "execution_count": 31
        }
      ]
    },
    {
      "metadata": {
        "id": "Z3j4mZI1acf7",
        "colab_type": "code",
        "colab": {
          "base_uri": "https://localhost:8080/",
          "height": 172
        },
        "outputId": "ca2878b5-d315-47dc-f8e2-f1f527e20590"
      },
      "cell_type": "code",
      "source": [
        "# convert to [rows, columns] structure\n",
        "in_seq1 = np.array(in_seq1).reshape((len(in_seq1), 1))\n",
        "in_seq2 = np.array(in_seq2).reshape((len(in_seq2), 1))\n",
        "out_seq = np.array(out_seq).reshape((len(out_seq), 1))\n",
        "out_seq"
      ],
      "execution_count": 32,
      "outputs": [
        {
          "output_type": "execute_result",
          "data": {
            "text/plain": [
              "array([[ 25],\n",
              "       [ 45],\n",
              "       [ 65],\n",
              "       [ 85],\n",
              "       [105],\n",
              "       [125],\n",
              "       [145],\n",
              "       [165],\n",
              "       [185]])"
            ]
          },
          "metadata": {
            "tags": []
          },
          "execution_count": 32
        }
      ]
    },
    {
      "metadata": {
        "id": "gWno1RcVaivS",
        "colab_type": "code",
        "colab": {
          "base_uri": "https://localhost:8080/",
          "height": 172
        },
        "outputId": "99c4ecad-8dc8-4fe4-8173-feff4d6b1a70"
      },
      "cell_type": "code",
      "source": [
        "# horizontally stack columns\n",
        "dataset = np.hstack((in_seq1, in_seq2, out_seq))\n",
        "dataset"
      ],
      "execution_count": 33,
      "outputs": [
        {
          "output_type": "execute_result",
          "data": {
            "text/plain": [
              "array([[ 10,  15,  25],\n",
              "       [ 20,  25,  45],\n",
              "       [ 30,  35,  65],\n",
              "       [ 40,  45,  85],\n",
              "       [ 50,  55, 105],\n",
              "       [ 60,  65, 125],\n",
              "       [ 70,  75, 145],\n",
              "       [ 80,  85, 165],\n",
              "       [ 90,  95, 185]])"
            ]
          },
          "metadata": {
            "tags": []
          },
          "execution_count": 33
        }
      ]
    },
    {
      "metadata": {
        "id": "wODT6DFGcYCi",
        "colab_type": "code",
        "colab": {}
      },
      "cell_type": "code",
      "source": [
        "# split a multivariate sequence into samples\n",
        "def split_sequences(sequences, n_steps):\n",
        "\tX, y = list(), list()\n",
        "\tfor i in range(len(sequences)):\n",
        "\t\t# find the end of this pattern\n",
        "\t\tend_ix = i + n_steps\n",
        "\t\t# check if we are beyond the dataset\n",
        "\t\tif end_ix > len(sequences):\n",
        "\t\t\tbreak\n",
        "\t\t# gather input and output parts of the pattern\n",
        "\t\tseq_x, seq_y = sequences[i:end_ix, :-1], sequences[end_ix-1, -1]\n",
        "\t\tX.append(seq_x)\n",
        "\t\ty.append(seq_y)\n",
        "\treturn np.array(X), np.array(y)"
      ],
      "execution_count": 0,
      "outputs": []
    },
    {
      "metadata": {
        "id": "YfTgkdcFc8Iu",
        "colab_type": "code",
        "colab": {
          "base_uri": "https://localhost:8080/",
          "height": 276
        },
        "outputId": "3f7f6cae-5800-456a-b20f-436a5a87cc0f"
      },
      "cell_type": "code",
      "source": [
        "# choose a number of time steps\n",
        "n_steps = 3\n",
        "\n",
        "# convert into input/output\n",
        "X, y = split_sequences(dataset, n_steps)\n",
        "\n",
        "# summarize the data\n",
        "list(zip(X, y))"
      ],
      "execution_count": 35,
      "outputs": [
        {
          "output_type": "execute_result",
          "data": {
            "text/plain": [
              "[(array([[10, 15],\n",
              "         [20, 25],\n",
              "         [30, 35]]), 65), (array([[20, 25],\n",
              "         [30, 35],\n",
              "         [40, 45]]), 85), (array([[30, 35],\n",
              "         [40, 45],\n",
              "         [50, 55]]), 105), (array([[40, 45],\n",
              "         [50, 55],\n",
              "         [60, 65]]), 125), (array([[50, 55],\n",
              "         [60, 65],\n",
              "         [70, 75]]), 145), (array([[60, 65],\n",
              "         [70, 75],\n",
              "         [80, 85]]), 165), (array([[70, 75],\n",
              "         [80, 85],\n",
              "         [90, 95]]), 185)]"
            ]
          },
          "metadata": {
            "tags": []
          },
          "execution_count": 35
        }
      ]
    },
    {
      "metadata": {
        "id": "XYhnq4Hzc_tu",
        "colab_type": "code",
        "colab": {}
      },
      "cell_type": "code",
      "source": [
        "# the dataset knows the number of features, e.g. 2\n",
        "n_features = X.shape[2]\n",
        "\n",
        "# define model\n",
        "model = Sequential()\n",
        "model.add(GRU(units=50, activation='relu', input_shape=(n_steps, n_features), name=\"RNN_Input\"))\n",
        "model.add(Dense(units=1, name=\"Linear_Output\"))\n",
        "model.compile(optimizer='adam', loss='mse')"
      ],
      "execution_count": 0,
      "outputs": []
    },
    {
      "metadata": {
        "id": "5DKcnuvGegj5",
        "colab_type": "code",
        "colab": {
          "base_uri": "https://localhost:8080/",
          "height": 398
        },
        "outputId": "d5b7d725-1b19-492f-db9e-c094d61bef2a"
      },
      "cell_type": "code",
      "source": [
        "# fit model\n",
        "%time history = model.fit(X, y, epochs=500, verbose=0)\n",
        "import matplotlib.pyplot as plt\n",
        "\n",
        "plt.yscale('log')\n",
        "plt.plot(history.history['loss'])"
      ],
      "execution_count": 37,
      "outputs": [
        {
          "output_type": "stream",
          "text": [
            "CPU times: user 4.08 s, sys: 101 ms, total: 4.18 s\n",
            "Wall time: 3.27 s\n"
          ],
          "name": "stdout"
        },
        {
          "output_type": "execute_result",
          "data": {
            "text/plain": [
              "[<matplotlib.lines.Line2D at 0x7fb650a42588>]"
            ]
          },
          "metadata": {
            "tags": []
          },
          "execution_count": 37
        },
        {
          "output_type": "display_data",
          "data": {
            "image/png": "[encoded data removed]",
            "text/plain": [
              "<matplotlib.figure.Figure at 0x7fb65152cd68>"
            ]
          },
          "metadata": {
            "tags": []
          }
        }
      ]
    },
    {
      "metadata": {
        "id": "tAYti6Fae3GA",
        "colab_type": "code",
        "colab": {}
      },
      "cell_type": "code",
      "source": [
        "def predict_multi(model, samples):\n",
        "  input = np.array(samples)\n",
        "  input = input.reshape(1, input.shape[0], input.shape[1])\n",
        "  y_pred = model.predict(input)\n",
        "  return y_pred"
      ],
      "execution_count": 0,
      "outputs": []
    },
    {
      "metadata": {
        "id": "To1M1jeLhKFT",
        "colab_type": "code",
        "colab": {
          "base_uri": "https://localhost:8080/",
          "height": 34
        },
        "outputId": "a598cffa-24f4-4651-c525-b8e385f75d19"
      },
      "cell_type": "code",
      "source": [
        "predict_multi(model, [[80, 85], [90, 95], [100, 105]])"
      ],
      "execution_count": 39,
      "outputs": [
        {
          "output_type": "execute_result",
          "data": {
            "text/plain": [
              "array([[205.96065]], dtype=float32)"
            ]
          },
          "metadata": {
            "tags": []
          },
          "execution_count": 39
        }
      ]
    },
    {
      "metadata": {
        "id": "pwYcgfEbfdJp",
        "colab_type": "code",
        "colab": {
          "base_uri": "https://localhost:8080/",
          "height": 34
        },
        "outputId": "d0a37668-389c-4b4f-dcfe-b87859ff4626"
      },
      "cell_type": "code",
      "source": [
        "predict_multi(model, [[10, 15], [20, 25], [30, 35]])"
      ],
      "execution_count": 40,
      "outputs": [
        {
          "output_type": "execute_result",
          "data": {
            "text/plain": [
              "array([[64.71428]], dtype=float32)"
            ]
          },
          "metadata": {
            "tags": []
          },
          "execution_count": 40
        }
      ]
    },
    {
      "metadata": {
        "id": "yN3tDmkRhboU",
        "colab_type": "code",
        "colab": {
          "base_uri": "https://localhost:8080/",
          "height": 34
        },
        "outputId": "2de9bd48-5bed-4530-de25-5e8fff0322f0"
      },
      "cell_type": "code",
      "source": [
        "predict_multi(model, [[180, 185], [190, 195], [200, 205]])"
      ],
      "execution_count": 41,
      "outputs": [
        {
          "output_type": "execute_result",
          "data": {
            "text/plain": [
              "array([[426.63144]], dtype=float32)"
            ]
          },
          "metadata": {
            "tags": []
          },
          "execution_count": 41
        }
      ]
    },
    {
      "metadata": {
        "id": "ttmXnBPtjVPG",
        "colab_type": "text"
      },
      "cell_type": "markdown",
      "source": [
        "#### Let's make this a little bit harder\n",
        "\n",
        "* output y can be inferred from final timestep\n",
        "* now we try to infer following ouput"
      ]
    },
    {
      "metadata": {
        "id": "p_L-_VVUhh5z",
        "colab_type": "code",
        "colab": {
          "base_uri": "https://localhost:8080/",
          "height": 276
        },
        "outputId": "8e63dc60-44e9-425f-8a9b-bd2d69796357"
      },
      "cell_type": "code",
      "source": [
        "y += 20\n",
        "list(zip(X, y))"
      ],
      "execution_count": 42,
      "outputs": [
        {
          "output_type": "execute_result",
          "data": {
            "text/plain": [
              "[(array([[10, 15],\n",
              "         [20, 25],\n",
              "         [30, 35]]), 85), (array([[20, 25],\n",
              "         [30, 35],\n",
              "         [40, 45]]), 105), (array([[30, 35],\n",
              "         [40, 45],\n",
              "         [50, 55]]), 125), (array([[40, 45],\n",
              "         [50, 55],\n",
              "         [60, 65]]), 145), (array([[50, 55],\n",
              "         [60, 65],\n",
              "         [70, 75]]), 165), (array([[60, 65],\n",
              "         [70, 75],\n",
              "         [80, 85]]), 185), (array([[70, 75],\n",
              "         [80, 85],\n",
              "         [90, 95]]), 205)]"
            ]
          },
          "metadata": {
            "tags": []
          },
          "execution_count": 42
        }
      ]
    },
    {
      "metadata": {
        "id": "0heNGKIljMx_",
        "colab_type": "code",
        "colab": {
          "base_uri": "https://localhost:8080/",
          "height": 398
        },
        "outputId": "68405321-7eb3-46c7-e899-6c31169c34df"
      },
      "cell_type": "code",
      "source": [
        "model = Sequential()\n",
        "model.add(GRU(units=50, activation='relu', input_shape=(n_steps, n_features), name=\"RNN_Input\"))\n",
        "model.add(Dense(units=1, name=\"Linear_Output\"))\n",
        "model.compile(optimizer='adam', loss='mse')\n",
        "\n",
        "# train a little bit longer, as this should be harder now\n",
        "%time history = model.fit(X, y, epochs=2000, verbose=0)\n",
        "import matplotlib.pyplot as plt\n",
        "\n",
        "plt.yscale('log')\n",
        "plt.plot(history.history['loss'])"
      ],
      "execution_count": 43,
      "outputs": [
        {
          "output_type": "stream",
          "text": [
            "CPU times: user 11 s, sys: 374 ms, total: 11.4 s\n",
            "Wall time: 7.6 s\n"
          ],
          "name": "stdout"
        },
        {
          "output_type": "execute_result",
          "data": {
            "text/plain": [
              "[<matplotlib.lines.Line2D at 0x7fb64fc9cba8>]"
            ]
          },
          "metadata": {
            "tags": []
          },
          "execution_count": 43
        },
        {
          "output_type": "display_data",
          "data": {
            "image/png": "[encoded data removed]",
            "text/plain": [
              "<matplotlib.figure.Figure at 0x7fb650980e80>"
            ]
          },
          "metadata": {
            "tags": []
          }
        }
      ]
    },
    {
      "metadata": {
        "id": "sNT0WDvZjsa6",
        "colab_type": "code",
        "colab": {
          "base_uri": "https://localhost:8080/",
          "height": 34
        },
        "outputId": "3476ae0c-a8b5-45ac-b0f5-955d23f8e416"
      },
      "cell_type": "code",
      "source": [
        "predict_multi(model, [[80, 85], [90, 95], [100, 105]])"
      ],
      "execution_count": 44,
      "outputs": [
        {
          "output_type": "execute_result",
          "data": {
            "text/plain": [
              "array([[229.10132]], dtype=float32)"
            ]
          },
          "metadata": {
            "tags": []
          },
          "execution_count": 44
        }
      ]
    },
    {
      "metadata": {
        "id": "nrQlR38ajtYA",
        "colab_type": "code",
        "colab": {
          "base_uri": "https://localhost:8080/",
          "height": 34
        },
        "outputId": "e2e0cce8-d499-4690-f4f5-a032f6e921b6"
      },
      "cell_type": "code",
      "source": [
        "predict_multi(model, [[10, 15], [20, 25], [30, 35]])"
      ],
      "execution_count": 45,
      "outputs": [
        {
          "output_type": "execute_result",
          "data": {
            "text/plain": [
              "array([[84.983284]], dtype=float32)"
            ]
          },
          "metadata": {
            "tags": []
          },
          "execution_count": 45
        }
      ]
    },
    {
      "metadata": {
        "id": "UbO7DDTjkFsh",
        "colab_type": "code",
        "colab": {
          "base_uri": "https://localhost:8080/",
          "height": 34
        },
        "outputId": "5a524ac7-67e7-4619-fe39-fb50b7aa1793"
      },
      "cell_type": "code",
      "source": [
        "predict_multi(model, [[180, 185], [190, 195], [200, 205]])"
      ],
      "execution_count": 46,
      "outputs": [
        {
          "output_type": "execute_result",
          "data": {
            "text/plain": [
              "array([[477.81354]], dtype=float32)"
            ]
          },
          "metadata": {
            "tags": []
          },
          "execution_count": 46
        }
      ]
    },
    {
      "metadata": {
        "id": "X8TsV-MdkmEy",
        "colab_type": "text"
      },
      "cell_type": "markdown",
      "source": [
        "## Multi-Step LSTM Models\n",
        "* this might just as well be an encoder / decoder approach"
      ]
    },
    {
      "metadata": {
        "id": "4veJ7_fxkSow",
        "colab_type": "code",
        "colab": {
          "base_uri": "https://localhost:8080/",
          "height": 103
        },
        "outputId": "db49c57a-d65c-436c-a9b1-d1346c3b7422"
      },
      "cell_type": "code",
      "source": [
        "# split a univariate sequence into samples\n",
        "def split_sequence(sequence, n_steps_in, n_steps_out):\n",
        "\tX, y = list(), list()\n",
        "\tfor i in range(len(sequence)):\n",
        "\t\t# find the end of this pattern\n",
        "\t\tend_ix = i + n_steps_in\n",
        "\t\tout_end_ix = end_ix + n_steps_out\n",
        "\t\t# check if we are beyond the sequence\n",
        "\t\tif out_end_ix > len(sequence):\n",
        "\t\t\tbreak\n",
        "\t\t# gather input and output parts of the pattern\n",
        "\t\tseq_x, seq_y = sequence[i:end_ix], sequence[end_ix:out_end_ix]\n",
        "\t\tX.append(seq_x)\n",
        "\t\ty.append(seq_y)\n",
        "\treturn np.array(X), np.array(y)\n",
        " \n",
        "# define input sequence\n",
        "raw_seq = [10, 20, 30, 40, 50, 60, 70, 80, 90]\n",
        "# choose a number of time steps\n",
        "n_steps_in, n_steps_out = 3, 2\n",
        "# split into samples\n",
        "X, y = split_sequence(raw_seq, n_steps_in, n_steps_out)\n",
        "# summarize the data\n",
        "for input, output in zip(X, y):\n",
        "  print (input, output)"
      ],
      "execution_count": 50,
      "outputs": [
        {
          "output_type": "stream",
          "text": [
            "[10 20 30] [40 50]\n",
            "[20 30 40] [50 60]\n",
            "[30 40 50] [60 70]\n",
            "[40 50 60] [70 80]\n",
            "[50 60 70] [80 90]\n"
          ],
          "name": "stdout"
        }
      ]
    },
    {
      "metadata": {
        "id": "geX0EgYx3xaR",
        "colab_type": "code",
        "colab": {}
      },
      "cell_type": "code",
      "source": [
        "# reshape from [samples, timesteps] into [samples, timesteps, features]\n",
        "n_features = 1\n",
        "X = X.reshape((X.shape[0], X.shape[1], n_features))\n",
        "# define model\n",
        "model = Sequential()\n",
        "model.add(GRU(100, activation='relu', input_shape=(n_steps_in, n_features)))\n",
        "# model.add(GRU(100, activation='relu', return_sequences=True, input_shape=(n_steps_in, n_features)))\n",
        "# model.add(GRU(100, activation='relu'))\n",
        "model.add(Dense(n_steps_out))\n",
        "model.compile(optimizer='adam', loss='mse')"
      ],
      "execution_count": 0,
      "outputs": []
    },
    {
      "metadata": {
        "id": "_9bw2H-w_9Fk",
        "colab_type": "code",
        "colab": {
          "base_uri": "https://localhost:8080/",
          "height": 404
        },
        "outputId": "955d4242-1809-427a-d998-f2114a22a1b1"
      },
      "cell_type": "code",
      "source": [
        "# fit model\n",
        "%time history = model.fit(X, y, epochs=500, verbose=0)\n",
        "import matplotlib.pyplot as plt\n",
        "\n",
        "plt.yscale('log')\n",
        "plt.plot(history.history['loss'])"
      ],
      "execution_count": 64,
      "outputs": [
        {
          "output_type": "stream",
          "text": [
            "CPU times: user 7.57 s, sys: 174 ms, total: 7.74 s\n",
            "Wall time: 6.04 s\n"
          ],
          "name": "stdout"
        },
        {
          "output_type": "execute_result",
          "data": {
            "text/plain": [
              "[<matplotlib.lines.Line2D at 0x7fb64b556d30>]"
            ]
          },
          "metadata": {
            "tags": []
          },
          "execution_count": 64
        },
        {
          "output_type": "display_data",
          "data": {
            "image/png": "[encoded data removed]",
            "text/plain": [
              "<matplotlib.figure.Figure at 0x7fb64c1fc710>"
            ]
          },
          "metadata": {
            "tags": []
          }
        }
      ]
    },
    {
      "metadata": {
        "id": "BvVhFBcpAHCt",
        "colab_type": "code",
        "colab": {
          "base_uri": "https://localhost:8080/",
          "height": 34
        },
        "outputId": "219a8c3a-2fc2-4a71-ed64-0ad5df0cf095"
      },
      "cell_type": "code",
      "source": [
        "X_sample = np.array([70, 80, 90]).reshape((1, n_steps_in, n_features))\n",
        "y_pred = model.predict(X_sample)\n",
        "print(y_pred)"
      ],
      "execution_count": 65,
      "outputs": [
        {
          "output_type": "stream",
          "text": [
            "[[106.344955 120.15306 ]]\n"
          ],
          "name": "stdout"
        }
      ]
    },
    {
      "metadata": {
        "id": "TU98-CwHAYor",
        "colab_type": "code",
        "colab": {
          "base_uri": "https://localhost:8080/",
          "height": 34
        },
        "outputId": "d73832aa-13b8-46dc-e267-e682543f95d4"
      },
      "cell_type": "code",
      "source": [
        "X_sample = np.array([10, 20, 30]).reshape((1, n_steps_in, n_features))\n",
        "y_pred = model.predict(X_sample)\n",
        "print(y_pred)"
      ],
      "execution_count": 66,
      "outputs": [
        {
          "output_type": "stream",
          "text": [
            "[[40.000393 49.99964 ]]\n"
          ],
          "name": "stdout"
        }
      ]
    },
    {
      "metadata": {
        "id": "FRl9xzr9Af8u",
        "colab_type": "code",
        "colab": {}
      },
      "cell_type": "code",
      "source": [
        ""
      ],
      "execution_count": 0,
      "outputs": []
    }
  ]
}