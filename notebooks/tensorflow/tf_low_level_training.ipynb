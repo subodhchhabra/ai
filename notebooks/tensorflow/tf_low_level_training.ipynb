{
  "nbformat": 4,
  "nbformat_minor": 0,
  "metadata": {
    "colab": {
      "name": "tf_low_level_training.ipynb",
      "version": "0.3.2",
      "provenance": [],
      "toc_visible": true,
      "include_colab_link": true
    },
    "kernelspec": {
      "name": "python3",
      "display_name": "Python 3"
    },
    "accelerator": "GPU"
  },
  "cells": [
    {
      "cell_type": "markdown",
      "metadata": {
        "id": "view-in-github",
        "colab_type": "text"
      },
      "source": [
        "<a href=\"https://colab.research.google.com/github/DJCordhose/ai/blob/master/notebooks/tensorflow/tf_low_level_training.ipynb\" target=\"_parent\"><img src=\"https://colab.research.google.com/assets/colab-badge.svg\" alt=\"Open In Colab\"/></a>"
      ]
    },
    {
      "metadata": {
        "id": "cPPSaNy-gP69",
        "colab_type": "text"
      },
      "cell_type": "markdown",
      "source": [
        "# Low Level TensorFlow, Part II: Training\n",
        "\n",
        "* https://www.tensorflow.org/guide/low_level_intro#training\n",
        "* https://developers.google.com/machine-learning/glossary/#gradient_descent\n",
        "* https://developers.google.com/machine-learning/glossary/#optimizer"
      ]
    },
    {
      "metadata": {
        "id": "iTAja3gRgTL5",
        "colab_type": "code",
        "outputId": "a7838525-7a3f-44f8-a494-a5fcff675e60",
        "colab": {
          "base_uri": "https://localhost:8080/",
          "height": 34
        }
      },
      "cell_type": "code",
      "source": [
        "# import and check version\n",
        "import tensorflow as tf\n",
        "# tf can be really verbose\n",
        "tf.logging.set_verbosity(tf.logging.ERROR)\n",
        "print(tf.__version__)"
      ],
      "execution_count": 1,
      "outputs": [
        {
          "output_type": "stream",
          "text": [
            "1.12.0\n"
          ],
          "name": "stdout"
        }
      ]
    },
    {
      "metadata": {
        "id": "c64ihdObg50w",
        "colab_type": "code",
        "outputId": "92a3ebd0-7164-4ff6-e88c-720d27ad3ac4",
        "colab": {
          "base_uri": "https://localhost:8080/",
          "height": 34
        }
      },
      "cell_type": "code",
      "source": [
        "# a small sanity check, does tf seem to work ok? \n",
        "sess = tf.Session()\n",
        "hello = tf.constant('Hello TF!')\n",
        "print(sess.run(hello))\n",
        "sess.close()"
      ],
      "execution_count": 2,
      "outputs": [
        {
          "output_type": "stream",
          "text": [
            "b'Hello TF!'\n"
          ],
          "name": "stdout"
        }
      ]
    },
    {
      "metadata": {
        "id": "-PfYL1utj2cV",
        "colab_type": "text"
      },
      "cell_type": "markdown",
      "source": [
        "## Transforming an input to a known output\n",
        "\n",
        "relation between input and output is linear"
      ]
    },
    {
      "metadata": {
        "id": "qgrvJUt_xgAN",
        "colab_type": "code",
        "colab": {}
      },
      "cell_type": "code",
      "source": [
        "input = [[1], [2], [3], [4]]\n",
        "output = [[0], [-1], [-2], [-3]]"
      ],
      "execution_count": 0,
      "outputs": []
    },
    {
      "metadata": {
        "id": "9JylnPRWxq6U",
        "colab_type": "code",
        "colab": {
          "base_uri": "https://localhost:8080/",
          "height": 364
        },
        "outputId": "855deaf7-9f34-47f3-df45-79ca106de0a5"
      },
      "cell_type": "code",
      "source": [
        "import matplotlib.pyplot as plt\n",
        "\n",
        "plt.plot(input, output)"
      ],
      "execution_count": 4,
      "outputs": [
        {
          "output_type": "execute_result",
          "data": {
            "text/plain": [
              "[<matplotlib.lines.Line2D at 0x7f49e98b56d8>]"
            ]
          },
          "metadata": {
            "tags": []
          },
          "execution_count": 4
        },
        {
          "output_type": "display_data",
          "data": {
            "image/png": "[encoded data removed]",
            "text/plain": [
              "<matplotlib.figure.Figure at 0x7f4a2d74b6a0>"
            ]
          },
          "metadata": {
            "tags": []
          }
        }
      ]
    },
    {
      "metadata": {
        "id": "VkTKGeziaOyo",
        "colab_type": "code",
        "colab": {}
      },
      "cell_type": "code",
      "source": [
        "x = tf.constant(input, dtype=tf.float32)\n",
        "y_true = tf.constant(output, dtype=tf.float32)"
      ],
      "execution_count": 0,
      "outputs": []
    },
    {
      "metadata": {
        "id": "oqRIjIUg02c1",
        "colab_type": "text"
      },
      "cell_type": "markdown",
      "source": [
        "## Defining the model to train\n",
        "\n",
        "untrained single unit (neuron) also outputs a line from same input, although another one \n"
      ]
    },
    {
      "metadata": {
        "id": "QjGrZUDYwTKt",
        "colab_type": "code",
        "colab": {}
      },
      "cell_type": "code",
      "source": [
        "y_pred = tf.layers.dense(inputs=x, units=1)"
      ],
      "execution_count": 0,
      "outputs": []
    },
    {
      "metadata": {
        "id": "X4wttgGUwqCp",
        "colab_type": "code",
        "colab": {
          "base_uri": "https://localhost:8080/",
          "height": 415
        },
        "outputId": "516083ff-f420-4b89-eb58-2d5ead0f75ed"
      },
      "cell_type": "code",
      "source": [
        "# when you execute this cell, you should see another one, as the initialization is random\n",
        "with tf.Session() as sess:\n",
        "  sess.run(tf.global_variables_initializer())\n",
        "  output_pred = sess.run(y_pred)\n",
        "  print(output_pred)\n",
        "  plt.plot(input, output_pred)"
      ],
      "execution_count": 7,
      "outputs": [
        {
          "output_type": "stream",
          "text": [
            "[[-0.9445088]\n",
            " [-1.8890176]\n",
            " [-2.8335264]\n",
            " [-3.7780352]]\n"
          ],
          "name": "stdout"
        },
        {
          "output_type": "display_data",
          "data": {
            "image/png": "[encoded data removed]",
            "text/plain": [
              "<matplotlib.figure.Figure at 0x7f49e988b9e8>"
            ]
          },
          "metadata": {
            "tags": []
          }
        }
      ]
    },
    {
      "metadata": {
        "id": "0Takiz-Z4O79",
        "colab_type": "text"
      },
      "cell_type": "markdown",
      "source": [
        "## Loss - Mean Squared Error\n",
        "\n",
        "Loss function is the prerequisite to training. We need an objective to optimize for. We calculate the difference between what we get as output and what we would like to get."
      ]
    },
    {
      "metadata": {
        "id": "nyDos86LxIFv",
        "colab_type": "code",
        "colab": {}
      },
      "cell_type": "code",
      "source": [
        "loss = tf.losses.mean_squared_error(labels=y_true, predictions=y_pred)"
      ],
      "execution_count": 0,
      "outputs": []
    },
    {
      "metadata": {
        "id": "fuMSM6wj4RWR",
        "colab_type": "code",
        "colab": {
          "base_uri": "https://localhost:8080/",
          "height": 34
        },
        "outputId": "de32147c-cfa1-4011-c4f0-2e113edf0759"
      },
      "cell_type": "code",
      "source": [
        "# when this loss is zero (which it is not right now) we get the desired output\n",
        "with tf.Session() as sess:\n",
        "  sess.run(tf.global_variables_initializer())\n",
        "  print(sess.run(loss))"
      ],
      "execution_count": 9,
      "outputs": [
        {
          "output_type": "stream",
          "text": [
            "0.89092165\n"
          ],
          "name": "stdout"
        }
      ]
    },
    {
      "metadata": {
        "id": "PkTdAWrF5xj1",
        "colab_type": "code",
        "colab": {}
      },
      "cell_type": "code",
      "source": [
        "# move the parameters of our single neuron in the right direction with a pretty high intensity (learning rate)\n",
        "# be patient, might take a minute\n",
        "optimizer = tf.train.GradientDescentOptimizer(learning_rate=0.1)\n",
        "\n",
        "delta = 0.001 # close enough to zero\n",
        "losses = []\n",
        "\n",
        "with tf.Session() as sess:\n",
        "  sess.run(tf.global_variables_initializer())\n",
        "\n",
        "  # 100 iterations aka epochs, optimizing the parameters of the neuron\n",
        "  for i in range(100):\n",
        "    # executing optimizer and current loss, but only displaying current loss \n",
        "    _, loss_value = sess.run((optimizer.minimize(loss), loss))\n",
        "    losses.append(loss_value)\n",
        "    if loss_value < delta: break"
      ],
      "execution_count": 0,
      "outputs": []
    },
    {
      "metadata": {
        "id": "C16uj8jI6-EF",
        "colab_type": "code",
        "colab": {
          "base_uri": "https://localhost:8080/",
          "height": 364
        },
        "outputId": "3cea3db5-1b95-48ac-fb56-1a6286f1ffeb"
      },
      "cell_type": "code",
      "source": [
        "# wet dream of every machine learning person (typically you see a noisy curve only sort of going down)\n",
        "plt.plot(losses)"
      ],
      "execution_count": 11,
      "outputs": [
        {
          "output_type": "execute_result",
          "data": {
            "text/plain": [
              "[<matplotlib.lines.Line2D at 0x7f49e3fe7198>]"
            ]
          },
          "metadata": {
            "tags": []
          },
          "execution_count": 11
        },
        {
          "output_type": "display_data",
          "data": {
            "image/png": "[encoded data removed]",
            "text/plain": [
              "<matplotlib.figure.Figure at 0x7f4a2d74b588>"
            ]
          },
          "metadata": {
            "tags": []
          }
        }
      ]
    },
    {
      "metadata": {
        "id": "-GolZcpK9FMK",
        "colab_type": "code",
        "colab": {}
      },
      "cell_type": "code",
      "source": [
        ""
      ],
      "execution_count": 0,
      "outputs": []
    }
  ]
}