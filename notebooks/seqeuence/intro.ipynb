{
  "nbformat": 4,
  "nbformat_minor": 0,
  "metadata": {
    "colab": {
      "name": "sequences.ipynb",
      "version": "0.3.2",
      "provenance": [],
      "collapsed_sections": [],
      "include_colab_link": true
    },
    "kernelspec": {
      "name": "python3",
      "display_name": "Python 3"
    }
  },
  "cells": [
    {
      "cell_type": "markdown",
      "metadata": {
        "id": "view-in-github",
        "colab_type": "text"
      },
      "source": [
        "<a href=\"https://colab.research.google.com/github/DJCordhose/ai/blob/master/notebooks/seqeuence/intro.ipynb\" target=\"_parent\"><img src=\"https://colab.research.google.com/assets/colab-badge.svg\" alt=\"Open In Colab\"/></a>"
      ]
    },
    {
      "metadata": {
        "id": "t0SNZ3gZDa36",
        "colab_type": "text"
      },
      "cell_type": "markdown",
      "source": [
        "# Time Series / Sequences\n",
        "\n",
        "Links\n",
        "* Example and a lot of imspiration taken from: https://machinelearningmastery.com/how-to-develop-lstm-models-for-time-series-forecasting/"
      ]
    },
    {
      "metadata": {
        "id": "qg63cDunD4s4",
        "colab_type": "text"
      },
      "cell_type": "markdown",
      "source": [
        "## Univariate Sequences\n",
        "\n",
        "just one variable per time step"
      ]
    },
    {
      "metadata": {
        "id": "RB7EfRrWDJE0",
        "colab_type": "code",
        "colab": {}
      },
      "cell_type": "code",
      "source": [
        "# univariate data preparation\n",
        "import numpy as np\n",
        "\n",
        "# split a univariate sequence into samples\n",
        "def split_sequence(sequence, n_steps):\n",
        "\tX, y = list(), list()\n",
        "\tfor i in range(len(sequence)):\n",
        "\t\t# find the end of this pattern\n",
        "\t\tend_ix = i + n_steps\n",
        "\t\t# check if we are beyond the sequence\n",
        "\t\tif end_ix > len(sequence)-1:\n",
        "\t\t\tbreak\n",
        "\t\t# gather input and output parts of the pattern\n",
        "\t\tseq_x, seq_y = sequence[i:end_ix], sequence[end_ix]\n",
        "\t\tX.append(seq_x)\n",
        "\t\ty.append(seq_y)\n",
        "\treturn np.array(X), np.array(y)"
      ],
      "execution_count": 0,
      "outputs": []
    },
    {
      "metadata": {
        "id": "PSbObY6YEWhh",
        "colab_type": "code",
        "colab": {
          "base_uri": "https://localhost:8080/",
          "height": 121
        },
        "outputId": "740a92a8-c5e0-4742-fa7e-4be13ed4c91c"
      },
      "cell_type": "code",
      "source": [
        "# define input sequence\n",
        "raw_seq = [10, 20, 30, 40, 50, 60, 70, 80, 90]\n",
        "\n",
        "# choose a number of time steps\n",
        "n_steps = 3\n",
        "\n",
        "# split into samples\n",
        "X, y = split_sequence(raw_seq, n_steps)\n",
        "\n",
        "# summarize the data\n",
        "list(zip(X, y))"
      ],
      "execution_count": 2,
      "outputs": [
        {
          "output_type": "execute_result",
          "data": {
            "text/plain": [
              "[(array([10, 20, 30]), 40),\n",
              " (array([20, 30, 40]), 50),\n",
              " (array([30, 40, 50]), 60),\n",
              " (array([40, 50, 60]), 70),\n",
              " (array([50, 60, 70]), 80),\n",
              " (array([60, 70, 80]), 90)]"
            ]
          },
          "metadata": {
            "tags": []
          },
          "execution_count": 2
        }
      ]
    },
    {
      "metadata": {
        "id": "yqgEV0kyF8Q6",
        "colab_type": "code",
        "colab": {
          "base_uri": "https://localhost:8080/",
          "height": 121
        },
        "outputId": "81783ff8-40a9-42c2-c64b-70a3a1ce7920"
      },
      "cell_type": "code",
      "source": [
        "X"
      ],
      "execution_count": 3,
      "outputs": [
        {
          "output_type": "execute_result",
          "data": {
            "text/plain": [
              "array([[10, 20, 30],\n",
              "       [20, 30, 40],\n",
              "       [30, 40, 50],\n",
              "       [40, 50, 60],\n",
              "       [50, 60, 70],\n",
              "       [60, 70, 80]])"
            ]
          },
          "metadata": {
            "tags": []
          },
          "execution_count": 3
        }
      ]
    },
    {
      "metadata": {
        "id": "HUpCkSRqFzZK",
        "colab_type": "code",
        "colab": {
          "base_uri": "https://localhost:8080/",
          "height": 415
        },
        "outputId": "33c87c6c-2816-4432-ff9c-454853f0d480"
      },
      "cell_type": "code",
      "source": [
        "# reshape from [samples, timesteps] into [samples, timesteps, features]\n",
        "n_features = 1\n",
        "X = X.reshape((X.shape[0], X.shape[1], n_features))\n",
        "X"
      ],
      "execution_count": 4,
      "outputs": [
        {
          "output_type": "execute_result",
          "data": {
            "text/plain": [
              "array([[[10],\n",
              "        [20],\n",
              "        [30]],\n",
              "\n",
              "       [[20],\n",
              "        [30],\n",
              "        [40]],\n",
              "\n",
              "       [[30],\n",
              "        [40],\n",
              "        [50]],\n",
              "\n",
              "       [[40],\n",
              "        [50],\n",
              "        [60]],\n",
              "\n",
              "       [[50],\n",
              "        [60],\n",
              "        [70]],\n",
              "\n",
              "       [[60],\n",
              "        [70],\n",
              "        [80]]])"
            ]
          },
          "metadata": {
            "tags": []
          },
          "execution_count": 4
        }
      ]
    },
    {
      "metadata": {
        "id": "UCAbYYgLDmzh",
        "colab_type": "code",
        "colab": {}
      },
      "cell_type": "code",
      "source": [
        "import tensorflow as tf\n",
        "from tensorflow import keras\n",
        "from tensorflow.keras.layers import Dense, LSTM, GRU, SimpleRNN\n",
        "from tensorflow.keras.models import Sequential, Model\n",
        "\n",
        "# define model\n",
        "model = Sequential()\n",
        "model.add(SimpleRNN(units=50, activation='relu', input_shape=(n_steps, n_features), name=\"RNN_Input\"))\n",
        "model.add(Dense(units=1, name=\"Linear_Output\"))\n",
        "model.compile(optimizer='adam', loss='mse')"
      ],
      "execution_count": 0,
      "outputs": []
    },
    {
      "metadata": {
        "id": "Yo1GD73MFfwW",
        "colab_type": "code",
        "colab": {
          "base_uri": "https://localhost:8080/",
          "height": 51
        },
        "outputId": "dcf493fa-d593-497a-91ca-5d402c996da1"
      },
      "cell_type": "code",
      "source": [
        "# fit model\n",
        "%time history = model.fit(X, y, epochs=500, verbose=0)"
      ],
      "execution_count": 90,
      "outputs": [
        {
          "output_type": "stream",
          "text": [
            "CPU times: user 1.05 s, sys: 101 ms, total: 1.15 s\n",
            "Wall time: 766 ms\n"
          ],
          "name": "stdout"
        }
      ]
    },
    {
      "metadata": {
        "id": "raJ0DsbqGZET",
        "colab_type": "code",
        "colab": {
          "base_uri": "https://localhost:8080/",
          "height": 364
        },
        "outputId": "f6020f49-0756-49b6-9eab-da562840f70e"
      },
      "cell_type": "code",
      "source": [
        "import matplotlib.pyplot as plt\n",
        "\n",
        "plt.plot(history.history['loss'])"
      ],
      "execution_count": 91,
      "outputs": [
        {
          "output_type": "execute_result",
          "data": {
            "text/plain": [
              "[<matplotlib.lines.Line2D at 0x7fb7f24ce208>]"
            ]
          },
          "metadata": {
            "tags": []
          },
          "execution_count": 91
        },
        {
          "output_type": "display_data",
          "data": {
            "image/png": "[encoded data removed]",
            "text/plain": [
              "<matplotlib.figure.Figure at 0x7fb7f2566d30>"
            ]
          },
          "metadata": {
            "tags": []
          }
        }
      ]
    },
    {
      "metadata": {
        "id": "2ryB1sVmGwok",
        "colab_type": "code",
        "colab": {
          "base_uri": "https://localhost:8080/",
          "height": 138
        },
        "outputId": "59683014-f768-4c1c-dd9a-bcd42d68ffe9"
      },
      "cell_type": "code",
      "source": [
        "# this does not look too bad\n",
        "X_sample = np.array([[10, 20, 30], [70, 80, 90]])\n",
        "X_sample = X_sample.reshape((X_sample.shape[0], X_sample.shape[1], n_features))\n",
        "X_sample"
      ],
      "execution_count": 92,
      "outputs": [
        {
          "output_type": "execute_result",
          "data": {
            "text/plain": [
              "array([[[10],\n",
              "        [20],\n",
              "        [30]],\n",
              "\n",
              "       [[70],\n",
              "        [80],\n",
              "        [90]]])"
            ]
          },
          "metadata": {
            "tags": []
          },
          "execution_count": 92
        }
      ]
    },
    {
      "metadata": {
        "id": "5mzPZ_OzIXR0",
        "colab_type": "code",
        "colab": {
          "base_uri": "https://localhost:8080/",
          "height": 51
        },
        "outputId": "34eb272d-7ad3-48e0-ea35-23ae93d50bc0"
      },
      "cell_type": "code",
      "source": [
        "y_pred = model.predict(X_sample)\n",
        "y_pred"
      ],
      "execution_count": 93,
      "outputs": [
        {
          "output_type": "execute_result",
          "data": {
            "text/plain": [
              "array([[ 39.937496],\n",
              "       [101.43572 ]], dtype=float32)"
            ]
          },
          "metadata": {
            "tags": []
          },
          "execution_count": 93
        }
      ]
    },
    {
      "metadata": {
        "id": "EXBe7ud3PLS-",
        "colab_type": "code",
        "colab": {}
      },
      "cell_type": "code",
      "source": [
        "def predict(model, samples, n_features=1):\n",
        "  input = np.array(samples)\n",
        "  input = input.reshape((input.shape[0], input.shape[1], n_features))\n",
        "  y_pred = model.predict(input)\n",
        "  return y_pred"
      ],
      "execution_count": 0,
      "outputs": []
    },
    {
      "metadata": {
        "id": "V4kWLPaNLMf0",
        "colab_type": "code",
        "colab": {
          "base_uri": "https://localhost:8080/",
          "height": 69
        },
        "outputId": "1b666b35-6022-4290-8fd9-0e4897b38c79"
      },
      "cell_type": "code",
      "source": [
        "# do not look too close, though\n",
        "predict(model, [[100, 110, 120], [200, 210, 220], [200, 300, 400]])"
      ],
      "execution_count": 95,
      "outputs": [
        {
          "output_type": "execute_result",
          "data": {
            "text/plain": [
              "array([[135.71469],\n",
              "       [249.89888],\n",
              "       [473.68497]], dtype=float32)"
            ]
          },
          "metadata": {
            "tags": []
          },
          "execution_count": 95
        }
      ]
    },
    {
      "metadata": {
        "id": "JaW6YtGrJkIa",
        "colab_type": "text"
      },
      "cell_type": "markdown",
      "source": [
        "### Multi Layer RNNs"
      ]
    },
    {
      "metadata": {
        "id": "uhevuHBxIsN3",
        "colab_type": "code",
        "colab": {
          "base_uri": "https://localhost:8080/",
          "height": 207
        },
        "outputId": "8f5f7592-e9f3-4294-9eac-897bdff2d881"
      },
      "cell_type": "code",
      "source": [
        "# what comes out of an RNN?\n",
        "rnn_layer = model.get_layer(\"RNN_Input\")\n",
        "model_stub = Model(inputs = model.input, outputs = rnn_layer.output)\n",
        "hidden = predict(model_stub, [[10, 20, 30]])\n",
        "hidden"
      ],
      "execution_count": 40,
      "outputs": [
        {
          "output_type": "execute_result",
          "data": {
            "text/plain": [
              "array([[ 8.492323 , 19.756756 ,  0.       , 11.27233  ,  0.       ,\n",
              "         0.       ,  3.3596334,  0.       ,  0.       ,  0.       ,\n",
              "         0.       ,  5.1300163,  0.       , 19.070362 ,  7.996299 ,\n",
              "        17.051601 ,  7.4673023, 10.232378 ,  0.       ,  0.       ,\n",
              "         9.2227955, 12.616403 ,  0.       ,  0.       ,  0.       ,\n",
              "        14.955908 ,  0.       ,  0.       ,  0.       ,  0.       ,\n",
              "        20.106274 ,  0.       ,  0.       ,  0.       ,  8.906113 ,\n",
              "        13.373091 ,  0.       ,  0.       ,  0.       ,  0.       ,\n",
              "         0.       ,  0.       ,  9.900894 ,  0.       ,  0.       ,\n",
              "         0.       ,  0.       ,  0.       ,  0.       ,  0.       ]],\n",
              "      dtype=float32)"
            ]
          },
          "metadata": {
            "tags": []
          },
          "execution_count": 40
        }
      ]
    },
    {
      "metadata": {
        "id": "NxXT0hFrQ6Hp",
        "colab_type": "text"
      },
      "cell_type": "markdown",
      "source": [
        "### What's the issue?\n",
        "* each unit (50) has a single output\n",
        "* as a sidenote you nicely see the RELU nature of the output\n",
        "* so the timesteps are lost\n",
        "* we are only looking at the final output\n",
        "* still with each timestep, the layer does produce a unique output we can use\n",
        "\n",
        "### We need to look into RNNs a bit more deeply now"
      ]
    },
    {
      "metadata": {
        "id": "3PBtxVF7Np1B",
        "colab_type": "code",
        "colab": {
          "base_uri": "https://localhost:8080/",
          "height": 173
        },
        "outputId": "477e11d0-461a-451a-c18d-b01bc3c44a21"
      },
      "cell_type": "code",
      "source": [
        "# https://arxiv.org/ftp/arxiv/papers/1701/1701.05923.pdf\n",
        "# n = output dimension\n",
        "# m = input dimension\n",
        "# Total number of parameters for \n",
        "# RNN = n**2 + nm + n\n",
        "# GRU = 3 × (n**2 + nm + n)\n",
        "# LSTM = 4 × (n**2 + nm + n)\n",
        "\n",
        "rnn_units = 1\n",
        "\n",
        "model = Sequential()\n",
        "model.add(SimpleRNN(units=rnn_units, activation='relu', input_shape=(n_steps, n_features), name=\"RNN_Input\"))\n",
        "# model.add(GRU(units=rnn_units, activation='relu', input_shape=(n_steps, n_features), name=\"RNN_Input\"))\n",
        "model.summary()"
      ],
      "execution_count": 97,
      "outputs": [
        {
          "output_type": "stream",
          "text": [
            "_________________________________________________________________\n",
            "Layer (type)                 Output Shape              Param #   \n",
            "=================================================================\n",
            "RNN_Input (SimpleRNN)        (None, 1)                 3         \n",
            "=================================================================\n",
            "Total params: 3\n",
            "Trainable params: 3\n",
            "Non-trainable params: 0\n",
            "_________________________________________________________________\n"
          ],
          "name": "stdout"
        }
      ]
    },
    {
      "metadata": {
        "id": "2ncdn2LHRS5_",
        "colab_type": "code",
        "colab": {
          "base_uri": "https://localhost:8080/",
          "height": 34
        },
        "outputId": "81486e9d-7e74-48e5-c3df-28c60719a0f5"
      },
      "cell_type": "code",
      "source": [
        "output_dimension = rnn_units\n",
        "input_dimension = n_features\n",
        "parameters = 1 * (output_dimension ** 2 +  output_dimension * input_dimension + output_dimension) \n",
        "parameters"
      ],
      "execution_count": 98,
      "outputs": [
        {
          "output_type": "execute_result",
          "data": {
            "text/plain": [
              "3"
            ]
          },
          "metadata": {
            "tags": []
          },
          "execution_count": 98
        }
      ]
    },
    {
      "metadata": {
        "id": "edALlkf0Vhdj",
        "colab_type": "code",
        "colab": {
          "base_uri": "https://localhost:8080/",
          "height": 34
        },
        "outputId": "52ee27a4-6b1e-4804-b3e1-9b3ca672c6d8"
      },
      "cell_type": "code",
      "source": [
        "# from only a single output for the final timestep\n",
        "# ideal for feeding into something that *does not* handle timesteps\n",
        "rnn_units = 1\n",
        "model = Sequential([\n",
        "    SimpleRNN(units=rnn_units, activation='relu', input_shape=(n_steps, n_features))\n",
        "])\n",
        "predict(model, [[10, 20, 30]])"
      ],
      "execution_count": 100,
      "outputs": [
        {
          "output_type": "execute_result",
          "data": {
            "text/plain": [
              "array([[10.602767]], dtype=float32)"
            ]
          },
          "metadata": {
            "tags": []
          },
          "execution_count": 100
        }
      ]
    },
    {
      "metadata": {
        "id": "Fyy6tY6iS9aG",
        "colab_type": "code",
        "colab": {
          "base_uri": "https://localhost:8080/",
          "height": 69
        },
        "outputId": "8a24b057-267b-4784-97f0-ece9bd9d70f8"
      },
      "cell_type": "code",
      "source": [
        "# to one output for each timestep\n",
        "# ideal for feeding into something that *expects* timesteps\n",
        "rnn_units = 1\n",
        "model = Sequential([\n",
        "    SimpleRNN(units=rnn_units, activation='relu', input_shape=(n_steps, n_features), return_sequences=True)\n",
        "])\n",
        "predict(model, [[10, 20, 30]])"
      ],
      "execution_count": 101,
      "outputs": [
        {
          "output_type": "execute_result",
          "data": {
            "text/plain": [
              "array([[[ 4.0461884],\n",
              "        [12.138565 ],\n",
              "        [24.27713  ]]], dtype=float32)"
            ]
          },
          "metadata": {
            "tags": []
          },
          "execution_count": 101
        }
      ]
    },
    {
      "metadata": {
        "id": "2F2BARiZVKcZ",
        "colab_type": "code",
        "colab": {}
      },
      "cell_type": "code",
      "source": [
        ""
      ],
      "execution_count": 0,
      "outputs": []
    }
  ]
}