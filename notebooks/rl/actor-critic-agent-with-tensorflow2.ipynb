{
  "nbformat": 4,
  "nbformat_minor": 0,
  "metadata": {
    "colab": {
      "name": "actor-critic-agent-with-tensorflow2.ipynb",
      "version": "0.3.2",
      "provenance": [],
      "include_colab_link": true
    },
    "kernelspec": {
      "name": "python3",
      "display_name": "Python 3"
    },
    "accelerator": "GPU"
  },
  "cells": [
    {
      "cell_type": "markdown",
      "metadata": {
        "id": "view-in-github",
        "colab_type": "text"
      },
      "source": [
        "<a href=\"https://colab.research.google.com/github/DJCordhose/ai/blob/master/notebooks/rl/actor-critic-agent-with-tensorflow2.ipynb\" target=\"_parent\"><img src=\"https://colab.research.google.com/assets/colab-badge.svg\" alt=\"Open In Colab\"/></a>"
      ]
    },
    {
      "metadata": {
        "id": "6J4MJARQUTKt",
        "colab_type": "text"
      },
      "cell_type": "markdown",
      "source": [
        "# Deep Reinforcement Learning with TensorFlow 2.0\n",
        "\n",
        "## Based on Code by Roman Ring: http://inoryy.com/post/tensorflow2-deep-reinforcement-learning/\n",
        "\n",
        "## Notebook forked from: https://github.com/inoryy/tensorflow2-deep-reinforcement-learning/blob/master/actor-critic-agent-with-tensorflow2.ipynb\n",
        "\n",
        "changes:\n",
        "* GPU support enabled\n",
        "* removed parts used for TF 2.0 experiments"
      ]
    },
    {
      "metadata": {
        "id": "7wOCpRv_UPs1",
        "colab_type": "text"
      },
      "cell_type": "markdown",
      "source": [
        "# Setup"
      ]
    },
    {
      "metadata": {
        "id": "kAbw7rSqUl3C",
        "colab_type": "code",
        "colab": {
          "base_uri": "https://localhost:8080/",
          "height": 340
        },
        "outputId": "8ce1e2d8-03e7-472a-fda4-0ddf21b326c0"
      },
      "cell_type": "code",
      "source": [
        "!pip install tf-nightly-2.0-preview"
      ],
      "execution_count": 20,
      "outputs": [
        {
          "output_type": "stream",
          "text": [
            "Requirement already satisfied: tf-nightly-2.0-preview in /usr/local/lib/python3.6/dist-packages (2.0.0.dev20190201)\n",
            "Requirement already satisfied: absl-py>=0.1.6 in /usr/local/lib/python3.6/dist-packages (from tf-nightly-2.0-preview) (0.7.0)\n",
            "Requirement already satisfied: protobuf>=3.6.1 in /usr/local/lib/python3.6/dist-packages (from tf-nightly-2.0-preview) (3.6.1)\n",
            "Requirement already satisfied: tensorflow-estimator-2.0-preview in /usr/local/lib/python3.6/dist-packages (from tf-nightly-2.0-preview) (1.13.0.dev2019012800)\n",
            "Requirement already satisfied: termcolor>=1.1.0 in /usr/local/lib/python3.6/dist-packages (from tf-nightly-2.0-preview) (1.1.0)\n",
            "Requirement already satisfied: grpcio>=1.8.6 in /usr/local/lib/python3.6/dist-packages (from tf-nightly-2.0-preview) (1.15.0)\n",
            "Requirement already satisfied: astor>=0.6.0 in /usr/local/lib/python3.6/dist-packages (from tf-nightly-2.0-preview) (0.7.1)\n",
            "Requirement already satisfied: gast>=0.2.0 in /usr/local/lib/python3.6/dist-packages (from tf-nightly-2.0-preview) (0.2.2)\n",
            "Requirement already satisfied: keras-preprocessing>=1.0.5 in /usr/local/lib/python3.6/dist-packages (from tf-nightly-2.0-preview) (1.0.5)\n",
            "Requirement already satisfied: six>=1.10.0 in /usr/local/lib/python3.6/dist-packages (from tf-nightly-2.0-preview) (1.11.0)\n",
            "Requirement already satisfied: keras-applications>=1.0.6 in /usr/local/lib/python3.6/dist-packages (from tf-nightly-2.0-preview) (1.0.6)\n",
            "Requirement already satisfied: numpy<2.0,>=1.14.5 in /usr/local/lib/python3.6/dist-packages (from tf-nightly-2.0-preview) (1.14.6)\n",
            "Requirement already satisfied: google-pasta>=0.1.1 in /usr/local/lib/python3.6/dist-packages (from tf-nightly-2.0-preview) (0.1.1)\n",
            "Requirement already satisfied: wheel>=0.26 in /usr/local/lib/python3.6/dist-packages (from tf-nightly-2.0-preview) (0.32.3)\n",
            "Requirement already satisfied: tb-nightly<1.14.0a0,>=1.13.0a0 in /usr/local/lib/python3.6/dist-packages (from tf-nightly-2.0-preview) (1.13.0a20190131)\n",
            "Requirement already satisfied: setuptools in /usr/local/lib/python3.6/dist-packages (from protobuf>=3.6.1->tf-nightly-2.0-preview) (40.7.0)\n",
            "Requirement already satisfied: h5py in /usr/local/lib/python3.6/dist-packages (from keras-applications>=1.0.6->tf-nightly-2.0-preview) (2.8.0)\n",
            "Requirement already satisfied: werkzeug>=0.11.15 in /usr/local/lib/python3.6/dist-packages (from tb-nightly<1.14.0a0,>=1.13.0a0->tf-nightly-2.0-preview) (0.14.1)\n",
            "Requirement already satisfied: markdown>=2.6.8 in /usr/local/lib/python3.6/dist-packages (from tb-nightly<1.14.0a0,>=1.13.0a0->tf-nightly-2.0-preview) (3.0.1)\n"
          ],
          "name": "stdout"
        }
      ]
    },
    {
      "metadata": {
        "id": "BGOvHiTZUPs3",
        "colab_type": "code",
        "colab": {}
      },
      "cell_type": "code",
      "source": [
        "import gym\n",
        "import logging\n",
        "import numpy as np\n",
        "import tensorflow as tf\n",
        "import tensorflow.keras.layers as kl\n",
        "import tensorflow.keras.losses as kls\n",
        "import tensorflow.keras.optimizers as ko"
      ],
      "execution_count": 0,
      "outputs": []
    },
    {
      "metadata": {
        "id": "ldnJkKUzUPs5",
        "colab_type": "code",
        "colab": {}
      },
      "cell_type": "code",
      "source": [
        "import matplotlib\n",
        "import matplotlib.pyplot as plt\n",
        "%matplotlib inline  "
      ],
      "execution_count": 0,
      "outputs": []
    },
    {
      "metadata": {
        "id": "gySqQGJUUPs8",
        "colab_type": "code",
        "colab": {
          "base_uri": "https://localhost:8080/",
          "height": 51
        },
        "outputId": "1d4f79e3-2ef1-47c6-8298-377fb7d1d377"
      },
      "cell_type": "code",
      "source": [
        "print(\"TensorFlow Ver: \", tf.__version__)\n",
        "print(\"Eager Execution:\", tf.executing_eagerly())"
      ],
      "execution_count": 4,
      "outputs": [
        {
          "output_type": "stream",
          "text": [
            "TensorFlow Ver:  2.0.0-dev20190201\n",
            "Eager Execution: True\n"
          ],
          "name": "stdout"
        }
      ]
    },
    {
      "metadata": {
        "id": "FIoJl7CWUPtA",
        "colab_type": "code",
        "colab": {
          "base_uri": "https://localhost:8080/",
          "height": 34
        },
        "outputId": "68ead770-e106-41ff-a0e2-24d69cd82643"
      },
      "cell_type": "code",
      "source": [
        "# eager by default!\n",
        "print(\"1 + 2 + 3 + 4 + 5 =\", tf.reduce_sum([1, 2, 3, 4, 5]))"
      ],
      "execution_count": 5,
      "outputs": [
        {
          "output_type": "stream",
          "text": [
            "1 + 2 + 3 + 4 + 5 = tf.Tensor(15, shape=(), dtype=int32)\n"
          ],
          "name": "stdout"
        }
      ]
    },
    {
      "metadata": {
        "id": "DZmTIluGUPtD",
        "colab_type": "text"
      },
      "cell_type": "markdown",
      "source": [
        "# Advantage Actor-Critic with TensorFlow 2.0"
      ]
    },
    {
      "metadata": {
        "id": "cHnjWGg-UPtD",
        "colab_type": "text"
      },
      "cell_type": "markdown",
      "source": [
        "## Policy & Value Model Class"
      ]
    },
    {
      "metadata": {
        "id": "q4aKKqZHUPtE",
        "colab_type": "code",
        "colab": {}
      },
      "cell_type": "code",
      "source": [
        "class ProbabilityDistribution(tf.keras.Model):\n",
        "    def call(self, logits):\n",
        "        # sample a random categorical action from given logits\n",
        "        return tf.squeeze(tf.random.categorical(logits, 1), axis=-1)\n",
        "\n",
        "class Model(tf.keras.Model):\n",
        "    def __init__(self, num_actions):\n",
        "        super().__init__('mlp_policy')\n",
        "        # no tf.get_variable(), just simple Keras API\n",
        "        self.hidden1 = kl.Dense(128, activation='relu')\n",
        "        self.hidden2 = kl.Dense(128, activation='relu')\n",
        "        self.value = kl.Dense(1, name='value')\n",
        "        # logits are unnormalized log probabilities\n",
        "        self.logits = kl.Dense(num_actions, name='policy_logits')\n",
        "        self.dist = ProbabilityDistribution()\n",
        "\n",
        "    def call(self, inputs):\n",
        "        # inputs is a numpy array, convert to Tensor\n",
        "        x = tf.convert_to_tensor(inputs)\n",
        "        # separate hidden layers from the same input tensor\n",
        "        hidden_logs = self.hidden1(x)\n",
        "        hidden_vals = self.hidden2(x)\n",
        "        return self.logits(hidden_logs), self.value(hidden_vals)\n",
        "\n",
        "    def action_value(self, obs):\n",
        "        # executes call() under the hood\n",
        "        logits, value = self.predict(obs)\n",
        "        action = self.dist.predict(logits)\n",
        "        # a simpler option, will become clear later why we don't use it\n",
        "        # action = tf.random.categorical(logits, 1)\n",
        "        return np.squeeze(action, axis=-1), np.squeeze(value, axis=-1)"
      ],
      "execution_count": 0,
      "outputs": []
    },
    {
      "metadata": {
        "id": "H-h433rUUPtG",
        "colab_type": "text"
      },
      "cell_type": "markdown",
      "source": [
        "## Advantage Actor-Critic Agent Class"
      ]
    },
    {
      "metadata": {
        "id": "UGNdq61jUPtH",
        "colab_type": "code",
        "colab": {}
      },
      "cell_type": "code",
      "source": [
        "class A2CAgent:\n",
        "    def __init__(self, model):\n",
        "        # hyperparameters for loss terms, gamma is the discount coefficient\n",
        "        self.params = {\n",
        "            'gamma': 0.99,\n",
        "            'value': 0.5,\n",
        "            'entropy': 0.0001\n",
        "        }\n",
        "        self.model = model\n",
        "        self.model.compile(\n",
        "            optimizer=ko.RMSprop(lr=0.0007),\n",
        "            # define separate losses for policy logits and value estimate\n",
        "            loss=[self._logits_loss, self._value_loss]\n",
        "        )\n",
        "    \n",
        "    def train(self, env, batch_sz=32, updates=1000):\n",
        "        # storage helpers for a single batch of data\n",
        "        actions = np.empty((batch_sz,), dtype=np.int32)\n",
        "        rewards, dones, values = np.empty((3, batch_sz))\n",
        "        observations = np.empty((batch_sz,) + env.observation_space.shape)\n",
        "        # training loop: collect samples, send to optimizer, repeat updates times\n",
        "        ep_rews = [0.0]\n",
        "        next_obs = env.reset()\n",
        "        for update in range(updates):\n",
        "            for step in range(batch_sz):\n",
        "                observations[step] = next_obs.copy()\n",
        "                actions[step], values[step] = self.model.action_value(next_obs[None, :])\n",
        "                next_obs, rewards[step], dones[step], _ = env.step(actions[step])\n",
        "\n",
        "                ep_rews[-1] += rewards[step]\n",
        "                if dones[step]:\n",
        "                    ep_rews.append(0.0)\n",
        "                    next_obs = env.reset()\n",
        "                    logging.info(\"Episode: %03d, Reward: %03d\" % (len(ep_rews)-1, ep_rews[-2]))\n",
        "\n",
        "            _, next_value = self.model.action_value(next_obs[None, :])\n",
        "            returns, advs = self._returns_advantages(rewards, dones, values, next_value)\n",
        "            # a trick to input actions and advantages through same API\n",
        "            acts_and_advs = np.concatenate([actions[:, None], advs[:, None]], axis=-1)\n",
        "            # performs a full training step on the collected batch\n",
        "            # note: no need to mess around with gradients, Keras API handles it\n",
        "            losses = self.model.train_on_batch(observations, [acts_and_advs, returns])\n",
        "            logging.debug(\"[%d/%d] Losses: %s\" % (update+1, updates, losses))\n",
        "        return ep_rews\n",
        "\n",
        "    def test(self, env, render=False):\n",
        "        obs, done, ep_reward = env.reset(), False, 0\n",
        "        while not done:\n",
        "            action, _ = self.model.action_value(obs[None, :])\n",
        "            obs, reward, done, _ = env.step(action)\n",
        "            ep_reward += reward\n",
        "            if render:\n",
        "                env.render()\n",
        "        return ep_reward\n",
        "\n",
        "    def _returns_advantages(self, rewards, dones, values, next_value):\n",
        "        # next_value is the bootstrap value estimate of a future state (the critic)\n",
        "        returns = np.append(np.zeros_like(rewards), next_value, axis=-1)\n",
        "        # returns are calculated as discounted sum of future rewards\n",
        "        for t in reversed(range(rewards.shape[0])):\n",
        "            returns[t] = rewards[t] + self.params['gamma'] * returns[t+1] * (1-dones[t])\n",
        "        returns = returns[:-1]\n",
        "        # advantages are returns - baseline, value estimates in our case\n",
        "        advantages = returns - values\n",
        "        return returns, advantages\n",
        "    \n",
        "    def _value_loss(self, returns, value):\n",
        "        # value loss is typically MSE between value estimates and returns\n",
        "        return self.params['value']*kls.mean_squared_error(returns, value)\n",
        "\n",
        "    def _logits_loss(self, acts_and_advs, logits):\n",
        "        # a trick to input actions and advantages through same API\n",
        "        actions, advantages = tf.split(acts_and_advs, 2, axis=-1)\n",
        "        # sparse categorical CE loss obj that supports sample_weight arg on call()\n",
        "        # from_logits argument ensures transformation into normalized probabilities\n",
        "        weighted_sparse_ce = kls.SparseCategoricalCrossentropy(from_logits=True)\n",
        "        # policy loss is defined by policy gradients, weighted by advantages\n",
        "        # note: we only calculate the loss on the actions we've actually taken\n",
        "        actions = tf.cast(actions, tf.int32)\n",
        "        policy_loss = weighted_sparse_ce(actions, logits, sample_weight=advantages)\n",
        "        # entropy loss can be calculated via CE over itself\n",
        "        entropy_loss = kls.categorical_crossentropy(logits, logits, from_logits=True)\n",
        "        # here signs are flipped because optimizer minimizes\n",
        "        return policy_loss - self.params['entropy']*entropy_loss"
      ],
      "execution_count": 0,
      "outputs": []
    },
    {
      "metadata": {
        "id": "wlmic8RRUPtI",
        "colab_type": "code",
        "colab": {
          "base_uri": "https://localhost:8080/",
          "height": 68
        },
        "outputId": "8114d3d1-eb2c-40a6-e3b9-aa2fccb64c45"
      },
      "cell_type": "code",
      "source": [
        "env = gym.make('CartPole-v0')\n",
        "model = Model(num_actions=env.action_space.n)\n",
        "model.action_value(env.reset()[None, :])"
      ],
      "execution_count": 8,
      "outputs": [
        {
          "output_type": "stream",
          "text": [
            "/usr/local/lib/python3.6/dist-packages/gym/envs/registration.py:14: PkgResourcesDeprecationWarning: Parameters to load are deprecated.  Call .resolve and .require separately.\n",
            "  result = entry_point.load(False)\n"
          ],
          "name": "stderr"
        },
        {
          "output_type": "execute_result",
          "data": {
            "text/plain": [
              "(array(0), array([0.0052868], dtype=float32))"
            ]
          },
          "metadata": {
            "tags": []
          },
          "execution_count": 8
        }
      ]
    },
    {
      "metadata": {
        "id": "8mTDcU74UPtL",
        "colab_type": "text"
      },
      "cell_type": "markdown",
      "source": [
        "# Training A2C Agent & Results"
      ]
    },
    {
      "metadata": {
        "id": "R8l4XOrXUPtL",
        "colab_type": "code",
        "colab": {
          "base_uri": "https://localhost:8080/",
          "height": 51
        },
        "outputId": "e13d39d7-fdcf-41f3-e8aa-a093654d366c"
      },
      "cell_type": "code",
      "source": [
        "env = gym.make('CartPole-v0')\n",
        "model = Model(num_actions=env.action_space.n)\n",
        "agent = A2CAgent(model)"
      ],
      "execution_count": 9,
      "outputs": [
        {
          "output_type": "stream",
          "text": [
            "/usr/local/lib/python3.6/dist-packages/gym/envs/registration.py:14: PkgResourcesDeprecationWarning: Parameters to load are deprecated.  Call .resolve and .require separately.\n",
            "  result = entry_point.load(False)\n"
          ],
          "name": "stderr"
        }
      ]
    },
    {
      "metadata": {
        "id": "Djcv0MHpUPtO",
        "colab_type": "text"
      },
      "cell_type": "markdown",
      "source": [
        "## Testing with Random Weights"
      ]
    },
    {
      "metadata": {
        "id": "L2IEFa_8UPtO",
        "colab_type": "code",
        "colab": {
          "base_uri": "https://localhost:8080/",
          "height": 34
        },
        "outputId": "2aaf2346-17ff-47a3-81ce-ae2914ad3f58"
      },
      "cell_type": "code",
      "source": [
        "rewards_sum = agent.test(env)\n",
        "print(\"Total Episode Reward: %d out of 200\" % agent.test(env))"
      ],
      "execution_count": 10,
      "outputs": [
        {
          "output_type": "stream",
          "text": [
            "Total Episode Reward: 22 out of 200\n"
          ],
          "name": "stdout"
        }
      ]
    },
    {
      "metadata": {
        "id": "bclsiW9CUPtQ",
        "colab_type": "code",
        "colab": {
          "base_uri": "https://localhost:8080/",
          "height": 6715
        },
        "outputId": "fcdaba2a-d592-4da4-980b-465dbac4353d"
      },
      "cell_type": "code",
      "source": [
        "# set to logging.WARNING to disable logs or logging.DEBUG to see losses as well\n",
        "logging.getLogger().setLevel(logging.INFO)\n",
        "\n",
        "rewards_history = agent.train(env)\n",
        "print(\"Finished training.\")"
      ],
      "execution_count": 11,
      "outputs": [
        {
          "output_type": "stream",
          "text": [
            "WARNING: Logging before flag parsing goes to stderr.\n",
            "I0201 09:11:08.414683 140054133258112 <ipython-input-7-ca35cd767901>:34] Episode: 001, Reward: 015\n",
            "I0201 09:11:08.445448 140054133258112 <ipython-input-7-ca35cd767901>:34] Episode: 002, Reward: 013\n",
            "I0201 09:11:09.783430 140054133258112 <ipython-input-7-ca35cd767901>:34] Episode: 003, Reward: 035\n",
            "I0201 09:11:09.855250 140054133258112 <ipython-input-7-ca35cd767901>:34] Episode: 004, Reward: 032\n",
            "I0201 09:11:09.907277 140054133258112 <ipython-input-7-ca35cd767901>:34] Episode: 005, Reward: 023\n",
            "I0201 09:11:10.099793 140054133258112 <ipython-input-7-ca35cd767901>:34] Episode: 006, Reward: 092\n",
            "I0201 09:11:10.170708 140054133258112 <ipython-input-7-ca35cd767901>:34] Episode: 007, Reward: 032\n",
            "I0201 09:11:10.207971 140054133258112 <ipython-input-7-ca35cd767901>:34] Episode: 008, Reward: 016\n",
            "I0201 09:11:10.374337 140054133258112 <ipython-input-7-ca35cd767901>:34] Episode: 009, Reward: 082\n",
            "I0201 09:11:10.422580 140054133258112 <ipython-input-7-ca35cd767901>:34] Episode: 010, Reward: 020\n",
            "I0201 09:11:10.448165 140054133258112 <ipython-input-7-ca35cd767901>:34] Episode: 011, Reward: 011\n",
            "I0201 09:11:10.493288 140054133258112 <ipython-input-7-ca35cd767901>:34] Episode: 012, Reward: 018\n",
            "I0201 09:11:10.538242 140054133258112 <ipython-input-7-ca35cd767901>:34] Episode: 013, Reward: 022\n",
            "I0201 09:11:10.633609 140054133258112 <ipython-input-7-ca35cd767901>:34] Episode: 014, Reward: 045\n",
            "I0201 09:11:10.690348 140054133258112 <ipython-input-7-ca35cd767901>:34] Episode: 015, Reward: 025\n",
            "I0201 09:11:10.740724 140054133258112 <ipython-input-7-ca35cd767901>:34] Episode: 016, Reward: 025\n",
            "I0201 09:11:10.794867 140054133258112 <ipython-input-7-ca35cd767901>:34] Episode: 017, Reward: 025\n",
            "I0201 09:11:10.834460 140054133258112 <ipython-input-7-ca35cd767901>:34] Episode: 018, Reward: 017\n",
            "I0201 09:11:10.887042 140054133258112 <ipython-input-7-ca35cd767901>:34] Episode: 019, Reward: 024\n",
            "I0201 09:11:10.957834 140054133258112 <ipython-input-7-ca35cd767901>:34] Episode: 020, Reward: 032\n",
            "I0201 09:11:11.017663 140054133258112 <ipython-input-7-ca35cd767901>:34] Episode: 021, Reward: 027\n",
            "I0201 09:11:11.064761 140054133258112 <ipython-input-7-ca35cd767901>:34] Episode: 022, Reward: 021\n",
            "I0201 09:11:11.167564 140054133258112 <ipython-input-7-ca35cd767901>:34] Episode: 023, Reward: 046\n",
            "I0201 09:11:11.221434 140054133258112 <ipython-input-7-ca35cd767901>:34] Episode: 024, Reward: 024\n",
            "I0201 09:11:11.281326 140054133258112 <ipython-input-7-ca35cd767901>:34] Episode: 025, Reward: 028\n",
            "I0201 09:11:11.361460 140054133258112 <ipython-input-7-ca35cd767901>:34] Episode: 026, Reward: 036\n",
            "I0201 09:11:11.439652 140054133258112 <ipython-input-7-ca35cd767901>:34] Episode: 027, Reward: 037\n",
            "I0201 09:11:11.528459 140054133258112 <ipython-input-7-ca35cd767901>:34] Episode: 028, Reward: 040\n",
            "I0201 09:11:11.683449 140054133258112 <ipython-input-7-ca35cd767901>:34] Episode: 029, Reward: 076\n",
            "I0201 09:11:11.755250 140054133258112 <ipython-input-7-ca35cd767901>:34] Episode: 030, Reward: 034\n",
            "I0201 09:11:11.783441 140054133258112 <ipython-input-7-ca35cd767901>:34] Episode: 031, Reward: 013\n",
            "I0201 09:11:11.882980 140054133258112 <ipython-input-7-ca35cd767901>:34] Episode: 032, Reward: 046\n",
            "I0201 09:11:11.924010 140054133258112 <ipython-input-7-ca35cd767901>:34] Episode: 033, Reward: 019\n",
            "I0201 09:11:11.959059 140054133258112 <ipython-input-7-ca35cd767901>:34] Episode: 034, Reward: 014\n",
            "I0201 09:11:12.056032 140054133258112 <ipython-input-7-ca35cd767901>:34] Episode: 035, Reward: 046\n",
            "I0201 09:11:12.091999 140054133258112 <ipython-input-7-ca35cd767901>:34] Episode: 036, Reward: 015\n",
            "I0201 09:11:12.130856 140054133258112 <ipython-input-7-ca35cd767901>:34] Episode: 037, Reward: 018\n",
            "I0201 09:11:12.187083 140054133258112 <ipython-input-7-ca35cd767901>:34] Episode: 038, Reward: 023\n",
            "I0201 09:11:12.253870 140054133258112 <ipython-input-7-ca35cd767901>:34] Episode: 039, Reward: 029\n",
            "I0201 09:11:12.309599 140054133258112 <ipython-input-7-ca35cd767901>:34] Episode: 040, Reward: 025\n",
            "I0201 09:11:12.359154 140054133258112 <ipython-input-7-ca35cd767901>:34] Episode: 041, Reward: 023\n",
            "I0201 09:11:12.430863 140054133258112 <ipython-input-7-ca35cd767901>:34] Episode: 042, Reward: 034\n",
            "I0201 09:11:12.499477 140054133258112 <ipython-input-7-ca35cd767901>:34] Episode: 043, Reward: 029\n",
            "I0201 09:11:12.539139 140054133258112 <ipython-input-7-ca35cd767901>:34] Episode: 044, Reward: 013\n",
            "I0201 09:11:12.590632 140054133258112 <ipython-input-7-ca35cd767901>:34] Episode: 045, Reward: 024\n",
            "I0201 09:11:12.724776 140054133258112 <ipython-input-7-ca35cd767901>:34] Episode: 046, Reward: 063\n",
            "I0201 09:11:12.872060 140054133258112 <ipython-input-7-ca35cd767901>:34] Episode: 047, Reward: 074\n",
            "I0201 09:11:13.008353 140054133258112 <ipython-input-7-ca35cd767901>:34] Episode: 048, Reward: 066\n",
            "I0201 09:11:13.036865 140054133258112 <ipython-input-7-ca35cd767901>:34] Episode: 049, Reward: 013\n",
            "I0201 09:11:13.083000 140054133258112 <ipython-input-7-ca35cd767901>:34] Episode: 050, Reward: 020\n",
            "I0201 09:11:13.166506 140054133258112 <ipython-input-7-ca35cd767901>:34] Episode: 051, Reward: 041\n",
            "I0201 09:11:13.204511 140054133258112 <ipython-input-7-ca35cd767901>:34] Episode: 052, Reward: 015\n",
            "I0201 09:11:13.280764 140054133258112 <ipython-input-7-ca35cd767901>:34] Episode: 053, Reward: 036\n",
            "I0201 09:11:13.356952 140054133258112 <ipython-input-7-ca35cd767901>:34] Episode: 054, Reward: 036\n",
            "I0201 09:11:13.399058 140054133258112 <ipython-input-7-ca35cd767901>:34] Episode: 055, Reward: 020\n",
            "I0201 09:11:13.483340 140054133258112 <ipython-input-7-ca35cd767901>:34] Episode: 056, Reward: 039\n",
            "I0201 09:11:13.596534 140054133258112 <ipython-input-7-ca35cd767901>:34] Episode: 057, Reward: 054\n",
            "I0201 09:11:13.643010 140054133258112 <ipython-input-7-ca35cd767901>:34] Episode: 058, Reward: 021\n",
            "I0201 09:11:13.711214 140054133258112 <ipython-input-7-ca35cd767901>:34] Episode: 059, Reward: 022\n",
            "I0201 09:11:13.734321 140054133258112 <ipython-input-7-ca35cd767901>:34] Episode: 060, Reward: 010\n",
            "I0201 09:11:13.796250 140054133258112 <ipython-input-7-ca35cd767901>:34] Episode: 061, Reward: 028\n",
            "I0201 09:11:13.833844 140054133258112 <ipython-input-7-ca35cd767901>:34] Episode: 062, Reward: 018\n",
            "I0201 09:11:13.901873 140054133258112 <ipython-input-7-ca35cd767901>:34] Episode: 063, Reward: 032\n",
            "I0201 09:11:13.933857 140054133258112 <ipython-input-7-ca35cd767901>:34] Episode: 064, Reward: 013\n",
            "I0201 09:11:13.964450 140054133258112 <ipython-input-7-ca35cd767901>:34] Episode: 065, Reward: 013\n",
            "I0201 09:11:14.047659 140054133258112 <ipython-input-7-ca35cd767901>:34] Episode: 066, Reward: 039\n",
            "I0201 09:11:14.095233 140054133258112 <ipython-input-7-ca35cd767901>:34] Episode: 067, Reward: 024\n",
            "I0201 09:11:14.190270 140054133258112 <ipython-input-7-ca35cd767901>:34] Episode: 068, Reward: 046\n",
            "I0201 09:11:14.298779 140054133258112 <ipython-input-7-ca35cd767901>:34] Episode: 069, Reward: 053\n",
            "I0201 09:11:14.355234 140054133258112 <ipython-input-7-ca35cd767901>:34] Episode: 070, Reward: 026\n",
            "I0201 09:11:14.385609 140054133258112 <ipython-input-7-ca35cd767901>:34] Episode: 071, Reward: 012\n",
            "I0201 09:11:14.426255 140054133258112 <ipython-input-7-ca35cd767901>:34] Episode: 072, Reward: 019\n",
            "I0201 09:11:14.496824 140054133258112 <ipython-input-7-ca35cd767901>:34] Episode: 073, Reward: 032\n",
            "I0201 09:11:14.526463 140054133258112 <ipython-input-7-ca35cd767901>:34] Episode: 074, Reward: 012\n",
            "I0201 09:11:14.573499 140054133258112 <ipython-input-7-ca35cd767901>:34] Episode: 075, Reward: 018\n",
            "I0201 09:11:14.658319 140054133258112 <ipython-input-7-ca35cd767901>:34] Episode: 076, Reward: 041\n",
            "I0201 09:11:14.812022 140054133258112 <ipython-input-7-ca35cd767901>:34] Episode: 077, Reward: 077\n",
            "I0201 09:11:14.867650 140054133258112 <ipython-input-7-ca35cd767901>:34] Episode: 078, Reward: 027\n",
            "I0201 09:11:14.985585 140054133258112 <ipython-input-7-ca35cd767901>:34] Episode: 079, Reward: 060\n",
            "I0201 09:11:15.047590 140054133258112 <ipython-input-7-ca35cd767901>:34] Episode: 080, Reward: 029\n",
            "I0201 09:11:15.120528 140054133258112 <ipython-input-7-ca35cd767901>:34] Episode: 081, Reward: 034\n",
            "I0201 09:11:15.187576 140054133258112 <ipython-input-7-ca35cd767901>:34] Episode: 082, Reward: 032\n",
            "I0201 09:11:15.265374 140054133258112 <ipython-input-7-ca35cd767901>:34] Episode: 083, Reward: 037\n",
            "I0201 09:11:15.320196 140054133258112 <ipython-input-7-ca35cd767901>:34] Episode: 084, Reward: 026\n",
            "I0201 09:11:15.422739 140054133258112 <ipython-input-7-ca35cd767901>:34] Episode: 085, Reward: 049\n",
            "I0201 09:11:15.502516 140054133258112 <ipython-input-7-ca35cd767901>:34] Episode: 086, Reward: 038\n",
            "I0201 09:11:15.581698 140054133258112 <ipython-input-7-ca35cd767901>:34] Episode: 087, Reward: 036\n",
            "I0201 09:11:15.634111 140054133258112 <ipython-input-7-ca35cd767901>:34] Episode: 088, Reward: 022\n",
            "I0201 09:11:15.703443 140054133258112 <ipython-input-7-ca35cd767901>:34] Episode: 089, Reward: 034\n",
            "I0201 09:11:15.838472 140054133258112 <ipython-input-7-ca35cd767901>:34] Episode: 090, Reward: 066\n",
            "I0201 09:11:15.899285 140054133258112 <ipython-input-7-ca35cd767901>:34] Episode: 091, Reward: 028\n",
            "I0201 09:11:16.051914 140054133258112 <ipython-input-7-ca35cd767901>:34] Episode: 092, Reward: 075\n",
            "I0201 09:11:16.180257 140054133258112 <ipython-input-7-ca35cd767901>:34] Episode: 093, Reward: 063\n",
            "I0201 09:11:16.216530 140054133258112 <ipython-input-7-ca35cd767901>:34] Episode: 094, Reward: 015\n",
            "I0201 09:11:16.253487 140054133258112 <ipython-input-7-ca35cd767901>:34] Episode: 095, Reward: 017\n",
            "I0201 09:11:16.445804 140054133258112 <ipython-input-7-ca35cd767901>:34] Episode: 096, Reward: 095\n",
            "I0201 09:11:16.490709 140054133258112 <ipython-input-7-ca35cd767901>:34] Episode: 097, Reward: 020\n",
            "I0201 09:11:16.538419 140054133258112 <ipython-input-7-ca35cd767901>:34] Episode: 098, Reward: 021\n",
            "I0201 09:11:16.622115 140054133258112 <ipython-input-7-ca35cd767901>:34] Episode: 099, Reward: 035\n",
            "I0201 09:11:16.666530 140054133258112 <ipython-input-7-ca35cd767901>:34] Episode: 100, Reward: 021\n",
            "I0201 09:11:16.719215 140054133258112 <ipython-input-7-ca35cd767901>:34] Episode: 101, Reward: 025\n",
            "I0201 09:11:16.834295 140054133258112 <ipython-input-7-ca35cd767901>:34] Episode: 102, Reward: 055\n",
            "I0201 09:11:16.938763 140054133258112 <ipython-input-7-ca35cd767901>:34] Episode: 103, Reward: 051\n",
            "I0201 09:11:17.127031 140054133258112 <ipython-input-7-ca35cd767901>:34] Episode: 104, Reward: 091\n",
            "I0201 09:11:17.198952 140054133258112 <ipython-input-7-ca35cd767901>:34] Episode: 105, Reward: 035\n",
            "I0201 09:11:17.265671 140054133258112 <ipython-input-7-ca35cd767901>:34] Episode: 106, Reward: 030\n",
            "I0201 09:11:17.320519 140054133258112 <ipython-input-7-ca35cd767901>:34] Episode: 107, Reward: 025\n",
            "I0201 09:11:17.395269 140054133258112 <ipython-input-7-ca35cd767901>:34] Episode: 108, Reward: 036\n",
            "I0201 09:11:17.508396 140054133258112 <ipython-input-7-ca35cd767901>:34] Episode: 109, Reward: 055\n",
            "I0201 09:11:17.670752 140054133258112 <ipython-input-7-ca35cd767901>:34] Episode: 110, Reward: 078\n",
            "I0201 09:11:17.752307 140054133258112 <ipython-input-7-ca35cd767901>:34] Episode: 111, Reward: 038\n",
            "I0201 09:11:17.829939 140054133258112 <ipython-input-7-ca35cd767901>:34] Episode: 112, Reward: 036\n",
            "I0201 09:11:17.934293 140054133258112 <ipython-input-7-ca35cd767901>:34] Episode: 113, Reward: 052\n",
            "I0201 09:11:18.040313 140054133258112 <ipython-input-7-ca35cd767901>:34] Episode: 114, Reward: 051\n",
            "I0201 09:11:18.107455 140054133258112 <ipython-input-7-ca35cd767901>:34] Episode: 115, Reward: 030\n",
            "I0201 09:11:18.139531 140054133258112 <ipython-input-7-ca35cd767901>:34] Episode: 116, Reward: 015\n",
            "I0201 09:11:18.191290 140054133258112 <ipython-input-7-ca35cd767901>:34] Episode: 117, Reward: 024\n",
            "I0201 09:11:18.255426 140054133258112 <ipython-input-7-ca35cd767901>:34] Episode: 118, Reward: 029\n",
            "I0201 09:11:18.305531 140054133258112 <ipython-input-7-ca35cd767901>:34] Episode: 119, Reward: 022\n",
            "I0201 09:11:18.359384 140054133258112 <ipython-input-7-ca35cd767901>:34] Episode: 120, Reward: 027\n",
            "I0201 09:11:18.448961 140054133258112 <ipython-input-7-ca35cd767901>:34] Episode: 121, Reward: 042\n",
            "I0201 09:11:18.488027 140054133258112 <ipython-input-7-ca35cd767901>:34] Episode: 122, Reward: 019\n",
            "I0201 09:11:18.545796 140054133258112 <ipython-input-7-ca35cd767901>:34] Episode: 123, Reward: 028\n",
            "I0201 09:11:18.622126 140054133258112 <ipython-input-7-ca35cd767901>:34] Episode: 124, Reward: 032\n",
            "I0201 09:11:18.680230 140054133258112 <ipython-input-7-ca35cd767901>:34] Episode: 125, Reward: 028\n",
            "I0201 09:11:18.845955 140054133258112 <ipython-input-7-ca35cd767901>:34] Episode: 126, Reward: 081\n",
            "I0201 09:11:18.961326 140054133258112 <ipython-input-7-ca35cd767901>:34] Episode: 127, Reward: 058\n",
            "I0201 09:11:19.003923 140054133258112 <ipython-input-7-ca35cd767901>:34] Episode: 128, Reward: 019\n",
            "I0201 09:11:19.058348 140054133258112 <ipython-input-7-ca35cd767901>:34] Episode: 129, Reward: 024\n",
            "I0201 09:11:19.098912 140054133258112 <ipython-input-7-ca35cd767901>:34] Episode: 130, Reward: 019\n",
            "I0201 09:11:19.142671 140054133258112 <ipython-input-7-ca35cd767901>:34] Episode: 131, Reward: 020\n",
            "I0201 09:11:19.410960 140054133258112 <ipython-input-7-ca35cd767901>:34] Episode: 132, Reward: 134\n",
            "I0201 09:11:19.586305 140054133258112 <ipython-input-7-ca35cd767901>:34] Episode: 133, Reward: 089\n",
            "I0201 09:11:19.693033 140054133258112 <ipython-input-7-ca35cd767901>:34] Episode: 134, Reward: 051\n",
            "I0201 09:11:19.732692 140054133258112 <ipython-input-7-ca35cd767901>:34] Episode: 135, Reward: 019\n",
            "I0201 09:11:19.782875 140054133258112 <ipython-input-7-ca35cd767901>:34] Episode: 136, Reward: 022\n",
            "I0201 09:11:19.883600 140054133258112 <ipython-input-7-ca35cd767901>:34] Episode: 137, Reward: 049\n",
            "I0201 09:11:20.134796 140054133258112 <ipython-input-7-ca35cd767901>:34] Episode: 138, Reward: 127\n",
            "I0201 09:11:20.205488 140054133258112 <ipython-input-7-ca35cd767901>:34] Episode: 139, Reward: 034\n",
            "I0201 09:11:20.339798 140054133258112 <ipython-input-7-ca35cd767901>:34] Episode: 140, Reward: 067\n",
            "I0201 09:11:20.404516 140054133258112 <ipython-input-7-ca35cd767901>:34] Episode: 141, Reward: 032\n",
            "I0201 09:11:20.583338 140054133258112 <ipython-input-7-ca35cd767901>:34] Episode: 142, Reward: 089\n",
            "I0201 09:11:20.636877 140054133258112 <ipython-input-7-ca35cd767901>:34] Episode: 143, Reward: 023\n",
            "I0201 09:11:20.709901 140054133258112 <ipython-input-7-ca35cd767901>:34] Episode: 144, Reward: 033\n",
            "I0201 09:11:20.781380 140054133258112 <ipython-input-7-ca35cd767901>:34] Episode: 145, Reward: 034\n",
            "I0201 09:11:20.855736 140054133258112 <ipython-input-7-ca35cd767901>:34] Episode: 146, Reward: 036\n",
            "I0201 09:11:20.984738 140054133258112 <ipython-input-7-ca35cd767901>:34] Episode: 147, Reward: 062\n",
            "I0201 09:11:21.036077 140054133258112 <ipython-input-7-ca35cd767901>:34] Episode: 148, Reward: 023\n",
            "I0201 09:11:21.227091 140054133258112 <ipython-input-7-ca35cd767901>:34] Episode: 149, Reward: 097\n",
            "I0201 09:11:21.275752 140054133258112 <ipython-input-7-ca35cd767901>:34] Episode: 150, Reward: 021\n",
            "I0201 09:11:21.318178 140054133258112 <ipython-input-7-ca35cd767901>:34] Episode: 151, Reward: 020\n",
            "I0201 09:11:21.495645 140054133258112 <ipython-input-7-ca35cd767901>:34] Episode: 152, Reward: 089\n",
            "I0201 09:11:21.555499 140054133258112 <ipython-input-7-ca35cd767901>:34] Episode: 153, Reward: 028\n",
            "I0201 09:11:21.723237 140054133258112 <ipython-input-7-ca35cd767901>:34] Episode: 154, Reward: 083\n",
            "I0201 09:11:21.864972 140054133258112 <ipython-input-7-ca35cd767901>:34] Episode: 155, Reward: 067\n",
            "I0201 09:11:21.983890 140054133258112 <ipython-input-7-ca35cd767901>:34] Episode: 156, Reward: 060\n",
            "I0201 09:11:22.088527 140054133258112 <ipython-input-7-ca35cd767901>:34] Episode: 157, Reward: 051\n",
            "I0201 09:11:22.187113 140054133258112 <ipython-input-7-ca35cd767901>:34] Episode: 158, Reward: 049\n",
            "I0201 09:11:22.259118 140054133258112 <ipython-input-7-ca35cd767901>:34] Episode: 159, Reward: 034\n",
            "I0201 09:11:22.336277 140054133258112 <ipython-input-7-ca35cd767901>:34] Episode: 160, Reward: 038\n",
            "I0201 09:11:22.424083 140054133258112 <ipython-input-7-ca35cd767901>:34] Episode: 161, Reward: 041\n",
            "I0201 09:11:22.462866 140054133258112 <ipython-input-7-ca35cd767901>:34] Episode: 162, Reward: 016\n",
            "I0201 09:11:22.620426 140054133258112 <ipython-input-7-ca35cd767901>:34] Episode: 163, Reward: 081\n",
            "I0201 09:11:22.695291 140054133258112 <ipython-input-7-ca35cd767901>:34] Episode: 164, Reward: 035\n",
            "I0201 09:11:22.837719 140054133258112 <ipython-input-7-ca35cd767901>:34] Episode: 165, Reward: 073\n",
            "I0201 09:11:22.970532 140054133258112 <ipython-input-7-ca35cd767901>:34] Episode: 166, Reward: 065\n",
            "I0201 09:11:23.140226 140054133258112 <ipython-input-7-ca35cd767901>:34] Episode: 167, Reward: 079\n",
            "I0201 09:11:23.319483 140054133258112 <ipython-input-7-ca35cd767901>:34] Episode: 168, Reward: 091\n",
            "I0201 09:11:23.357892 140054133258112 <ipython-input-7-ca35cd767901>:34] Episode: 169, Reward: 018\n",
            "I0201 09:11:23.453541 140054133258112 <ipython-input-7-ca35cd767901>:34] Episode: 170, Reward: 046\n",
            "I0201 09:11:23.608236 140054133258112 <ipython-input-7-ca35cd767901>:34] Episode: 171, Reward: 075\n",
            "I0201 09:11:23.694199 140054133258112 <ipython-input-7-ca35cd767901>:34] Episode: 172, Reward: 043\n",
            "I0201 09:11:23.854876 140054133258112 <ipython-input-7-ca35cd767901>:34] Episode: 173, Reward: 076\n",
            "I0201 09:11:23.974874 140054133258112 <ipython-input-7-ca35cd767901>:34] Episode: 174, Reward: 058\n",
            "I0201 09:11:24.035500 140054133258112 <ipython-input-7-ca35cd767901>:34] Episode: 175, Reward: 029\n",
            "I0201 09:11:24.115079 140054133258112 <ipython-input-7-ca35cd767901>:34] Episode: 176, Reward: 039\n",
            "I0201 09:11:24.176551 140054133258112 <ipython-input-7-ca35cd767901>:34] Episode: 177, Reward: 030\n",
            "I0201 09:11:24.340494 140054133258112 <ipython-input-7-ca35cd767901>:34] Episode: 178, Reward: 083\n",
            "I0201 09:11:24.510401 140054133258112 <ipython-input-7-ca35cd767901>:34] Episode: 179, Reward: 085\n",
            "I0201 09:11:24.595144 140054133258112 <ipython-input-7-ca35cd767901>:34] Episode: 180, Reward: 042\n",
            "I0201 09:11:24.692987 140054133258112 <ipython-input-7-ca35cd767901>:34] Episode: 181, Reward: 046\n",
            "I0201 09:11:24.827741 140054133258112 <ipython-input-7-ca35cd767901>:34] Episode: 182, Reward: 065\n",
            "I0201 09:11:24.897294 140054133258112 <ipython-input-7-ca35cd767901>:34] Episode: 183, Reward: 033\n",
            "I0201 09:11:25.054177 140054133258112 <ipython-input-7-ca35cd767901>:34] Episode: 184, Reward: 079\n",
            "I0201 09:11:25.105724 140054133258112 <ipython-input-7-ca35cd767901>:34] Episode: 185, Reward: 024\n",
            "I0201 09:11:25.217738 140054133258112 <ipython-input-7-ca35cd767901>:34] Episode: 186, Reward: 055\n",
            "I0201 09:11:25.257686 140054133258112 <ipython-input-7-ca35cd767901>:34] Episode: 187, Reward: 019\n",
            "I0201 09:11:25.413702 140054133258112 <ipython-input-7-ca35cd767901>:34] Episode: 188, Reward: 077\n",
            "I0201 09:11:25.473425 140054133258112 <ipython-input-7-ca35cd767901>:34] Episode: 189, Reward: 028\n",
            "I0201 09:11:25.548585 140054133258112 <ipython-input-7-ca35cd767901>:34] Episode: 190, Reward: 038\n",
            "I0201 09:11:25.628280 140054133258112 <ipython-input-7-ca35cd767901>:34] Episode: 191, Reward: 038\n",
            "I0201 09:11:25.771268 140054133258112 <ipython-input-7-ca35cd767901>:34] Episode: 192, Reward: 071\n",
            "I0201 09:11:25.866436 140054133258112 <ipython-input-7-ca35cd767901>:34] Episode: 193, Reward: 046\n",
            "I0201 09:11:25.916825 140054133258112 <ipython-input-7-ca35cd767901>:34] Episode: 194, Reward: 024\n",
            "I0201 09:11:26.026652 140054133258112 <ipython-input-7-ca35cd767901>:34] Episode: 195, Reward: 053\n",
            "I0201 09:11:26.230538 140054133258112 <ipython-input-7-ca35cd767901>:34] Episode: 196, Reward: 101\n",
            "I0201 09:11:26.387824 140054133258112 <ipython-input-7-ca35cd767901>:34] Episode: 197, Reward: 079\n",
            "I0201 09:11:26.476645 140054133258112 <ipython-input-7-ca35cd767901>:34] Episode: 198, Reward: 045\n",
            "I0201 09:11:26.591001 140054133258112 <ipython-input-7-ca35cd767901>:34] Episode: 199, Reward: 055\n",
            "I0201 09:11:26.644905 140054133258112 <ipython-input-7-ca35cd767901>:34] Episode: 200, Reward: 025\n",
            "I0201 09:11:26.851210 140054133258112 <ipython-input-7-ca35cd767901>:34] Episode: 201, Reward: 104\n",
            "I0201 09:11:26.950610 140054133258112 <ipython-input-7-ca35cd767901>:34] Episode: 202, Reward: 051\n",
            "I0201 09:11:27.000655 140054133258112 <ipython-input-7-ca35cd767901>:34] Episode: 203, Reward: 023\n",
            "I0201 09:11:27.084973 140054133258112 <ipython-input-7-ca35cd767901>:34] Episode: 204, Reward: 039\n",
            "I0201 09:11:27.193119 140054133258112 <ipython-input-7-ca35cd767901>:34] Episode: 205, Reward: 052\n",
            "I0201 09:11:27.281419 140054133258112 <ipython-input-7-ca35cd767901>:34] Episode: 206, Reward: 043\n",
            "I0201 09:11:27.528506 140054133258112 <ipython-input-7-ca35cd767901>:34] Episode: 207, Reward: 125\n",
            "I0201 09:11:27.816502 140054133258112 <ipython-input-7-ca35cd767901>:34] Episode: 208, Reward: 143\n",
            "I0201 09:11:27.962454 140054133258112 <ipython-input-7-ca35cd767901>:34] Episode: 209, Reward: 074\n",
            "I0201 09:11:28.088108 140054133258112 <ipython-input-7-ca35cd767901>:34] Episode: 210, Reward: 059\n",
            "I0201 09:11:28.195977 140054133258112 <ipython-input-7-ca35cd767901>:34] Episode: 211, Reward: 052\n",
            "I0201 09:11:28.397595 140054133258112 <ipython-input-7-ca35cd767901>:34] Episode: 212, Reward: 097\n",
            "I0201 09:11:28.499665 140054133258112 <ipython-input-7-ca35cd767901>:34] Episode: 213, Reward: 051\n",
            "I0201 09:11:28.749169 140054133258112 <ipython-input-7-ca35cd767901>:34] Episode: 214, Reward: 125\n",
            "I0201 09:11:28.870018 140054133258112 <ipython-input-7-ca35cd767901>:34] Episode: 215, Reward: 056\n",
            "I0201 09:11:28.995461 140054133258112 <ipython-input-7-ca35cd767901>:34] Episode: 216, Reward: 060\n",
            "I0201 09:11:29.329312 140054133258112 <ipython-input-7-ca35cd767901>:34] Episode: 217, Reward: 167\n",
            "I0201 09:11:29.439687 140054133258112 <ipython-input-7-ca35cd767901>:34] Episode: 218, Reward: 055\n",
            "I0201 09:11:29.533622 140054133258112 <ipython-input-7-ca35cd767901>:34] Episode: 219, Reward: 046\n",
            "I0201 09:11:29.780544 140054133258112 <ipython-input-7-ca35cd767901>:34] Episode: 220, Reward: 126\n",
            "I0201 09:11:29.907141 140054133258112 <ipython-input-7-ca35cd767901>:34] Episode: 221, Reward: 059\n",
            "I0201 09:11:30.049323 140054133258112 <ipython-input-7-ca35cd767901>:34] Episode: 222, Reward: 072\n",
            "I0201 09:11:30.147259 140054133258112 <ipython-input-7-ca35cd767901>:34] Episode: 223, Reward: 047\n",
            "I0201 09:11:30.380124 140054133258112 <ipython-input-7-ca35cd767901>:34] Episode: 224, Reward: 118\n",
            "I0201 09:11:30.517555 140054133258112 <ipython-input-7-ca35cd767901>:34] Episode: 225, Reward: 069\n",
            "I0201 09:11:30.649464 140054133258112 <ipython-input-7-ca35cd767901>:34] Episode: 226, Reward: 066\n",
            "I0201 09:11:30.803866 140054133258112 <ipython-input-7-ca35cd767901>:34] Episode: 227, Reward: 077\n",
            "I0201 09:11:30.932025 140054133258112 <ipython-input-7-ca35cd767901>:34] Episode: 228, Reward: 064\n",
            "I0201 09:11:31.014687 140054133258112 <ipython-input-7-ca35cd767901>:34] Episode: 229, Reward: 041\n",
            "I0201 09:11:31.091470 140054133258112 <ipython-input-7-ca35cd767901>:34] Episode: 230, Reward: 038\n",
            "I0201 09:11:31.283510 140054133258112 <ipython-input-7-ca35cd767901>:34] Episode: 231, Reward: 097\n",
            "I0201 09:11:31.443972 140054133258112 <ipython-input-7-ca35cd767901>:34] Episode: 232, Reward: 081\n",
            "I0201 09:11:31.592201 140054133258112 <ipython-input-7-ca35cd767901>:34] Episode: 233, Reward: 075\n",
            "I0201 09:11:31.900078 140054133258112 <ipython-input-7-ca35cd767901>:34] Episode: 234, Reward: 153\n",
            "I0201 09:11:31.982526 140054133258112 <ipython-input-7-ca35cd767901>:34] Episode: 235, Reward: 042\n",
            "I0201 09:11:32.034702 140054133258112 <ipython-input-7-ca35cd767901>:34] Episode: 236, Reward: 025\n",
            "I0201 09:11:32.120852 140054133258112 <ipython-input-7-ca35cd767901>:34] Episode: 237, Reward: 044\n",
            "I0201 09:11:32.330128 140054133258112 <ipython-input-7-ca35cd767901>:34] Episode: 238, Reward: 104\n",
            "I0201 09:11:32.592833 140054133258112 <ipython-input-7-ca35cd767901>:34] Episode: 239, Reward: 135\n",
            "I0201 09:11:32.794759 140054133258112 <ipython-input-7-ca35cd767901>:34] Episode: 240, Reward: 105\n",
            "I0201 09:11:32.983734 140054133258112 <ipython-input-7-ca35cd767901>:34] Episode: 241, Reward: 096\n",
            "I0201 09:11:33.159752 140054133258112 <ipython-input-7-ca35cd767901>:34] Episode: 242, Reward: 089\n",
            "I0201 09:11:33.278149 140054133258112 <ipython-input-7-ca35cd767901>:34] Episode: 243, Reward: 059\n",
            "I0201 09:11:33.354163 140054133258112 <ipython-input-7-ca35cd767901>:34] Episode: 244, Reward: 036\n",
            "I0201 09:11:33.581989 140054133258112 <ipython-input-7-ca35cd767901>:34] Episode: 245, Reward: 116\n",
            "I0201 09:11:33.672504 140054133258112 <ipython-input-7-ca35cd767901>:34] Episode: 246, Reward: 045\n",
            "I0201 09:11:33.788088 140054133258112 <ipython-input-7-ca35cd767901>:34] Episode: 247, Reward: 057\n",
            "I0201 09:11:33.878147 140054133258112 <ipython-input-7-ca35cd767901>:34] Episode: 248, Reward: 045\n",
            "I0201 09:11:34.027677 140054133258112 <ipython-input-7-ca35cd767901>:34] Episode: 249, Reward: 073\n",
            "I0201 09:11:34.181051 140054133258112 <ipython-input-7-ca35cd767901>:34] Episode: 250, Reward: 076\n",
            "I0201 09:11:34.266877 140054133258112 <ipython-input-7-ca35cd767901>:34] Episode: 251, Reward: 042\n",
            "I0201 09:11:34.326850 140054133258112 <ipython-input-7-ca35cd767901>:34] Episode: 252, Reward: 027\n",
            "I0201 09:11:34.560690 140054133258112 <ipython-input-7-ca35cd767901>:34] Episode: 253, Reward: 118\n",
            "I0201 09:11:34.645479 140054133258112 <ipython-input-7-ca35cd767901>:34] Episode: 254, Reward: 041\n",
            "I0201 09:11:34.819936 140054133258112 <ipython-input-7-ca35cd767901>:34] Episode: 255, Reward: 089\n",
            "I0201 09:11:34.955841 140054133258112 <ipython-input-7-ca35cd767901>:34] Episode: 256, Reward: 066\n",
            "I0201 09:11:35.041649 140054133258112 <ipython-input-7-ca35cd767901>:34] Episode: 257, Reward: 040\n",
            "I0201 09:11:35.288686 140054133258112 <ipython-input-7-ca35cd767901>:34] Episode: 258, Reward: 126\n",
            "I0201 09:11:35.477892 140054133258112 <ipython-input-7-ca35cd767901>:34] Episode: 259, Reward: 095\n",
            "I0201 09:11:35.856626 140054133258112 <ipython-input-7-ca35cd767901>:34] Episode: 260, Reward: 200\n",
            "I0201 09:11:36.184470 140054133258112 <ipython-input-7-ca35cd767901>:34] Episode: 261, Reward: 165\n",
            "I0201 09:11:36.496478 140054133258112 <ipython-input-7-ca35cd767901>:34] Episode: 262, Reward: 157\n",
            "I0201 09:11:36.721873 140054133258112 <ipython-input-7-ca35cd767901>:34] Episode: 263, Reward: 115\n",
            "I0201 09:11:36.874336 140054133258112 <ipython-input-7-ca35cd767901>:34] Episode: 264, Reward: 079\n",
            "I0201 09:11:36.982036 140054133258112 <ipython-input-7-ca35cd767901>:34] Episode: 265, Reward: 050\n",
            "I0201 09:11:37.234529 140054133258112 <ipython-input-7-ca35cd767901>:34] Episode: 266, Reward: 131\n",
            "I0201 09:11:37.536834 140054133258112 <ipython-input-7-ca35cd767901>:34] Episode: 267, Reward: 155\n",
            "I0201 09:11:37.919346 140054133258112 <ipython-input-7-ca35cd767901>:34] Episode: 268, Reward: 200\n",
            "I0201 09:11:38.019542 140054133258112 <ipython-input-7-ca35cd767901>:34] Episode: 269, Reward: 046\n",
            "I0201 09:11:38.287863 140054133258112 <ipython-input-7-ca35cd767901>:34] Episode: 270, Reward: 139\n",
            "I0201 09:11:38.379692 140054133258112 <ipython-input-7-ca35cd767901>:34] Episode: 271, Reward: 045\n",
            "I0201 09:11:38.507108 140054133258112 <ipython-input-7-ca35cd767901>:34] Episode: 272, Reward: 063\n",
            "I0201 09:11:38.733802 140054133258112 <ipython-input-7-ca35cd767901>:34] Episode: 273, Reward: 115\n",
            "I0201 09:11:38.825569 140054133258112 <ipython-input-7-ca35cd767901>:34] Episode: 274, Reward: 044\n",
            "I0201 09:11:38.907598 140054133258112 <ipython-input-7-ca35cd767901>:34] Episode: 275, Reward: 041\n",
            "I0201 09:11:39.299586 140054133258112 <ipython-input-7-ca35cd767901>:34] Episode: 276, Reward: 200\n",
            "I0201 09:11:39.394227 140054133258112 <ipython-input-7-ca35cd767901>:34] Episode: 277, Reward: 044\n",
            "I0201 09:11:39.511347 140054133258112 <ipython-input-7-ca35cd767901>:34] Episode: 278, Reward: 057\n",
            "I0201 09:11:39.645318 140054133258112 <ipython-input-7-ca35cd767901>:34] Episode: 279, Reward: 065\n",
            "I0201 09:11:39.968828 140054133258112 <ipython-input-7-ca35cd767901>:34] Episode: 280, Reward: 169\n",
            "I0201 09:11:40.103930 140054133258112 <ipython-input-7-ca35cd767901>:34] Episode: 281, Reward: 065\n",
            "I0201 09:11:40.452717 140054133258112 <ipython-input-7-ca35cd767901>:34] Episode: 282, Reward: 179\n",
            "I0201 09:11:40.627035 140054133258112 <ipython-input-7-ca35cd767901>:34] Episode: 283, Reward: 087\n",
            "I0201 09:11:40.837208 140054133258112 <ipython-input-7-ca35cd767901>:34] Episode: 284, Reward: 109\n",
            "I0201 09:11:41.053730 140054133258112 <ipython-input-7-ca35cd767901>:34] Episode: 285, Reward: 111\n",
            "I0201 09:11:41.322872 140054133258112 <ipython-input-7-ca35cd767901>:34] Episode: 286, Reward: 135\n",
            "I0201 09:11:41.495225 140054133258112 <ipython-input-7-ca35cd767901>:34] Episode: 287, Reward: 086\n",
            "I0201 09:11:41.838360 140054133258112 <ipython-input-7-ca35cd767901>:34] Episode: 288, Reward: 172\n",
            "I0201 09:11:42.067349 140054133258112 <ipython-input-7-ca35cd767901>:34] Episode: 289, Reward: 114\n",
            "I0201 09:11:42.464366 140054133258112 <ipython-input-7-ca35cd767901>:34] Episode: 290, Reward: 200\n",
            "I0201 09:11:42.506388 140054133258112 <ipython-input-7-ca35cd767901>:34] Episode: 291, Reward: 019\n",
            "I0201 09:11:42.580450 140054133258112 <ipython-input-7-ca35cd767901>:34] Episode: 292, Reward: 035\n",
            "I0201 09:11:42.834023 140054133258112 <ipython-input-7-ca35cd767901>:34] Episode: 293, Reward: 124\n",
            "I0201 09:11:43.028558 140054133258112 <ipython-input-7-ca35cd767901>:34] Episode: 294, Reward: 095\n",
            "I0201 09:11:43.388501 140054133258112 <ipython-input-7-ca35cd767901>:34] Episode: 295, Reward: 177\n",
            "I0201 09:11:43.721895 140054133258112 <ipython-input-7-ca35cd767901>:34] Episode: 296, Reward: 169\n",
            "I0201 09:11:44.119860 140054133258112 <ipython-input-7-ca35cd767901>:34] Episode: 297, Reward: 200\n",
            "I0201 09:11:44.391856 140054133258112 <ipython-input-7-ca35cd767901>:34] Episode: 298, Reward: 138\n",
            "I0201 09:11:44.788203 140054133258112 <ipython-input-7-ca35cd767901>:34] Episode: 299, Reward: 200\n",
            "I0201 09:11:44.888015 140054133258112 <ipython-input-7-ca35cd767901>:34] Episode: 300, Reward: 052\n",
            "I0201 09:11:45.067609 140054133258112 <ipython-input-7-ca35cd767901>:34] Episode: 301, Reward: 091\n",
            "I0201 09:11:45.340708 140054133258112 <ipython-input-7-ca35cd767901>:34] Episode: 302, Reward: 137\n",
            "I0201 09:11:45.499452 140054133258112 <ipython-input-7-ca35cd767901>:34] Episode: 303, Reward: 080\n",
            "I0201 09:11:45.579093 140054133258112 <ipython-input-7-ca35cd767901>:34] Episode: 304, Reward: 039\n",
            "I0201 09:11:45.810240 140054133258112 <ipython-input-7-ca35cd767901>:34] Episode: 305, Reward: 116\n",
            "I0201 09:11:45.970064 140054133258112 <ipython-input-7-ca35cd767901>:34] Episode: 306, Reward: 083\n",
            "I0201 09:11:46.237458 140054133258112 <ipython-input-7-ca35cd767901>:34] Episode: 307, Reward: 133\n",
            "I0201 09:11:46.405337 140054133258112 <ipython-input-7-ca35cd767901>:34] Episode: 308, Reward: 084\n",
            "I0201 09:11:46.785203 140054133258112 <ipython-input-7-ca35cd767901>:34] Episode: 309, Reward: 200\n",
            "I0201 09:11:47.177687 140054133258112 <ipython-input-7-ca35cd767901>:34] Episode: 310, Reward: 200\n",
            "I0201 09:11:47.564257 140054133258112 <ipython-input-7-ca35cd767901>:34] Episode: 311, Reward: 200\n",
            "I0201 09:11:47.681456 140054133258112 <ipython-input-7-ca35cd767901>:34] Episode: 312, Reward: 058\n",
            "I0201 09:11:47.983425 140054133258112 <ipython-input-7-ca35cd767901>:34] Episode: 313, Reward: 156\n",
            "I0201 09:11:48.219505 140054133258112 <ipython-input-7-ca35cd767901>:34] Episode: 314, Reward: 118\n",
            "I0201 09:11:48.477445 140054133258112 <ipython-input-7-ca35cd767901>:34] Episode: 315, Reward: 130\n",
            "I0201 09:11:48.864078 140054133258112 <ipython-input-7-ca35cd767901>:34] Episode: 316, Reward: 198\n",
            "I0201 09:11:49.149185 140054133258112 <ipython-input-7-ca35cd767901>:34] Episode: 317, Reward: 149\n",
            "I0201 09:11:49.338038 140054133258112 <ipython-input-7-ca35cd767901>:34] Episode: 318, Reward: 093\n",
            "I0201 09:11:49.635498 140054133258112 <ipython-input-7-ca35cd767901>:34] Episode: 319, Reward: 151\n",
            "I0201 09:11:50.022998 140054133258112 <ipython-input-7-ca35cd767901>:34] Episode: 320, Reward: 200\n",
            "I0201 09:11:50.412416 140054133258112 <ipython-input-7-ca35cd767901>:34] Episode: 321, Reward: 200\n",
            "I0201 09:11:50.799309 140054133258112 <ipython-input-7-ca35cd767901>:34] Episode: 322, Reward: 200\n",
            "I0201 09:11:51.164327 140054133258112 <ipython-input-7-ca35cd767901>:34] Episode: 323, Reward: 190\n",
            "I0201 09:11:51.564533 140054133258112 <ipython-input-7-ca35cd767901>:34] Episode: 324, Reward: 200\n",
            "I0201 09:11:51.754239 140054133258112 <ipython-input-7-ca35cd767901>:34] Episode: 325, Reward: 097\n",
            "I0201 09:11:52.012644 140054133258112 <ipython-input-7-ca35cd767901>:34] Episode: 326, Reward: 131\n",
            "I0201 09:11:52.392741 140054133258112 <ipython-input-7-ca35cd767901>:34] Episode: 327, Reward: 185\n",
            "I0201 09:11:52.684985 140054133258112 <ipython-input-7-ca35cd767901>:34] Episode: 328, Reward: 152\n",
            "I0201 09:11:53.072516 140054133258112 <ipython-input-7-ca35cd767901>:34] Episode: 329, Reward: 200\n",
            "I0201 09:11:53.464397 140054133258112 <ipython-input-7-ca35cd767901>:34] Episode: 330, Reward: 200\n",
            "I0201 09:11:53.719803 140054133258112 <ipython-input-7-ca35cd767901>:34] Episode: 331, Reward: 131\n",
            "I0201 09:11:54.084434 140054133258112 <ipython-input-7-ca35cd767901>:34] Episode: 332, Reward: 188\n",
            "I0201 09:11:54.478707 140054133258112 <ipython-input-7-ca35cd767901>:34] Episode: 333, Reward: 200\n",
            "I0201 09:11:54.615740 140054133258112 <ipython-input-7-ca35cd767901>:34] Episode: 334, Reward: 068\n",
            "I0201 09:11:54.902896 140054133258112 <ipython-input-7-ca35cd767901>:34] Episode: 335, Reward: 146\n",
            "I0201 09:11:55.293034 140054133258112 <ipython-input-7-ca35cd767901>:34] Episode: 336, Reward: 197\n",
            "I0201 09:11:55.606562 140054133258112 <ipython-input-7-ca35cd767901>:34] Episode: 337, Reward: 161\n",
            "I0201 09:11:55.924735 140054133258112 <ipython-input-7-ca35cd767901>:34] Episode: 338, Reward: 163\n",
            "I0201 09:11:56.154780 140054133258112 <ipython-input-7-ca35cd767901>:34] Episode: 339, Reward: 115\n",
            "I0201 09:11:56.288720 140054133258112 <ipython-input-7-ca35cd767901>:34] Episode: 340, Reward: 063\n",
            "I0201 09:11:56.584110 140054133258112 <ipython-input-7-ca35cd767901>:34] Episode: 341, Reward: 153\n",
            "I0201 09:11:56.942080 140054133258112 <ipython-input-7-ca35cd767901>:34] Episode: 342, Reward: 182\n",
            "I0201 09:11:57.335706 140054133258112 <ipython-input-7-ca35cd767901>:34] Episode: 343, Reward: 200\n",
            "I0201 09:11:57.726320 140054133258112 <ipython-input-7-ca35cd767901>:34] Episode: 344, Reward: 200\n",
            "I0201 09:11:57.862601 140054133258112 <ipython-input-7-ca35cd767901>:34] Episode: 345, Reward: 069\n",
            "I0201 09:11:58.238157 140054133258112 <ipython-input-7-ca35cd767901>:34] Episode: 346, Reward: 192\n",
            "I0201 09:11:58.630186 140054133258112 <ipython-input-7-ca35cd767901>:34] Episode: 347, Reward: 200\n",
            "I0201 09:11:59.016736 140054133258112 <ipython-input-7-ca35cd767901>:34] Episode: 348, Reward: 200\n",
            "I0201 09:11:59.414065 140054133258112 <ipython-input-7-ca35cd767901>:34] Episode: 349, Reward: 200\n",
            "I0201 09:11:59.805182 140054133258112 <ipython-input-7-ca35cd767901>:34] Episode: 350, Reward: 200\n",
            "I0201 09:12:00.195138 140054133258112 <ipython-input-7-ca35cd767901>:34] Episode: 351, Reward: 200\n",
            "I0201 09:12:00.525309 140054133258112 <ipython-input-7-ca35cd767901>:34] Episode: 352, Reward: 164\n",
            "I0201 09:12:00.906716 140054133258112 <ipython-input-7-ca35cd767901>:34] Episode: 353, Reward: 200\n",
            "I0201 09:12:01.296083 140054133258112 <ipython-input-7-ca35cd767901>:34] Episode: 354, Reward: 200\n",
            "I0201 09:12:01.388550 140054133258112 <ipython-input-7-ca35cd767901>:34] Episode: 355, Reward: 041\n",
            "I0201 09:12:01.614672 140054133258112 <ipython-input-7-ca35cd767901>:34] Episode: 356, Reward: 114\n",
            "I0201 09:12:01.885619 140054133258112 <ipython-input-7-ca35cd767901>:34] Episode: 357, Reward: 137\n",
            "I0201 09:12:02.274535 140054133258112 <ipython-input-7-ca35cd767901>:34] Episode: 358, Reward: 200\n",
            "I0201 09:12:02.609412 140054133258112 <ipython-input-7-ca35cd767901>:34] Episode: 359, Reward: 168\n",
            "I0201 09:12:02.905342 140054133258112 <ipython-input-7-ca35cd767901>:34] Episode: 360, Reward: 150\n",
            "I0201 09:12:03.289497 140054133258112 <ipython-input-7-ca35cd767901>:34] Episode: 361, Reward: 200\n",
            "I0201 09:12:03.678257 140054133258112 <ipython-input-7-ca35cd767901>:34] Episode: 362, Reward: 200\n",
            "I0201 09:12:03.979077 140054133258112 <ipython-input-7-ca35cd767901>:34] Episode: 363, Reward: 155\n",
            "I0201 09:12:04.370547 140054133258112 <ipython-input-7-ca35cd767901>:34] Episode: 364, Reward: 200\n",
            "I0201 09:12:04.657226 140054133258112 <ipython-input-7-ca35cd767901>:34] Episode: 365, Reward: 143\n",
            "I0201 09:12:04.946312 140054133258112 <ipython-input-7-ca35cd767901>:34] Episode: 366, Reward: 146\n",
            "I0201 09:12:05.331844 140054133258112 <ipython-input-7-ca35cd767901>:34] Episode: 367, Reward: 200\n",
            "I0201 09:12:05.728722 140054133258112 <ipython-input-7-ca35cd767901>:34] Episode: 368, Reward: 200\n",
            "I0201 09:12:06.114027 140054133258112 <ipython-input-7-ca35cd767901>:34] Episode: 369, Reward: 200\n",
            "I0201 09:12:06.356401 140054133258112 <ipython-input-7-ca35cd767901>:34] Episode: 370, Reward: 123\n",
            "I0201 09:12:06.614260 140054133258112 <ipython-input-7-ca35cd767901>:34] Episode: 371, Reward: 129\n",
            "I0201 09:12:06.904922 140054133258112 <ipython-input-7-ca35cd767901>:34] Episode: 372, Reward: 149\n",
            "I0201 09:12:07.288550 140054133258112 <ipython-input-7-ca35cd767901>:34] Episode: 373, Reward: 200\n",
            "I0201 09:12:07.687357 140054133258112 <ipython-input-7-ca35cd767901>:34] Episode: 374, Reward: 200\n",
            "I0201 09:12:08.032521 140054133258112 <ipython-input-7-ca35cd767901>:34] Episode: 375, Reward: 177\n",
            "I0201 09:12:08.415189 140054133258112 <ipython-input-7-ca35cd767901>:34] Episode: 376, Reward: 200\n",
            "I0201 09:12:08.806129 140054133258112 <ipython-input-7-ca35cd767901>:34] Episode: 377, Reward: 200\n",
            "I0201 09:12:09.074122 140054133258112 <ipython-input-7-ca35cd767901>:34] Episode: 378, Reward: 139\n",
            "I0201 09:12:09.255554 140054133258112 <ipython-input-7-ca35cd767901>:34] Episode: 379, Reward: 093\n",
            "I0201 09:12:09.408693 140054133258112 <ipython-input-7-ca35cd767901>:34] Episode: 380, Reward: 075\n",
            "I0201 09:12:09.740490 140054133258112 <ipython-input-7-ca35cd767901>:34] Episode: 381, Reward: 170\n",
            "I0201 09:12:10.024682 140054133258112 <ipython-input-7-ca35cd767901>:34] Episode: 382, Reward: 148\n",
            "I0201 09:12:10.403417 140054133258112 <ipython-input-7-ca35cd767901>:34] Episode: 383, Reward: 200\n",
            "I0201 09:12:10.791003 140054133258112 <ipython-input-7-ca35cd767901>:34] Episode: 384, Reward: 200\n",
            "I0201 09:12:11.173498 140054133258112 <ipython-input-7-ca35cd767901>:34] Episode: 385, Reward: 200\n",
            "I0201 09:12:11.478107 140054133258112 <ipython-input-7-ca35cd767901>:34] Episode: 386, Reward: 155\n",
            "I0201 09:12:11.680996 140054133258112 <ipython-input-7-ca35cd767901>:34] Episode: 387, Reward: 099\n",
            "I0201 09:12:12.041397 140054133258112 <ipython-input-7-ca35cd767901>:34] Episode: 388, Reward: 188\n",
            "I0201 09:12:12.428840 140054133258112 <ipython-input-7-ca35cd767901>:34] Episode: 389, Reward: 200\n",
            "I0201 09:12:12.820167 140054133258112 <ipython-input-7-ca35cd767901>:34] Episode: 390, Reward: 200\n",
            "I0201 09:12:13.219568 140054133258112 <ipython-input-7-ca35cd767901>:34] Episode: 391, Reward: 199\n",
            "I0201 09:12:13.580567 140054133258112 <ipython-input-7-ca35cd767901>:34] Episode: 392, Reward: 185\n"
          ],
          "name": "stderr"
        },
        {
          "output_type": "stream",
          "text": [
            "Finished training.\n"
          ],
          "name": "stdout"
        }
      ]
    },
    {
      "metadata": {
        "id": "iotRFHtaUPtT",
        "colab_type": "text"
      },
      "cell_type": "markdown",
      "source": [
        "## Testing with Trained Model"
      ]
    },
    {
      "metadata": {
        "id": "6LRPR0G0UPtU",
        "colab_type": "code",
        "colab": {
          "base_uri": "https://localhost:8080/",
          "height": 34
        },
        "outputId": "7ef4191c-8d55-42c3-c82d-3d432a24a208"
      },
      "cell_type": "code",
      "source": [
        "print(\"Total Episode Reward: %d out of 200\" % agent.test(env))"
      ],
      "execution_count": 12,
      "outputs": [
        {
          "output_type": "stream",
          "text": [
            "Total Episode Reward: 177 out of 200\n"
          ],
          "name": "stdout"
        }
      ]
    },
    {
      "metadata": {
        "id": "kdoYyGzYUPtY",
        "colab_type": "text"
      },
      "cell_type": "markdown",
      "source": [
        "## Training Rewards History"
      ]
    },
    {
      "metadata": {
        "id": "jUZaerdDUPtY",
        "colab_type": "code",
        "colab": {
          "base_uri": "https://localhost:8080/",
          "height": 361
        },
        "outputId": "d5423241-95e0-43e7-e466-91c251ec07e6"
      },
      "cell_type": "code",
      "source": [
        "plt.style.use('seaborn')\n",
        "plt.plot(np.arange(0, len(rewards_history), 25), rewards_history[::25])\n",
        "plt.xlabel('Episode')\n",
        "plt.ylabel('Total Reward')\n",
        "plt.show()"
      ],
      "execution_count": 13,
      "outputs": [
        {
          "output_type": "display_data",
          "data": {
            "image/png": "[encoded data removed]",
            "text/plain": [
              "<Figure size 576x396 with 1 Axes>"
            ]
          },
          "metadata": {
            "tags": []
          }
        }
      ]
    },
    {
      "metadata": {
        "id": "4JijXTD-UPtb",
        "colab_type": "text"
      },
      "cell_type": "markdown",
      "source": [
        "# Static Computational Graph"
      ]
    },
    {
      "metadata": {
        "id": "rPHbNE8-UPte",
        "colab_type": "code",
        "colab": {
          "base_uri": "https://localhost:8080/",
          "height": 6956
        },
        "outputId": "1d85e1db-ab28-4013-e332-181d252ef8a0"
      },
      "cell_type": "code",
      "source": [
        "with tf.Graph().as_default():\n",
        "    print(\"Eager Execution:\", tf.executing_eagerly()) # False\n",
        "\n",
        "    model = Model(num_actions=env.action_space.n)\n",
        "    agent = A2CAgent(model)\n",
        "\n",
        "    rewards_history = agent.train(env)\n",
        "    print(\"Finished training, testing...\")\n",
        "    print(\"Total Episode Reward: %d out of 200\" % agent.test(env))"
      ],
      "execution_count": 14,
      "outputs": [
        {
          "output_type": "stream",
          "text": [
            "W0201 09:12:14.478361 140054133258112 deprecation.py:506] From /usr/local/lib/python3.6/dist-packages/tensorflow/python/ops/init_ops.py:1253: calling VarianceScaling.__init__ (from tensorflow.python.ops.init_ops) with dtype is deprecated and will be removed in a future version.\n",
            "Instructions for updating:\n",
            "Call initializer instance with the dtype argument instead of passing it to the constructor\n"
          ],
          "name": "stderr"
        },
        {
          "output_type": "stream",
          "text": [
            "Eager Execution: False\n"
          ],
          "name": "stdout"
        },
        {
          "output_type": "stream",
          "text": [
            "W0201 09:12:14.825879 140054133258112 deprecation.py:506] From /usr/local/lib/python3.6/dist-packages/tensorflow/python/keras/engine/base_layer_utils.py:123: calling Zeros.__init__ (from tensorflow.python.ops.init_ops) with dtype is deprecated and will be removed in a future version.\n",
            "Instructions for updating:\n",
            "Call initializer instance with the dtype argument instead of passing it to the constructor\n",
            "I0201 09:12:15.941367 140054133258112 <ipython-input-7-ca35cd767901>:34] Episode: 001, Reward: 044\n",
            "I0201 09:12:16.037663 140054133258112 <ipython-input-7-ca35cd767901>:34] Episode: 002, Reward: 023\n",
            "I0201 09:12:16.104084 140054133258112 <ipython-input-7-ca35cd767901>:34] Episode: 003, Reward: 017\n",
            "I0201 09:12:16.175979 140054133258112 <ipython-input-7-ca35cd767901>:34] Episode: 004, Reward: 016\n",
            "I0201 09:12:16.240706 140054133258112 <ipython-input-7-ca35cd767901>:34] Episode: 005, Reward: 016\n",
            "I0201 09:12:16.510969 140054133258112 <ipython-input-7-ca35cd767901>:34] Episode: 006, Reward: 067\n",
            "I0201 09:12:16.564933 140054133258112 <ipython-input-7-ca35cd767901>:34] Episode: 007, Reward: 011\n",
            "I0201 09:12:16.645039 140054133258112 <ipython-input-7-ca35cd767901>:34] Episode: 008, Reward: 019\n",
            "I0201 09:12:16.735311 140054133258112 <ipython-input-7-ca35cd767901>:34] Episode: 009, Reward: 020\n",
            "I0201 09:12:16.801569 140054133258112 <ipython-input-7-ca35cd767901>:34] Episode: 010, Reward: 017\n",
            "I0201 09:12:16.857276 140054133258112 <ipython-input-7-ca35cd767901>:34] Episode: 011, Reward: 012\n",
            "I0201 09:12:16.967124 140054133258112 <ipython-input-7-ca35cd767901>:34] Episode: 012, Reward: 027\n",
            "I0201 09:12:17.050982 140054133258112 <ipython-input-7-ca35cd767901>:34] Episode: 013, Reward: 021\n",
            "I0201 09:12:17.117256 140054133258112 <ipython-input-7-ca35cd767901>:34] Episode: 014, Reward: 014\n",
            "I0201 09:12:17.191220 140054133258112 <ipython-input-7-ca35cd767901>:34] Episode: 015, Reward: 019\n",
            "I0201 09:12:17.271610 140054133258112 <ipython-input-7-ca35cd767901>:34] Episode: 016, Reward: 019\n",
            "I0201 09:12:17.357900 140054133258112 <ipython-input-7-ca35cd767901>:34] Episode: 017, Reward: 022\n",
            "I0201 09:12:17.550053 140054133258112 <ipython-input-7-ca35cd767901>:34] Episode: 018, Reward: 046\n",
            "I0201 09:12:17.637010 140054133258112 <ipython-input-7-ca35cd767901>:34] Episode: 019, Reward: 020\n",
            "I0201 09:12:17.702972 140054133258112 <ipython-input-7-ca35cd767901>:34] Episode: 020, Reward: 014\n",
            "I0201 09:12:17.820312 140054133258112 <ipython-input-7-ca35cd767901>:34] Episode: 021, Reward: 028\n",
            "I0201 09:12:18.057711 140054133258112 <ipython-input-7-ca35cd767901>:34] Episode: 022, Reward: 059\n",
            "I0201 09:12:18.123486 140054133258112 <ipython-input-7-ca35cd767901>:34] Episode: 023, Reward: 016\n",
            "I0201 09:12:18.162629 140054133258112 <ipython-input-7-ca35cd767901>:34] Episode: 024, Reward: 009\n",
            "I0201 09:12:18.250668 140054133258112 <ipython-input-7-ca35cd767901>:34] Episode: 025, Reward: 021\n",
            "I0201 09:12:18.324254 140054133258112 <ipython-input-7-ca35cd767901>:34] Episode: 026, Reward: 016\n",
            "I0201 09:12:18.400011 140054133258112 <ipython-input-7-ca35cd767901>:34] Episode: 027, Reward: 019\n",
            "I0201 09:12:18.766782 140054133258112 <ipython-input-7-ca35cd767901>:34] Episode: 028, Reward: 093\n",
            "I0201 09:12:18.883348 140054133258112 <ipython-input-7-ca35cd767901>:34] Episode: 029, Reward: 029\n",
            "I0201 09:12:18.970125 140054133258112 <ipython-input-7-ca35cd767901>:34] Episode: 030, Reward: 021\n",
            "I0201 09:12:19.043081 140054133258112 <ipython-input-7-ca35cd767901>:34] Episode: 031, Reward: 019\n",
            "I0201 09:12:19.104118 140054133258112 <ipython-input-7-ca35cd767901>:34] Episode: 032, Reward: 013\n",
            "I0201 09:12:19.207427 140054133258112 <ipython-input-7-ca35cd767901>:34] Episode: 033, Reward: 026\n",
            "I0201 09:12:19.275315 140054133258112 <ipython-input-7-ca35cd767901>:34] Episode: 034, Reward: 017\n",
            "I0201 09:12:19.316835 140054133258112 <ipython-input-7-ca35cd767901>:34] Episode: 035, Reward: 010\n",
            "I0201 09:12:19.426712 140054133258112 <ipython-input-7-ca35cd767901>:34] Episode: 036, Reward: 027\n",
            "I0201 09:12:19.536299 140054133258112 <ipython-input-7-ca35cd767901>:34] Episode: 037, Reward: 026\n",
            "I0201 09:12:19.589627 140054133258112 <ipython-input-7-ca35cd767901>:34] Episode: 038, Reward: 013\n",
            "I0201 09:12:19.759323 140054133258112 <ipython-input-7-ca35cd767901>:34] Episode: 039, Reward: 039\n",
            "I0201 09:12:19.820159 140054133258112 <ipython-input-7-ca35cd767901>:34] Episode: 040, Reward: 015\n",
            "I0201 09:12:19.882185 140054133258112 <ipython-input-7-ca35cd767901>:34] Episode: 041, Reward: 013\n",
            "I0201 09:12:19.973345 140054133258112 <ipython-input-7-ca35cd767901>:34] Episode: 042, Reward: 023\n",
            "I0201 09:12:20.057950 140054133258112 <ipython-input-7-ca35cd767901>:34] Episode: 043, Reward: 019\n",
            "I0201 09:12:20.186056 140054133258112 <ipython-input-7-ca35cd767901>:34] Episode: 044, Reward: 031\n",
            "I0201 09:12:20.389707 140054133258112 <ipython-input-7-ca35cd767901>:34] Episode: 045, Reward: 053\n",
            "I0201 09:12:20.551452 140054133258112 <ipython-input-7-ca35cd767901>:34] Episode: 046, Reward: 041\n",
            "I0201 09:12:20.614704 140054133258112 <ipython-input-7-ca35cd767901>:34] Episode: 047, Reward: 016\n",
            "I0201 09:12:20.723667 140054133258112 <ipython-input-7-ca35cd767901>:34] Episode: 048, Reward: 026\n",
            "I0201 09:12:20.840899 140054133258112 <ipython-input-7-ca35cd767901>:34] Episode: 049, Reward: 029\n",
            "I0201 09:12:20.946137 140054133258112 <ipython-input-7-ca35cd767901>:34] Episode: 050, Reward: 027\n",
            "I0201 09:12:21.063009 140054133258112 <ipython-input-7-ca35cd767901>:34] Episode: 051, Reward: 030\n",
            "I0201 09:12:21.117595 140054133258112 <ipython-input-7-ca35cd767901>:34] Episode: 052, Reward: 014\n",
            "I0201 09:12:21.177632 140054133258112 <ipython-input-7-ca35cd767901>:34] Episode: 053, Reward: 014\n",
            "I0201 09:12:21.257389 140054133258112 <ipython-input-7-ca35cd767901>:34] Episode: 054, Reward: 020\n",
            "I0201 09:12:21.360764 140054133258112 <ipython-input-7-ca35cd767901>:34] Episode: 055, Reward: 026\n",
            "I0201 09:12:21.477661 140054133258112 <ipython-input-7-ca35cd767901>:34] Episode: 056, Reward: 030\n",
            "I0201 09:12:21.567187 140054133258112 <ipython-input-7-ca35cd767901>:34] Episode: 057, Reward: 022\n",
            "I0201 09:12:21.723840 140054133258112 <ipython-input-7-ca35cd767901>:34] Episode: 058, Reward: 040\n",
            "I0201 09:12:21.817022 140054133258112 <ipython-input-7-ca35cd767901>:34] Episode: 059, Reward: 022\n",
            "I0201 09:12:21.965624 140054133258112 <ipython-input-7-ca35cd767901>:34] Episode: 060, Reward: 040\n",
            "I0201 09:12:22.070268 140054133258112 <ipython-input-7-ca35cd767901>:34] Episode: 061, Reward: 027\n",
            "I0201 09:12:22.136162 140054133258112 <ipython-input-7-ca35cd767901>:34] Episode: 062, Reward: 018\n",
            "I0201 09:12:22.307255 140054133258112 <ipython-input-7-ca35cd767901>:34] Episode: 063, Reward: 043\n",
            "I0201 09:12:22.430571 140054133258112 <ipython-input-7-ca35cd767901>:34] Episode: 064, Reward: 032\n",
            "I0201 09:12:22.636072 140054133258112 <ipython-input-7-ca35cd767901>:34] Episode: 065, Reward: 055\n",
            "I0201 09:12:22.719322 140054133258112 <ipython-input-7-ca35cd767901>:34] Episode: 066, Reward: 020\n",
            "I0201 09:12:22.816200 140054133258112 <ipython-input-7-ca35cd767901>:34] Episode: 067, Reward: 023\n",
            "I0201 09:12:22.896320 140054133258112 <ipython-input-7-ca35cd767901>:34] Episode: 068, Reward: 022\n",
            "I0201 09:12:22.959601 140054133258112 <ipython-input-7-ca35cd767901>:34] Episode: 069, Reward: 015\n",
            "I0201 09:12:23.321176 140054133258112 <ipython-input-7-ca35cd767901>:34] Episode: 070, Reward: 097\n",
            "I0201 09:12:23.426420 140054133258112 <ipython-input-7-ca35cd767901>:34] Episode: 071, Reward: 026\n",
            "I0201 09:12:23.507094 140054133258112 <ipython-input-7-ca35cd767901>:34] Episode: 072, Reward: 022\n",
            "I0201 09:12:23.600005 140054133258112 <ipython-input-7-ca35cd767901>:34] Episode: 073, Reward: 023\n",
            "I0201 09:12:23.691721 140054133258112 <ipython-input-7-ca35cd767901>:34] Episode: 074, Reward: 023\n",
            "I0201 09:12:23.796672 140054133258112 <ipython-input-7-ca35cd767901>:34] Episode: 075, Reward: 025\n",
            "I0201 09:12:23.835201 140054133258112 <ipython-input-7-ca35cd767901>:34] Episode: 076, Reward: 010\n",
            "I0201 09:12:23.932523 140054133258112 <ipython-input-7-ca35cd767901>:34] Episode: 077, Reward: 025\n",
            "I0201 09:12:24.029608 140054133258112 <ipython-input-7-ca35cd767901>:34] Episode: 078, Reward: 026\n",
            "I0201 09:12:24.097255 140054133258112 <ipython-input-7-ca35cd767901>:34] Episode: 079, Reward: 016\n",
            "I0201 09:12:24.172249 140054133258112 <ipython-input-7-ca35cd767901>:34] Episode: 080, Reward: 018\n",
            "I0201 09:12:24.275355 140054133258112 <ipython-input-7-ca35cd767901>:34] Episode: 081, Reward: 028\n",
            "I0201 09:12:24.447168 140054133258112 <ipython-input-7-ca35cd767901>:34] Episode: 082, Reward: 043\n",
            "I0201 09:12:24.501554 140054133258112 <ipython-input-7-ca35cd767901>:34] Episode: 083, Reward: 014\n",
            "I0201 09:12:24.560862 140054133258112 <ipython-input-7-ca35cd767901>:34] Episode: 084, Reward: 014\n",
            "I0201 09:12:24.854530 140054133258112 <ipython-input-7-ca35cd767901>:34] Episode: 085, Reward: 078\n",
            "I0201 09:12:25.005446 140054133258112 <ipython-input-7-ca35cd767901>:34] Episode: 086, Reward: 040\n",
            "I0201 09:12:25.120920 140054133258112 <ipython-input-7-ca35cd767901>:34] Episode: 087, Reward: 029\n",
            "I0201 09:12:25.204622 140054133258112 <ipython-input-7-ca35cd767901>:34] Episode: 088, Reward: 021\n",
            "I0201 09:12:25.325443 140054133258112 <ipython-input-7-ca35cd767901>:34] Episode: 089, Reward: 031\n",
            "I0201 09:12:25.387207 140054133258112 <ipython-input-7-ca35cd767901>:34] Episode: 090, Reward: 016\n",
            "I0201 09:12:25.587466 140054133258112 <ipython-input-7-ca35cd767901>:34] Episode: 091, Reward: 049\n",
            "I0201 09:12:25.700121 140054133258112 <ipython-input-7-ca35cd767901>:34] Episode: 092, Reward: 028\n",
            "I0201 09:12:26.009488 140054133258112 <ipython-input-7-ca35cd767901>:34] Episode: 093, Reward: 082\n",
            "I0201 09:12:26.074561 140054133258112 <ipython-input-7-ca35cd767901>:34] Episode: 094, Reward: 015\n",
            "I0201 09:12:26.170159 140054133258112 <ipython-input-7-ca35cd767901>:34] Episode: 095, Reward: 024\n",
            "I0201 09:12:26.435704 140054133258112 <ipython-input-7-ca35cd767901>:34] Episode: 096, Reward: 070\n",
            "I0201 09:12:26.651161 140054133258112 <ipython-input-7-ca35cd767901>:34] Episode: 097, Reward: 057\n",
            "I0201 09:12:26.795267 140054133258112 <ipython-input-7-ca35cd767901>:34] Episode: 098, Reward: 039\n",
            "I0201 09:12:26.969607 140054133258112 <ipython-input-7-ca35cd767901>:34] Episode: 099, Reward: 045\n",
            "I0201 09:12:27.028071 140054133258112 <ipython-input-7-ca35cd767901>:34] Episode: 100, Reward: 013\n",
            "I0201 09:12:27.148315 140054133258112 <ipython-input-7-ca35cd767901>:34] Episode: 101, Reward: 031\n",
            "I0201 09:12:27.270186 140054133258112 <ipython-input-7-ca35cd767901>:34] Episode: 102, Reward: 032\n",
            "I0201 09:12:27.450932 140054133258112 <ipython-input-7-ca35cd767901>:34] Episode: 103, Reward: 048\n",
            "I0201 09:12:27.612881 140054133258112 <ipython-input-7-ca35cd767901>:34] Episode: 104, Reward: 042\n",
            "I0201 09:12:27.782360 140054133258112 <ipython-input-7-ca35cd767901>:34] Episode: 105, Reward: 043\n",
            "I0201 09:12:27.910150 140054133258112 <ipython-input-7-ca35cd767901>:34] Episode: 106, Reward: 032\n",
            "I0201 09:12:28.056543 140054133258112 <ipython-input-7-ca35cd767901>:34] Episode: 107, Reward: 039\n",
            "I0201 09:12:28.111483 140054133258112 <ipython-input-7-ca35cd767901>:34] Episode: 108, Reward: 014\n",
            "I0201 09:12:28.257500 140054133258112 <ipython-input-7-ca35cd767901>:34] Episode: 109, Reward: 037\n",
            "I0201 09:12:28.420719 140054133258112 <ipython-input-7-ca35cd767901>:34] Episode: 110, Reward: 038\n",
            "I0201 09:12:28.597976 140054133258112 <ipython-input-7-ca35cd767901>:34] Episode: 111, Reward: 047\n",
            "I0201 09:12:28.718543 140054133258112 <ipython-input-7-ca35cd767901>:34] Episode: 112, Reward: 031\n",
            "I0201 09:12:28.805144 140054133258112 <ipython-input-7-ca35cd767901>:34] Episode: 113, Reward: 022\n",
            "I0201 09:12:28.923187 140054133258112 <ipython-input-7-ca35cd767901>:34] Episode: 114, Reward: 029\n",
            "I0201 09:12:29.071304 140054133258112 <ipython-input-7-ca35cd767901>:34] Episode: 115, Reward: 039\n",
            "I0201 09:12:29.151230 140054133258112 <ipython-input-7-ca35cd767901>:34] Episode: 116, Reward: 019\n",
            "I0201 09:12:29.255220 140054133258112 <ipython-input-7-ca35cd767901>:34] Episode: 117, Reward: 029\n",
            "I0201 09:12:29.493589 140054133258112 <ipython-input-7-ca35cd767901>:34] Episode: 118, Reward: 063\n",
            "I0201 09:12:29.621387 140054133258112 <ipython-input-7-ca35cd767901>:34] Episode: 119, Reward: 032\n",
            "I0201 09:12:29.675350 140054133258112 <ipython-input-7-ca35cd767901>:34] Episode: 120, Reward: 012\n",
            "I0201 09:12:29.775427 140054133258112 <ipython-input-7-ca35cd767901>:34] Episode: 121, Reward: 026\n",
            "I0201 09:12:29.964474 140054133258112 <ipython-input-7-ca35cd767901>:34] Episode: 122, Reward: 049\n",
            "I0201 09:12:30.194226 140054133258112 <ipython-input-7-ca35cd767901>:34] Episode: 123, Reward: 061\n",
            "I0201 09:12:30.321756 140054133258112 <ipython-input-7-ca35cd767901>:34] Episode: 124, Reward: 032\n",
            "I0201 09:12:30.372499 140054133258112 <ipython-input-7-ca35cd767901>:34] Episode: 125, Reward: 013\n",
            "I0201 09:12:30.661536 140054133258112 <ipython-input-7-ca35cd767901>:34] Episode: 126, Reward: 076\n",
            "I0201 09:12:30.765637 140054133258112 <ipython-input-7-ca35cd767901>:34] Episode: 127, Reward: 027\n",
            "I0201 09:12:30.851926 140054133258112 <ipython-input-7-ca35cd767901>:34] Episode: 128, Reward: 024\n",
            "I0201 09:12:30.952301 140054133258112 <ipython-input-7-ca35cd767901>:34] Episode: 129, Reward: 024\n",
            "I0201 09:12:31.048762 140054133258112 <ipython-input-7-ca35cd767901>:34] Episode: 130, Reward: 024\n",
            "I0201 09:12:31.256421 140054133258112 <ipython-input-7-ca35cd767901>:34] Episode: 131, Reward: 054\n",
            "I0201 09:12:31.325521 140054133258112 <ipython-input-7-ca35cd767901>:34] Episode: 132, Reward: 018\n",
            "I0201 09:12:31.512727 140054133258112 <ipython-input-7-ca35cd767901>:34] Episode: 133, Reward: 049\n",
            "I0201 09:12:31.627849 140054133258112 <ipython-input-7-ca35cd767901>:34] Episode: 134, Reward: 029\n",
            "I0201 09:12:31.811791 140054133258112 <ipython-input-7-ca35cd767901>:34] Episode: 135, Reward: 049\n",
            "I0201 09:12:31.964884 140054133258112 <ipython-input-7-ca35cd767901>:34] Episode: 136, Reward: 039\n",
            "I0201 09:12:32.268316 140054133258112 <ipython-input-7-ca35cd767901>:34] Episode: 137, Reward: 078\n",
            "I0201 09:12:32.540266 140054133258112 <ipython-input-7-ca35cd767901>:34] Episode: 138, Reward: 073\n",
            "I0201 09:12:32.641423 140054133258112 <ipython-input-7-ca35cd767901>:34] Episode: 139, Reward: 025\n",
            "I0201 09:12:32.740988 140054133258112 <ipython-input-7-ca35cd767901>:34] Episode: 140, Reward: 025\n",
            "I0201 09:12:32.878611 140054133258112 <ipython-input-7-ca35cd767901>:34] Episode: 141, Reward: 037\n",
            "I0201 09:12:32.980386 140054133258112 <ipython-input-7-ca35cd767901>:34] Episode: 142, Reward: 024\n",
            "I0201 09:12:33.112675 140054133258112 <ipython-input-7-ca35cd767901>:34] Episode: 143, Reward: 034\n",
            "I0201 09:12:33.542332 140054133258112 <ipython-input-7-ca35cd767901>:34] Episode: 144, Reward: 117\n",
            "I0201 09:12:33.627522 140054133258112 <ipython-input-7-ca35cd767901>:34] Episode: 145, Reward: 021\n",
            "I0201 09:12:33.752282 140054133258112 <ipython-input-7-ca35cd767901>:34] Episode: 146, Reward: 032\n",
            "I0201 09:12:33.846293 140054133258112 <ipython-input-7-ca35cd767901>:34] Episode: 147, Reward: 024\n",
            "I0201 09:12:33.982183 140054133258112 <ipython-input-7-ca35cd767901>:34] Episode: 148, Reward: 034\n",
            "I0201 09:12:34.240759 140054133258112 <ipython-input-7-ca35cd767901>:34] Episode: 149, Reward: 069\n",
            "I0201 09:12:34.337548 140054133258112 <ipython-input-7-ca35cd767901>:34] Episode: 150, Reward: 024\n",
            "I0201 09:12:34.506628 140054133258112 <ipython-input-7-ca35cd767901>:34] Episode: 151, Reward: 045\n",
            "I0201 09:12:34.613697 140054133258112 <ipython-input-7-ca35cd767901>:34] Episode: 152, Reward: 027\n",
            "I0201 09:12:34.797344 140054133258112 <ipython-input-7-ca35cd767901>:34] Episode: 153, Reward: 049\n",
            "I0201 09:12:34.913428 140054133258112 <ipython-input-7-ca35cd767901>:34] Episode: 154, Reward: 030\n",
            "I0201 09:12:35.125566 140054133258112 <ipython-input-7-ca35cd767901>:34] Episode: 155, Reward: 053\n",
            "I0201 09:12:35.379423 140054133258112 <ipython-input-7-ca35cd767901>:34] Episode: 156, Reward: 067\n",
            "I0201 09:12:35.596180 140054133258112 <ipython-input-7-ca35cd767901>:34] Episode: 157, Reward: 057\n",
            "I0201 09:12:35.701703 140054133258112 <ipython-input-7-ca35cd767901>:34] Episode: 158, Reward: 026\n",
            "I0201 09:12:35.905439 140054133258112 <ipython-input-7-ca35cd767901>:34] Episode: 159, Reward: 055\n",
            "I0201 09:12:36.115405 140054133258112 <ipython-input-7-ca35cd767901>:34] Episode: 160, Reward: 054\n",
            "I0201 09:12:36.485197 140054133258112 <ipython-input-7-ca35cd767901>:34] Episode: 161, Reward: 094\n",
            "I0201 09:12:36.657112 140054133258112 <ipython-input-7-ca35cd767901>:34] Episode: 162, Reward: 046\n",
            "I0201 09:12:36.715713 140054133258112 <ipython-input-7-ca35cd767901>:34] Episode: 163, Reward: 013\n",
            "I0201 09:12:36.940587 140054133258112 <ipython-input-7-ca35cd767901>:34] Episode: 164, Reward: 060\n",
            "I0201 09:12:36.985015 140054133258112 <ipython-input-7-ca35cd767901>:34] Episode: 165, Reward: 011\n",
            "I0201 09:12:37.103823 140054133258112 <ipython-input-7-ca35cd767901>:34] Episode: 166, Reward: 029\n",
            "I0201 09:12:37.279576 140054133258112 <ipython-input-7-ca35cd767901>:34] Episode: 167, Reward: 047\n",
            "I0201 09:12:37.399701 140054133258112 <ipython-input-7-ca35cd767901>:34] Episode: 168, Reward: 028\n",
            "I0201 09:12:37.671501 140054133258112 <ipython-input-7-ca35cd767901>:34] Episode: 169, Reward: 070\n",
            "I0201 09:12:37.768187 140054133258112 <ipython-input-7-ca35cd767901>:34] Episode: 170, Reward: 026\n",
            "I0201 09:12:37.883910 140054133258112 <ipython-input-7-ca35cd767901>:34] Episode: 171, Reward: 030\n",
            "I0201 09:12:37.962211 140054133258112 <ipython-input-7-ca35cd767901>:34] Episode: 172, Reward: 019\n",
            "I0201 09:12:38.047332 140054133258112 <ipython-input-7-ca35cd767901>:34] Episode: 173, Reward: 020\n",
            "I0201 09:12:38.185603 140054133258112 <ipython-input-7-ca35cd767901>:34] Episode: 174, Reward: 035\n",
            "I0201 09:12:38.403390 140054133258112 <ipython-input-7-ca35cd767901>:34] Episode: 175, Reward: 059\n",
            "I0201 09:12:38.732912 140054133258112 <ipython-input-7-ca35cd767901>:34] Episode: 176, Reward: 087\n",
            "I0201 09:12:39.215093 140054133258112 <ipython-input-7-ca35cd767901>:34] Episode: 177, Reward: 127\n",
            "I0201 09:12:39.708613 140054133258112 <ipython-input-7-ca35cd767901>:34] Episode: 178, Reward: 132\n",
            "I0201 09:12:39.875220 140054133258112 <ipython-input-7-ca35cd767901>:34] Episode: 179, Reward: 042\n",
            "I0201 09:12:40.097803 140054133258112 <ipython-input-7-ca35cd767901>:34] Episode: 180, Reward: 058\n",
            "I0201 09:12:40.303884 140054133258112 <ipython-input-7-ca35cd767901>:34] Episode: 181, Reward: 053\n",
            "I0201 09:12:40.466944 140054133258112 <ipython-input-7-ca35cd767901>:34] Episode: 182, Reward: 043\n",
            "I0201 09:12:40.704103 140054133258112 <ipython-input-7-ca35cd767901>:34] Episode: 183, Reward: 062\n",
            "I0201 09:12:41.126749 140054133258112 <ipython-input-7-ca35cd767901>:34] Episode: 184, Reward: 111\n",
            "I0201 09:12:41.268734 140054133258112 <ipython-input-7-ca35cd767901>:34] Episode: 185, Reward: 038\n",
            "I0201 09:12:41.386770 140054133258112 <ipython-input-7-ca35cd767901>:34] Episode: 186, Reward: 030\n",
            "I0201 09:12:41.613312 140054133258112 <ipython-input-7-ca35cd767901>:34] Episode: 187, Reward: 060\n",
            "I0201 09:12:41.909700 140054133258112 <ipython-input-7-ca35cd767901>:34] Episode: 188, Reward: 080\n",
            "I0201 09:12:42.075029 140054133258112 <ipython-input-7-ca35cd767901>:34] Episode: 189, Reward: 042\n",
            "I0201 09:12:42.261710 140054133258112 <ipython-input-7-ca35cd767901>:34] Episode: 190, Reward: 048\n",
            "I0201 09:12:42.361644 140054133258112 <ipython-input-7-ca35cd767901>:34] Episode: 191, Reward: 024\n",
            "I0201 09:12:42.626675 140054133258112 <ipython-input-7-ca35cd767901>:34] Episode: 192, Reward: 069\n",
            "I0201 09:12:43.029397 140054133258112 <ipython-input-7-ca35cd767901>:34] Episode: 193, Reward: 109\n",
            "I0201 09:12:43.154350 140054133258112 <ipython-input-7-ca35cd767901>:34] Episode: 194, Reward: 030\n",
            "I0201 09:12:43.312602 140054133258112 <ipython-input-7-ca35cd767901>:34] Episode: 195, Reward: 039\n",
            "I0201 09:12:43.382516 140054133258112 <ipython-input-7-ca35cd767901>:34] Episode: 196, Reward: 019\n",
            "I0201 09:12:43.539360 140054133258112 <ipython-input-7-ca35cd767901>:34] Episode: 197, Reward: 041\n",
            "I0201 09:12:43.630031 140054133258112 <ipython-input-7-ca35cd767901>:34] Episode: 198, Reward: 023\n",
            "I0201 09:12:43.805395 140054133258112 <ipython-input-7-ca35cd767901>:34] Episode: 199, Reward: 045\n",
            "I0201 09:12:43.938905 140054133258112 <ipython-input-7-ca35cd767901>:34] Episode: 200, Reward: 035\n",
            "I0201 09:12:44.188972 140054133258112 <ipython-input-7-ca35cd767901>:34] Episode: 201, Reward: 064\n",
            "I0201 09:12:44.422745 140054133258112 <ipython-input-7-ca35cd767901>:34] Episode: 202, Reward: 061\n",
            "I0201 09:12:44.641727 140054133258112 <ipython-input-7-ca35cd767901>:34] Episode: 203, Reward: 060\n",
            "I0201 09:12:44.766445 140054133258112 <ipython-input-7-ca35cd767901>:34] Episode: 204, Reward: 032\n",
            "I0201 09:12:44.947956 140054133258112 <ipython-input-7-ca35cd767901>:34] Episode: 205, Reward: 047\n",
            "I0201 09:12:45.109048 140054133258112 <ipython-input-7-ca35cd767901>:34] Episode: 206, Reward: 043\n",
            "I0201 09:12:45.360300 140054133258112 <ipython-input-7-ca35cd767901>:34] Episode: 207, Reward: 066\n",
            "I0201 09:12:45.558882 140054133258112 <ipython-input-7-ca35cd767901>:34] Episode: 208, Reward: 052\n",
            "I0201 09:12:45.759633 140054133258112 <ipython-input-7-ca35cd767901>:34] Episode: 209, Reward: 053\n",
            "I0201 09:12:45.985472 140054133258112 <ipython-input-7-ca35cd767901>:34] Episode: 210, Reward: 061\n",
            "I0201 09:12:46.109316 140054133258112 <ipython-input-7-ca35cd767901>:34] Episode: 211, Reward: 032\n",
            "I0201 09:12:46.260267 140054133258112 <ipython-input-7-ca35cd767901>:34] Episode: 212, Reward: 036\n",
            "I0201 09:12:46.509901 140054133258112 <ipython-input-7-ca35cd767901>:34] Episode: 213, Reward: 067\n",
            "I0201 09:12:46.598665 140054133258112 <ipython-input-7-ca35cd767901>:34] Episode: 214, Reward: 024\n",
            "I0201 09:12:46.775049 140054133258112 <ipython-input-7-ca35cd767901>:34] Episode: 215, Reward: 045\n",
            "I0201 09:12:46.992758 140054133258112 <ipython-input-7-ca35cd767901>:34] Episode: 216, Reward: 057\n",
            "I0201 09:12:47.336308 140054133258112 <ipython-input-7-ca35cd767901>:34] Episode: 217, Reward: 090\n",
            "I0201 09:12:47.915466 140054133258112 <ipython-input-7-ca35cd767901>:34] Episode: 218, Reward: 157\n",
            "I0201 09:12:48.315065 140054133258112 <ipython-input-7-ca35cd767901>:34] Episode: 219, Reward: 104\n",
            "I0201 09:12:48.493387 140054133258112 <ipython-input-7-ca35cd767901>:34] Episode: 220, Reward: 048\n",
            "I0201 09:12:48.601442 140054133258112 <ipython-input-7-ca35cd767901>:34] Episode: 221, Reward: 027\n",
            "I0201 09:12:48.834745 140054133258112 <ipython-input-7-ca35cd767901>:34] Episode: 222, Reward: 061\n",
            "I0201 09:12:49.070558 140054133258112 <ipython-input-7-ca35cd767901>:34] Episode: 223, Reward: 063\n",
            "I0201 09:12:49.358352 140054133258112 <ipython-input-7-ca35cd767901>:34] Episode: 224, Reward: 076\n",
            "I0201 09:12:49.434408 140054133258112 <ipython-input-7-ca35cd767901>:34] Episode: 225, Reward: 018\n",
            "I0201 09:12:50.004263 140054133258112 <ipython-input-7-ca35cd767901>:34] Episode: 226, Reward: 154\n",
            "I0201 09:12:50.262554 140054133258112 <ipython-input-7-ca35cd767901>:34] Episode: 227, Reward: 067\n",
            "I0201 09:12:50.370199 140054133258112 <ipython-input-7-ca35cd767901>:34] Episode: 228, Reward: 027\n",
            "I0201 09:12:50.882585 140054133258112 <ipython-input-7-ca35cd767901>:34] Episode: 229, Reward: 139\n",
            "I0201 09:12:51.178590 140054133258112 <ipython-input-7-ca35cd767901>:34] Episode: 230, Reward: 080\n",
            "I0201 09:12:51.309435 140054133258112 <ipython-input-7-ca35cd767901>:34] Episode: 231, Reward: 032\n",
            "I0201 09:12:51.647351 140054133258112 <ipython-input-7-ca35cd767901>:34] Episode: 232, Reward: 087\n",
            "I0201 09:12:52.102766 140054133258112 <ipython-input-7-ca35cd767901>:34] Episode: 233, Reward: 120\n",
            "I0201 09:12:52.412140 140054133258112 <ipython-input-7-ca35cd767901>:34] Episode: 234, Reward: 080\n",
            "I0201 09:12:52.857884 140054133258112 <ipython-input-7-ca35cd767901>:34] Episode: 235, Reward: 117\n",
            "I0201 09:12:53.164505 140054133258112 <ipython-input-7-ca35cd767901>:34] Episode: 236, Reward: 081\n",
            "I0201 09:12:53.791885 140054133258112 <ipython-input-7-ca35cd767901>:34] Episode: 237, Reward: 162\n",
            "I0201 09:12:54.242426 140054133258112 <ipython-input-7-ca35cd767901>:34] Episode: 238, Reward: 121\n",
            "I0201 09:12:54.479934 140054133258112 <ipython-input-7-ca35cd767901>:34] Episode: 239, Reward: 062\n",
            "I0201 09:12:54.595923 140054133258112 <ipython-input-7-ca35cd767901>:34] Episode: 240, Reward: 030\n",
            "I0201 09:12:54.944595 140054133258112 <ipython-input-7-ca35cd767901>:34] Episode: 241, Reward: 093\n",
            "I0201 09:12:55.344000 140054133258112 <ipython-input-7-ca35cd767901>:34] Episode: 242, Reward: 106\n",
            "I0201 09:12:55.504296 140054133258112 <ipython-input-7-ca35cd767901>:34] Episode: 243, Reward: 041\n",
            "I0201 09:12:55.740067 140054133258112 <ipython-input-7-ca35cd767901>:34] Episode: 244, Reward: 061\n",
            "I0201 09:12:55.904446 140054133258112 <ipython-input-7-ca35cd767901>:34] Episode: 245, Reward: 045\n",
            "I0201 09:12:56.125851 140054133258112 <ipython-input-7-ca35cd767901>:34] Episode: 246, Reward: 058\n",
            "I0201 09:12:56.312926 140054133258112 <ipython-input-7-ca35cd767901>:34] Episode: 247, Reward: 050\n",
            "I0201 09:12:56.390874 140054133258112 <ipython-input-7-ca35cd767901>:34] Episode: 248, Reward: 017\n",
            "I0201 09:12:56.492788 140054133258112 <ipython-input-7-ca35cd767901>:34] Episode: 249, Reward: 026\n",
            "I0201 09:12:56.892097 140054133258112 <ipython-input-7-ca35cd767901>:34] Episode: 250, Reward: 108\n",
            "I0201 09:12:57.632566 140054133258112 <ipython-input-7-ca35cd767901>:34] Episode: 251, Reward: 200\n",
            "I0201 09:12:57.928045 140054133258112 <ipython-input-7-ca35cd767901>:34] Episode: 252, Reward: 078\n",
            "I0201 09:12:58.459373 140054133258112 <ipython-input-7-ca35cd767901>:34] Episode: 253, Reward: 144\n",
            "I0201 09:12:58.872967 140054133258112 <ipython-input-7-ca35cd767901>:34] Episode: 254, Reward: 110\n",
            "I0201 09:12:59.185473 140054133258112 <ipython-input-7-ca35cd767901>:34] Episode: 255, Reward: 086\n",
            "I0201 09:12:59.343682 140054133258112 <ipython-input-7-ca35cd767901>:34] Episode: 256, Reward: 040\n",
            "I0201 09:12:59.669768 140054133258112 <ipython-input-7-ca35cd767901>:34] Episode: 257, Reward: 087\n",
            "I0201 09:12:59.885137 140054133258112 <ipython-input-7-ca35cd767901>:34] Episode: 258, Reward: 056\n",
            "I0201 09:13:00.294662 140054133258112 <ipython-input-7-ca35cd767901>:34] Episode: 259, Reward: 110\n",
            "I0201 09:13:00.466234 140054133258112 <ipython-input-7-ca35cd767901>:34] Episode: 260, Reward: 044\n",
            "I0201 09:13:00.970043 140054133258112 <ipython-input-7-ca35cd767901>:34] Episode: 261, Reward: 137\n",
            "I0201 09:13:01.183394 140054133258112 <ipython-input-7-ca35cd767901>:34] Episode: 262, Reward: 057\n",
            "I0201 09:13:01.581128 140054133258112 <ipython-input-7-ca35cd767901>:34] Episode: 263, Reward: 105\n",
            "I0201 09:13:01.945379 140054133258112 <ipython-input-7-ca35cd767901>:34] Episode: 264, Reward: 099\n",
            "I0201 09:13:02.090721 140054133258112 <ipython-input-7-ca35cd767901>:34] Episode: 265, Reward: 037\n",
            "I0201 09:13:02.544232 140054133258112 <ipython-input-7-ca35cd767901>:34] Episode: 266, Reward: 122\n",
            "I0201 09:13:02.933772 140054133258112 <ipython-input-7-ca35cd767901>:34] Episode: 267, Reward: 102\n",
            "I0201 09:13:03.227936 140054133258112 <ipython-input-7-ca35cd767901>:34] Episode: 268, Reward: 080\n",
            "I0201 09:13:03.621254 140054133258112 <ipython-input-7-ca35cd767901>:34] Episode: 269, Reward: 105\n",
            "I0201 09:13:04.022954 140054133258112 <ipython-input-7-ca35cd767901>:34] Episode: 270, Reward: 108\n",
            "I0201 09:13:04.326018 140054133258112 <ipython-input-7-ca35cd767901>:34] Episode: 271, Reward: 083\n",
            "I0201 09:13:05.081911 140054133258112 <ipython-input-7-ca35cd767901>:34] Episode: 272, Reward: 200\n",
            "I0201 09:13:05.221443 140054133258112 <ipython-input-7-ca35cd767901>:34] Episode: 273, Reward: 036\n",
            "I0201 09:13:05.689776 140054133258112 <ipython-input-7-ca35cd767901>:34] Episode: 274, Reward: 123\n",
            "I0201 09:13:06.126905 140054133258112 <ipython-input-7-ca35cd767901>:34] Episode: 275, Reward: 119\n",
            "I0201 09:13:06.413027 140054133258112 <ipython-input-7-ca35cd767901>:34] Episode: 276, Reward: 075\n",
            "I0201 09:13:06.913162 140054133258112 <ipython-input-7-ca35cd767901>:34] Episode: 277, Reward: 133\n",
            "I0201 09:13:07.356697 140054133258112 <ipython-input-7-ca35cd767901>:34] Episode: 278, Reward: 119\n",
            "I0201 09:13:07.905860 140054133258112 <ipython-input-7-ca35cd767901>:34] Episode: 279, Reward: 146\n",
            "I0201 09:13:08.309119 140054133258112 <ipython-input-7-ca35cd767901>:34] Episode: 280, Reward: 109\n",
            "I0201 09:13:08.813886 140054133258112 <ipython-input-7-ca35cd767901>:34] Episode: 281, Reward: 133\n",
            "I0201 09:13:09.200782 140054133258112 <ipython-input-7-ca35cd767901>:34] Episode: 282, Reward: 106\n",
            "I0201 09:13:09.641966 140054133258112 <ipython-input-7-ca35cd767901>:34] Episode: 283, Reward: 114\n",
            "I0201 09:13:10.338031 140054133258112 <ipython-input-7-ca35cd767901>:34] Episode: 284, Reward: 189\n",
            "I0201 09:13:10.997922 140054133258112 <ipython-input-7-ca35cd767901>:34] Episode: 285, Reward: 177\n",
            "I0201 09:13:11.231141 140054133258112 <ipython-input-7-ca35cd767901>:34] Episode: 286, Reward: 061\n",
            "I0201 09:13:11.405215 140054133258112 <ipython-input-7-ca35cd767901>:34] Episode: 287, Reward: 045\n",
            "I0201 09:13:11.914551 140054133258112 <ipython-input-7-ca35cd767901>:34] Episode: 288, Reward: 136\n",
            "I0201 09:13:12.482454 140054133258112 <ipython-input-7-ca35cd767901>:34] Episode: 289, Reward: 151\n",
            "I0201 09:13:13.151788 140054133258112 <ipython-input-7-ca35cd767901>:34] Episode: 290, Reward: 175\n",
            "I0201 09:13:13.806430 140054133258112 <ipython-input-7-ca35cd767901>:34] Episode: 291, Reward: 170\n",
            "I0201 09:13:14.204021 140054133258112 <ipython-input-7-ca35cd767901>:34] Episode: 292, Reward: 099\n",
            "I0201 09:13:14.652394 140054133258112 <ipython-input-7-ca35cd767901>:34] Episode: 293, Reward: 118\n",
            "I0201 09:13:15.084596 140054133258112 <ipython-input-7-ca35cd767901>:34] Episode: 294, Reward: 117\n",
            "I0201 09:13:15.408097 140054133258112 <ipython-input-7-ca35cd767901>:34] Episode: 295, Reward: 085\n",
            "I0201 09:13:16.150989 140054133258112 <ipython-input-7-ca35cd767901>:34] Episode: 296, Reward: 199\n",
            "I0201 09:13:16.561832 140054133258112 <ipython-input-7-ca35cd767901>:34] Episode: 297, Reward: 108\n",
            "I0201 09:13:17.320014 140054133258112 <ipython-input-7-ca35cd767901>:34] Episode: 298, Reward: 200\n",
            "I0201 09:13:17.841970 140054133258112 <ipython-input-7-ca35cd767901>:34] Episode: 299, Reward: 138\n",
            "I0201 09:13:18.391170 140054133258112 <ipython-input-7-ca35cd767901>:34] Episode: 300, Reward: 147\n",
            "I0201 09:13:19.137505 140054133258112 <ipython-input-7-ca35cd767901>:34] Episode: 301, Reward: 200\n",
            "I0201 09:13:19.723582 140054133258112 <ipython-input-7-ca35cd767901>:34] Episode: 302, Reward: 158\n",
            "I0201 09:13:20.471978 140054133258112 <ipython-input-7-ca35cd767901>:34] Episode: 303, Reward: 200\n",
            "I0201 09:13:21.223285 140054133258112 <ipython-input-7-ca35cd767901>:34] Episode: 304, Reward: 200\n",
            "I0201 09:13:21.374040 140054133258112 <ipython-input-7-ca35cd767901>:34] Episode: 305, Reward: 040\n",
            "I0201 09:13:22.119469 140054133258112 <ipython-input-7-ca35cd767901>:34] Episode: 306, Reward: 200\n",
            "I0201 09:13:22.861771 140054133258112 <ipython-input-7-ca35cd767901>:34] Episode: 307, Reward: 200\n",
            "I0201 09:13:23.605772 140054133258112 <ipython-input-7-ca35cd767901>:34] Episode: 308, Reward: 200\n",
            "I0201 09:13:23.855360 140054133258112 <ipython-input-7-ca35cd767901>:34] Episode: 309, Reward: 064\n",
            "I0201 09:13:23.927960 140054133258112 <ipython-input-7-ca35cd767901>:34] Episode: 310, Reward: 019\n",
            "I0201 09:13:24.395700 140054133258112 <ipython-input-7-ca35cd767901>:34] Episode: 311, Reward: 126\n",
            "I0201 09:13:25.128209 140054133258112 <ipython-input-7-ca35cd767901>:34] Episode: 312, Reward: 197\n",
            "I0201 09:13:25.759134 140054133258112 <ipython-input-7-ca35cd767901>:34] Episode: 313, Reward: 166\n",
            "I0201 09:13:26.381414 140054133258112 <ipython-input-7-ca35cd767901>:34] Episode: 314, Reward: 159\n",
            "I0201 09:13:27.161176 140054133258112 <ipython-input-7-ca35cd767901>:34] Episode: 315, Reward: 200\n",
            "I0201 09:13:27.929166 140054133258112 <ipython-input-7-ca35cd767901>:34] Episode: 316, Reward: 200\n",
            "I0201 09:13:28.686654 140054133258112 <ipython-input-7-ca35cd767901>:34] Episode: 317, Reward: 200\n",
            "I0201 09:13:28.868284 140054133258112 <ipython-input-7-ca35cd767901>:34] Episode: 318, Reward: 046\n",
            "I0201 09:13:29.253479 140054133258112 <ipython-input-7-ca35cd767901>:34] Episode: 319, Reward: 101\n",
            "I0201 09:13:29.888936 140054133258112 <ipython-input-7-ca35cd767901>:34] Episode: 320, Reward: 170\n",
            "I0201 09:13:30.300624 140054133258112 <ipython-input-7-ca35cd767901>:34] Episode: 321, Reward: 109\n",
            "I0201 09:13:30.770542 140054133258112 <ipython-input-7-ca35cd767901>:34] Episode: 322, Reward: 124\n",
            "I0201 09:13:31.247301 140054133258112 <ipython-input-7-ca35cd767901>:34] Episode: 323, Reward: 127\n",
            "I0201 09:13:31.723469 140054133258112 <ipython-input-7-ca35cd767901>:34] Episode: 324, Reward: 129\n",
            "I0201 09:13:32.012639 140054133258112 <ipython-input-7-ca35cd767901>:34] Episode: 325, Reward: 074\n",
            "I0201 09:13:32.365636 140054133258112 <ipython-input-7-ca35cd767901>:34] Episode: 326, Reward: 095\n",
            "I0201 09:13:32.797691 140054133258112 <ipython-input-7-ca35cd767901>:34] Episode: 327, Reward: 118\n",
            "I0201 09:13:33.299461 140054133258112 <ipython-input-7-ca35cd767901>:34] Episode: 328, Reward: 132\n",
            "I0201 09:13:33.702061 140054133258112 <ipython-input-7-ca35cd767901>:34] Episode: 329, Reward: 103\n",
            "I0201 09:13:33.874404 140054133258112 <ipython-input-7-ca35cd767901>:34] Episode: 330, Reward: 045\n",
            "I0201 09:13:34.616341 140054133258112 <ipython-input-7-ca35cd767901>:34] Episode: 331, Reward: 200\n",
            "I0201 09:13:34.931564 140054133258112 <ipython-input-7-ca35cd767901>:34] Episode: 332, Reward: 083\n",
            "I0201 09:13:35.451929 140054133258112 <ipython-input-7-ca35cd767901>:34] Episode: 333, Reward: 139\n",
            "I0201 09:13:35.930953 140054133258112 <ipython-input-7-ca35cd767901>:34] Episode: 334, Reward: 130\n",
            "I0201 09:13:36.432988 140054133258112 <ipython-input-7-ca35cd767901>:34] Episode: 335, Reward: 134\n",
            "I0201 09:13:37.076711 140054133258112 <ipython-input-7-ca35cd767901>:34] Episode: 336, Reward: 170\n",
            "I0201 09:13:37.763750 140054133258112 <ipython-input-7-ca35cd767901>:34] Episode: 337, Reward: 184\n",
            "I0201 09:13:38.263376 140054133258112 <ipython-input-7-ca35cd767901>:34] Episode: 338, Reward: 133\n",
            "I0201 09:13:38.967479 140054133258112 <ipython-input-7-ca35cd767901>:34] Episode: 339, Reward: 191\n",
            "I0201 09:13:39.372905 140054133258112 <ipython-input-7-ca35cd767901>:34] Episode: 340, Reward: 108\n",
            "I0201 09:13:39.925323 140054133258112 <ipython-input-7-ca35cd767901>:34] Episode: 341, Reward: 146\n",
            "I0201 09:13:40.676379 140054133258112 <ipython-input-7-ca35cd767901>:34] Episode: 342, Reward: 200\n",
            "I0201 09:13:41.357161 140054133258112 <ipython-input-7-ca35cd767901>:34] Episode: 343, Reward: 183\n",
            "I0201 09:13:41.789611 140054133258112 <ipython-input-7-ca35cd767901>:34] Episode: 344, Reward: 117\n",
            "I0201 09:13:42.332016 140054133258112 <ipython-input-7-ca35cd767901>:34] Episode: 345, Reward: 143\n",
            "I0201 09:13:43.065178 140054133258112 <ipython-input-7-ca35cd767901>:34] Episode: 346, Reward: 200\n",
            "I0201 09:13:43.814297 140054133258112 <ipython-input-7-ca35cd767901>:34] Episode: 347, Reward: 200\n",
            "I0201 09:13:44.558873 140054133258112 <ipython-input-7-ca35cd767901>:34] Episode: 348, Reward: 200\n",
            "I0201 09:13:44.992320 140054133258112 <ipython-input-7-ca35cd767901>:34] Episode: 349, Reward: 114\n",
            "I0201 09:13:45.486873 140054133258112 <ipython-input-7-ca35cd767901>:34] Episode: 350, Reward: 129\n",
            "I0201 09:13:45.976605 140054133258112 <ipython-input-7-ca35cd767901>:34] Episode: 351, Reward: 132\n",
            "I0201 09:13:46.488001 140054133258112 <ipython-input-7-ca35cd767901>:34] Episode: 352, Reward: 135\n",
            "I0201 09:13:46.882728 140054133258112 <ipython-input-7-ca35cd767901>:34] Episode: 353, Reward: 105\n",
            "I0201 09:13:47.312044 140054133258112 <ipython-input-7-ca35cd767901>:34] Episode: 354, Reward: 115\n",
            "I0201 09:13:47.969627 140054133258112 <ipython-input-7-ca35cd767901>:34] Episode: 355, Reward: 178\n",
            "I0201 09:13:48.355719 140054133258112 <ipython-input-7-ca35cd767901>:34] Episode: 356, Reward: 101\n",
            "I0201 09:13:49.091950 140054133258112 <ipython-input-7-ca35cd767901>:34] Episode: 357, Reward: 200\n",
            "I0201 09:13:49.751708 140054133258112 <ipython-input-7-ca35cd767901>:34] Episode: 358, Reward: 176\n",
            "I0201 09:13:50.477992 140054133258112 <ipython-input-7-ca35cd767901>:34] Episode: 359, Reward: 195\n",
            "I0201 09:13:51.211448 140054133258112 <ipython-input-7-ca35cd767901>:34] Episode: 360, Reward: 200\n",
            "I0201 09:13:51.796275 140054133258112 <ipython-input-7-ca35cd767901>:34] Episode: 361, Reward: 156\n",
            "I0201 09:13:52.539243 140054133258112 <ipython-input-7-ca35cd767901>:34] Episode: 362, Reward: 200\n",
            "I0201 09:13:53.024937 140054133258112 <ipython-input-7-ca35cd767901>:34] Episode: 363, Reward: 129\n",
            "I0201 09:13:53.555196 140054133258112 <ipython-input-7-ca35cd767901>:34] Episode: 364, Reward: 138\n",
            "I0201 09:13:54.145707 140054133258112 <ipython-input-7-ca35cd767901>:34] Episode: 365, Reward: 160\n",
            "I0201 09:13:54.843902 140054133258112 <ipython-input-7-ca35cd767901>:34] Episode: 366, Reward: 189\n",
            "I0201 09:13:55.388284 140054133258112 <ipython-input-7-ca35cd767901>:34] Episode: 367, Reward: 144\n",
            "I0201 09:13:56.126823 140054133258112 <ipython-input-7-ca35cd767901>:34] Episode: 368, Reward: 200\n",
            "I0201 09:13:56.866169 140054133258112 <ipython-input-7-ca35cd767901>:34] Episode: 369, Reward: 200\n",
            "I0201 09:13:57.622378 140054133258112 <ipython-input-7-ca35cd767901>:34] Episode: 370, Reward: 200\n",
            "I0201 09:13:58.087231 140054133258112 <ipython-input-7-ca35cd767901>:34] Episode: 371, Reward: 125\n",
            "I0201 09:13:58.829009 140054133258112 <ipython-input-7-ca35cd767901>:34] Episode: 372, Reward: 200\n",
            "I0201 09:13:59.525056 140054133258112 <ipython-input-7-ca35cd767901>:34] Episode: 373, Reward: 185\n",
            "I0201 09:14:00.297439 140054133258112 <ipython-input-7-ca35cd767901>:34] Episode: 374, Reward: 200\n",
            "I0201 09:14:01.058665 140054133258112 <ipython-input-7-ca35cd767901>:34] Episode: 375, Reward: 200\n",
            "I0201 09:14:01.818627 140054133258112 <ipython-input-7-ca35cd767901>:34] Episode: 376, Reward: 200\n",
            "I0201 09:14:02.273734 140054133258112 <ipython-input-7-ca35cd767901>:34] Episode: 377, Reward: 119\n",
            "I0201 09:14:02.797492 140054133258112 <ipython-input-7-ca35cd767901>:34] Episode: 378, Reward: 141\n",
            "I0201 09:14:03.413273 140054133258112 <ipython-input-7-ca35cd767901>:34] Episode: 379, Reward: 164\n",
            "I0201 09:14:04.156277 140054133258112 <ipython-input-7-ca35cd767901>:34] Episode: 380, Reward: 200\n",
            "I0201 09:14:04.896950 140054133258112 <ipython-input-7-ca35cd767901>:34] Episode: 381, Reward: 200\n",
            "I0201 09:14:05.652079 140054133258112 <ipython-input-7-ca35cd767901>:34] Episode: 382, Reward: 200\n",
            "I0201 09:14:06.399400 140054133258112 <ipython-input-7-ca35cd767901>:34] Episode: 383, Reward: 200\n",
            "I0201 09:14:07.145728 140054133258112 <ipython-input-7-ca35cd767901>:34] Episode: 384, Reward: 200\n",
            "I0201 09:14:07.897169 140054133258112 <ipython-input-7-ca35cd767901>:34] Episode: 385, Reward: 200\n",
            "I0201 09:14:08.601706 140054133258112 <ipython-input-7-ca35cd767901>:34] Episode: 386, Reward: 190\n",
            "I0201 09:14:09.334440 140054133258112 <ipython-input-7-ca35cd767901>:34] Episode: 387, Reward: 200\n",
            "I0201 09:14:10.096156 140054133258112 <ipython-input-7-ca35cd767901>:34] Episode: 388, Reward: 200\n",
            "I0201 09:14:10.837415 140054133258112 <ipython-input-7-ca35cd767901>:34] Episode: 389, Reward: 200\n",
            "I0201 09:14:11.574239 140054133258112 <ipython-input-7-ca35cd767901>:34] Episode: 390, Reward: 200\n",
            "I0201 09:14:12.320057 140054133258112 <ipython-input-7-ca35cd767901>:34] Episode: 391, Reward: 200\n",
            "I0201 09:14:13.077912 140054133258112 <ipython-input-7-ca35cd767901>:34] Episode: 392, Reward: 200\n",
            "I0201 09:14:13.557886 140054133258112 <ipython-input-7-ca35cd767901>:34] Episode: 393, Reward: 129\n",
            "I0201 09:14:13.991315 140054133258112 <ipython-input-7-ca35cd767901>:34] Episode: 394, Reward: 114\n",
            "I0201 09:14:14.753909 140054133258112 <ipython-input-7-ca35cd767901>:34] Episode: 395, Reward: 200\n",
            "I0201 09:14:15.502576 140054133258112 <ipython-input-7-ca35cd767901>:34] Episode: 396, Reward: 200\n",
            "I0201 09:14:16.164135 140054133258112 <ipython-input-7-ca35cd767901>:34] Episode: 397, Reward: 176\n",
            "I0201 09:14:16.655256 140054133258112 <ipython-input-7-ca35cd767901>:34] Episode: 398, Reward: 129\n"
          ],
          "name": "stderr"
        },
        {
          "output_type": "stream",
          "text": [
            "Finished training, testing...\n",
            "Total Episode Reward: 171 out of 200\n"
          ],
          "name": "stdout"
        }
      ]
    },
    {
      "metadata": {
        "id": "M10znP5VUPtl",
        "colab_type": "text"
      },
      "cell_type": "markdown",
      "source": [
        "# Benchmarks"
      ]
    },
    {
      "metadata": {
        "id": "oRjdFunYUPtm",
        "colab_type": "code",
        "colab": {
          "base_uri": "https://localhost:8080/",
          "height": 51
        },
        "outputId": "7bf0fcab-dfab-4444-b4f5-e3419d7dd9b7"
      },
      "cell_type": "code",
      "source": [
        "env = gym.make('CartPole-v0')\n",
        "obs = np.repeat(env.reset()[None, :], 100000, axis=0)"
      ],
      "execution_count": 15,
      "outputs": [
        {
          "output_type": "stream",
          "text": [
            "/usr/local/lib/python3.6/dist-packages/gym/envs/registration.py:14: PkgResourcesDeprecationWarning: Parameters to load are deprecated.  Call .resolve and .require separately.\n",
            "  result = entry_point.load(False)\n"
          ],
          "name": "stderr"
        }
      ]
    },
    {
      "metadata": {
        "id": "LxCVxoCoUPtq",
        "colab_type": "code",
        "colab": {}
      },
      "cell_type": "code",
      "source": [
        "# Note: wall time doesn't show the whole picture, better to compare CPU time"
      ],
      "execution_count": 0,
      "outputs": []
    },
    {
      "metadata": {
        "id": "u7GhGC7qUPts",
        "colab_type": "text"
      },
      "cell_type": "markdown",
      "source": [
        "## Eager Benchmark"
      ]
    },
    {
      "metadata": {
        "id": "JnF9CQngUPtt",
        "colab_type": "code",
        "colab": {
          "base_uri": "https://localhost:8080/",
          "height": 85
        },
        "outputId": "e206b384-1ea5-450e-f96c-961950cb72fe"
      },
      "cell_type": "code",
      "source": [
        "%%time\n",
        "\n",
        "model = Model(env.action_space.n)\n",
        "model.run_eagerly = True\n",
        "\n",
        "print(\"Eager Execution:  \", tf.executing_eagerly())\n",
        "print(\"Eager Keras Model:\", model.run_eagerly)\n",
        "\n",
        "_ = model(obs)\n",
        "# _ = model.predict(obs)"
      ],
      "execution_count": 17,
      "outputs": [
        {
          "output_type": "stream",
          "text": [
            "Eager Execution:   True\n",
            "Eager Keras Model: True\n",
            "CPU times: user 375 ms, sys: 178 ms, total: 553 ms\n",
            "Wall time: 318 ms\n"
          ],
          "name": "stdout"
        }
      ]
    },
    {
      "metadata": {
        "id": "OHqSIw8EUPtv",
        "colab_type": "text"
      },
      "cell_type": "markdown",
      "source": [
        "## Static Benchmark"
      ]
    },
    {
      "metadata": {
        "id": "lKYWzC9OUPtw",
        "colab_type": "code",
        "colab": {
          "base_uri": "https://localhost:8080/",
          "height": 85
        },
        "outputId": "e8803247-956f-4f5d-b4c3-68dd61fbcc2e"
      },
      "cell_type": "code",
      "source": [
        "%%time\n",
        "\n",
        "with tf.Graph().as_default():\n",
        "    model = Model(env.action_space.n)\n",
        "\n",
        "    print(\"Eager Execution:  \", tf.executing_eagerly())\n",
        "    print(\"Eager Keras Model:\", model.run_eagerly)\n",
        "\n",
        "    _ = model.predict(obs)"
      ],
      "execution_count": 18,
      "outputs": [
        {
          "output_type": "stream",
          "text": [
            "Eager Execution:   False\n",
            "Eager Keras Model: False\n",
            "CPU times: user 1.65 s, sys: 139 ms, total: 1.79 s\n",
            "Wall time: 1.32 s\n"
          ],
          "name": "stdout"
        }
      ]
    },
    {
      "metadata": {
        "id": "JD2NLoumUPty",
        "colab_type": "text"
      },
      "cell_type": "markdown",
      "source": [
        "## Default Benchmark"
      ]
    },
    {
      "metadata": {
        "id": "PTbqOHvCUPtz",
        "colab_type": "code",
        "colab": {
          "base_uri": "https://localhost:8080/",
          "height": 85
        },
        "outputId": "71816daf-56b9-4235-fc6a-300efb503a20"
      },
      "cell_type": "code",
      "source": [
        "%%time\n",
        "\n",
        "model = Model(env.action_space.n)\n",
        "\n",
        "print(\"Eager Execution:  \", tf.executing_eagerly())\n",
        "print(\"Eager Keras Model:\", model.run_eagerly)\n",
        "\n",
        "_ = model.predict(obs)"
      ],
      "execution_count": 19,
      "outputs": [
        {
          "output_type": "stream",
          "text": [
            "Eager Execution:   True\n",
            "Eager Keras Model: False\n",
            "CPU times: user 1.71 s, sys: 158 ms, total: 1.87 s\n",
            "Wall time: 1.42 s\n"
          ],
          "name": "stdout"
        }
      ]
    }
  ]
}