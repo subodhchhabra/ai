{
  "nbformat": 4,
  "nbformat_minor": 0,
  "metadata": {
    "colab": {
      "name": "Untitled5.ipynb",
      "version": "0.3.2",
      "provenance": [],
      "include_colab_link": true
    },
    "kernelspec": {
      "name": "python3",
      "display_name": "Python 3"
    }
  },
  "cells": [
    {
      "cell_type": "markdown",
      "metadata": {
        "id": "view-in-github",
        "colab_type": "text"
      },
      "source": [
        "<a href=\"https://colab.research.google.com/github/DJCordhose/ai/blob/master/notebooks/rl/berater-search-baseline.ipynb\" target=\"_parent\"><img src=\"https://colab.research.google.com/assets/colab-badge.svg\" alt=\"Open In Colab\"/></a>"
      ]
    },
    {
      "metadata": {
        "id": "34qHHgMuPOy-",
        "colab_type": "code",
        "colab": {}
      },
      "cell_type": "code",
      "source": [
        "static_map = {\n",
        "            'S': [('A', 300), ('B', 100), ('C', 200 )],\n",
        "            'A': [('S', 300), ('B', 100), ('E', 100 ), ('D', 100 )],\n",
        "            'B': [('S', 100), ('A', 100), ('C', 50 ), ('K', 200 )],\n",
        "            'C': [('S', 200), ('B', 50), ('M', 100 ), ('L', 200 )],\n",
        "            'D': [('A', 100), ('F', 50)],\n",
        "            'E': [('A', 100), ('F', 100), ('H', 100)],\n",
        "            'F': [('D', 50), ('E', 100), ('G', 200)],\n",
        "            'G': [('F', 200), ('O', 300)],\n",
        "            'H': [('E', 100), ('K', 300)],\n",
        "            'K': [('B', 200), ('H', 300)],\n",
        "            'L': [('C', 200), ('M', 50)],\n",
        "            'M': [('C', 100), ('L', 50), ('N', 100)],\n",
        "            'N': [('M', 100), ('O', 100)],\n",
        "            'O': [('N', 100), ('G', 300)]\n",
        "        }"
      ],
      "execution_count": 0,
      "outputs": []
    },
    {
      "metadata": {
        "id": "qpgHX738PQ6-",
        "colab_type": "code",
        "colab": {}
      },
      "cell_type": "code",
      "source": [
        "state = {\n",
        "    'rewards': {'S': 0, 'A': 1000, 'B': 1000, 'C': 1000, 'D': 0, 'E': 0, 'F': 1000, 'G': 0, 'H': 0, 'K': 0, 'L': 1000, 'M': 1000, 'N': 0, 'O': 0},\n",
        "    'position': 'S',\n",
        "    'reward': 0,\n",
        "    'path': ['S']\n",
        "}   "
      ],
      "execution_count": 0,
      "outputs": []
    },
    {
      "metadata": {
        "id": "JWMV_f8tPawg",
        "colab_type": "code",
        "colab": {}
      },
      "cell_type": "code",
      "source": [
        "from copy import deepcopy\n",
        "import json\n",
        "\n",
        "def as_string(state):\n",
        "  # reward does not hurt, but is useless, path obsucres same state\n",
        "  new_state = {\n",
        "      'rewards': state['rewards'],\n",
        "      'position': state['position']\n",
        "  }\n",
        "  return json.dumps(new_state, sort_keys=True)\n",
        "  \n",
        "def is_goal(state):\n",
        "  if state['position'] != 'S': return False\n",
        "  for reward in state['rewards'].values():\n",
        "    if reward != 0: return False\n",
        "  return True\n",
        "    \n",
        "\n",
        "def expand(state):\n",
        "  states = []\n",
        "  for position, cost in static_map[state['position']]:\n",
        "    new_state = deepcopy(state)\n",
        "    new_state['position'] = position\n",
        "    new_state['rewards'][position] = 0\n",
        "    reward = state['rewards'][position]\n",
        "    new_state['reward'] += reward\n",
        "    new_state['path'].append(position)\n",
        "    states.append(new_state)\n",
        "  return states"
      ],
      "execution_count": 0,
      "outputs": []
    },
    {
      "metadata": {
        "id": "ca2WwE55ihvx",
        "colab_type": "code",
        "colab": {
          "base_uri": "https://localhost:8080/",
          "height": 34
        },
        "outputId": "b255e20b-6c33-4818-8308-7c3deffc5583"
      },
      "cell_type": "code",
      "source": [
        "as_string(state)"
      ],
      "execution_count": 101,
      "outputs": [
        {
          "output_type": "execute_result",
          "data": {
            "text/plain": [
              "'{\"position\": \"S\", \"rewards\": {\"A\": 1000, \"B\": 1000, \"C\": 1000, \"D\": 0, \"E\": 0, \"F\": 1000, \"G\": 0, \"H\": 0, \"K\": 0, \"L\": 1000, \"M\": 1000, \"N\": 0, \"O\": 0, \"S\": 0}}'"
            ]
          },
          "metadata": {
            "tags": []
          },
          "execution_count": 101
        }
      ]
    },
    {
      "metadata": {
        "id": "VH0xP8nrbDOL",
        "colab_type": "code",
        "colab": {}
      },
      "cell_type": "code",
      "source": [
        "def search(root, max_depth = 10):\n",
        "    closed_list = set()\n",
        "\n",
        "    open_list = []\n",
        "    open_list.append(root)\n",
        "    \n",
        "    while open_list:\n",
        "        state = open_list.pop(0)\n",
        "        if as_string(state) in closed_list: continue  \n",
        "\n",
        "        closed_list.add(as_string(state))\n",
        "        \n",
        "        depth = len(state['path'])\n",
        "        if depth > max_depth:\n",
        "          print(state)\n",
        "          print(len(closed_list))\n",
        "          return None\n",
        "        \n",
        "        if is_goal(state):\n",
        "            print(len(closed_list))\n",
        "            return state\n",
        "\n",
        "        expanded = expand(state)\n",
        "        to_visit = [x for x in expanded if as_string(x) not in closed_list]\n",
        "        open_list += to_visit\n"
      ],
      "execution_count": 0,
      "outputs": []
    },
    {
      "metadata": {
        "id": "gf8xPyt7fGpM",
        "colab_type": "code",
        "colab": {
          "base_uri": "https://localhost:8080/",
          "height": 106
        },
        "outputId": "3c5ca85b-c544-4cbe-c87d-1fa1910e6903"
      },
      "cell_type": "code",
      "source": [
        "%time search(state, max_depth = 10)"
      ],
      "execution_count": 104,
      "outputs": [
        {
          "output_type": "stream",
          "text": [
            "{'rewards': {'S': 0, 'A': 0, 'B': 1000, 'C': 0, 'D': 0, 'E': 0, 'F': 0, 'G': 0, 'H': 0, 'K': 0, 'L': 0, 'M': 1000, 'N': 0, 'O': 0}, 'position': 'S', 'reward': 4000, 'path': ['S', 'A', 'E', 'F', 'D', 'A', 'S', 'C', 'L', 'C', 'S']}\n",
            "304\n",
            "CPU times: user 65.4 ms, sys: 0 ns, total: 65.4 ms\n",
            "Wall time: 66.4 ms\n"
          ],
          "name": "stdout"
        }
      ]
    },
    {
      "metadata": {
        "id": "vk4pEMSlfQDs",
        "colab_type": "code",
        "colab": {}
      },
      "cell_type": "code",
      "source": [
        "del state['path']"
      ],
      "execution_count": 0,
      "outputs": []
    },
    {
      "metadata": {
        "id": "JFJBJ3vdh7mZ",
        "colab_type": "code",
        "colab": {
          "base_uri": "https://localhost:8080/",
          "height": 293
        },
        "outputId": "5d64b193-d861-4387-d5b0-794dd3c034be"
      },
      "cell_type": "code",
      "source": [
        "state"
      ],
      "execution_count": 96,
      "outputs": [
        {
          "output_type": "execute_result",
          "data": {
            "text/plain": [
              "{'position': 'S',\n",
              " 'reward': 0,\n",
              " 'rewards': {'A': 1000,\n",
              "  'B': 1000,\n",
              "  'C': 1000,\n",
              "  'D': 0,\n",
              "  'E': 0,\n",
              "  'F': 1000,\n",
              "  'G': 0,\n",
              "  'H': 0,\n",
              "  'K': 0,\n",
              "  'L': 1000,\n",
              "  'M': 1000,\n",
              "  'N': 0,\n",
              "  'O': 0,\n",
              "  'S': 0}}"
            ]
          },
          "metadata": {
            "tags": []
          },
          "execution_count": 96
        }
      ]
    },
    {
      "metadata": {
        "id": "wch7Z4SJh_8u",
        "colab_type": "code",
        "colab": {}
      },
      "cell_type": "code",
      "source": [
        ""
      ],
      "execution_count": 0,
      "outputs": []
    }
  ]
}