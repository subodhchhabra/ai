{
  "nbformat": 4,
  "nbformat_minor": 0,
  "metadata": {
    "colab": {
      "name": "export.ipynb",
      "version": "0.3.2",
      "provenance": [],
      "collapsed_sections": [
        "FASceuwQAOTp",
        "_px_mArrS4Um",
        "ls7X_oTmUC5q"
      ],
      "toc_visible": true,
      "include_colab_link": true
    },
    "kernelspec": {
      "display_name": "Python 3",
      "language": "python",
      "name": "python3"
    },
    "language_info": {
      "codemirror_mode": {
        "name": "ipython",
        "version": 3
      },
      "file_extension": ".py",
      "mimetype": "text/x-python",
      "name": "python",
      "nbconvert_exporter": "python",
      "pygments_lexer": "ipython3",
      "version": "3.7.3"
    }
  },
  "cells": [
    {
      "cell_type": "markdown",
      "metadata": {
        "id": "view-in-github",
        "colab_type": "text"
      },
      "source": [
        "<a href=\"https://colab.research.google.com/github/DJCordhose/ai/blob/master/notebooks/process/export.ipynb\" target=\"_parent\"><img src=\"https://colab.research.google.com/assets/colab-badge.svg\" alt=\"Open In Colab\"/></a>"
      ]
    },
    {
      "cell_type": "markdown",
      "metadata": {
        "colab_type": "text",
        "id": "5hBDJrqDAOTW"
      },
      "source": [
        "# Pipeline and Export\n",
        "\n",
        "* https://scikit-learn.org/stable/modules/generated/sklearn.pipeline.Pipeline.html\n",
        "* https://scikit-learn.org/stable/modules/model_persistence.html"
      ]
    },
    {
      "cell_type": "code",
      "metadata": {
        "id": "Ne38HP4CP8Zs",
        "colab_type": "code",
        "outputId": "0597d4a2-d00b-4e37-ba45-71c3d9b4e909",
        "colab": {
          "base_uri": "https://localhost:8080/",
          "height": 85
        }
      },
      "source": [
        "!rm -rf data && mkdir data && cd data && curl https://raw.githubusercontent.com/DJCordhose/deep-learning-crash-course-notebooks/master/data/insurance-customers-1500.csv -O && cd -"
      ],
      "execution_count": 1,
      "outputs": [
        {
          "output_type": "stream",
          "text": [
            "  % Total    % Received % Xferd  Average Speed   Time    Time     Time  Current\n",
            "                                 Dload  Upload   Total   Spent    Left  Speed\n",
            "\r  0     0    0     0    0     0      0      0 --:--:-- --:--:-- --:--:--     0\r100 26783  100 26783    0     0   502k      0 --:--:-- --:--:-- --:--:--  502k\n",
            "/content\n"
          ],
          "name": "stdout"
        }
      ]
    },
    {
      "cell_type": "code",
      "metadata": {
        "id": "5zATPPZIQPiG",
        "colab_type": "code",
        "outputId": "eda2caed-190a-4b6a-9d26-8a1bef24df28",
        "colab": {
          "base_uri": "https://localhost:8080/",
          "height": 51
        }
      },
      "source": [
        "!ls -l data"
      ],
      "execution_count": 2,
      "outputs": [
        {
          "output_type": "stream",
          "text": [
            "total 28\n",
            "-rw-r--r-- 1 root root 26783 Jul 25 10:42 insurance-customers-1500.csv\n"
          ],
          "name": "stdout"
        }
      ]
    },
    {
      "cell_type": "code",
      "metadata": {
        "colab_type": "code",
        "id": "bwtTNz2AhdRt",
        "colab": {}
      },
      "source": [
        "import pandas as pd\n",
        "df = pd.read_csv('data/insurance-customers-1500.csv', sep=';')"
      ],
      "execution_count": 0,
      "outputs": []
    },
    {
      "cell_type": "code",
      "metadata": {
        "id": "Z9hJnYoENby0",
        "colab_type": "code",
        "outputId": "09044997-4cf4-49dd-f709-3370c73ae5ca",
        "colab": {
          "base_uri": "https://localhost:8080/",
          "height": 297
        }
      },
      "source": [
        "stats = df.describe()\n",
        "stats"
      ],
      "execution_count": 4,
      "outputs": [
        {
          "output_type": "execute_result",
          "data": {
            "text/html": [
              "<div>\n",
              "<style scoped>\n",
              "    .dataframe tbody tr th:only-of-type {\n",
              "        vertical-align: middle;\n",
              "    }\n",
              "\n",
              "    .dataframe tbody tr th {\n",
              "        vertical-align: top;\n",
              "    }\n",
              "\n",
              "    .dataframe thead th {\n",
              "        text-align: right;\n",
              "    }\n",
              "</style>\n",
              "<table border=\"1\" class=\"dataframe\">\n",
              "  <thead>\n",
              "    <tr style=\"text-align: right;\">\n",
              "      <th></th>\n",
              "      <th>speed</th>\n",
              "      <th>age</th>\n",
              "      <th>miles</th>\n",
              "      <th>group</th>\n",
              "    </tr>\n",
              "  </thead>\n",
              "  <tbody>\n",
              "    <tr>\n",
              "      <th>count</th>\n",
              "      <td>1500.000000</td>\n",
              "      <td>1500.000000</td>\n",
              "      <td>1500.000000</td>\n",
              "      <td>1500.000000</td>\n",
              "    </tr>\n",
              "    <tr>\n",
              "      <th>mean</th>\n",
              "      <td>122.492667</td>\n",
              "      <td>44.980667</td>\n",
              "      <td>30.434000</td>\n",
              "      <td>0.998667</td>\n",
              "    </tr>\n",
              "    <tr>\n",
              "      <th>std</th>\n",
              "      <td>17.604333</td>\n",
              "      <td>17.130400</td>\n",
              "      <td>15.250815</td>\n",
              "      <td>0.816768</td>\n",
              "    </tr>\n",
              "    <tr>\n",
              "      <th>min</th>\n",
              "      <td>68.000000</td>\n",
              "      <td>16.000000</td>\n",
              "      <td>1.000000</td>\n",
              "      <td>0.000000</td>\n",
              "    </tr>\n",
              "    <tr>\n",
              "      <th>25%</th>\n",
              "      <td>108.000000</td>\n",
              "      <td>32.000000</td>\n",
              "      <td>18.000000</td>\n",
              "      <td>0.000000</td>\n",
              "    </tr>\n",
              "    <tr>\n",
              "      <th>50%</th>\n",
              "      <td>120.000000</td>\n",
              "      <td>42.000000</td>\n",
              "      <td>29.000000</td>\n",
              "      <td>1.000000</td>\n",
              "    </tr>\n",
              "    <tr>\n",
              "      <th>75%</th>\n",
              "      <td>137.000000</td>\n",
              "      <td>55.000000</td>\n",
              "      <td>42.000000</td>\n",
              "      <td>2.000000</td>\n",
              "    </tr>\n",
              "    <tr>\n",
              "      <th>max</th>\n",
              "      <td>166.000000</td>\n",
              "      <td>100.000000</td>\n",
              "      <td>84.000000</td>\n",
              "      <td>2.000000</td>\n",
              "    </tr>\n",
              "  </tbody>\n",
              "</table>\n",
              "</div>"
            ],
            "text/plain": [
              "             speed          age        miles        group\n",
              "count  1500.000000  1500.000000  1500.000000  1500.000000\n",
              "mean    122.492667    44.980667    30.434000     0.998667\n",
              "std      17.604333    17.130400    15.250815     0.816768\n",
              "min      68.000000    16.000000     1.000000     0.000000\n",
              "25%     108.000000    32.000000    18.000000     0.000000\n",
              "50%     120.000000    42.000000    29.000000     1.000000\n",
              "75%     137.000000    55.000000    42.000000     2.000000\n",
              "max     166.000000   100.000000    84.000000     2.000000"
            ]
          },
          "metadata": {
            "tags": []
          },
          "execution_count": 4
        }
      ]
    },
    {
      "cell_type": "code",
      "metadata": {
        "colab_type": "code",
        "id": "IrencvYMAOTi",
        "colab": {}
      },
      "source": [
        "y=df['group']"
      ],
      "execution_count": 0,
      "outputs": []
    },
    {
      "cell_type": "code",
      "metadata": {
        "colab_type": "code",
        "id": "0XV3G8RtAOTk",
        "colab": {}
      },
      "source": [
        "df.drop('group', axis='columns', inplace=True)"
      ],
      "execution_count": 0,
      "outputs": []
    },
    {
      "cell_type": "code",
      "metadata": {
        "colab_type": "code",
        "id": "_duQLNiHAOTl",
        "colab": {}
      },
      "source": [
        "X = df.values"
      ],
      "execution_count": 0,
      "outputs": []
    },
    {
      "cell_type": "code",
      "metadata": {
        "id": "1fWOLPgDYmAK",
        "colab_type": "code",
        "outputId": "cbd82e58-bd6a-44cd-ebe2-201fa5d77784",
        "colab": {
          "base_uri": "https://localhost:8080/",
          "height": 34
        }
      },
      "source": [
        "from sklearn.model_selection import train_test_split\n",
        "\n",
        "X_train, X_test, y_train, y_test = train_test_split(X, y, test_size=0.2, random_state=42, stratify=y)\n",
        "X_train.shape, y_train.shape, X_test.shape, y_test.shape"
      ],
      "execution_count": 8,
      "outputs": [
        {
          "output_type": "execute_result",
          "data": {
            "text/plain": [
              "((1200, 3), (1200,), (300, 3), (300,))"
            ]
          },
          "metadata": {
            "tags": []
          },
          "execution_count": 8
        }
      ]
    },
    {
      "cell_type": "code",
      "metadata": {
        "id": "fxKpsxibYmC9",
        "colab_type": "code",
        "outputId": "14b3274f-5ab6-4afc-b48c-0347e27f4842",
        "colab": {
          "base_uri": "https://localhost:8080/",
          "height": 170
        }
      },
      "source": [
        "from sklearn.ensemble import RandomForestClassifier\n",
        "\n",
        "clf = RandomForestClassifier(max_depth=13, min_samples_leaf=1, min_samples_split=8, n_estimators=14, n_jobs=-1)\n",
        "%time clf.fit(X_train, y_train)"
      ],
      "execution_count": 9,
      "outputs": [
        {
          "output_type": "stream",
          "text": [
            "CPU times: user 29.6 ms, sys: 6.12 ms, total: 35.7 ms\n",
            "Wall time: 110 ms\n"
          ],
          "name": "stdout"
        },
        {
          "output_type": "execute_result",
          "data": {
            "text/plain": [
              "RandomForestClassifier(bootstrap=True, class_weight=None, criterion='gini',\n",
              "                       max_depth=13, max_features='auto', max_leaf_nodes=None,\n",
              "                       min_impurity_decrease=0.0, min_impurity_split=None,\n",
              "                       min_samples_leaf=1, min_samples_split=8,\n",
              "                       min_weight_fraction_leaf=0.0, n_estimators=14, n_jobs=-1,\n",
              "                       oob_score=False, random_state=None, verbose=0,\n",
              "                       warm_start=False)"
            ]
          },
          "metadata": {
            "tags": []
          },
          "execution_count": 9
        }
      ]
    },
    {
      "cell_type": "code",
      "metadata": {
        "id": "8Pk9SatWYmDA",
        "colab_type": "code",
        "outputId": "8c3b6fe8-2969-466b-86d6-81519d33a16e",
        "colab": {
          "base_uri": "https://localhost:8080/",
          "height": 34
        }
      },
      "source": [
        "train_score = clf.score(X_train, y_train)\n",
        "train_score"
      ],
      "execution_count": 10,
      "outputs": [
        {
          "output_type": "execute_result",
          "data": {
            "text/plain": [
              "0.9108333333333334"
            ]
          },
          "metadata": {
            "tags": []
          },
          "execution_count": 10
        }
      ]
    },
    {
      "cell_type": "code",
      "metadata": {
        "id": "LgjMb3xSYmDF",
        "colab_type": "code",
        "outputId": "ebdb58f0-bccf-4616-c674-387deb294024",
        "colab": {
          "base_uri": "https://localhost:8080/",
          "height": 34
        }
      },
      "source": [
        "test_score = clf.score(X_test, y_test)\n",
        "test_score"
      ],
      "execution_count": 11,
      "outputs": [
        {
          "output_type": "execute_result",
          "data": {
            "text/plain": [
              "0.7666666666666667"
            ]
          },
          "metadata": {
            "tags": []
          },
          "execution_count": 11
        }
      ]
    },
    {
      "cell_type": "code",
      "metadata": {
        "id": "9Krs6JQsNy69",
        "colab_type": "code",
        "outputId": "ae6e7826-28b3-4de7-cdd2-02be7da26bbe",
        "colab": {
          "base_uri": "https://localhost:8080/",
          "height": 51
        }
      },
      "source": [
        "from sklearn.model_selection import cross_val_score\n",
        "cross_val_scores = cross_val_score(clf, X_train, y_train, n_jobs=-1, cv=10)\n",
        "cross_val_scores"
      ],
      "execution_count": 12,
      "outputs": [
        {
          "output_type": "execute_result",
          "data": {
            "text/plain": [
              "array([0.72727273, 0.80833333, 0.79166667, 0.78333333, 0.71666667,\n",
              "       0.76666667, 0.85833333, 0.775     , 0.79166667, 0.80672269])"
            ]
          },
          "metadata": {
            "tags": []
          },
          "execution_count": 12
        }
      ]
    },
    {
      "cell_type": "code",
      "metadata": {
        "id": "C41cttnOOjJ7",
        "colab_type": "code",
        "outputId": "707f869a-0196-4052-b63e-d003995daf20",
        "colab": {
          "base_uri": "https://localhost:8080/",
          "height": 34
        }
      },
      "source": [
        "# mean score and the 95% confidence interval (2 standard deviations assuming normal distribution)\n",
        "print(\"Accuracy: %0.2f (+/- %0.2f)\" % (cross_val_scores.mean(), cross_val_scores.std() * 2))"
      ],
      "execution_count": 13,
      "outputs": [
        {
          "output_type": "stream",
          "text": [
            "Accuracy: 0.78 (+/- 0.08)\n"
          ],
          "name": "stdout"
        }
      ]
    },
    {
      "cell_type": "code",
      "metadata": {
        "id": "2A__vR7UQsHy",
        "colab_type": "code",
        "outputId": "ad3665e2-b0c0-4b1d-eb8b-6cb24f243f7c",
        "colab": {
          "base_uri": "https://localhost:8080/",
          "height": 85
        }
      },
      "source": [
        "scores = {\n",
        "    'cross_val_scores': cross_val_scores,\n",
        "    'train_score': train_score,\n",
        "    'test_score': test_score\n",
        "}\n",
        "scores"
      ],
      "execution_count": 14,
      "outputs": [
        {
          "output_type": "execute_result",
          "data": {
            "text/plain": [
              "{'cross_val_scores': array([0.72727273, 0.80833333, 0.79166667, 0.78333333, 0.71666667,\n",
              "        0.76666667, 0.85833333, 0.775     , 0.79166667, 0.80672269]),\n",
              " 'test_score': 0.7666666666666667,\n",
              " 'train_score': 0.9108333333333334}"
            ]
          },
          "metadata": {
            "tags": []
          },
          "execution_count": 14
        }
      ]
    },
    {
      "cell_type": "code",
      "metadata": {
        "id": "eVKsEzrCIrgM",
        "colab_type": "code",
        "colab": {}
      },
      "source": [
        "!rm -rf models && mkdir models"
      ],
      "execution_count": 0,
      "outputs": []
    },
    {
      "cell_type": "code",
      "metadata": {
        "id": "5pvcSm9sG5kH",
        "colab_type": "code",
        "colab": {}
      },
      "source": [
        "import pickle\n",
        "\n",
        "pickle.dump(clf, open('models/model.pickle', 'wb'))"
      ],
      "execution_count": 0,
      "outputs": []
    },
    {
      "cell_type": "code",
      "metadata": {
        "id": "1NPhqUMdOthp",
        "colab_type": "code",
        "colab": {}
      },
      "source": [
        "!rm -rf stats && mkdir stats"
      ],
      "execution_count": 0,
      "outputs": []
    },
    {
      "cell_type": "code",
      "metadata": {
        "id": "-vSonGgwIUw1",
        "colab_type": "code",
        "colab": {}
      },
      "source": [
        "# has the distribution of the data changed substantially?\n",
        "pickle.dump(stats, open('stats/describe.pickle', 'wb'))"
      ],
      "execution_count": 0,
      "outputs": []
    },
    {
      "cell_type": "code",
      "metadata": {
        "id": "5iADT6PGQfiM",
        "colab_type": "code",
        "colab": {}
      },
      "source": [
        "# has the score descread since last time or is suspiciously different?\n",
        "pickle.dump(scores, open('stats/scores.pickle', 'wb'))"
      ],
      "execution_count": 0,
      "outputs": []
    },
    {
      "cell_type": "code",
      "metadata": {
        "id": "MMyB1eQEVjjp",
        "colab_type": "code",
        "outputId": "814b3111-4ebf-4169-fb76-cdd3793488dd",
        "colab": {
          "base_uri": "https://localhost:8080/",
          "height": 102
        }
      },
      "source": [
        "import numpy, sklearn, pandas\n",
        "\n",
        "versions = {\n",
        "    'numpy': numpy.__version__,\n",
        "    'sklearn': sklearn.__version__, \n",
        "    'pandas': pandas.__version__,\n",
        "    'model': 1,\n",
        "    'model_name': 'plain_rf'\n",
        "\n",
        "}\n",
        "versions"
      ],
      "execution_count": 21,
      "outputs": [
        {
          "output_type": "execute_result",
          "data": {
            "text/plain": [
              "{'model': 1,\n",
              " 'model_name': 'plain_rf',\n",
              " 'numpy': '1.16.4',\n",
              " 'pandas': '0.24.2',\n",
              " 'sklearn': '0.21.2'}"
            ]
          },
          "metadata": {
            "tags": []
          },
          "execution_count": 21
        }
      ]
    },
    {
      "cell_type": "code",
      "metadata": {
        "id": "dIU41IAfV_ej",
        "colab_type": "code",
        "colab": {}
      },
      "source": [
        "# we need to have exactly the same versions for serving\n",
        "pickle.dump(versions, open('stats/versions.pickle', 'wb'))"
      ],
      "execution_count": 0,
      "outputs": []
    },
    {
      "cell_type": "code",
      "metadata": {
        "id": "pn2vpnPJRfGO",
        "colab_type": "code",
        "outputId": "518f4b20-748c-4bf6-8603-9efaa91bc7d1",
        "colab": {
          "base_uri": "https://localhost:8080/",
          "height": 85
        }
      },
      "source": [
        "!ls -l stats"
      ],
      "execution_count": 23,
      "outputs": [
        {
          "output_type": "stream",
          "text": [
            "total 12\n",
            "-rw-r--r-- 1 root root 1145 Jul 25 10:43 describe.pickle\n",
            "-rw-r--r-- 1 root root  372 Jul 25 10:43 scores.pickle\n",
            "-rw-r--r-- 1 root root  132 Jul 25 10:43 versions.pickle\n"
          ],
          "name": "stdout"
        }
      ]
    },
    {
      "cell_type": "code",
      "metadata": {
        "id": "0hX7Bza4Rghs",
        "colab_type": "code",
        "outputId": "6280ef52-0011-4002-a588-98b3510c2898",
        "colab": {
          "base_uri": "https://localhost:8080/",
          "height": 153
        }
      },
      "source": [
        "!ls -l"
      ],
      "execution_count": 24,
      "outputs": [
        {
          "output_type": "stream",
          "text": [
            "total 136\n",
            "drwxr-xr-x 2 root root  4096 Jul 25 10:42 data\n",
            "-rw-r--r-- 1 root root 26688 Jul 25 10:29 export.ipynb\n",
            "-rw-r--r-- 1 root root    15 Jul 25 10:43 export-pipeline.ipynb\n",
            "drwxr-xr-x 2 root root  4096 Jul 25 10:42 models\n",
            "-rw-r--r-- 1 root root 89706 Jul 25 10:35 prod.tgz\n",
            "drwxr-xr-x 1 root root  4096 Jul 19 16:14 sample_data\n",
            "drwxr-xr-x 2 root root  4096 Jul 25 10:43 stats\n"
          ],
          "name": "stdout"
        }
      ]
    },
    {
      "cell_type": "code",
      "metadata": {
        "id": "4EFyXJlEUGUz",
        "colab_type": "code",
        "outputId": "c87dd022-3e8a-4fb2-8e7b-d49a67d3c476",
        "colab": {
          "base_uri": "https://localhost:8080/",
          "height": 85
        }
      },
      "source": [
        "# we also need the code that created this to have it reproduceable\n",
        "!cd models\n",
        "!curl https://raw.githubusercontent.com/DJCordhose/ml-workshop/master/notebooks/process/export.ipynb -O\n",
        "!cd -"
      ],
      "execution_count": 25,
      "outputs": [
        {
          "output_type": "stream",
          "text": [
            "  % Total    % Received % Xferd  Average Speed   Time    Time     Time  Current\n",
            "                                 Dload  Upload   Total   Spent    Left  Speed\n",
            "\r  0     0    0     0    0     0      0      0 --:--:-- --:--:-- --:--:--     0\r100 26688  100 26688    0     0   120k      0 --:--:-- --:--:-- --:--:--  120k\n",
            "/\n"
          ],
          "name": "stdout"
        }
      ]
    },
    {
      "cell_type": "code",
      "metadata": {
        "id": "4SoTWSB9Ud8y",
        "colab_type": "code",
        "outputId": "a72defdd-6632-4e35-b6f8-9a725365bf4b",
        "colab": {
          "base_uri": "https://localhost:8080/",
          "height": 51
        }
      },
      "source": [
        "!ls -l models"
      ],
      "execution_count": 26,
      "outputs": [
        {
          "output_type": "stream",
          "text": [
            "total 68\n",
            "-rw-r--r-- 1 root root 66179 Jul 25 10:42 model.pickle\n"
          ],
          "name": "stdout"
        }
      ]
    },
    {
      "cell_type": "code",
      "metadata": {
        "id": "YLIYjeywRmgb",
        "colab_type": "code",
        "colab": {}
      },
      "source": [
        "# have everything we need to reproduce and compare to other versions here\n",
        "# better to version this \n",
        "# often versioning data is a challenge simply because of its size\n",
        "!tar -czf prod.tgz models stats data"
      ],
      "execution_count": 0,
      "outputs": []
    },
    {
      "cell_type": "code",
      "metadata": {
        "id": "o4Zs7vXBRsbj",
        "colab_type": "code",
        "outputId": "52066dfe-77ef-42a4-9433-7e7427fba6ab",
        "colab": {
          "base_uri": "https://localhost:8080/",
          "height": 153
        }
      },
      "source": [
        "!ls -l"
      ],
      "execution_count": 28,
      "outputs": [
        {
          "output_type": "stream",
          "text": [
            "total 76\n",
            "drwxr-xr-x 2 root root  4096 Jul 25 10:42 data\n",
            "-rw-r--r-- 1 root root 26688 Jul 25 10:43 export.ipynb\n",
            "-rw-r--r-- 1 root root    15 Jul 25 10:43 export-pipeline.ipynb\n",
            "drwxr-xr-x 2 root root  4096 Jul 25 10:42 models\n",
            "-rw-r--r-- 1 root root 26565 Jul 25 10:43 prod.tgz\n",
            "drwxr-xr-x 1 root root  4096 Jul 19 16:14 sample_data\n",
            "drwxr-xr-x 2 root root  4096 Jul 25 10:43 stats\n"
          ],
          "name": "stdout"
        }
      ]
    },
    {
      "cell_type": "code",
      "metadata": {
        "id": "3-RjWWfuh5TF",
        "colab_type": "code",
        "outputId": "267d8325-f5c8-4cd8-f99e-ef3d96947776",
        "colab": {
          "base_uri": "https://localhost:8080/",
          "height": 34
        }
      },
      "source": [
        "!date"
      ],
      "execution_count": 29,
      "outputs": [
        {
          "output_type": "stream",
          "text": [
            "Thu Jul 25 10:43:21 UTC 2019\n"
          ],
          "name": "stdout"
        }
      ]
    },
    {
      "cell_type": "markdown",
      "metadata": {
        "id": "oyldlFatXMgw",
        "colab_type": "text"
      },
      "source": [
        "# Exercise: Export your favorite model\n",
        "\n",
        "* choose any strategy you like\n",
        "* save all the data you need for serving\n",
        "* can you come up with some automated safety check for a new model?\n",
        "* should you deploy to production automatically anyway?"
      ]
    },
    {
      "cell_type": "code",
      "metadata": {
        "id": "RLBqHa94h1rS",
        "colab_type": "code",
        "colab": {}
      },
      "source": [
        ""
      ],
      "execution_count": 0,
      "outputs": []
    }
  ]
}